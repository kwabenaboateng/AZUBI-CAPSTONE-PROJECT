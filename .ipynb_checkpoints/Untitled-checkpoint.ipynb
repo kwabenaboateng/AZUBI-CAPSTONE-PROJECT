{
 "cells": [
  {
   "cell_type": "markdown",
   "id": "50d3fb0d",
   "metadata": {},
   "source": [
    "## AZUBI CAPSTONE PROJECT"
   ]
  },
  {
   "cell_type": "markdown",
   "id": "067ab8e2",
   "metadata": {},
   "source": [
    "#### IMPORT LIBRARY PACKAGES"
   ]
  },
  {
   "cell_type": "code",
   "execution_count": 1,
   "id": "a45ce9fb",
   "metadata": {},
   "outputs": [],
   "source": [
    "#Data Handling\n",
    "import numpy as np\n",
    "import pandas as pd\n",
    "\n",
    "#Visualizations\n",
    "import seaborn as sns\n",
    "import plotly.express as px\n",
    "import matplotlib.pyplot as plt\n",
    "\n",
    "from termcolor import colored\n",
    "\n",
    "# Feature Processing (Scikit-learn processing, etc. )\n",
    "from sklearn.preprocessing import LabelEncoder\n",
    "\n",
    "# Evaluation Metrics\n",
    "from sklearn.model_selection import train_test_split\n",
    "from catboost import CatBoostClassifier\n",
    "from sklearn.metrics import f1_score, recall_score, precision_score, fbeta_score, accuracy_score, roc_auc_score\n",
    "from sklearn.metrics import confusion_matrix\n",
    "from sklearn.feature_selection import RFE\n",
    "\n",
    "#Other packages\n",
    "import warnings\n",
    "warnings.filterwarnings('always') "
   ]
  },
  {
   "cell_type": "markdown",
   "id": "ce57975a",
   "metadata": {},
   "source": [
    "#### Load the Data."
   ]
  },
  {
   "cell_type": "markdown",
   "id": "21601fe8",
   "metadata": {},
   "source": [
    "For this project, there are two datasets, namely:\n",
    "* <b> Train data: </b> This is the data which we will be using to train the model. Since we are solving a classification problem, we will have a column in train dataset corresponding to the target labels. \n",
    "* <b> Test data: </b> This is the data on which the predictions will be made based on the model trained on train dataset. "
   ]
  },
  {
   "cell_type": "code",
   "execution_count": 2,
   "id": "e10208a0",
   "metadata": {},
   "outputs": [],
   "source": [
    "train_data = pd.read_csv(\"C:/Users/KWABENABOATENG/Desktop/AZUBI AFRICA/AZUBI CAPSTONE/AZUBI-CAPSTONE-PROJECT/DATASETS/Train.csv\")"
   ]
  },
  {
   "cell_type": "markdown",
   "id": "10addf04",
   "metadata": {},
   "source": [
    "### EXPLORATORY DATA EXPLORATION"
   ]
  },
  {
   "cell_type": "code",
   "execution_count": 3,
   "id": "302d848c",
   "metadata": {},
   "outputs": [
    {
     "data": {
      "text/html": [
       "<div>\n",
       "<style scoped>\n",
       "    .dataframe tbody tr th:only-of-type {\n",
       "        vertical-align: middle;\n",
       "    }\n",
       "\n",
       "    .dataframe tbody tr th {\n",
       "        vertical-align: top;\n",
       "    }\n",
       "\n",
       "    .dataframe thead th {\n",
       "        text-align: right;\n",
       "    }\n",
       "</style>\n",
       "<table border=\"1\" class=\"dataframe\">\n",
       "  <thead>\n",
       "    <tr style=\"text-align: right;\">\n",
       "      <th></th>\n",
       "      <th>ID</th>\n",
       "      <th>age</th>\n",
       "      <th>gender</th>\n",
       "      <th>education</th>\n",
       "      <th>class</th>\n",
       "      <th>education_institute</th>\n",
       "      <th>marital_status</th>\n",
       "      <th>race</th>\n",
       "      <th>is_hispanic</th>\n",
       "      <th>employment_commitment</th>\n",
       "      <th>...</th>\n",
       "      <th>country_of_birth_mother</th>\n",
       "      <th>migration_code_change_in_msa</th>\n",
       "      <th>migration_prev_sunbelt</th>\n",
       "      <th>migration_code_move_within_reg</th>\n",
       "      <th>migration_code_change_in_reg</th>\n",
       "      <th>residence_1_year_ago</th>\n",
       "      <th>old_residence_reg</th>\n",
       "      <th>old_residence_state</th>\n",
       "      <th>importance_of_record</th>\n",
       "      <th>income_above_limit</th>\n",
       "    </tr>\n",
       "  </thead>\n",
       "  <tbody>\n",
       "    <tr>\n",
       "      <th>0</th>\n",
       "      <td>ID_TZ0000</td>\n",
       "      <td>79</td>\n",
       "      <td>Female</td>\n",
       "      <td>High school graduate</td>\n",
       "      <td>NaN</td>\n",
       "      <td>NaN</td>\n",
       "      <td>Widowed</td>\n",
       "      <td>White</td>\n",
       "      <td>All other</td>\n",
       "      <td>Not in labor force</td>\n",
       "      <td>...</td>\n",
       "      <td>US</td>\n",
       "      <td>?</td>\n",
       "      <td>?</td>\n",
       "      <td>?</td>\n",
       "      <td>?</td>\n",
       "      <td>NaN</td>\n",
       "      <td>NaN</td>\n",
       "      <td>NaN</td>\n",
       "      <td>1779.74</td>\n",
       "      <td>Below limit</td>\n",
       "    </tr>\n",
       "    <tr>\n",
       "      <th>1</th>\n",
       "      <td>ID_TZ0001</td>\n",
       "      <td>65</td>\n",
       "      <td>Female</td>\n",
       "      <td>High school graduate</td>\n",
       "      <td>NaN</td>\n",
       "      <td>NaN</td>\n",
       "      <td>Widowed</td>\n",
       "      <td>White</td>\n",
       "      <td>All other</td>\n",
       "      <td>Children or Armed Forces</td>\n",
       "      <td>...</td>\n",
       "      <td>US</td>\n",
       "      <td>unchanged</td>\n",
       "      <td>NaN</td>\n",
       "      <td>unchanged</td>\n",
       "      <td>unchanged</td>\n",
       "      <td>Same</td>\n",
       "      <td>NaN</td>\n",
       "      <td>NaN</td>\n",
       "      <td>2366.75</td>\n",
       "      <td>Below limit</td>\n",
       "    </tr>\n",
       "    <tr>\n",
       "      <th>2</th>\n",
       "      <td>ID_TZ0002</td>\n",
       "      <td>21</td>\n",
       "      <td>Male</td>\n",
       "      <td>12th grade no diploma</td>\n",
       "      <td>Federal government</td>\n",
       "      <td>NaN</td>\n",
       "      <td>Never married</td>\n",
       "      <td>Black</td>\n",
       "      <td>All other</td>\n",
       "      <td>Children or Armed Forces</td>\n",
       "      <td>...</td>\n",
       "      <td>US</td>\n",
       "      <td>unchanged</td>\n",
       "      <td>NaN</td>\n",
       "      <td>unchanged</td>\n",
       "      <td>unchanged</td>\n",
       "      <td>Same</td>\n",
       "      <td>NaN</td>\n",
       "      <td>NaN</td>\n",
       "      <td>1693.42</td>\n",
       "      <td>Below limit</td>\n",
       "    </tr>\n",
       "    <tr>\n",
       "      <th>3</th>\n",
       "      <td>ID_TZ0003</td>\n",
       "      <td>2</td>\n",
       "      <td>Female</td>\n",
       "      <td>Children</td>\n",
       "      <td>NaN</td>\n",
       "      <td>NaN</td>\n",
       "      <td>Never married</td>\n",
       "      <td>Asian or Pacific Islander</td>\n",
       "      <td>All other</td>\n",
       "      <td>Children or Armed Forces</td>\n",
       "      <td>...</td>\n",
       "      <td>India</td>\n",
       "      <td>unchanged</td>\n",
       "      <td>NaN</td>\n",
       "      <td>unchanged</td>\n",
       "      <td>unchanged</td>\n",
       "      <td>Same</td>\n",
       "      <td>NaN</td>\n",
       "      <td>NaN</td>\n",
       "      <td>1380.27</td>\n",
       "      <td>Below limit</td>\n",
       "    </tr>\n",
       "    <tr>\n",
       "      <th>4</th>\n",
       "      <td>ID_TZ0004</td>\n",
       "      <td>70</td>\n",
       "      <td>Male</td>\n",
       "      <td>High school graduate</td>\n",
       "      <td>NaN</td>\n",
       "      <td>NaN</td>\n",
       "      <td>Married-civilian spouse present</td>\n",
       "      <td>White</td>\n",
       "      <td>All other</td>\n",
       "      <td>Not in labor force</td>\n",
       "      <td>...</td>\n",
       "      <td>US</td>\n",
       "      <td>?</td>\n",
       "      <td>?</td>\n",
       "      <td>?</td>\n",
       "      <td>?</td>\n",
       "      <td>NaN</td>\n",
       "      <td>NaN</td>\n",
       "      <td>NaN</td>\n",
       "      <td>1580.79</td>\n",
       "      <td>Below limit</td>\n",
       "    </tr>\n",
       "  </tbody>\n",
       "</table>\n",
       "<p>5 rows × 43 columns</p>\n",
       "</div>"
      ],
      "text/plain": [
       "          ID  age   gender               education                class  \\\n",
       "0  ID_TZ0000   79   Female    High school graduate                  NaN   \n",
       "1  ID_TZ0001   65   Female    High school graduate                  NaN   \n",
       "2  ID_TZ0002   21     Male   12th grade no diploma   Federal government   \n",
       "3  ID_TZ0003    2   Female                Children                  NaN   \n",
       "4  ID_TZ0004   70     Male    High school graduate                  NaN   \n",
       "\n",
       "  education_institute                    marital_status  \\\n",
       "0                 NaN                           Widowed   \n",
       "1                 NaN                           Widowed   \n",
       "2                 NaN                     Never married   \n",
       "3                 NaN                     Never married   \n",
       "4                 NaN   Married-civilian spouse present   \n",
       "\n",
       "                         race is_hispanic      employment_commitment  ...  \\\n",
       "0                       White   All other         Not in labor force  ...   \n",
       "1                       White   All other   Children or Armed Forces  ...   \n",
       "2                       Black   All other   Children or Armed Forces  ...   \n",
       "3   Asian or Pacific Islander   All other   Children or Armed Forces  ...   \n",
       "4                       White   All other         Not in labor force  ...   \n",
       "\n",
       "  country_of_birth_mother  migration_code_change_in_msa  \\\n",
       "0                      US                             ?   \n",
       "1                      US                     unchanged   \n",
       "2                      US                     unchanged   \n",
       "3                   India                     unchanged   \n",
       "4                      US                             ?   \n",
       "\n",
       "   migration_prev_sunbelt migration_code_move_within_reg  \\\n",
       "0                       ?                              ?   \n",
       "1                     NaN                      unchanged   \n",
       "2                     NaN                      unchanged   \n",
       "3                     NaN                      unchanged   \n",
       "4                       ?                              ?   \n",
       "\n",
       "   migration_code_change_in_reg  residence_1_year_ago old_residence_reg  \\\n",
       "0                             ?                   NaN               NaN   \n",
       "1                     unchanged                  Same               NaN   \n",
       "2                     unchanged                  Same               NaN   \n",
       "3                     unchanged                  Same               NaN   \n",
       "4                             ?                   NaN               NaN   \n",
       "\n",
       "   old_residence_state importance_of_record  income_above_limit  \n",
       "0                  NaN              1779.74         Below limit  \n",
       "1                  NaN              2366.75         Below limit  \n",
       "2                  NaN              1693.42         Below limit  \n",
       "3                  NaN              1380.27         Below limit  \n",
       "4                  NaN              1580.79         Below limit  \n",
       "\n",
       "[5 rows x 43 columns]"
      ]
     },
     "execution_count": 3,
     "metadata": {},
     "output_type": "execute_result"
    }
   ],
   "source": [
    "#Overview of the train dataset.\n",
    "\n",
    "train_data.head()"
   ]
  },
  {
   "cell_type": "code",
   "execution_count": 4,
   "id": "840a7bd8",
   "metadata": {},
   "outputs": [
    {
     "data": {
      "text/plain": [
       "Index(['ID', 'age', 'gender', 'education', 'class', 'education_institute',\n",
       "       'marital_status', 'race', 'is_hispanic', 'employment_commitment',\n",
       "       'unemployment_reason', 'employment_stat', 'wage_per_hour',\n",
       "       'is_labor_union', 'working_week_per_year', 'industry_code',\n",
       "       'industry_code_main', 'occupation_code', 'occupation_code_main',\n",
       "       'total_employed', 'household_stat', 'household_summary',\n",
       "       'under_18_family', 'veterans_admin_questionnaire', 'vet_benefit',\n",
       "       'tax_status', 'gains', 'losses', 'stocks_status', 'citizenship',\n",
       "       'mig_year', 'country_of_birth_own', 'country_of_birth_father',\n",
       "       'country_of_birth_mother', 'migration_code_change_in_msa',\n",
       "       'migration_prev_sunbelt', 'migration_code_move_within_reg',\n",
       "       'migration_code_change_in_reg', 'residence_1_year_ago',\n",
       "       'old_residence_reg', 'old_residence_state', 'importance_of_record',\n",
       "       'income_above_limit'],\n",
       "      dtype='object')"
      ]
     },
     "execution_count": 4,
     "metadata": {},
     "output_type": "execute_result"
    }
   ],
   "source": [
    "#Overview of all the columns in the dataset.\n",
    "\n",
    "train_data.columns"
   ]
  },
  {
   "cell_type": "code",
   "execution_count": 5,
   "id": "358673c6",
   "metadata": {},
   "outputs": [],
   "source": [
    "#Create a copy of the original data\n",
    "\n",
    "data = train_data.copy() "
   ]
  },
  {
   "cell_type": "markdown",
   "id": "b02f8711",
   "metadata": {},
   "source": [
    "#### RENAME SOME COLUMNS"
   ]
  },
  {
   "cell_type": "code",
   "execution_count": 6,
   "id": "918e05e8",
   "metadata": {},
   "outputs": [],
   "source": [
    "#drop multiple columns by name\n",
    "\n",
    "train_data.drop(columns=['ID', 'education_institute', 'is_hispanic', 'employment_commitment', 'unemployment_reason', \n",
    "                         'employment_stat','is_labor_union', 'industry_code', 'industry_code_main', 'occupation_code',\n",
    "                         'total_employed', 'household_stat', 'household_summary', 'under_18_family',\n",
    "                         'veterans_admin_questionnaire', 'vet_benefit', 'tax_status', 'stocks_status', 'mig_year',\n",
    "                         'country_of_birth_father', 'country_of_birth_mother', 'migration_code_change_in_msa',\n",
    "                         'migration_prev_sunbelt', 'migration_code_move_within_reg', 'migration_code_change_in_reg',\n",
    "                         'residence_1_year_ago', 'old_residence_reg', 'old_residence_state', 'importance_of_record'], \n",
    "                         inplace=True)"
   ]
  },
  {
   "cell_type": "markdown",
   "id": "f8e94e6c",
   "metadata": {},
   "source": [
    "#### RENAME SOME COLUMNS"
   ]
  },
  {
   "cell_type": "code",
   "execution_count": 7,
   "id": "e17a9476",
   "metadata": {},
   "outputs": [],
   "source": [
    "# Define the new names for the columns to be renamed.\n",
    "\n",
    "new_columns = {'wage_per_hour': 'hourly_wage', 'occupation_code_main': 'occupation', \n",
    "               'country_of_birth_own': 'country_of_birth'}\n",
    "\n",
    "train_data.rename(columns=new_columns, inplace=True)"
   ]
  },
  {
   "cell_type": "code",
   "execution_count": 8,
   "id": "aed2aa9d",
   "metadata": {},
   "outputs": [
    {
     "name": "stdout",
     "output_type": "stream",
     "text": [
      "Index(['age', 'gender', 'education', 'class', 'marital_status', 'race',\n",
      "       'hourly_wage', 'working_week_per_year', 'occupation', 'gains', 'losses',\n",
      "       'citizenship', 'country_of_birth', 'income_above_limit'],\n",
      "      dtype='object')\n"
     ]
    }
   ],
   "source": [
    "#View dataset after some columns have been dropped and renamed.\n",
    "\n",
    "print(train_data.columns)"
   ]
  },
  {
   "cell_type": "code",
   "execution_count": 9,
   "id": "42dd9fc5",
   "metadata": {},
   "outputs": [
    {
     "data": {
      "text/html": [
       "<div>\n",
       "<style scoped>\n",
       "    .dataframe tbody tr th:only-of-type {\n",
       "        vertical-align: middle;\n",
       "    }\n",
       "\n",
       "    .dataframe tbody tr th {\n",
       "        vertical-align: top;\n",
       "    }\n",
       "\n",
       "    .dataframe thead th {\n",
       "        text-align: right;\n",
       "    }\n",
       "</style>\n",
       "<table border=\"1\" class=\"dataframe\">\n",
       "  <thead>\n",
       "    <tr style=\"text-align: right;\">\n",
       "      <th></th>\n",
       "      <th>age</th>\n",
       "      <th>gender</th>\n",
       "      <th>education</th>\n",
       "      <th>class</th>\n",
       "      <th>marital_status</th>\n",
       "      <th>race</th>\n",
       "      <th>hourly_wage</th>\n",
       "      <th>working_week_per_year</th>\n",
       "      <th>occupation</th>\n",
       "      <th>gains</th>\n",
       "      <th>losses</th>\n",
       "      <th>citizenship</th>\n",
       "      <th>country_of_birth</th>\n",
       "      <th>income_above_limit</th>\n",
       "    </tr>\n",
       "  </thead>\n",
       "  <tbody>\n",
       "    <tr>\n",
       "      <th>0</th>\n",
       "      <td>79</td>\n",
       "      <td>Female</td>\n",
       "      <td>High school graduate</td>\n",
       "      <td>NaN</td>\n",
       "      <td>Widowed</td>\n",
       "      <td>White</td>\n",
       "      <td>0</td>\n",
       "      <td>52</td>\n",
       "      <td>NaN</td>\n",
       "      <td>0</td>\n",
       "      <td>0</td>\n",
       "      <td>Native</td>\n",
       "      <td>US</td>\n",
       "      <td>Below limit</td>\n",
       "    </tr>\n",
       "    <tr>\n",
       "      <th>1</th>\n",
       "      <td>65</td>\n",
       "      <td>Female</td>\n",
       "      <td>High school graduate</td>\n",
       "      <td>NaN</td>\n",
       "      <td>Widowed</td>\n",
       "      <td>White</td>\n",
       "      <td>0</td>\n",
       "      <td>0</td>\n",
       "      <td>NaN</td>\n",
       "      <td>0</td>\n",
       "      <td>0</td>\n",
       "      <td>Native</td>\n",
       "      <td>US</td>\n",
       "      <td>Below limit</td>\n",
       "    </tr>\n",
       "    <tr>\n",
       "      <th>2</th>\n",
       "      <td>21</td>\n",
       "      <td>Male</td>\n",
       "      <td>12th grade no diploma</td>\n",
       "      <td>Federal government</td>\n",
       "      <td>Never married</td>\n",
       "      <td>Black</td>\n",
       "      <td>500</td>\n",
       "      <td>15</td>\n",
       "      <td>Adm support including clerical</td>\n",
       "      <td>0</td>\n",
       "      <td>0</td>\n",
       "      <td>Native</td>\n",
       "      <td>US</td>\n",
       "      <td>Below limit</td>\n",
       "    </tr>\n",
       "    <tr>\n",
       "      <th>3</th>\n",
       "      <td>2</td>\n",
       "      <td>Female</td>\n",
       "      <td>Children</td>\n",
       "      <td>NaN</td>\n",
       "      <td>Never married</td>\n",
       "      <td>Asian or Pacific Islander</td>\n",
       "      <td>0</td>\n",
       "      <td>0</td>\n",
       "      <td>NaN</td>\n",
       "      <td>0</td>\n",
       "      <td>0</td>\n",
       "      <td>Native</td>\n",
       "      <td>US</td>\n",
       "      <td>Below limit</td>\n",
       "    </tr>\n",
       "    <tr>\n",
       "      <th>4</th>\n",
       "      <td>70</td>\n",
       "      <td>Male</td>\n",
       "      <td>High school graduate</td>\n",
       "      <td>NaN</td>\n",
       "      <td>Married-civilian spouse present</td>\n",
       "      <td>White</td>\n",
       "      <td>0</td>\n",
       "      <td>0</td>\n",
       "      <td>NaN</td>\n",
       "      <td>0</td>\n",
       "      <td>0</td>\n",
       "      <td>Native</td>\n",
       "      <td>US</td>\n",
       "      <td>Below limit</td>\n",
       "    </tr>\n",
       "  </tbody>\n",
       "</table>\n",
       "</div>"
      ],
      "text/plain": [
       "   age   gender               education                class  \\\n",
       "0   79   Female    High school graduate                  NaN   \n",
       "1   65   Female    High school graduate                  NaN   \n",
       "2   21     Male   12th grade no diploma   Federal government   \n",
       "3    2   Female                Children                  NaN   \n",
       "4   70     Male    High school graduate                  NaN   \n",
       "\n",
       "                     marital_status                        race  hourly_wage  \\\n",
       "0                           Widowed                       White            0   \n",
       "1                           Widowed                       White            0   \n",
       "2                     Never married                       Black          500   \n",
       "3                     Never married   Asian or Pacific Islander            0   \n",
       "4   Married-civilian spouse present                       White            0   \n",
       "\n",
       "   working_week_per_year                       occupation  gains  losses  \\\n",
       "0                     52                              NaN      0       0   \n",
       "1                      0                              NaN      0       0   \n",
       "2                     15   Adm support including clerical      0       0   \n",
       "3                      0                              NaN      0       0   \n",
       "4                      0                              NaN      0       0   \n",
       "\n",
       "  citizenship country_of_birth income_above_limit  \n",
       "0      Native               US        Below limit  \n",
       "1      Native               US        Below limit  \n",
       "2      Native               US        Below limit  \n",
       "3      Native               US        Below limit  \n",
       "4      Native               US        Below limit  "
      ]
     },
     "execution_count": 9,
     "metadata": {},
     "output_type": "execute_result"
    }
   ],
   "source": [
    "#Check the dataframe after some columns have been dropped and renamed.\n",
    "\n",
    "train_data.head()"
   ]
  },
  {
   "cell_type": "code",
   "execution_count": 10,
   "id": "aa845975",
   "metadata": {},
   "outputs": [
    {
     "name": "stdout",
     "output_type": "stream",
     "text": [
      "The shape of the train dataset is: (209499, 14)\n"
     ]
    }
   ],
   "source": [
    "#Check the shape of the dataset.\n",
    "\n",
    "print(f\"The shape of the train dataset is: {train_data.shape}\")"
   ]
  },
  {
   "cell_type": "code",
   "execution_count": 11,
   "id": "82969c35",
   "metadata": {},
   "outputs": [
    {
     "name": "stdout",
     "output_type": "stream",
     "text": [
      "<class 'pandas.core.frame.DataFrame'>\n",
      "RangeIndex: 209499 entries, 0 to 209498\n",
      "Data columns (total 14 columns):\n",
      " #   Column                 Non-Null Count   Dtype \n",
      "---  ------                 --------------   ----- \n",
      " 0   age                    209499 non-null  int64 \n",
      " 1   gender                 209499 non-null  object\n",
      " 2   education              209499 non-null  object\n",
      " 3   class                  104254 non-null  object\n",
      " 4   marital_status         209499 non-null  object\n",
      " 5   race                   209499 non-null  object\n",
      " 6   hourly_wage            209499 non-null  int64 \n",
      " 7   working_week_per_year  209499 non-null  int64 \n",
      " 8   occupation             103805 non-null  object\n",
      " 9   gains                  209499 non-null  int64 \n",
      " 10  losses                 209499 non-null  int64 \n",
      " 11  citizenship            209499 non-null  object\n",
      " 12  country_of_birth       209499 non-null  object\n",
      " 13  income_above_limit     209499 non-null  object\n",
      "dtypes: int64(5), object(9)\n",
      "memory usage: 22.4+ MB\n"
     ]
    }
   ],
   "source": [
    "#Check the shape of the dataset.\n",
    "\n",
    "train_data.info()"
   ]
  },
  {
   "cell_type": "code",
   "execution_count": 12,
   "id": "6e9bae79",
   "metadata": {},
   "outputs": [],
   "source": [
    "#Convert the income_above_limit column from a categorical data to a numeric data since that is the target .\n",
    "\n",
    "le = LabelEncoder()\n",
    "label = le.fit_transform(train_data['income_above_limit'])\n",
    "train_data.drop(\"income_above_limit\", axis=1, inplace=True)\n",
    "train_data[\"income_above_limit\"] = label"
   ]
  },
  {
   "cell_type": "code",
   "execution_count": 13,
   "id": "667c1b75",
   "metadata": {},
   "outputs": [
    {
     "data": {
      "text/html": [
       "<div>\n",
       "<style scoped>\n",
       "    .dataframe tbody tr th:only-of-type {\n",
       "        vertical-align: middle;\n",
       "    }\n",
       "\n",
       "    .dataframe tbody tr th {\n",
       "        vertical-align: top;\n",
       "    }\n",
       "\n",
       "    .dataframe thead th {\n",
       "        text-align: right;\n",
       "    }\n",
       "</style>\n",
       "<table border=\"1\" class=\"dataframe\">\n",
       "  <thead>\n",
       "    <tr style=\"text-align: right;\">\n",
       "      <th></th>\n",
       "      <th>age</th>\n",
       "      <th>gender</th>\n",
       "      <th>education</th>\n",
       "      <th>class</th>\n",
       "      <th>marital_status</th>\n",
       "      <th>race</th>\n",
       "      <th>hourly_wage</th>\n",
       "      <th>working_week_per_year</th>\n",
       "      <th>occupation</th>\n",
       "      <th>gains</th>\n",
       "      <th>losses</th>\n",
       "      <th>citizenship</th>\n",
       "      <th>country_of_birth</th>\n",
       "      <th>income_above_limit</th>\n",
       "    </tr>\n",
       "  </thead>\n",
       "  <tbody>\n",
       "    <tr>\n",
       "      <th>0</th>\n",
       "      <td>79</td>\n",
       "      <td>Female</td>\n",
       "      <td>High school graduate</td>\n",
       "      <td>NaN</td>\n",
       "      <td>Widowed</td>\n",
       "      <td>White</td>\n",
       "      <td>0</td>\n",
       "      <td>52</td>\n",
       "      <td>NaN</td>\n",
       "      <td>0</td>\n",
       "      <td>0</td>\n",
       "      <td>Native</td>\n",
       "      <td>US</td>\n",
       "      <td>1</td>\n",
       "    </tr>\n",
       "    <tr>\n",
       "      <th>1</th>\n",
       "      <td>65</td>\n",
       "      <td>Female</td>\n",
       "      <td>High school graduate</td>\n",
       "      <td>NaN</td>\n",
       "      <td>Widowed</td>\n",
       "      <td>White</td>\n",
       "      <td>0</td>\n",
       "      <td>0</td>\n",
       "      <td>NaN</td>\n",
       "      <td>0</td>\n",
       "      <td>0</td>\n",
       "      <td>Native</td>\n",
       "      <td>US</td>\n",
       "      <td>1</td>\n",
       "    </tr>\n",
       "    <tr>\n",
       "      <th>2</th>\n",
       "      <td>21</td>\n",
       "      <td>Male</td>\n",
       "      <td>12th grade no diploma</td>\n",
       "      <td>Federal government</td>\n",
       "      <td>Never married</td>\n",
       "      <td>Black</td>\n",
       "      <td>500</td>\n",
       "      <td>15</td>\n",
       "      <td>Adm support including clerical</td>\n",
       "      <td>0</td>\n",
       "      <td>0</td>\n",
       "      <td>Native</td>\n",
       "      <td>US</td>\n",
       "      <td>1</td>\n",
       "    </tr>\n",
       "    <tr>\n",
       "      <th>3</th>\n",
       "      <td>2</td>\n",
       "      <td>Female</td>\n",
       "      <td>Children</td>\n",
       "      <td>NaN</td>\n",
       "      <td>Never married</td>\n",
       "      <td>Asian or Pacific Islander</td>\n",
       "      <td>0</td>\n",
       "      <td>0</td>\n",
       "      <td>NaN</td>\n",
       "      <td>0</td>\n",
       "      <td>0</td>\n",
       "      <td>Native</td>\n",
       "      <td>US</td>\n",
       "      <td>1</td>\n",
       "    </tr>\n",
       "    <tr>\n",
       "      <th>4</th>\n",
       "      <td>70</td>\n",
       "      <td>Male</td>\n",
       "      <td>High school graduate</td>\n",
       "      <td>NaN</td>\n",
       "      <td>Married-civilian spouse present</td>\n",
       "      <td>White</td>\n",
       "      <td>0</td>\n",
       "      <td>0</td>\n",
       "      <td>NaN</td>\n",
       "      <td>0</td>\n",
       "      <td>0</td>\n",
       "      <td>Native</td>\n",
       "      <td>US</td>\n",
       "      <td>1</td>\n",
       "    </tr>\n",
       "  </tbody>\n",
       "</table>\n",
       "</div>"
      ],
      "text/plain": [
       "   age   gender               education                class  \\\n",
       "0   79   Female    High school graduate                  NaN   \n",
       "1   65   Female    High school graduate                  NaN   \n",
       "2   21     Male   12th grade no diploma   Federal government   \n",
       "3    2   Female                Children                  NaN   \n",
       "4   70     Male    High school graduate                  NaN   \n",
       "\n",
       "                     marital_status                        race  hourly_wage  \\\n",
       "0                           Widowed                       White            0   \n",
       "1                           Widowed                       White            0   \n",
       "2                     Never married                       Black          500   \n",
       "3                     Never married   Asian or Pacific Islander            0   \n",
       "4   Married-civilian spouse present                       White            0   \n",
       "\n",
       "   working_week_per_year                       occupation  gains  losses  \\\n",
       "0                     52                              NaN      0       0   \n",
       "1                      0                              NaN      0       0   \n",
       "2                     15   Adm support including clerical      0       0   \n",
       "3                      0                              NaN      0       0   \n",
       "4                      0                              NaN      0       0   \n",
       "\n",
       "  citizenship country_of_birth  income_above_limit  \n",
       "0      Native               US                   1  \n",
       "1      Native               US                   1  \n",
       "2      Native               US                   1  \n",
       "3      Native               US                   1  \n",
       "4      Native               US                   1  "
      ]
     },
     "execution_count": 13,
     "metadata": {},
     "output_type": "execute_result"
    }
   ],
   "source": [
    "train_data.head()"
   ]
  },
  {
   "cell_type": "code",
   "execution_count": 14,
   "id": "50c04301",
   "metadata": {},
   "outputs": [
    {
     "data": {
      "text/plain": [
       "array([[<AxesSubplot: title={'center': 'age'}>,\n",
       "        <AxesSubplot: title={'center': 'hourly_wage'}>,\n",
       "        <AxesSubplot: title={'center': 'working_week_per_year'}>],\n",
       "       [<AxesSubplot: title={'center': 'gains'}>,\n",
       "        <AxesSubplot: title={'center': 'losses'}>,\n",
       "        <AxesSubplot: title={'center': 'income_above_limit'}>],\n",
       "       [<AxesSubplot: >, <AxesSubplot: >, <AxesSubplot: >]], dtype=object)"
      ]
     },
     "execution_count": 14,
     "metadata": {},
     "output_type": "execute_result"
    },
    {
     "data": {
      "image/png": "[encoded data removed]",
      "text/plain": [
       "<Figure size 1200x900 with 9 Axes>"
      ]
     },
     "metadata": {},
     "output_type": "display_data"
    }
   ],
   "source": [
    "train_data.hist(figsize=(12,9), layout=(3,3))"
   ]
  },
  {
   "cell_type": "code",
   "execution_count": 15,
   "id": "9d0f1797",
   "metadata": {},
   "outputs": [
    {
     "data": {
      "image/png": "[encoded data removed]",
      "text/plain": [
       "<Figure size 1000x500 with 1 Axes>"
      ]
     },
     "metadata": {},
     "output_type": "display_data"
    }
   ],
   "source": [
    "\n",
    "train_data.plot(kind = 'box', figsize=(10,5), layout=(3,2), );"
   ]
  },
  {
   "cell_type": "code",
   "execution_count": 16,
   "id": "abd2fd1f",
   "metadata": {},
   "outputs": [
    {
     "ename": "ValueError",
     "evalue": "could not convert string to float: ' Female'",
     "output_type": "error",
     "traceback": [
      "\u001b[1;31m---------------------------------------------------------------------------\u001b[0m",
      "\u001b[1;31mValueError\u001b[0m                                Traceback (most recent call last)",
      "Cell \u001b[1;32mIn[16], line 1\u001b[0m\n\u001b[1;32m----> 1\u001b[0m sns\u001b[38;5;241m.\u001b[39mheatmap(\u001b[43mtrain_data\u001b[49m\u001b[38;5;241;43m.\u001b[39;49m\u001b[43mcorr\u001b[49m\u001b[43m(\u001b[49m\u001b[43m)\u001b[49m, annot\u001b[38;5;241m=\u001b[39m\u001b[38;5;28;01mTrue\u001b[39;00m);\n",
      "File \u001b[1;32m~\\AppData\\Local\\Programs\\Python\\Python311\\Lib\\site-packages\\pandas\\core\\frame.py:10054\u001b[0m, in \u001b[0;36mDataFrame.corr\u001b[1;34m(self, method, min_periods, numeric_only)\u001b[0m\n\u001b[0;32m  10052\u001b[0m cols \u001b[38;5;241m=\u001b[39m data\u001b[38;5;241m.\u001b[39mcolumns\n\u001b[0;32m  10053\u001b[0m idx \u001b[38;5;241m=\u001b[39m cols\u001b[38;5;241m.\u001b[39mcopy()\n\u001b[1;32m> 10054\u001b[0m mat \u001b[38;5;241m=\u001b[39m \u001b[43mdata\u001b[49m\u001b[38;5;241;43m.\u001b[39;49m\u001b[43mto_numpy\u001b[49m\u001b[43m(\u001b[49m\u001b[43mdtype\u001b[49m\u001b[38;5;241;43m=\u001b[39;49m\u001b[38;5;28;43mfloat\u001b[39;49m\u001b[43m,\u001b[49m\u001b[43m \u001b[49m\u001b[43mna_value\u001b[49m\u001b[38;5;241;43m=\u001b[39;49m\u001b[43mnp\u001b[49m\u001b[38;5;241;43m.\u001b[39;49m\u001b[43mnan\u001b[49m\u001b[43m,\u001b[49m\u001b[43m \u001b[49m\u001b[43mcopy\u001b[49m\u001b[38;5;241;43m=\u001b[39;49m\u001b[38;5;28;43;01mFalse\u001b[39;49;00m\u001b[43m)\u001b[49m\n\u001b[0;32m  10056\u001b[0m \u001b[38;5;28;01mif\u001b[39;00m method \u001b[38;5;241m==\u001b[39m \u001b[38;5;124m\"\u001b[39m\u001b[38;5;124mpearson\u001b[39m\u001b[38;5;124m\"\u001b[39m:\n\u001b[0;32m  10057\u001b[0m     correl \u001b[38;5;241m=\u001b[39m libalgos\u001b[38;5;241m.\u001b[39mnancorr(mat, minp\u001b[38;5;241m=\u001b[39mmin_periods)\n",
      "File \u001b[1;32m~\\AppData\\Local\\Programs\\Python\\Python311\\Lib\\site-packages\\pandas\\core\\frame.py:1838\u001b[0m, in \u001b[0;36mDataFrame.to_numpy\u001b[1;34m(self, dtype, copy, na_value)\u001b[0m\n\u001b[0;32m   1836\u001b[0m \u001b[38;5;28;01mif\u001b[39;00m dtype \u001b[38;5;129;01mis\u001b[39;00m \u001b[38;5;129;01mnot\u001b[39;00m \u001b[38;5;28;01mNone\u001b[39;00m:\n\u001b[0;32m   1837\u001b[0m     dtype \u001b[38;5;241m=\u001b[39m np\u001b[38;5;241m.\u001b[39mdtype(dtype)\n\u001b[1;32m-> 1838\u001b[0m result \u001b[38;5;241m=\u001b[39m \u001b[38;5;28;43mself\u001b[39;49m\u001b[38;5;241;43m.\u001b[39;49m\u001b[43m_mgr\u001b[49m\u001b[38;5;241;43m.\u001b[39;49m\u001b[43mas_array\u001b[49m\u001b[43m(\u001b[49m\u001b[43mdtype\u001b[49m\u001b[38;5;241;43m=\u001b[39;49m\u001b[43mdtype\u001b[49m\u001b[43m,\u001b[49m\u001b[43m \u001b[49m\u001b[43mcopy\u001b[49m\u001b[38;5;241;43m=\u001b[39;49m\u001b[43mcopy\u001b[49m\u001b[43m,\u001b[49m\u001b[43m \u001b[49m\u001b[43mna_value\u001b[49m\u001b[38;5;241;43m=\u001b[39;49m\u001b[43mna_value\u001b[49m\u001b[43m)\u001b[49m\n\u001b[0;32m   1839\u001b[0m \u001b[38;5;28;01mif\u001b[39;00m result\u001b[38;5;241m.\u001b[39mdtype \u001b[38;5;129;01mis\u001b[39;00m \u001b[38;5;129;01mnot\u001b[39;00m dtype:\n\u001b[0;32m   1840\u001b[0m     result \u001b[38;5;241m=\u001b[39m np\u001b[38;5;241m.\u001b[39marray(result, dtype\u001b[38;5;241m=\u001b[39mdtype, copy\u001b[38;5;241m=\u001b[39m\u001b[38;5;28;01mFalse\u001b[39;00m)\n",
      "File \u001b[1;32m~\\AppData\\Local\\Programs\\Python\\Python311\\Lib\\site-packages\\pandas\\core\\internals\\managers.py:1732\u001b[0m, in \u001b[0;36mBlockManager.as_array\u001b[1;34m(self, dtype, copy, na_value)\u001b[0m\n\u001b[0;32m   1730\u001b[0m         arr\u001b[38;5;241m.\u001b[39mflags\u001b[38;5;241m.\u001b[39mwriteable \u001b[38;5;241m=\u001b[39m \u001b[38;5;28;01mFalse\u001b[39;00m\n\u001b[0;32m   1731\u001b[0m \u001b[38;5;28;01melse\u001b[39;00m:\n\u001b[1;32m-> 1732\u001b[0m     arr \u001b[38;5;241m=\u001b[39m \u001b[38;5;28;43mself\u001b[39;49m\u001b[38;5;241;43m.\u001b[39;49m\u001b[43m_interleave\u001b[49m\u001b[43m(\u001b[49m\u001b[43mdtype\u001b[49m\u001b[38;5;241;43m=\u001b[39;49m\u001b[43mdtype\u001b[49m\u001b[43m,\u001b[49m\u001b[43m \u001b[49m\u001b[43mna_value\u001b[49m\u001b[38;5;241;43m=\u001b[39;49m\u001b[43mna_value\u001b[49m\u001b[43m)\u001b[49m\n\u001b[0;32m   1733\u001b[0m     \u001b[38;5;66;03m# The underlying data was copied within _interleave, so no need\u001b[39;00m\n\u001b[0;32m   1734\u001b[0m     \u001b[38;5;66;03m# to further copy if copy=True or setting na_value\u001b[39;00m\n\u001b[0;32m   1736\u001b[0m \u001b[38;5;28;01mif\u001b[39;00m na_value \u001b[38;5;129;01mis\u001b[39;00m \u001b[38;5;129;01mnot\u001b[39;00m lib\u001b[38;5;241m.\u001b[39mno_default:\n",
      "File \u001b[1;32m~\\AppData\\Local\\Programs\\Python\\Python311\\Lib\\site-packages\\pandas\\core\\internals\\managers.py:1794\u001b[0m, in \u001b[0;36mBlockManager._interleave\u001b[1;34m(self, dtype, na_value)\u001b[0m\n\u001b[0;32m   1792\u001b[0m     \u001b[38;5;28;01melse\u001b[39;00m:\n\u001b[0;32m   1793\u001b[0m         arr \u001b[38;5;241m=\u001b[39m blk\u001b[38;5;241m.\u001b[39mget_values(dtype)\n\u001b[1;32m-> 1794\u001b[0m     \u001b[43mresult\u001b[49m\u001b[43m[\u001b[49m\u001b[43mrl\u001b[49m\u001b[38;5;241;43m.\u001b[39;49m\u001b[43mindexer\u001b[49m\u001b[43m]\u001b[49m \u001b[38;5;241m=\u001b[39m arr\n\u001b[0;32m   1795\u001b[0m     itemmask[rl\u001b[38;5;241m.\u001b[39mindexer] \u001b[38;5;241m=\u001b[39m \u001b[38;5;241m1\u001b[39m\n\u001b[0;32m   1797\u001b[0m \u001b[38;5;28;01mif\u001b[39;00m \u001b[38;5;129;01mnot\u001b[39;00m itemmask\u001b[38;5;241m.\u001b[39mall():\n",
      "\u001b[1;31mValueError\u001b[0m: could not convert string to float: ' Female'"
     ]
    }
   ],
   "source": [
    "sns.heatmap(train_data.corr(), annot=True);"
   ]
  },
  {
   "cell_type": "code",
   "execution_count": null,
   "id": "bcbb95c0",
   "metadata": {},
   "outputs": [],
   "source": []
  },
  {
   "cell_type": "code",
   "execution_count": null,
   "id": "0fa91641",
   "metadata": {},
   "outputs": [],
   "source": []
  },
  {
   "cell_type": "code",
   "execution_count": null,
   "id": "390edeb9",
   "metadata": {},
   "outputs": [],
   "source": []
  },
  {
   "cell_type": "code",
   "execution_count": null,
   "id": "00b63704",
   "metadata": {},
   "outputs": [],
   "source": []
  },
  {
   "cell_type": "code",
   "execution_count": null,
   "id": "9d9c5248",
   "metadata": {},
   "outputs": [],
   "source": []
  },
  {
   "cell_type": "code",
   "execution_count": null,
   "id": "01282c85",
   "metadata": {},
   "outputs": [],
   "source": []
  },
  {
   "cell_type": "code",
   "execution_count": null,
   "id": "8a838a0f",
   "metadata": {},
   "outputs": [],
   "source": []
  },
  {
   "cell_type": "markdown",
   "id": "22ca61af",
   "metadata": {},
   "source": [
    "#### CHECK FOR MISSING VALUES"
   ]
  },
  {
   "cell_type": "code",
   "execution_count": 17,
   "id": "4003129a",
   "metadata": {},
   "outputs": [
    {
     "data": {
      "text/plain": [
       "age                           0\n",
       "gender                        0\n",
       "education                     0\n",
       "class                    105245\n",
       "marital_status                0\n",
       "race                          0\n",
       "hourly_wage                   0\n",
       "working_week_per_year         0\n",
       "occupation               105694\n",
       "gains                         0\n",
       "losses                        0\n",
       "citizenship                   0\n",
       "country_of_birth              0\n",
       "income_above_limit            0\n",
       "dtype: int64"
      ]
     },
     "execution_count": 17,
     "metadata": {},
     "output_type": "execute_result"
    }
   ],
   "source": [
    "#Check the remaining columns if there are any missing values.\n",
    "\n",
    "train_data.isnull().sum()"
   ]
  },
  {
   "cell_type": "markdown",
   "id": "2b5d204a",
   "metadata": {},
   "source": [
    "#### INSIGHTS\n",
    "\n",
    "From the records above, it clearly shows that after some columns were dropped to aid in making the work easier. <br>\n",
    "Some columns had some missing values and they are :<br>\n",
    "* Class columns with a total number of <b> 105245 </b> missing values.\n",
    "* Occupation code main columns with a total number of <b> 105694 </b> missing values."
   ]
  },
  {
   "cell_type": "code",
   "execution_count": 18,
   "id": "be2111e8",
   "metadata": {},
   "outputs": [
    {
     "data": {
      "text/plain": [
       "array([' Female', ' Male'], dtype=object)"
      ]
     },
     "execution_count": 18,
     "metadata": {},
     "output_type": "execute_result"
    }
   ],
   "source": [
    "train_data['gender'].unique()"
   ]
  },
  {
   "cell_type": "code",
   "execution_count": 19,
   "id": "2934fa42",
   "metadata": {},
   "outputs": [
    {
     "data": {
      "text/plain": [
       "gender\n",
       " Female    108784\n",
       " Male      100715\n",
       "Name: count, dtype: int64"
      ]
     },
     "execution_count": 19,
     "metadata": {},
     "output_type": "execute_result"
    }
   ],
   "source": [
    "train_data['gender'].value_counts()"
   ]
  },
  {
   "cell_type": "code",
   "execution_count": 20,
   "id": "48cef58c",
   "metadata": {},
   "outputs": [
    {
     "data": {
      "text/plain": [
       "array([' High school graduate', ' 12th grade no diploma', ' Children',\n",
       "       ' Bachelors degree(BA AB BS)', ' 7th and 8th grade', ' 11th grade',\n",
       "       ' 9th grade', ' Masters degree(MA MS MEng MEd MSW MBA)',\n",
       "       ' 10th grade', ' Associates degree-academic program',\n",
       "       ' 1st 2nd 3rd or 4th grade', ' Some college but no degree',\n",
       "       ' Less than 1st grade', ' Associates degree-occup /vocational',\n",
       "       ' Prof school degree (MD DDS DVM LLB JD)', ' 5th or 6th grade',\n",
       "       ' Doctorate degree(PhD EdD)'], dtype=object)"
      ]
     },
     "execution_count": 20,
     "metadata": {},
     "output_type": "execute_result"
    }
   ],
   "source": [
    "train_data['education'].unique()"
   ]
  },
  {
   "cell_type": "code",
   "execution_count": 21,
   "id": "bd0c2dce",
   "metadata": {},
   "outputs": [
    {
     "data": {
      "text/plain": [
       "education\n",
       " High school graduate                      50627\n",
       " Children                                  49685\n",
       " Some college but no degree                29320\n",
       " Bachelors degree(BA AB BS)                20979\n",
       " 7th and 8th grade                          8438\n",
       " 10th grade                                 7905\n",
       " 11th grade                                 7260\n",
       " Masters degree(MA MS MEng MEd MSW MBA)     6861\n",
       " 9th grade                                  6540\n",
       " Associates degree-occup /vocational        5650\n",
       " Associates degree-academic program         4494\n",
       " 5th or 6th grade                           3542\n",
       " 12th grade no diploma                      2282\n",
       " 1st 2nd 3rd or 4th grade                   1917\n",
       " Prof school degree (MD DDS DVM LLB JD)     1852\n",
       " Doctorate degree(PhD EdD)                  1318\n",
       " Less than 1st grade                         829\n",
       "Name: count, dtype: int64"
      ]
     },
     "execution_count": 21,
     "metadata": {},
     "output_type": "execute_result"
    }
   ],
   "source": [
    "train_data['education'].value_counts()"
   ]
  },
  {
   "cell_type": "code",
   "execution_count": 22,
   "id": "bb079e4b",
   "metadata": {},
   "outputs": [],
   "source": [
    "#Renaming value in the Education column\n",
    "\n",
    "train_data['education'] = train_data['education'].apply(lambda x : str(x).replace('High school graduate','High school'))\n",
    "train_data['education'] = train_data['education'].apply(lambda x : str(x).replace('Doctorate degree(PhD EdD)','Doctorate'))\n",
    "train_data['education'] = train_data['education'].apply(lambda x : str(x).replace('Bachelors degree(BA AB BS)','Undergraduate'))"
   ]
  },
  {
   "cell_type": "code",
   "execution_count": 23,
   "id": "22d4f00a",
   "metadata": {},
   "outputs": [
    {
     "data": {
      "text/plain": [
       "array([' High school', ' 12th grade no diploma', ' Children',\n",
       "       ' Undergraduate', ' 7th and 8th grade', ' 11th grade',\n",
       "       ' 9th grade', ' Masters degree(MA MS MEng MEd MSW MBA)',\n",
       "       ' 10th grade', ' Associates degree-academic program',\n",
       "       ' 1st 2nd 3rd or 4th grade', ' Some college but no degree',\n",
       "       ' Less than 1st grade', ' Associates degree-occup /vocational',\n",
       "       ' Prof school degree (MD DDS DVM LLB JD)', ' 5th or 6th grade',\n",
       "       ' Doctorate'], dtype=object)"
      ]
     },
     "execution_count": 23,
     "metadata": {},
     "output_type": "execute_result"
    }
   ],
   "source": [
    "train_data['education'].unique()"
   ]
  },
  {
   "cell_type": "code",
   "execution_count": 24,
   "id": "989d3aa6",
   "metadata": {},
   "outputs": [
    {
     "data": {
      "text/plain": [
       "array([nan, ' Federal government', ' Private', ' Local government',\n",
       "       ' Self-employed-incorporated', ' Self-employed-not incorporated',\n",
       "       ' State government', ' Without pay', ' Never worked'], dtype=object)"
      ]
     },
     "execution_count": 24,
     "metadata": {},
     "output_type": "execute_result"
    }
   ],
   "source": [
    "train_data['class'].unique()"
   ]
  },
  {
   "cell_type": "code",
   "execution_count": 25,
   "id": "6ad31b06",
   "metadata": {},
   "outputs": [
    {
     "data": {
      "text/plain": [
       "class\n",
       " Private                           75617\n",
       " Self-employed-not incorporated     8957\n",
       " Local government                   8093\n",
       " State government                   4480\n",
       " Self-employed-incorporated         3444\n",
       " Federal government                 3047\n",
       " Never worked                        449\n",
       " Without pay                         167\n",
       "Name: count, dtype: int64"
      ]
     },
     "execution_count": 25,
     "metadata": {},
     "output_type": "execute_result"
    }
   ],
   "source": [
    "train_data['class'].value_counts()"
   ]
  },
  {
   "cell_type": "code",
   "execution_count": 26,
   "id": "409e634a",
   "metadata": {},
   "outputs": [
    {
     "data": {
      "text/plain": [
       "array([' Widowed', ' Never married', ' Married-civilian spouse present',\n",
       "       ' Divorced', ' Married-spouse absent', ' Separated',\n",
       "       ' Married-A F spouse present'], dtype=object)"
      ]
     },
     "execution_count": 26,
     "metadata": {},
     "output_type": "execute_result"
    }
   ],
   "source": [
    "train_data['marital_status'].unique()"
   ]
  },
  {
   "cell_type": "code",
   "execution_count": 27,
   "id": "6ec56a1b",
   "metadata": {},
   "outputs": [
    {
     "data": {
      "text/plain": [
       "marital_status\n",
       " Never married                      90723\n",
       " Married-civilian spouse present    88407\n",
       " Divorced                           13456\n",
       " Widowed                            11029\n",
       " Separated                           3596\n",
       " Married-spouse absent               1568\n",
       " Married-A F spouse present           720\n",
       "Name: count, dtype: int64"
      ]
     },
     "execution_count": 27,
     "metadata": {},
     "output_type": "execute_result"
    }
   ],
   "source": [
    "train_data['marital_status'].value_counts()"
   ]
  },
  {
   "cell_type": "code",
   "execution_count": 28,
   "id": "424f4451",
   "metadata": {},
   "outputs": [
    {
     "data": {
      "text/plain": [
       "array([' White', ' Black', ' Asian or Pacific Islander',\n",
       "       ' Amer Indian Aleut or Eskimo', ' Other'], dtype=object)"
      ]
     },
     "execution_count": 28,
     "metadata": {},
     "output_type": "execute_result"
    }
   ],
   "source": [
    "train_data['race'].unique()"
   ]
  },
  {
   "cell_type": "code",
   "execution_count": 29,
   "id": "96fa0700",
   "metadata": {},
   "outputs": [
    {
     "data": {
      "text/plain": [
       "race\n",
       " White                          175709\n",
       " Black                           21394\n",
       " Asian or Pacific Islander        6056\n",
       " Other                            3927\n",
       " Amer Indian Aleut or Eskimo      2413\n",
       "Name: count, dtype: int64"
      ]
     },
     "execution_count": 29,
     "metadata": {},
     "output_type": "execute_result"
    }
   ],
   "source": [
    "train_data['race'].value_counts()"
   ]
  },
  {
   "cell_type": "code",
   "execution_count": 30,
   "id": "6a2a3c7d",
   "metadata": {},
   "outputs": [
    {
     "data": {
      "text/plain": [
       "array([nan, ' Adm support including clerical', ' Other service',\n",
       "       ' Executive admin and managerial', ' Sales',\n",
       "       ' Machine operators assmblrs & inspctrs',\n",
       "       ' Precision production craft & repair', ' Professional specialty',\n",
       "       ' Handlers equip cleaners etc ',\n",
       "       ' Transportation and material moving',\n",
       "       ' Farming forestry and fishing', ' Private household services',\n",
       "       ' Technicians and related support', ' Protective services',\n",
       "       ' Armed Forces'], dtype=object)"
      ]
     },
     "execution_count": 30,
     "metadata": {},
     "output_type": "execute_result"
    }
   ],
   "source": [
    "train_data['occupation'].unique()"
   ]
  },
  {
   "cell_type": "code",
   "execution_count": 31,
   "id": "0aed1118",
   "metadata": {},
   "outputs": [
    {
     "data": {
      "text/plain": [
       "occupation\n",
       " Adm support including clerical           15351\n",
       " Professional specialty                   14544\n",
       " Executive admin and managerial           13107\n",
       " Other service                            12856\n",
       " Sales                                    12487\n",
       " Precision production craft & repair      11207\n",
       " Machine operators assmblrs & inspctrs     6650\n",
       " Handlers equip cleaners etc               4340\n",
       " Transportation and material moving        4244\n",
       " Farming forestry and fishing              3273\n",
       " Technicians and related support           3136\n",
       " Protective services                       1700\n",
       " Private household services                 878\n",
       " Armed Forces                                32\n",
       "Name: count, dtype: int64"
      ]
     },
     "execution_count": 31,
     "metadata": {},
     "output_type": "execute_result"
    }
   ],
   "source": [
    "train_data['occupation'].value_counts()"
   ]
  },
  {
   "cell_type": "code",
   "execution_count": 32,
   "id": "7c0db544",
   "metadata": {},
   "outputs": [],
   "source": [
    "#Renaming value in the occupation column\n",
    "\n",
    "train_data['occupation'] = train_data['occupation'].apply(lambda x : str(x).replace(' Adm support including clerical','Administration'))\n",
    "train_data['occupation'] = train_data['occupation'].apply(lambda x : str(x).replace(' Executive admin and managerial','Executive and Managerial'))\n",
    "train_data['occupation'] = train_data['occupation'].apply(lambda x : str(x).replace(' Transportation and material moving','Transport'))\n",
    "train_data['occupation'] = train_data['occupation'].apply(lambda x : str(x).replace(' Technicians and related support','Technical'))\n",
    "train_data['occupation'] = train_data['occupation'].apply(lambda x : str(x).replace(' Farming forestry and fishing','Agriculture'))"
   ]
  },
  {
   "cell_type": "code",
   "execution_count": 33,
   "id": "706dd6d4",
   "metadata": {},
   "outputs": [
    {
     "data": {
      "text/plain": [
       "array(['nan', 'Administration', ' Other service',\n",
       "       'Executive and Managerial', ' Sales',\n",
       "       ' Machine operators assmblrs & inspctrs',\n",
       "       ' Precision production craft & repair', ' Professional specialty',\n",
       "       ' Handlers equip cleaners etc ', 'Transport', 'Agriculture',\n",
       "       ' Private household services', 'Technical', ' Protective services',\n",
       "       ' Armed Forces'], dtype=object)"
      ]
     },
     "execution_count": 33,
     "metadata": {},
     "output_type": "execute_result"
    }
   ],
   "source": [
    "train_data['occupation'].unique()"
   ]
  },
  {
   "cell_type": "code",
   "execution_count": null,
   "id": "f5b9a429",
   "metadata": {},
   "outputs": [],
   "source": []
  },
  {
   "cell_type": "code",
   "execution_count": null,
   "id": "0f635d86",
   "metadata": {},
   "outputs": [],
   "source": []
  },
  {
   "cell_type": "code",
   "execution_count": null,
   "id": "82dbd0b8",
   "metadata": {},
   "outputs": [],
   "source": []
  },
  {
   "cell_type": "code",
   "execution_count": null,
   "id": "b7da089c",
   "metadata": {},
   "outputs": [],
   "source": []
  },
  {
   "cell_type": "code",
   "execution_count": null,
   "id": "00399937",
   "metadata": {},
   "outputs": [],
   "source": [
    "def check_unique_values_and_value_counts(train_data, columns_to_check):\n",
    "    \"\"\"\n",
    "    Check unique values and value counts of specific columns in a dataset.\n",
    "\n",
    "    Parameters:\n",
    "    - dataset (pd.DataFrame): The dataset to analyze.\n",
    "    - columns_to_check (list): List of column names to check.\n",
    "\n",
    "    Returns:\n",
    "    - None\n",
    "    \"\"\"\n",
    "    for column in columns_to_check:\n",
    "        unique_values = train_data[column].unique()\n",
    "        value_counts = train_data[column].value_counts()\n",
    "        \n",
    "        print(f\"Column: {column}\")\n",
    "        print(f\"Unique values: {unique_values}\")\n",
    "        print(\"Value counts:\")\n",
    "        print(value_counts)\n",
    "        print(\"-\" * 40)"
   ]
  },
  {
   "cell_type": "code",
   "execution_count": null,
   "id": "cfab76ef",
   "metadata": {},
   "outputs": [],
   "source": []
  },
  {
   "cell_type": "code",
   "execution_count": null,
   "id": "2c08c1c6",
   "metadata": {},
   "outputs": [],
   "source": []
  },
  {
   "cell_type": "code",
   "execution_count": null,
   "id": "04e3fc4d",
   "metadata": {},
   "outputs": [],
   "source": []
  },
  {
   "cell_type": "code",
   "execution_count": null,
   "id": "888b36a0",
   "metadata": {},
   "outputs": [],
   "source": []
  },
  {
   "cell_type": "code",
   "execution_count": null,
   "id": "c58c703e",
   "metadata": {},
   "outputs": [],
   "source": []
  },
  {
   "cell_type": "code",
   "execution_count": null,
   "id": "de9861b2",
   "metadata": {},
   "outputs": [],
   "source": []
  },
  {
   "cell_type": "code",
   "execution_count": null,
   "id": "9f2213a2",
   "metadata": {},
   "outputs": [],
   "source": []
  },
  {
   "cell_type": "code",
   "execution_count": null,
   "id": "85aa92b1",
   "metadata": {},
   "outputs": [],
   "source": [
    "# Filter out only the numerical columns\n",
    "numerical_columns = train_data.select_dtypes(include=['int', 'float'])\n",
    "\n",
    "plt.figure(figsize=(10, 6))  # Adjust the figure size as needed\n",
    "\n",
    "# Create a boxplot using Seaborn\n",
    "sns.boxplot(data=train_data)\n",
    "\n",
    "plt.title(\"Boxplot of Multiple Columns\")\n",
    "plt.xlabel(\"Columns\")\n",
    "plt.ylabel(\"Values\")\n",
    "\n",
    "plt.tight_layout()\n",
    "plt.show()\n"
   ]
  },
  {
   "cell_type": "code",
   "execution_count": null,
   "id": "149014dc",
   "metadata": {},
   "outputs": [],
   "source": []
  },
  {
   "cell_type": "code",
   "execution_count": null,
   "id": "8b0d4741",
   "metadata": {},
   "outputs": [],
   "source": []
  },
  {
   "cell_type": "code",
   "execution_count": null,
   "id": "a704c531",
   "metadata": {},
   "outputs": [],
   "source": []
  },
  {
   "cell_type": "code",
   "execution_count": null,
   "id": "4f236a41",
   "metadata": {},
   "outputs": [],
   "source": []
  },
  {
   "cell_type": "code",
   "execution_count": null,
   "id": "a557db78",
   "metadata": {},
   "outputs": [],
   "source": []
  },
  {
   "cell_type": "code",
   "execution_count": null,
   "id": "94da281b",
   "metadata": {},
   "outputs": [],
   "source": []
  },
  {
   "cell_type": "code",
   "execution_count": null,
   "id": "64671622",
   "metadata": {},
   "outputs": [],
   "source": []
  },
  {
   "cell_type": "code",
   "execution_count": null,
   "id": "5f6fdc7d",
   "metadata": {},
   "outputs": [],
   "source": []
  },
  {
   "cell_type": "code",
   "execution_count": null,
   "id": "4fb34219",
   "metadata": {},
   "outputs": [],
   "source": []
  },
  {
   "cell_type": "markdown",
   "id": "68ae8aab",
   "metadata": {},
   "source": [
    "#### Categorical Values"
   ]
  },
  {
   "cell_type": "code",
   "execution_count": null,
   "id": "a68d67e9",
   "metadata": {},
   "outputs": [],
   "source": [
    "def plot_numerical_countplots(train_data):\n",
    "    numerical_columns = data.select_dtypes(include=['int64', 'float64']).columns\n",
    "\n",
    "    for column in numerical_columns:\n",
    "        plt.figure(figsize=(8, 6))\n",
    "        sns.countplot(data[column])\n",
    "        plt.title(f'Countplot of {column}', fontsize=16)\n",
    "        plt.xlabel(column, fontsize=14)\n",
    "        plt.ylabel('Count', fontsize=14)\n",
    "        plt.xticks(rotation=45)\n",
    "        plt.show()\n",
    "\n",
    "# Example usage\n",
    "# Assuming 'df' is your DataFrame\n",
    "plot_numerical_countplots(train_data)\n"
   ]
  },
  {
   "cell_type": "code",
   "execution_count": null,
   "id": "87535cb2",
   "metadata": {},
   "outputs": [],
   "source": [
    "#def plot_countplots_for_categorical(train_data):\n",
    "    #Get a list of column name with categorical data\n",
    "    #categorical_columns = train_data.select_dtypes(include=['object']).columns.tolist()\n",
    "    \n",
    "    #loops through categorical columns and create count plots\n",
    "    #for columns in categorical_columns:\n",
    "        \n",
    "        #Set the figure size\n",
    "       # plt.figure(figsize=(8,6))\n",
    "        #sns.countplot(x=columns,data=train_data)\n",
    "        \n",
    "        #plt.xlabel(column)\n",
    "        #Set x-axis label\n",
    "       # plt.ylabel('Count')\n",
    "        #Set y-axis label\n",
    "        \n",
    "       # plt.title(f'Count plot of {column}')\n",
    "        #Set plot title\n",
    "        \n",
    "       # plt.xticks(rotation=45)\n",
    "        #Rotate x-axis labels for readability\n",
    "        \n",
    "        #plt.show() "
   ]
  },
  {
   "cell_type": "code",
   "execution_count": null,
   "id": "c4cbe230",
   "metadata": {},
   "outputs": [],
   "source": [
    "#Example usage with your Dataframe 'df'\n",
    "\n",
    "plot_countplots_for_categorical(train_data)"
   ]
  },
  {
   "cell_type": "code",
   "execution_count": null,
   "id": "3bcadc77",
   "metadata": {},
   "outputs": [],
   "source": [
    "#Explore categorical variables with count plots\n",
    "\n",
    "sns.countplot(x='gender', data = train_data)"
   ]
  },
  {
   "cell_type": "code",
   "execution_count": null,
   "id": "93f6d273",
   "metadata": {},
   "outputs": [],
   "source": []
  },
  {
   "cell_type": "code",
   "execution_count": null,
   "id": "3fab250f",
   "metadata": {},
   "outputs": [],
   "source": []
  },
  {
   "cell_type": "code",
   "execution_count": null,
   "id": "ce78c7d9",
   "metadata": {},
   "outputs": [],
   "source": []
  },
  {
   "cell_type": "code",
   "execution_count": null,
   "id": "d03999e3",
   "metadata": {},
   "outputs": [],
   "source": []
  },
  {
   "cell_type": "code",
   "execution_count": null,
   "id": "7e6d4626",
   "metadata": {},
   "outputs": [],
   "source": []
  },
  {
   "cell_type": "code",
   "execution_count": null,
   "id": "3d8f4052",
   "metadata": {},
   "outputs": [],
   "source": []
  },
  {
   "cell_type": "code",
   "execution_count": null,
   "id": "04905e84",
   "metadata": {},
   "outputs": [],
   "source": [
    "#Univariate Analysis\n",
    "\n",
    "train_data['column_name'].hist()\n",
    "plt.xlabel('X-axis Label')\n",
    "plt.xlabel('X-axis Label')\n",
    "plt.title('Title')\n",
    "plt.show()"
   ]
  },
  {
   "cell_type": "code",
   "execution_count": null,
   "id": "3107136c",
   "metadata": {},
   "outputs": [],
   "source": [
    "#Bivariate Analysis\n",
    "\n",
    "sns.scatterplot(x='column1', y='column2', data = train_data)"
   ]
  },
  {
   "cell_type": "code",
   "execution_count": null,
   "id": "32945323",
   "metadata": {},
   "outputs": [],
   "source": [
    "#categorical variables\n",
    "\n",
    "sns.countplot(x='category_column', data=train_data)"
   ]
  },
  {
   "cell_type": "code",
   "execution_count": null,
   "id": "7c3ef0d3",
   "metadata": {},
   "outputs": [],
   "source": [
    "train_data['categorical_column'].value_counts()"
   ]
  },
  {
   "cell_type": "code",
   "execution_count": null,
   "id": "5a964ef3",
   "metadata": {},
   "outputs": [],
   "source": []
  },
  {
   "cell_type": "code",
   "execution_count": null,
   "id": "9dd87651",
   "metadata": {},
   "outputs": [],
   "source": []
  },
  {
   "cell_type": "code",
   "execution_count": null,
   "id": "7757ff21",
   "metadata": {},
   "outputs": [],
   "source": [
    "#train_data['education_institute'].fillna(0, inplace = True)\n",
    "#print()"
   ]
  }
 ],
 "metadata": {
  "kernelspec": {
   "display_name": "Python 3 (ipykernel)",
   "language": "python",
   "name": "python3"
  },
  "language_info": {
   "codemirror_mode": {
    "name": "ipython",
    "version": 3
   },
   "file_extension": ".py",
   "mimetype": "text/x-python",
   "name": "python",
   "nbconvert_exporter": "python",
   "pygments_lexer": "ipython3",
   "version": "3.11.1"
  }
 },
 "nbformat": 4,
 "nbformat_minor": 5
}
