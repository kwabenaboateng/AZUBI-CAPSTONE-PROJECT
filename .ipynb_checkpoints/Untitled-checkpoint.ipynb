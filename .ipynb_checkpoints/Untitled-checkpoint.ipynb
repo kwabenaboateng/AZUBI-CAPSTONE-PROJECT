{
 "cells": [
  {
   "cell_type": "markdown",
   "id": "50d3fb0d",
   "metadata": {},
   "source": [
    "## AZUBI CAPSTONE PROJECT"
   ]
  },
  {
   "cell_type": "markdown",
   "id": "067ab8e2",
   "metadata": {},
   "source": [
    "#### IMPORT LIBRARY PACKAGES"
   ]
  },
  {
   "cell_type": "code",
   "execution_count": null,
   "id": "a45ce9fb",
   "metadata": {},
   "outputs": [],
   "source": [
    "#Data Handling\n",
    "import numpy as np\n",
    "import pandas as pd\n",
    "\n",
    "#Visualizations\n",
    "import seaborn as sns\n",
    "import plotly.express as px\n",
    "import matplotlib.pyplot as plt\n",
    "\n",
    "from termcolor import colored\n",
    "\n",
    "# Feature Processing (Scikit-learn processing, etc. )\n",
    "from sklearn.preprocessing import LabelEncoder\n",
    "\n",
    "# Evaluation Metrics\n",
    "from sklearn.model_selection import train_test_split\n",
    "from catboost import CatBoostClassifier\n",
    "from sklearn.metrics import f1_score, recall_score, precision_score, fbeta_score, accuracy_score, roc_auc_score\n",
    "from sklearn.metrics import confusion_matrix\n",
    "from sklearn.feature_selection import RFE\n",
    "\n",
    "#Other packages\n",
    "import warnings\n",
    "warnings.filterwarnings('always') "
   ]
  },
  {
   "cell_type": "markdown",
   "id": "ce57975a",
   "metadata": {},
   "source": [
    "#### Load the Data."
   ]
  },
  {
   "cell_type": "markdown",
   "id": "21601fe8",
   "metadata": {},
   "source": [
    "For this project, there are two datasets, namely:\n",
    "* <b> Train data: </b> This is the data which we will be using to train the model. Since we are solving a classification problem, we will have a column in train dataset corresponding to the target labels. \n",
    "* <b> Test data: </b> This is the data on which the predictions will be made based on the model trained on train dataset. "
   ]
  },
  {
   "cell_type": "code",
   "execution_count": null,
   "id": "e10208a0",
   "metadata": {},
   "outputs": [],
   "source": [
    "train_data = pd.read_csv(\"C:/Users/KWABENABOATENG/Desktop/AZUBI AFRICA/AZUBI CAPSTONE/AZUBI-CAPSTONE-PROJECT/DATASETS/Train.csv\")\n",
    "test_data = pd.read_csv(\"C:/Users/KWABENABOATENG/Desktop/AZUBI AFRICA/AZUBI CAPSTONE/AZUBI-CAPSTONE-PROJECT/DATASETS/Test.csv\")"
   ]
  },
  {
   "cell_type": "markdown",
   "id": "10addf04",
   "metadata": {},
   "source": [
    "## EXPLORATORY DATA EXPLORATION"
   ]
  },
  {
   "cell_type": "markdown",
   "id": "a4332959",
   "metadata": {},
   "source": [
    "### EXPLORE THE TRAIN DATASET"
   ]
  },
  {
   "cell_type": "code",
   "execution_count": null,
   "id": "302d848c",
   "metadata": {},
   "outputs": [],
   "source": [
    "#Overview of the train dataset.\n",
    "\n",
    "train_data.head()"
   ]
  },
  {
   "cell_type": "code",
   "execution_count": null,
   "id": "ea987488",
   "metadata": {},
   "outputs": [],
   "source": [
    "#Check the shape of the train dataset.\n",
    "\n",
    "print(f\"The shape of the train dataset is: {train_data.shape}\")"
   ]
  },
  {
   "cell_type": "code",
   "execution_count": null,
   "id": "21090319",
   "metadata": {},
   "outputs": [],
   "source": [
    "#Check the shape of the train dataset.\n",
    "\n",
    "train_data.info()"
   ]
  },
  {
   "cell_type": "code",
   "execution_count": null,
   "id": "eb15f844",
   "metadata": {},
   "outputs": [],
   "source": [
    "train_data.isnull().sum()"
   ]
  },
  {
   "cell_type": "markdown",
   "id": "b5b1daf9",
   "metadata": {},
   "source": [
    "#### INSIGHTS\n",
    "\n",
    "From the records above, it clearly shows that after some columns were dropped to aid in making the work easier. <br>\n",
    "Some columns had some missing values and they are :<br>\n",
    "* Class columns with a total number of <b> 105245 </b> missing values.\n",
    "* Education_institute columns with a total number of <b> 196197 </b> missing values.\n",
    "* Unemployment_reason columns with a total number of <b> 202979 </b> missing values.\n",
    "* Is_labor_union  columns with a total number of <b> 189420 </b> missing values.\n",
    "* Occupation code main columns with a total number of <b> 105694 </b> missing values.\n",
    "* Under_18_family  columns with a total number of <b> 151654 </b> missing values.\n",
    "* veterans_admin_questionnaire columns with a total number of <b> 207415 </b> missing values.\n",
    "* migration_code_change_in_msa columns with a total number of <b> 1588 </b> missing values.\n",
    "* migration_prev_sunbelt columns with a total number of <b> 88452 </b> missing values.\n",
    "* migration_code_move_within_reg columns with a total number of <b> 1588 </b> missing values.\n",
    "* migration_code_change_in_reg columns with a total number of <b> 1588 </b> missing values.\n",
    "* residence_1_year_ago columns with a total number of <b> 106284 </b> missing values.\n",
    "* old_residence_reg columns with a total number of <b> 193148 </b> missing values.\n",
    "* old_residence_state columns with a total number of <b> 193148 </b> missing values."
   ]
  },
  {
   "cell_type": "code",
   "execution_count": null,
   "id": "5e6266e0",
   "metadata": {},
   "outputs": [],
   "source": [
    "train_data.describe()"
   ]
  },
  {
   "cell_type": "code",
   "execution_count": null,
   "id": "23917520",
   "metadata": {},
   "outputs": [],
   "source": []
  },
  {
   "cell_type": "markdown",
   "id": "54a80ebe",
   "metadata": {},
   "source": [
    "### EXPLORE THE TEST DATASET."
   ]
  },
  {
   "cell_type": "code",
   "execution_count": null,
   "id": "67fe38a8",
   "metadata": {},
   "outputs": [],
   "source": [
    "#Overview of the test dataset.\n",
    "\n",
    "test_data.head()"
   ]
  },
  {
   "cell_type": "code",
   "execution_count": null,
   "id": "1eb9662c",
   "metadata": {},
   "outputs": [],
   "source": [
    "#Check the shape of the test dataset.\n",
    "\n",
    "print(f\"The shape of the train dataset is: {test_data.shape}\")"
   ]
  },
  {
   "cell_type": "code",
   "execution_count": null,
   "id": "1d8ebc1d",
   "metadata": {},
   "outputs": [],
   "source": [
    "#Check the shape of the test dataset.\n",
    "\n",
    "test_data.info()"
   ]
  },
  {
   "cell_type": "code",
   "execution_count": null,
   "id": "6ae992b8",
   "metadata": {},
   "outputs": [],
   "source": [
    "test_data.isnull().sum()"
   ]
  },
  {
   "cell_type": "markdown",
   "id": "49ac7a36",
   "metadata": {},
   "source": [
    "#### INSIGHTS FOR THE TEST DATASET\n",
    "\n",
    "From the records above, it clearly shows that after some columns were dropped to aid in making the work easier. <br>\n",
    "Some columns had some missing values and they are :<br>\n",
    "* Class columns with a total number of <b> 45079 </b> missing values.\n",
    "* Occupation code main columns with a total number of <b> 45273 </b> missing values."
   ]
  },
  {
   "cell_type": "code",
   "execution_count": null,
   "id": "d8574dcb",
   "metadata": {},
   "outputs": [],
   "source": [
    "test_data.describe()"
   ]
  },
  {
   "cell_type": "code",
   "execution_count": null,
   "id": "1ae535d6",
   "metadata": {},
   "outputs": [],
   "source": []
  },
  {
   "cell_type": "markdown",
   "id": "1964f6c3",
   "metadata": {},
   "source": [
    "## FEATURE ENGINEERING"
   ]
  },
  {
   "cell_type": "code",
   "execution_count": null,
   "id": "480e359a",
   "metadata": {},
   "outputs": [],
   "source": [
    "#Create a copy of the original train dataset\n",
    "\n",
    "data = train_data.copy() "
   ]
  },
  {
   "cell_type": "code",
   "execution_count": null,
   "id": "1c8a567f",
   "metadata": {},
   "outputs": [],
   "source": [
    "#Create a copy of the original test dataset\n",
    "\n",
    "data = test_data.copy() "
   ]
  },
  {
   "cell_type": "code",
   "execution_count": null,
   "id": "840a7bd8",
   "metadata": {},
   "outputs": [],
   "source": [
    "#Overview of all the columns in the train dataset.\n",
    "\n",
    "train_data.columns"
   ]
  },
  {
   "cell_type": "code",
   "execution_count": null,
   "id": "768c9e5d",
   "metadata": {},
   "outputs": [],
   "source": [
    "#Overview of all the columns in the test dataset.\n",
    "\n",
    "test_data.columns"
   ]
  },
  {
   "cell_type": "markdown",
   "id": "b02f8711",
   "metadata": {},
   "source": [
    "### DROP SOME COLUMNS\n",
    "#### For the purposes of this project, we will drop some columns that will not be relevant for the machine learning"
   ]
  },
  {
   "cell_type": "code",
   "execution_count": null,
   "id": "918e05e8",
   "metadata": {},
   "outputs": [],
   "source": [
    "#drop the following columns in the train dataset.\n",
    "\n",
    "train_data.drop(columns=['ID', 'education_institute', 'is_hispanic', 'employment_commitment', 'unemployment_reason', \n",
    "                         'employment_stat','is_labor_union', 'industry_code', 'industry_code_main', 'occupation_code',\n",
    "                         'total_employed', 'household_stat', 'household_summary', 'under_18_family',\n",
    "                         'veterans_admin_questionnaire', 'vet_benefit', 'tax_status', 'stocks_status', 'mig_year',\n",
    "                         'country_of_birth_father', 'country_of_birth_mother', 'migration_code_change_in_msa',\n",
    "                         'migration_prev_sunbelt', 'migration_code_move_within_reg', 'migration_code_change_in_reg',\n",
    "                         'residence_1_year_ago', 'old_residence_reg', 'old_residence_state', 'importance_of_record'], \n",
    "                         inplace=True)"
   ]
  },
  {
   "cell_type": "code",
   "execution_count": null,
   "id": "ebefb725",
   "metadata": {},
   "outputs": [],
   "source": [
    "#drop the following columns in the test dataset.\n",
    "\n",
    "test_data.drop(columns=['ID', 'education_institute', 'is_hispanic', 'employment_commitment', 'unemployment_reason', \n",
    "                         'employment_stat','is_labor_union', 'industry_code', 'industry_code_main', 'occupation_code',\n",
    "                         'total_employed', 'household_stat', 'household_summary', 'under_18_family',\n",
    "                         'veterans_admin_questionnaire', 'vet_benefit', 'tax_status', 'stocks_status', 'mig_year',\n",
    "                         'country_of_birth_father', 'country_of_birth_mother', 'migration_code_change_in_msa',\n",
    "                         'migration_prev_sunbelt', 'migration_code_move_within_reg', 'migration_code_change_in_reg',\n",
    "                         'residence_1_year_ago', 'old_residence_reg', 'old_residence_state', 'importance_of_record'], \n",
    "                         inplace=True)"
   ]
  },
  {
   "cell_type": "markdown",
   "id": "f8e94e6c",
   "metadata": {},
   "source": [
    "#### RENAME SOME COLUMNS"
   ]
  },
  {
   "cell_type": "code",
   "execution_count": null,
   "id": "e17a9476",
   "metadata": {},
   "outputs": [],
   "source": [
    "# Define the new names for some columns to be renamed in the train dataset.\n",
    "\n",
    "new_columns = {'wage_per_hour': 'hourly_wage', 'occupation_code_main': 'occupation', \n",
    "               'country_of_birth_own': 'country_of_birth'}\n",
    "\n",
    "train_data.rename(columns=new_columns, inplace=True)"
   ]
  },
  {
   "cell_type": "code",
   "execution_count": null,
   "id": "734f58cc",
   "metadata": {},
   "outputs": [],
   "source": [
    "# Define the new names for some columns to be renamed in the test dataset.\n",
    "\n",
    "new_columns = {'wage_per_hour': 'hourly_wage', 'occupation_code_main': 'occupation', \n",
    "               'country_of_birth_own': 'country_of_birth'}\n",
    "\n",
    "test_data.rename(columns=new_columns, inplace=True)"
   ]
  },
  {
   "cell_type": "code",
   "execution_count": null,
   "id": "aed2aa9d",
   "metadata": {},
   "outputs": [],
   "source": [
    "#View the train dataset after some columns have been dropped and renamed.\n",
    "\n",
    "print(train_data.columns)"
   ]
  },
  {
   "cell_type": "code",
   "execution_count": null,
   "id": "621e2878",
   "metadata": {},
   "outputs": [],
   "source": [
    "#View the test dataset after some columns have been dropped and renamed.\n",
    "\n",
    "print(test_data.columns)"
   ]
  },
  {
   "cell_type": "code",
   "execution_count": null,
   "id": "42dd9fc5",
   "metadata": {},
   "outputs": [],
   "source": [
    "#Check the train dataframe after some columns have been dropped and renamed.\n",
    "\n",
    "train_data.head()"
   ]
  },
  {
   "cell_type": "code",
   "execution_count": null,
   "id": "0316d1f2",
   "metadata": {},
   "outputs": [],
   "source": [
    "#Check the test dataframe after some columns have been dropped and renamed.\n",
    "\n",
    "test_data.head()"
   ]
  },
  {
   "cell_type": "code",
   "execution_count": null,
   "id": "1a01b2f0",
   "metadata": {},
   "outputs": [],
   "source": [
    "#Encode the following columns in the test dataset - Gender and Income above limit\n",
    "\n",
    "le = LabelEncoder()\n",
    "train_data[['gender', 'income_above_limit']] = train_data[['gender', 'income_above_limit']].apply(LabelEncoder().fit_transform)"
   ]
  },
  {
   "cell_type": "code",
   "execution_count": null,
   "id": "db6f3132",
   "metadata": {},
   "outputs": [],
   "source": [
    "#Encode the following columns in the train dataset - Gender and Income above limit\n",
    "\n",
    "le = LabelEncoder()\n",
    "label = le.fit_transform(test_data['gender'])\n",
    "test_data.drop(\"gender\", axis=1, inplace=True)\n",
    "test_data[\"gender\"] = label"
   ]
  },
  {
   "cell_type": "code",
   "execution_count": null,
   "id": "82969c35",
   "metadata": {},
   "outputs": [],
   "source": [
    "train_data.head()"
   ]
  },
  {
   "cell_type": "code",
   "execution_count": null,
   "id": "1e44c78b",
   "metadata": {},
   "outputs": [],
   "source": [
    "test_data.head()"
   ]
  },
  {
   "cell_type": "code",
   "execution_count": null,
   "id": "e7110b50",
   "metadata": {},
   "outputs": [],
   "source": [
    "train_data.hist(figsize=(12,9), layout=(3,3))"
   ]
  },
  {
   "cell_type": "code",
   "execution_count": null,
   "id": "828e8a02",
   "metadata": {},
   "outputs": [],
   "source": [
    "\n",
    "train_data.plot(kind = 'box', figsize=(10,5), layout=(3,2), );"
   ]
  },
  {
   "cell_type": "code",
   "execution_count": null,
   "id": "58f56fb0",
   "metadata": {},
   "outputs": [],
   "source": [
    "sns.heatmap(train_data.corr(), annot=True);"
   ]
  },
  {
   "cell_type": "code",
   "execution_count": null,
   "id": "28b2fac0",
   "metadata": {},
   "outputs": [],
   "source": []
  },
  {
   "cell_type": "code",
   "execution_count": null,
   "id": "6491dc1e",
   "metadata": {},
   "outputs": [],
   "source": []
  },
  {
   "cell_type": "code",
   "execution_count": null,
   "id": "807864cd",
   "metadata": {},
   "outputs": [],
   "source": []
  },
  {
   "cell_type": "code",
   "execution_count": null,
   "id": "a11adf17",
   "metadata": {},
   "outputs": [],
   "source": []
  },
  {
   "cell_type": "code",
   "execution_count": null,
   "id": "3b6e67e9",
   "metadata": {},
   "outputs": [],
   "source": []
  },
  {
   "cell_type": "code",
   "execution_count": null,
   "id": "f54657db",
   "metadata": {},
   "outputs": [],
   "source": []
  },
  {
   "cell_type": "code",
   "execution_count": null,
   "id": "534c39ee",
   "metadata": {},
   "outputs": [],
   "source": []
  },
  {
   "cell_type": "markdown",
   "id": "22ca61af",
   "metadata": {},
   "source": [
    "#### CHECK FOR MISSING VALUES"
   ]
  },
  {
   "cell_type": "code",
   "execution_count": null,
   "id": "4003129a",
   "metadata": {},
   "outputs": [],
   "source": [
    "#Check the remaining columns if there are any missing values.\n",
    "\n",
    "train_data.isnull().sum()"
   ]
  },
  {
   "cell_type": "markdown",
   "id": "2b5d204a",
   "metadata": {},
   "source": []
  },
  {
   "cell_type": "code",
   "execution_count": null,
   "id": "be2111e8",
   "metadata": {},
   "outputs": [],
   "source": [
    "train_data['gender'].unique()"
   ]
  },
  {
   "cell_type": "code",
   "execution_count": null,
   "id": "2934fa42",
   "metadata": {},
   "outputs": [],
   "source": [
    "train_data['gender'].value_counts()"
   ]
  },
  {
   "cell_type": "code",
   "execution_count": null,
   "id": "48cef58c",
   "metadata": {},
   "outputs": [],
   "source": [
    "train_data['education'].unique()"
   ]
  },
  {
   "cell_type": "code",
   "execution_count": null,
   "id": "bd0c2dce",
   "metadata": {},
   "outputs": [],
   "source": [
    "train_data['education'].value_counts()"
   ]
  },
  {
   "cell_type": "code",
   "execution_count": null,
   "id": "bb079e4b",
   "metadata": {},
   "outputs": [],
   "source": [
    "#Renaming value in the Education column\n",
    "\n",
    "train_data['education'] = train_data['education'].apply(lambda x : str(x).replace('High school graduate','High school'))\n",
    "train_data['education'] = train_data['education'].apply(lambda x : str(x).replace('Doctorate degree(PhD EdD)','Doctorate'))\n",
    "train_data['education'] = train_data['education'].apply(lambda x : str(x).replace('Bachelors degree(BA AB BS)','Undergraduate'))"
   ]
  },
  {
   "cell_type": "code",
   "execution_count": null,
   "id": "22d4f00a",
   "metadata": {},
   "outputs": [],
   "source": [
    "train_data['education'].unique()"
   ]
  },
  {
   "cell_type": "code",
   "execution_count": null,
   "id": "989d3aa6",
   "metadata": {},
   "outputs": [],
   "source": [
    "train_data['class'].unique()"
   ]
  },
  {
   "cell_type": "code",
   "execution_count": null,
   "id": "6ad31b06",
   "metadata": {},
   "outputs": [],
   "source": [
    "train_data['class'].value_counts()"
   ]
  },
  {
   "cell_type": "code",
   "execution_count": null,
   "id": "409e634a",
   "metadata": {},
   "outputs": [],
   "source": [
    "train_data['marital_status'].unique()"
   ]
  },
  {
   "cell_type": "code",
   "execution_count": null,
   "id": "6ec56a1b",
   "metadata": {},
   "outputs": [],
   "source": [
    "train_data['marital_status'].value_counts()"
   ]
  },
  {
   "cell_type": "code",
   "execution_count": null,
   "id": "424f4451",
   "metadata": {},
   "outputs": [],
   "source": [
    "train_data['race'].unique()"
   ]
  },
  {
   "cell_type": "code",
   "execution_count": null,
   "id": "96fa0700",
   "metadata": {},
   "outputs": [],
   "source": [
    "train_data['race'].value_counts()"
   ]
  },
  {
   "cell_type": "code",
   "execution_count": null,
   "id": "6a2a3c7d",
   "metadata": {},
   "outputs": [],
   "source": [
    "train_data['occupation'].unique()"
   ]
  },
  {
   "cell_type": "code",
   "execution_count": null,
   "id": "0aed1118",
   "metadata": {},
   "outputs": [],
   "source": [
    "train_data['occupation'].value_counts()"
   ]
  },
  {
   "cell_type": "code",
   "execution_count": null,
   "id": "7c0db544",
   "metadata": {},
   "outputs": [],
   "source": [
    "#Renaming value in the occupation column\n",
    "\n",
    "train_data['occupation'] = train_data['occupation'].apply(lambda x : str(x).replace(' Adm support including clerical','Administration'))\n",
    "train_data['occupation'] = train_data['occupation'].apply(lambda x : str(x).replace(' Executive admin and managerial','Executive and Managerial'))\n",
    "train_data['occupation'] = train_data['occupation'].apply(lambda x : str(x).replace(' Transportation and material moving','Transport'))\n",
    "train_data['occupation'] = train_data['occupation'].apply(lambda x : str(x).replace(' Technicians and related support','Technical'))\n",
    "train_data['occupation'] = train_data['occupation'].apply(lambda x : str(x).replace(' Farming forestry and fishing','Agriculture'))"
   ]
  },
  {
   "cell_type": "code",
   "execution_count": null,
   "id": "706dd6d4",
   "metadata": {},
   "outputs": [],
   "source": [
    "train_data['occupation'].unique()"
   ]
  },
  {
   "cell_type": "code",
   "execution_count": null,
   "id": "f5b9a429",
   "metadata": {},
   "outputs": [],
   "source": []
  },
  {
   "cell_type": "code",
   "execution_count": null,
   "id": "0f635d86",
   "metadata": {},
   "outputs": [],
   "source": []
  },
  {
   "cell_type": "code",
   "execution_count": null,
   "id": "82dbd0b8",
   "metadata": {},
   "outputs": [],
   "source": []
  },
  {
   "cell_type": "code",
   "execution_count": null,
   "id": "b7da089c",
   "metadata": {},
   "outputs": [],
   "source": []
  },
  {
   "cell_type": "code",
   "execution_count": null,
   "id": "00399937",
   "metadata": {},
   "outputs": [],
   "source": [
    "def check_unique_values_and_value_counts(train_data, columns_to_check):\n",
    "    \"\"\"\n",
    "    Check unique values and value counts of specific columns in a dataset.\n",
    "\n",
    "    Parameters:\n",
    "    - dataset (pd.DataFrame): The dataset to analyze.\n",
    "    - columns_to_check (list): List of column names to check.\n",
    "\n",
    "    Returns:\n",
    "    - None\n",
    "    \"\"\"\n",
    "    for column in columns_to_check:\n",
    "        unique_values = train_data[column].unique()\n",
    "        value_counts = train_data[column].value_counts()\n",
    "        \n",
    "        print(f\"Column: {column}\")\n",
    "        print(f\"Unique values: {unique_values}\")\n",
    "        print(\"Value counts:\")\n",
    "        print(value_counts)\n",
    "        print(\"-\" * 40)"
   ]
  },
  {
   "cell_type": "code",
   "execution_count": null,
   "id": "cfab76ef",
   "metadata": {},
   "outputs": [],
   "source": []
  },
  {
   "cell_type": "code",
   "execution_count": null,
   "id": "2c08c1c6",
   "metadata": {},
   "outputs": [],
   "source": []
  },
  {
   "cell_type": "code",
   "execution_count": null,
   "id": "04e3fc4d",
   "metadata": {},
   "outputs": [],
   "source": []
  },
  {
   "cell_type": "code",
   "execution_count": null,
   "id": "888b36a0",
   "metadata": {},
   "outputs": [],
   "source": []
  },
  {
   "cell_type": "code",
   "execution_count": null,
   "id": "c58c703e",
   "metadata": {},
   "outputs": [],
   "source": []
  },
  {
   "cell_type": "code",
   "execution_count": null,
   "id": "de9861b2",
   "metadata": {},
   "outputs": [],
   "source": []
  },
  {
   "cell_type": "code",
   "execution_count": null,
   "id": "9f2213a2",
   "metadata": {},
   "outputs": [],
   "source": []
  },
  {
   "cell_type": "code",
   "execution_count": null,
   "id": "85aa92b1",
   "metadata": {},
   "outputs": [],
   "source": [
    "# Filter out only the numerical columns\n",
    "numerical_columns = train_data.select_dtypes(include=['int', 'float'])\n",
    "\n",
    "plt.figure(figsize=(10, 6))  # Adjust the figure size as needed\n",
    "\n",
    "# Create a boxplot using Seaborn\n",
    "sns.boxplot(data=train_data)\n",
    "\n",
    "plt.title(\"Boxplot of Multiple Columns\")\n",
    "plt.xlabel(\"Columns\")\n",
    "plt.ylabel(\"Values\")\n",
    "\n",
    "plt.tight_layout()\n",
    "plt.show()\n"
   ]
  },
  {
   "cell_type": "code",
   "execution_count": null,
   "id": "149014dc",
   "metadata": {},
   "outputs": [],
   "source": []
  },
  {
   "cell_type": "code",
   "execution_count": null,
   "id": "8b0d4741",
   "metadata": {},
   "outputs": [],
   "source": []
  },
  {
   "cell_type": "code",
   "execution_count": null,
   "id": "a704c531",
   "metadata": {},
   "outputs": [],
   "source": []
  },
  {
   "cell_type": "code",
   "execution_count": null,
   "id": "4f236a41",
   "metadata": {},
   "outputs": [],
   "source": []
  },
  {
   "cell_type": "code",
   "execution_count": null,
   "id": "a557db78",
   "metadata": {},
   "outputs": [],
   "source": []
  },
  {
   "cell_type": "code",
   "execution_count": null,
   "id": "94da281b",
   "metadata": {},
   "outputs": [],
   "source": []
  },
  {
   "cell_type": "code",
   "execution_count": null,
   "id": "64671622",
   "metadata": {},
   "outputs": [],
   "source": []
  },
  {
   "cell_type": "code",
   "execution_count": null,
   "id": "5f6fdc7d",
   "metadata": {},
   "outputs": [],
   "source": []
  },
  {
   "cell_type": "code",
   "execution_count": null,
   "id": "4fb34219",
   "metadata": {},
   "outputs": [],
   "source": []
  },
  {
   "cell_type": "markdown",
   "id": "68ae8aab",
   "metadata": {},
   "source": [
    "#### Categorical Values"
   ]
  },
  {
   "cell_type": "code",
   "execution_count": null,
   "id": "a68d67e9",
   "metadata": {},
   "outputs": [],
   "source": [
    "def plot_numerical_countplots(train_data):\n",
    "    numerical_columns = data.select_dtypes(include=['int64', 'float64']).columns\n",
    "\n",
    "    for column in numerical_columns:\n",
    "        plt.figure(figsize=(8, 6))\n",
    "        sns.countplot(data[column])\n",
    "        plt.title(f'Countplot of {column}', fontsize=16)\n",
    "        plt.xlabel(column, fontsize=14)\n",
    "        plt.ylabel('Count', fontsize=14)\n",
    "        plt.xticks(rotation=45)\n",
    "        plt.show()\n",
    "\n",
    "# Example usage\n",
    "# Assuming 'df' is your DataFrame\n",
    "plot_numerical_countplots(train_data)\n"
   ]
  },
  {
   "cell_type": "code",
   "execution_count": null,
   "id": "87535cb2",
   "metadata": {},
   "outputs": [],
   "source": [
    "#def plot_countplots_for_categorical(train_data):\n",
    "    #Get a list of column name with categorical data\n",
    "    #categorical_columns = train_data.select_dtypes(include=['object']).columns.tolist()\n",
    "    \n",
    "    #loops through categorical columns and create count plots\n",
    "    #for columns in categorical_columns:\n",
    "        \n",
    "        #Set the figure size\n",
    "       # plt.figure(figsize=(8,6))\n",
    "        #sns.countplot(x=columns,data=train_data)\n",
    "        \n",
    "        #plt.xlabel(column)\n",
    "        #Set x-axis label\n",
    "       # plt.ylabel('Count')\n",
    "        #Set y-axis label\n",
    "        \n",
    "       # plt.title(f'Count plot of {column}')\n",
    "        #Set plot title\n",
    "        \n",
    "       # plt.xticks(rotation=45)\n",
    "        #Rotate x-axis labels for readability\n",
    "        \n",
    "        #plt.show() "
   ]
  },
  {
   "cell_type": "code",
   "execution_count": null,
   "id": "c4cbe230",
   "metadata": {},
   "outputs": [],
   "source": [
    "#Example usage with your Dataframe 'df'\n",
    "\n",
    "plot_countplots_for_categorical(train_data)"
   ]
  },
  {
   "cell_type": "code",
   "execution_count": null,
   "id": "3bcadc77",
   "metadata": {},
   "outputs": [],
   "source": [
    "#Explore categorical variables with count plots\n",
    "\n",
    "sns.countplot(x='gender', data = train_data)"
   ]
  },
  {
   "cell_type": "code",
   "execution_count": null,
   "id": "93f6d273",
   "metadata": {},
   "outputs": [],
   "source": []
  },
  {
   "cell_type": "code",
   "execution_count": null,
   "id": "3fab250f",
   "metadata": {},
   "outputs": [],
   "source": []
  },
  {
   "cell_type": "code",
   "execution_count": null,
   "id": "ce78c7d9",
   "metadata": {},
   "outputs": [],
   "source": []
  },
  {
   "cell_type": "code",
   "execution_count": null,
   "id": "d03999e3",
   "metadata": {},
   "outputs": [],
   "source": []
  },
  {
   "cell_type": "code",
   "execution_count": null,
   "id": "7e6d4626",
   "metadata": {},
   "outputs": [],
   "source": []
  },
  {
   "cell_type": "code",
   "execution_count": null,
   "id": "3d8f4052",
   "metadata": {},
   "outputs": [],
   "source": []
  },
  {
   "cell_type": "code",
   "execution_count": null,
   "id": "04905e84",
   "metadata": {},
   "outputs": [],
   "source": [
    "#Univariate Analysis\n",
    "\n",
    "train_data['column_name'].hist()\n",
    "plt.xlabel('X-axis Label')\n",
    "plt.xlabel('X-axis Label')\n",
    "plt.title('Title')\n",
    "plt.show()"
   ]
  },
  {
   "cell_type": "code",
   "execution_count": null,
   "id": "3107136c",
   "metadata": {},
   "outputs": [],
   "source": [
    "#Bivariate Analysis\n",
    "\n",
    "sns.scatterplot(x='column1', y='column2', data = train_data)"
   ]
  },
  {
   "cell_type": "code",
   "execution_count": null,
   "id": "32945323",
   "metadata": {},
   "outputs": [],
   "source": [
    "#categorical variables\n",
    "\n",
    "sns.countplot(x='category_column', data=train_data)"
   ]
  },
  {
   "cell_type": "code",
   "execution_count": null,
   "id": "7c3ef0d3",
   "metadata": {},
   "outputs": [],
   "source": [
    "train_data['categorical_column'].value_counts()"
   ]
  },
  {
   "cell_type": "code",
   "execution_count": null,
   "id": "5a964ef3",
   "metadata": {},
   "outputs": [],
   "source": []
  },
  {
   "cell_type": "code",
   "execution_count": null,
   "id": "9dd87651",
   "metadata": {},
   "outputs": [],
   "source": []
  },
  {
   "cell_type": "code",
   "execution_count": null,
   "id": "7757ff21",
   "metadata": {},
   "outputs": [],
   "source": [
    "#train_data['education_institute'].fillna(0, inplace = True)\n",
    "#print()"
   ]
  }
 ],
 "metadata": {
  "kernelspec": {
   "display_name": "Python 3 (ipykernel)",
   "language": "python",
   "name": "python3"
  },
  "language_info": {
   "codemirror_mode": {
    "name": "ipython",
    "version": 3
   },
   "file_extension": ".py",
   "mimetype": "text/x-python",
   "name": "python",
   "nbconvert_exporter": "python",
   "pygments_lexer": "ipython3",
   "version": "3.11.1"
  }
 },
 "nbformat": 4,
 "nbformat_minor": 5
}
