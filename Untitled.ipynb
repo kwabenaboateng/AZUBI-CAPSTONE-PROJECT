{
 "cells": [
  {
   "cell_type": "markdown",
   "id": "50d3fb0d",
   "metadata": {},
   "source": [
    "### AZUBI CAPSTONE PROJECT"
   ]
  },
  {
   "cell_type": "markdown",
   "id": "067ab8e2",
   "metadata": {},
   "source": [
    "#### IMPORT LIBRARY PACKAGES"
   ]
  },
  {
   "cell_type": "code",
   "execution_count": 1,
   "id": "a45ce9fb",
   "metadata": {},
   "outputs": [],
   "source": [
    "#Data Handling\n",
    "import numpy as np\n",
    "import pandas as pd\n",
    "\n",
    "#Visualizations\n",
    "import seaborn as sns\n",
    "import plotly.express as px\n",
    "import matplotlib.pyplot as plt\n",
    "\n",
    "from termcolor import colored\n",
    "\n",
    "# Feature Processing (Scikit-learn processing, etc. )\n",
    "\n",
    "# Evaluation Metrics\n",
    "from sklearn.model_selection import train_test_split\n",
    "from catboost import CatBoostClassifier\n",
    "from sklearn.metrics import f1_score, recall_score, precision_score, fbeta_score, accuracy_score, roc_auc_score\n",
    "from sklearn.metrics import confusion_matrix\n",
    "from sklearn.feature_selection import RFE\n",
    "\n",
    "#Other packages\n",
    "import warnings\n",
    "warnings.filterwarnings('always') "
   ]
  },
  {
   "cell_type": "markdown",
   "id": "ce57975a",
   "metadata": {},
   "source": [
    "#### Load the Data."
   ]
  },
  {
   "cell_type": "markdown",
   "id": "21601fe8",
   "metadata": {},
   "source": [
    "For this project, there are two datasets, namely:\n",
    "* <b> Train data: </b> This is the data which we will be using to train the model. Since we are solving a classification problem, we will have a column in train dataset corresponding to the target labels. \n",
    "* <b> Test data: </b> This is the data on which the predictions will be made based on the model trained on train dataset. "
   ]
  },
  {
   "cell_type": "code",
   "execution_count": 2,
   "id": "e10208a0",
   "metadata": {},
   "outputs": [],
   "source": [
    "train_data = pd.read_csv(\"C:/Users/KWABENABOATENG/Desktop/AZUBI AFRICA/AZUBI CAPSTONE/AZUBI-CAPSTONE-PROJECT/DATASETS/Train.csv\")\n",
    "test_data = pd.read_csv(\"C:/Users/KWABENABOATENG/Desktop/AZUBI AFRICA/AZUBI CAPSTONE/AZUBI-CAPSTONE-PROJECT/DATASETS/Test.csv\")"
   ]
  },
  {
   "cell_type": "markdown",
   "id": "10addf04",
   "metadata": {},
   "source": [
    "#### BASIC DATA EXPLORATION"
   ]
  },
  {
   "cell_type": "code",
   "execution_count": 3,
   "id": "302d848c",
   "metadata": {},
   "outputs": [
    {
     "data": {
      "text/html": [
       "<div>\n",
       "<style scoped>\n",
       "    .dataframe tbody tr th:only-of-type {\n",
       "        vertical-align: middle;\n",
       "    }\n",
       "\n",
       "    .dataframe tbody tr th {\n",
       "        vertical-align: top;\n",
       "    }\n",
       "\n",
       "    .dataframe thead th {\n",
       "        text-align: right;\n",
       "    }\n",
       "</style>\n",
       "<table border=\"1\" class=\"dataframe\">\n",
       "  <thead>\n",
       "    <tr style=\"text-align: right;\">\n",
       "      <th></th>\n",
       "      <th>ID</th>\n",
       "      <th>age</th>\n",
       "      <th>gender</th>\n",
       "      <th>education</th>\n",
       "      <th>class</th>\n",
       "      <th>education_institute</th>\n",
       "      <th>marital_status</th>\n",
       "      <th>race</th>\n",
       "      <th>is_hispanic</th>\n",
       "      <th>employment_commitment</th>\n",
       "      <th>...</th>\n",
       "      <th>country_of_birth_mother</th>\n",
       "      <th>migration_code_change_in_msa</th>\n",
       "      <th>migration_prev_sunbelt</th>\n",
       "      <th>migration_code_move_within_reg</th>\n",
       "      <th>migration_code_change_in_reg</th>\n",
       "      <th>residence_1_year_ago</th>\n",
       "      <th>old_residence_reg</th>\n",
       "      <th>old_residence_state</th>\n",
       "      <th>importance_of_record</th>\n",
       "      <th>income_above_limit</th>\n",
       "    </tr>\n",
       "  </thead>\n",
       "  <tbody>\n",
       "    <tr>\n",
       "      <th>0</th>\n",
       "      <td>ID_TZ0000</td>\n",
       "      <td>79</td>\n",
       "      <td>Female</td>\n",
       "      <td>High school graduate</td>\n",
       "      <td>NaN</td>\n",
       "      <td>NaN</td>\n",
       "      <td>Widowed</td>\n",
       "      <td>White</td>\n",
       "      <td>All other</td>\n",
       "      <td>Not in labor force</td>\n",
       "      <td>...</td>\n",
       "      <td>US</td>\n",
       "      <td>?</td>\n",
       "      <td>?</td>\n",
       "      <td>?</td>\n",
       "      <td>?</td>\n",
       "      <td>NaN</td>\n",
       "      <td>NaN</td>\n",
       "      <td>NaN</td>\n",
       "      <td>1779.74</td>\n",
       "      <td>Below limit</td>\n",
       "    </tr>\n",
       "    <tr>\n",
       "      <th>1</th>\n",
       "      <td>ID_TZ0001</td>\n",
       "      <td>65</td>\n",
       "      <td>Female</td>\n",
       "      <td>High school graduate</td>\n",
       "      <td>NaN</td>\n",
       "      <td>NaN</td>\n",
       "      <td>Widowed</td>\n",
       "      <td>White</td>\n",
       "      <td>All other</td>\n",
       "      <td>Children or Armed Forces</td>\n",
       "      <td>...</td>\n",
       "      <td>US</td>\n",
       "      <td>unchanged</td>\n",
       "      <td>NaN</td>\n",
       "      <td>unchanged</td>\n",
       "      <td>unchanged</td>\n",
       "      <td>Same</td>\n",
       "      <td>NaN</td>\n",
       "      <td>NaN</td>\n",
       "      <td>2366.75</td>\n",
       "      <td>Below limit</td>\n",
       "    </tr>\n",
       "    <tr>\n",
       "      <th>2</th>\n",
       "      <td>ID_TZ0002</td>\n",
       "      <td>21</td>\n",
       "      <td>Male</td>\n",
       "      <td>12th grade no diploma</td>\n",
       "      <td>Federal government</td>\n",
       "      <td>NaN</td>\n",
       "      <td>Never married</td>\n",
       "      <td>Black</td>\n",
       "      <td>All other</td>\n",
       "      <td>Children or Armed Forces</td>\n",
       "      <td>...</td>\n",
       "      <td>US</td>\n",
       "      <td>unchanged</td>\n",
       "      <td>NaN</td>\n",
       "      <td>unchanged</td>\n",
       "      <td>unchanged</td>\n",
       "      <td>Same</td>\n",
       "      <td>NaN</td>\n",
       "      <td>NaN</td>\n",
       "      <td>1693.42</td>\n",
       "      <td>Below limit</td>\n",
       "    </tr>\n",
       "    <tr>\n",
       "      <th>3</th>\n",
       "      <td>ID_TZ0003</td>\n",
       "      <td>2</td>\n",
       "      <td>Female</td>\n",
       "      <td>Children</td>\n",
       "      <td>NaN</td>\n",
       "      <td>NaN</td>\n",
       "      <td>Never married</td>\n",
       "      <td>Asian or Pacific Islander</td>\n",
       "      <td>All other</td>\n",
       "      <td>Children or Armed Forces</td>\n",
       "      <td>...</td>\n",
       "      <td>India</td>\n",
       "      <td>unchanged</td>\n",
       "      <td>NaN</td>\n",
       "      <td>unchanged</td>\n",
       "      <td>unchanged</td>\n",
       "      <td>Same</td>\n",
       "      <td>NaN</td>\n",
       "      <td>NaN</td>\n",
       "      <td>1380.27</td>\n",
       "      <td>Below limit</td>\n",
       "    </tr>\n",
       "    <tr>\n",
       "      <th>4</th>\n",
       "      <td>ID_TZ0004</td>\n",
       "      <td>70</td>\n",
       "      <td>Male</td>\n",
       "      <td>High school graduate</td>\n",
       "      <td>NaN</td>\n",
       "      <td>NaN</td>\n",
       "      <td>Married-civilian spouse present</td>\n",
       "      <td>White</td>\n",
       "      <td>All other</td>\n",
       "      <td>Not in labor force</td>\n",
       "      <td>...</td>\n",
       "      <td>US</td>\n",
       "      <td>?</td>\n",
       "      <td>?</td>\n",
       "      <td>?</td>\n",
       "      <td>?</td>\n",
       "      <td>NaN</td>\n",
       "      <td>NaN</td>\n",
       "      <td>NaN</td>\n",
       "      <td>1580.79</td>\n",
       "      <td>Below limit</td>\n",
       "    </tr>\n",
       "  </tbody>\n",
       "</table>\n",
       "<p>5 rows × 43 columns</p>\n",
       "</div>"
      ],
      "text/plain": [
       "          ID  age   gender               education                class  \\\n",
       "0  ID_TZ0000   79   Female    High school graduate                  NaN   \n",
       "1  ID_TZ0001   65   Female    High school graduate                  NaN   \n",
       "2  ID_TZ0002   21     Male   12th grade no diploma   Federal government   \n",
       "3  ID_TZ0003    2   Female                Children                  NaN   \n",
       "4  ID_TZ0004   70     Male    High school graduate                  NaN   \n",
       "\n",
       "  education_institute                    marital_status  \\\n",
       "0                 NaN                           Widowed   \n",
       "1                 NaN                           Widowed   \n",
       "2                 NaN                     Never married   \n",
       "3                 NaN                     Never married   \n",
       "4                 NaN   Married-civilian spouse present   \n",
       "\n",
       "                         race is_hispanic      employment_commitment  ...  \\\n",
       "0                       White   All other         Not in labor force  ...   \n",
       "1                       White   All other   Children or Armed Forces  ...   \n",
       "2                       Black   All other   Children or Armed Forces  ...   \n",
       "3   Asian or Pacific Islander   All other   Children or Armed Forces  ...   \n",
       "4                       White   All other         Not in labor force  ...   \n",
       "\n",
       "  country_of_birth_mother  migration_code_change_in_msa  \\\n",
       "0                      US                             ?   \n",
       "1                      US                     unchanged   \n",
       "2                      US                     unchanged   \n",
       "3                   India                     unchanged   \n",
       "4                      US                             ?   \n",
       "\n",
       "   migration_prev_sunbelt migration_code_move_within_reg  \\\n",
       "0                       ?                              ?   \n",
       "1                     NaN                      unchanged   \n",
       "2                     NaN                      unchanged   \n",
       "3                     NaN                      unchanged   \n",
       "4                       ?                              ?   \n",
       "\n",
       "   migration_code_change_in_reg  residence_1_year_ago old_residence_reg  \\\n",
       "0                             ?                   NaN               NaN   \n",
       "1                     unchanged                  Same               NaN   \n",
       "2                     unchanged                  Same               NaN   \n",
       "3                     unchanged                  Same               NaN   \n",
       "4                             ?                   NaN               NaN   \n",
       "\n",
       "   old_residence_state importance_of_record  income_above_limit  \n",
       "0                  NaN              1779.74         Below limit  \n",
       "1                  NaN              2366.75         Below limit  \n",
       "2                  NaN              1693.42         Below limit  \n",
       "3                  NaN              1380.27         Below limit  \n",
       "4                  NaN              1580.79         Below limit  \n",
       "\n",
       "[5 rows x 43 columns]"
      ]
     },
     "execution_count": 3,
     "metadata": {},
     "output_type": "execute_result"
    }
   ],
   "source": [
    "train_data.head()"
   ]
  },
  {
   "cell_type": "code",
   "execution_count": 4,
   "id": "b7eada0b",
   "metadata": {},
   "outputs": [
    {
     "data": {
      "text/plain": [
       "(209499, 43)"
      ]
     },
     "execution_count": 4,
     "metadata": {},
     "output_type": "execute_result"
    }
   ],
   "source": [
    "train_data.shape"
   ]
  },
  {
   "cell_type": "code",
   "execution_count": 20,
   "id": "10670d44",
   "metadata": {},
   "outputs": [],
   "source": [
    "#Create a copy of the original data\n",
    "data = train_data.copy() \n",
    "data1 = test_data.copy()"
   ]
  },
  {
   "cell_type": "code",
   "execution_count": 23,
   "id": "b09ef22f",
   "metadata": {},
   "outputs": [],
   "source": [
    "def drop_columns_from_datasets(train_data, test_data):\n",
    "    # Let's clean up these datasets by dropping some columns.\n",
    "    \n",
    "    columns_to_drop = ['ID', 'education_institute', 'is_hispanic','employment_commitment','unemployment_reason',\n",
    "                       'employment_stat','is_labor_union', 'industry_code', 'industry_code_main', 'occupation_code',\n",
    "                       'total_employed', 'household_stat', 'household_summary', 'under_18_family',\n",
    "                       'veterans_admin_questionnaire', 'vet_benefit', 'tax_status', 'stocks_status', 'mig_year',\n",
    "                       'country_of_birth_father', 'country_of_birth_mother', 'migration_code_change_in_msa',\n",
    "                       'migration_prev_sunbelt', 'migration_code_move_within_reg', 'migration_code_change_in_reg',\n",
    "                       'residence_1_year_ago', 'old_residence_reg', 'old_residence_state', 'importance_of_record']\n",
    "    \n",
    "    modified_dataset1 = train_data.drop(columns=columns_to_drop, axis=1, inplace=False)\n",
    "    modified_dataset2 = test_data.drop(columns=columns_to_drop, axis=1, inplace=False)\n",
    "    \n",
    "    return modified_dataset1, modified_dataset2"
   ]
  },
  {
   "cell_type": "code",
   "execution_count": 22,
   "id": "a996d9c3",
   "metadata": {},
   "outputs": [
    {
     "data": {
      "text/html": [
       "<div>\n",
       "<style scoped>\n",
       "    .dataframe tbody tr th:only-of-type {\n",
       "        vertical-align: middle;\n",
       "    }\n",
       "\n",
       "    .dataframe tbody tr th {\n",
       "        vertical-align: top;\n",
       "    }\n",
       "\n",
       "    .dataframe thead th {\n",
       "        text-align: right;\n",
       "    }\n",
       "</style>\n",
       "<table border=\"1\" class=\"dataframe\">\n",
       "  <thead>\n",
       "    <tr style=\"text-align: right;\">\n",
       "      <th></th>\n",
       "      <th>ID</th>\n",
       "      <th>age</th>\n",
       "      <th>gender</th>\n",
       "      <th>education</th>\n",
       "      <th>class</th>\n",
       "      <th>education_institute</th>\n",
       "      <th>marital_status</th>\n",
       "      <th>race</th>\n",
       "      <th>is_hispanic</th>\n",
       "      <th>employment_commitment</th>\n",
       "      <th>...</th>\n",
       "      <th>country_of_birth_mother</th>\n",
       "      <th>migration_code_change_in_msa</th>\n",
       "      <th>migration_prev_sunbelt</th>\n",
       "      <th>migration_code_move_within_reg</th>\n",
       "      <th>migration_code_change_in_reg</th>\n",
       "      <th>residence_1_year_ago</th>\n",
       "      <th>old_residence_reg</th>\n",
       "      <th>old_residence_state</th>\n",
       "      <th>importance_of_record</th>\n",
       "      <th>income_above_limit</th>\n",
       "    </tr>\n",
       "  </thead>\n",
       "  <tbody>\n",
       "    <tr>\n",
       "      <th>0</th>\n",
       "      <td>ID_TZ0000</td>\n",
       "      <td>79</td>\n",
       "      <td>Female</td>\n",
       "      <td>High school graduate</td>\n",
       "      <td>NaN</td>\n",
       "      <td>NaN</td>\n",
       "      <td>Widowed</td>\n",
       "      <td>White</td>\n",
       "      <td>All other</td>\n",
       "      <td>Not in labor force</td>\n",
       "      <td>...</td>\n",
       "      <td>US</td>\n",
       "      <td>?</td>\n",
       "      <td>?</td>\n",
       "      <td>?</td>\n",
       "      <td>?</td>\n",
       "      <td>NaN</td>\n",
       "      <td>NaN</td>\n",
       "      <td>NaN</td>\n",
       "      <td>1779.74</td>\n",
       "      <td>Below limit</td>\n",
       "    </tr>\n",
       "    <tr>\n",
       "      <th>1</th>\n",
       "      <td>ID_TZ0001</td>\n",
       "      <td>65</td>\n",
       "      <td>Female</td>\n",
       "      <td>High school graduate</td>\n",
       "      <td>NaN</td>\n",
       "      <td>NaN</td>\n",
       "      <td>Widowed</td>\n",
       "      <td>White</td>\n",
       "      <td>All other</td>\n",
       "      <td>Children or Armed Forces</td>\n",
       "      <td>...</td>\n",
       "      <td>US</td>\n",
       "      <td>unchanged</td>\n",
       "      <td>NaN</td>\n",
       "      <td>unchanged</td>\n",
       "      <td>unchanged</td>\n",
       "      <td>Same</td>\n",
       "      <td>NaN</td>\n",
       "      <td>NaN</td>\n",
       "      <td>2366.75</td>\n",
       "      <td>Below limit</td>\n",
       "    </tr>\n",
       "    <tr>\n",
       "      <th>2</th>\n",
       "      <td>ID_TZ0002</td>\n",
       "      <td>21</td>\n",
       "      <td>Male</td>\n",
       "      <td>12th grade no diploma</td>\n",
       "      <td>Federal government</td>\n",
       "      <td>NaN</td>\n",
       "      <td>Never married</td>\n",
       "      <td>Black</td>\n",
       "      <td>All other</td>\n",
       "      <td>Children or Armed Forces</td>\n",
       "      <td>...</td>\n",
       "      <td>US</td>\n",
       "      <td>unchanged</td>\n",
       "      <td>NaN</td>\n",
       "      <td>unchanged</td>\n",
       "      <td>unchanged</td>\n",
       "      <td>Same</td>\n",
       "      <td>NaN</td>\n",
       "      <td>NaN</td>\n",
       "      <td>1693.42</td>\n",
       "      <td>Below limit</td>\n",
       "    </tr>\n",
       "    <tr>\n",
       "      <th>3</th>\n",
       "      <td>ID_TZ0003</td>\n",
       "      <td>2</td>\n",
       "      <td>Female</td>\n",
       "      <td>Children</td>\n",
       "      <td>NaN</td>\n",
       "      <td>NaN</td>\n",
       "      <td>Never married</td>\n",
       "      <td>Asian or Pacific Islander</td>\n",
       "      <td>All other</td>\n",
       "      <td>Children or Armed Forces</td>\n",
       "      <td>...</td>\n",
       "      <td>India</td>\n",
       "      <td>unchanged</td>\n",
       "      <td>NaN</td>\n",
       "      <td>unchanged</td>\n",
       "      <td>unchanged</td>\n",
       "      <td>Same</td>\n",
       "      <td>NaN</td>\n",
       "      <td>NaN</td>\n",
       "      <td>1380.27</td>\n",
       "      <td>Below limit</td>\n",
       "    </tr>\n",
       "    <tr>\n",
       "      <th>4</th>\n",
       "      <td>ID_TZ0004</td>\n",
       "      <td>70</td>\n",
       "      <td>Male</td>\n",
       "      <td>High school graduate</td>\n",
       "      <td>NaN</td>\n",
       "      <td>NaN</td>\n",
       "      <td>Married-civilian spouse present</td>\n",
       "      <td>White</td>\n",
       "      <td>All other</td>\n",
       "      <td>Not in labor force</td>\n",
       "      <td>...</td>\n",
       "      <td>US</td>\n",
       "      <td>?</td>\n",
       "      <td>?</td>\n",
       "      <td>?</td>\n",
       "      <td>?</td>\n",
       "      <td>NaN</td>\n",
       "      <td>NaN</td>\n",
       "      <td>NaN</td>\n",
       "      <td>1580.79</td>\n",
       "      <td>Below limit</td>\n",
       "    </tr>\n",
       "  </tbody>\n",
       "</table>\n",
       "<p>5 rows × 43 columns</p>\n",
       "</div>"
      ],
      "text/plain": [
       "          ID  age   gender               education                class  \\\n",
       "0  ID_TZ0000   79   Female    High school graduate                  NaN   \n",
       "1  ID_TZ0001   65   Female    High school graduate                  NaN   \n",
       "2  ID_TZ0002   21     Male   12th grade no diploma   Federal government   \n",
       "3  ID_TZ0003    2   Female                Children                  NaN   \n",
       "4  ID_TZ0004   70     Male    High school graduate                  NaN   \n",
       "\n",
       "  education_institute                    marital_status  \\\n",
       "0                 NaN                           Widowed   \n",
       "1                 NaN                           Widowed   \n",
       "2                 NaN                     Never married   \n",
       "3                 NaN                     Never married   \n",
       "4                 NaN   Married-civilian spouse present   \n",
       "\n",
       "                         race is_hispanic      employment_commitment  ...  \\\n",
       "0                       White   All other         Not in labor force  ...   \n",
       "1                       White   All other   Children or Armed Forces  ...   \n",
       "2                       Black   All other   Children or Armed Forces  ...   \n",
       "3   Asian or Pacific Islander   All other   Children or Armed Forces  ...   \n",
       "4                       White   All other         Not in labor force  ...   \n",
       "\n",
       "  country_of_birth_mother  migration_code_change_in_msa  \\\n",
       "0                      US                             ?   \n",
       "1                      US                     unchanged   \n",
       "2                      US                     unchanged   \n",
       "3                   India                     unchanged   \n",
       "4                      US                             ?   \n",
       "\n",
       "   migration_prev_sunbelt migration_code_move_within_reg  \\\n",
       "0                       ?                              ?   \n",
       "1                     NaN                      unchanged   \n",
       "2                     NaN                      unchanged   \n",
       "3                     NaN                      unchanged   \n",
       "4                       ?                              ?   \n",
       "\n",
       "   migration_code_change_in_reg  residence_1_year_ago old_residence_reg  \\\n",
       "0                             ?                   NaN               NaN   \n",
       "1                     unchanged                  Same               NaN   \n",
       "2                     unchanged                  Same               NaN   \n",
       "3                     unchanged                  Same               NaN   \n",
       "4                             ?                   NaN               NaN   \n",
       "\n",
       "   old_residence_state importance_of_record  income_above_limit  \n",
       "0                  NaN              1779.74         Below limit  \n",
       "1                  NaN              2366.75         Below limit  \n",
       "2                  NaN              1693.42         Below limit  \n",
       "3                  NaN              1380.27         Below limit  \n",
       "4                  NaN              1580.79         Below limit  \n",
       "\n",
       "[5 rows x 43 columns]"
      ]
     },
     "execution_count": 22,
     "metadata": {},
     "output_type": "execute_result"
    }
   ],
   "source": [
    "train_data.head()"
   ]
  },
  {
   "cell_type": "code",
   "execution_count": 26,
   "id": "8b73a520",
   "metadata": {},
   "outputs": [
    {
     "name": "stdout",
     "output_type": "stream",
     "text": [
      "The shape of the train dataset is: (209499, 43)\n",
      "The shape of the test dataset is: (89786, 42)\n"
     ]
    }
   ],
   "source": [
    "print(f\"The shape of the train dataset is: {train_data.shape}\")\n",
    "print(f\"The shape of the test dataset is: {test_data.shape}\")"
   ]
  },
  {
   "cell_type": "code",
   "execution_count": null,
   "id": "a7350279",
   "metadata": {},
   "outputs": [],
   "source": []
  },
  {
   "cell_type": "code",
   "execution_count": null,
   "id": "0306fbb7",
   "metadata": {},
   "outputs": [],
   "source": []
  },
  {
   "cell_type": "code",
   "execution_count": null,
   "id": "6893822e",
   "metadata": {},
   "outputs": [],
   "source": []
  },
  {
   "cell_type": "code",
   "execution_count": null,
   "id": "04c04dd2",
   "metadata": {},
   "outputs": [],
   "source": []
  },
  {
   "cell_type": "code",
   "execution_count": null,
   "id": "d357931f",
   "metadata": {},
   "outputs": [],
   "source": []
  },
  {
   "cell_type": "code",
   "execution_count": null,
   "id": "6ff6a88e",
   "metadata": {},
   "outputs": [],
   "source": []
  },
  {
   "cell_type": "code",
   "execution_count": null,
   "id": "fc6174cb",
   "metadata": {},
   "outputs": [],
   "source": []
  },
  {
   "cell_type": "code",
   "execution_count": 32,
   "id": "f5a0c139",
   "metadata": {},
   "outputs": [
    {
     "name": "stdout",
     "output_type": "stream",
     "text": [
      "The data types of the train dataset is: ID                                 object\n",
      "age                                 int64\n",
      "gender                             object\n",
      "education                          object\n",
      "class                              object\n",
      "education_institute                object\n",
      "marital_status                     object\n",
      "race                               object\n",
      "is_hispanic                        object\n",
      "employment_commitment              object\n",
      "unemployment_reason                object\n",
      "employment_stat                     int64\n",
      "wage_per_hour                       int64\n",
      "is_labor_union                     object\n",
      "working_week_per_year               int64\n",
      "industry_code                       int64\n",
      "industry_code_main                 object\n",
      "occupation_code                     int64\n",
      "occupation_code_main               object\n",
      "total_employed                      int64\n",
      "household_stat                     object\n",
      "household_summary                  object\n",
      "under_18_family                    object\n",
      "veterans_admin_questionnaire       object\n",
      "vet_benefit                         int64\n",
      "tax_status                         object\n",
      "gains                               int64\n",
      "losses                              int64\n",
      "stocks_status                       int64\n",
      "citizenship                        object\n",
      "mig_year                            int64\n",
      "country_of_birth_own               object\n",
      "country_of_birth_father            object\n",
      "country_of_birth_mother            object\n",
      "migration_code_change_in_msa       object\n",
      "migration_prev_sunbelt             object\n",
      "migration_code_move_within_reg     object\n",
      "migration_code_change_in_reg       object\n",
      "residence_1_year_ago               object\n",
      "old_residence_reg                  object\n",
      "old_residence_state                object\n",
      "importance_of_record              float64\n",
      "income_above_limit                 object\n",
      "dtype: object\n",
      "\n",
      "\n",
      "The data types of the test dataset is: ID                                 object\n",
      "age                                 int64\n",
      "gender                             object\n",
      "education                          object\n",
      "class                              object\n",
      "education_institute                object\n",
      "marital_status                     object\n",
      "race                               object\n",
      "is_hispanic                        object\n",
      "employment_commitment              object\n",
      "unemployment_reason                object\n",
      "employment_stat                     int64\n",
      "wage_per_hour                       int64\n",
      "is_labor_union                     object\n",
      "working_week_per_year               int64\n",
      "industry_code                       int64\n",
      "industry_code_main                 object\n",
      "occupation_code                     int64\n",
      "occupation_code_main               object\n",
      "total_employed                      int64\n",
      "household_stat                     object\n",
      "household_summary                  object\n",
      "under_18_family                    object\n",
      "veterans_admin_questionnaire       object\n",
      "vet_benefit                         int64\n",
      "tax_status                         object\n",
      "gains                               int64\n",
      "losses                              int64\n",
      "stocks_status                       int64\n",
      "citizenship                        object\n",
      "mig_year                            int64\n",
      "country_of_birth_own               object\n",
      "country_of_birth_father            object\n",
      "country_of_birth_mother            object\n",
      "migration_code_change_in_msa       object\n",
      "migration_prev_sunbelt             object\n",
      "migration_code_move_within_reg     object\n",
      "migration_code_change_in_reg       object\n",
      "residence_1_year_ago               object\n",
      "old_residence_reg                  object\n",
      "old_residence_state                object\n",
      "importance_of_record              float64\n",
      "dtype: object\n"
     ]
    }
   ],
   "source": [
    "#### Check the data types of the datasets\n",
    "\n",
    "print(f\"The data types of the train dataset is: {train_data.dtypes}\")\n",
    "print()\n",
    "print()\n",
    "print(f\"The data types of the test dataset is: {test_data.dtypes}\")"
   ]
  },
  {
   "cell_type": "code",
   "execution_count": 34,
   "id": "19bc25dd",
   "metadata": {},
   "outputs": [
    {
     "data": {
      "text/plain": [
       "ID                                     0\n",
       "age                                    0\n",
       "gender                                 0\n",
       "education                              0\n",
       "class                             105245\n",
       "education_institute               196197\n",
       "marital_status                         0\n",
       "race                                   0\n",
       "is_hispanic                            0\n",
       "employment_commitment                  0\n",
       "unemployment_reason               202979\n",
       "employment_stat                        0\n",
       "wage_per_hour                          0\n",
       "is_labor_union                    189420\n",
       "working_week_per_year                  0\n",
       "industry_code                          0\n",
       "industry_code_main                     0\n",
       "occupation_code                        0\n",
       "occupation_code_main              105694\n",
       "total_employed                         0\n",
       "household_stat                         0\n",
       "household_summary                      0\n",
       "under_18_family                   151654\n",
       "veterans_admin_questionnaire      207415\n",
       "vet_benefit                            0\n",
       "tax_status                             0\n",
       "gains                                  0\n",
       "losses                                 0\n",
       "stocks_status                          0\n",
       "citizenship                            0\n",
       "mig_year                               0\n",
       "country_of_birth_own                   0\n",
       "country_of_birth_father                0\n",
       "country_of_birth_mother                0\n",
       "migration_code_change_in_msa        1588\n",
       "migration_prev_sunbelt             88452\n",
       "migration_code_move_within_reg      1588\n",
       "migration_code_change_in_reg        1588\n",
       "residence_1_year_ago              106284\n",
       "old_residence_reg                 193148\n",
       "old_residence_state               193148\n",
       "importance_of_record                   0\n",
       "income_above_limit                     0\n",
       "dtype: int64"
      ]
     },
     "execution_count": 34,
     "metadata": {},
     "output_type": "execute_result"
    }
   ],
   "source": [
    "#Check for missing values\n",
    "\n",
    "train_data.isnull().sum()"
   ]
  },
  {
   "cell_type": "code",
   "execution_count": null,
   "id": "e4653349",
   "metadata": {},
   "outputs": [],
   "source": []
  },
  {
   "cell_type": "code",
   "execution_count": 47,
   "id": "b1e05feb",
   "metadata": {},
   "outputs": [],
   "source": [
    "import pandas as pd\n",
    "\n",
    "def check_unique_values_and_value_counts(dataset, columns_to_check):\n",
    "    \"\"\"\n",
    "    Check unique values and value counts of specific columns in a dataset.\n",
    "\n",
    "    Parameters:\n",
    "    - dataset (pd.DataFrame): The dataset to analyze.\n",
    "    - columns_to_check (list): List of column names to check.\n",
    "\n",
    "    Returns:\n",
    "    - None\n",
    "    \"\"\"\n",
    "    for column in columns_to_check:\n",
    "        unique_values = train_data[column].unique()\n",
    "        value_counts = dataset[column].value_counts()\n",
    "        \n",
    "        print(f\"Column: {column}\")\n",
    "        print(f\"Unique values: {unique_values}\")\n",
    "        print(\"Value counts:\")\n",
    "        print(value_counts)\n",
    "        print(\"-\" * 40)\n",
    "\n",
    "# Example usage\n",
    "# Replace with your actual dataset and columns\n",
    "# check_unique_values_and_value_counts(your_dataset, ['Column1', 'Column2'])\n"
   ]
  },
  {
   "cell_type": "code",
   "execution_count": null,
   "id": "2e47caf9",
   "metadata": {},
   "outputs": [],
   "source": []
  },
  {
   "cell_type": "code",
   "execution_count": null,
   "id": "f1de583b",
   "metadata": {},
   "outputs": [],
   "source": []
  },
  {
   "cell_type": "code",
   "execution_count": null,
   "id": "b5a6407a",
   "metadata": {},
   "outputs": [],
   "source": []
  },
  {
   "cell_type": "code",
   "execution_count": null,
   "id": "bd6309b5",
   "metadata": {},
   "outputs": [],
   "source": []
  },
  {
   "cell_type": "code",
   "execution_count": null,
   "id": "fd39b3ee",
   "metadata": {},
   "outputs": [],
   "source": []
  },
  {
   "cell_type": "code",
   "execution_count": null,
   "id": "da7a0bd9",
   "metadata": {},
   "outputs": [],
   "source": []
  },
  {
   "cell_type": "code",
   "execution_count": null,
   "id": "5cc88531",
   "metadata": {},
   "outputs": [],
   "source": []
  },
  {
   "cell_type": "code",
   "execution_count": null,
   "id": "2a91c48b",
   "metadata": {},
   "outputs": [],
   "source": []
  },
  {
   "cell_type": "code",
   "execution_count": null,
   "id": "0f768a48",
   "metadata": {},
   "outputs": [],
   "source": []
  },
  {
   "cell_type": "code",
   "execution_count": 37,
   "id": "46646ab5",
   "metadata": {},
   "outputs": [
    {
     "data": {
      "text/plain": [
       "array([' Female', ' Male'], dtype=object)"
      ]
     },
     "execution_count": 37,
     "metadata": {},
     "output_type": "execute_result"
    }
   ],
   "source": [
    "train_data['gender'].unique()"
   ]
  },
  {
   "cell_type": "code",
   "execution_count": 38,
   "id": "16305eb8",
   "metadata": {},
   "outputs": [
    {
     "data": {
      "text/plain": [
       "gender\n",
       " Female    108784\n",
       " Male      100715\n",
       "Name: count, dtype: int64"
      ]
     },
     "execution_count": 38,
     "metadata": {},
     "output_type": "execute_result"
    }
   ],
   "source": [
    "train_data['gender'].value_counts()"
   ]
  },
  {
   "cell_type": "code",
   "execution_count": 39,
   "id": "99b87483",
   "metadata": {},
   "outputs": [
    {
     "data": {
      "text/plain": [
       "array([' High school graduate', ' 12th grade no diploma', ' Children',\n",
       "       ' Bachelors degree(BA AB BS)', ' 7th and 8th grade', ' 11th grade',\n",
       "       ' 9th grade', ' Masters degree(MA MS MEng MEd MSW MBA)',\n",
       "       ' 10th grade', ' Associates degree-academic program',\n",
       "       ' 1st 2nd 3rd or 4th grade', ' Some college but no degree',\n",
       "       ' Less than 1st grade', ' Associates degree-occup /vocational',\n",
       "       ' Prof school degree (MD DDS DVM LLB JD)', ' 5th or 6th grade',\n",
       "       ' Doctorate degree(PhD EdD)'], dtype=object)"
      ]
     },
     "execution_count": 39,
     "metadata": {},
     "output_type": "execute_result"
    }
   ],
   "source": [
    "train_data['education'].unique()"
   ]
  },
  {
   "cell_type": "code",
   "execution_count": 40,
   "id": "e16ba290",
   "metadata": {},
   "outputs": [
    {
     "data": {
      "text/plain": [
       "education\n",
       " High school graduate                      50627\n",
       " Children                                  49685\n",
       " Some college but no degree                29320\n",
       " Bachelors degree(BA AB BS)                20979\n",
       " 7th and 8th grade                          8438\n",
       " 10th grade                                 7905\n",
       " 11th grade                                 7260\n",
       " Masters degree(MA MS MEng MEd MSW MBA)     6861\n",
       " 9th grade                                  6540\n",
       " Associates degree-occup /vocational        5650\n",
       " Associates degree-academic program         4494\n",
       " 5th or 6th grade                           3542\n",
       " 12th grade no diploma                      2282\n",
       " 1st 2nd 3rd or 4th grade                   1917\n",
       " Prof school degree (MD DDS DVM LLB JD)     1852\n",
       " Doctorate degree(PhD EdD)                  1318\n",
       " Less than 1st grade                         829\n",
       "Name: count, dtype: int64"
      ]
     },
     "execution_count": 40,
     "metadata": {},
     "output_type": "execute_result"
    }
   ],
   "source": [
    "train_data['education'].value_counts()"
   ]
  },
  {
   "cell_type": "code",
   "execution_count": null,
   "id": "ba68ed42",
   "metadata": {},
   "outputs": [],
   "source": []
  },
  {
   "cell_type": "code",
   "execution_count": null,
   "id": "ffd210f4",
   "metadata": {},
   "outputs": [],
   "source": []
  },
  {
   "cell_type": "code",
   "execution_count": null,
   "id": "b1c891b2",
   "metadata": {},
   "outputs": [],
   "source": []
  },
  {
   "cell_type": "code",
   "execution_count": null,
   "id": "05088624",
   "metadata": {},
   "outputs": [],
   "source": []
  },
  {
   "cell_type": "code",
   "execution_count": null,
   "id": "d63f95ea",
   "metadata": {},
   "outputs": [],
   "source": []
  },
  {
   "cell_type": "code",
   "execution_count": null,
   "id": "d381a702",
   "metadata": {},
   "outputs": [],
   "source": [
    "#Drop unnecesarry columns from the dataset\n",
    "train_data.drop(columns= ['ID', 'education_institute', 'is_hispanic','employment_commitment','unemployment_reason', 'employment_stat',\n",
    "       'is_labor_union', 'industry_code', 'industry_code_main', 'occupation_code','total_employed', 'household_stat', \n",
    "       'household_summary', 'under_18_family', 'veterans_admin_questionnaire', 'vet_benefit', 'tax_status', 'stocks_status',\n",
    "       'mig_year', 'country_of_birth_father', 'country_of_birth_mother', 'migration_code_change_in_msa',\n",
    "       'migration_prev_sunbelt', 'migration_code_move_within_reg', 'migration_code_change_in_reg', 'residence_1_year_ago',\n",
    "       'old_residence_reg', 'old_residence_state', 'importance_of_record'], axis=1, inplace=True)"
   ]
  },
  {
   "cell_type": "code",
   "execution_count": null,
   "id": "4b613555",
   "metadata": {},
   "outputs": [],
   "source": []
  },
  {
   "cell_type": "code",
   "execution_count": null,
   "id": "c31d72cf",
   "metadata": {},
   "outputs": [],
   "source": []
  },
  {
   "cell_type": "code",
   "execution_count": null,
   "id": "8d2a0086",
   "metadata": {},
   "outputs": [],
   "source": []
  },
  {
   "cell_type": "code",
   "execution_count": null,
   "id": "b2499922",
   "metadata": {},
   "outputs": [],
   "source": []
  },
  {
   "cell_type": "code",
   "execution_count": null,
   "id": "274dbb50",
   "metadata": {},
   "outputs": [],
   "source": []
  },
  {
   "cell_type": "code",
   "execution_count": null,
   "id": "540692e1",
   "metadata": {},
   "outputs": [],
   "source": []
  },
  {
   "cell_type": "code",
   "execution_count": null,
   "id": "b2deacdc",
   "metadata": {},
   "outputs": [],
   "source": []
  },
  {
   "cell_type": "code",
   "execution_count": null,
   "id": "1de6d219",
   "metadata": {},
   "outputs": [],
   "source": []
  },
  {
   "cell_type": "code",
   "execution_count": null,
   "id": "cc0d5da3",
   "metadata": {},
   "outputs": [],
   "source": []
  },
  {
   "cell_type": "code",
   "execution_count": null,
   "id": "945ce412",
   "metadata": {},
   "outputs": [],
   "source": []
  },
  {
   "cell_type": "code",
   "execution_count": null,
   "id": "88cd30c6",
   "metadata": {},
   "outputs": [],
   "source": []
  },
  {
   "cell_type": "code",
   "execution_count": null,
   "id": "155a8750",
   "metadata": {},
   "outputs": [],
   "source": []
  },
  {
   "cell_type": "code",
   "execution_count": null,
   "id": "87bd183e",
   "metadata": {},
   "outputs": [],
   "source": []
  },
  {
   "cell_type": "code",
   "execution_count": null,
   "id": "727302ba",
   "metadata": {},
   "outputs": [],
   "source": []
  },
  {
   "cell_type": "code",
   "execution_count": null,
   "id": "6e5f71d1",
   "metadata": {},
   "outputs": [],
   "source": [
    "print(\"The shape of test data is\"{test_data})\n",
    "print('The shape of test data is'{test_data})"
   ]
  },
  {
   "cell_type": "code",
   "execution_count": null,
   "id": "557c92e7",
   "metadata": {},
   "outputs": [],
   "source": []
  },
  {
   "cell_type": "code",
   "execution_count": null,
   "id": "69da191d",
   "metadata": {},
   "outputs": [],
   "source": []
  },
  {
   "cell_type": "code",
   "execution_count": null,
   "id": "a1ba15af",
   "metadata": {},
   "outputs": [],
   "source": []
  },
  {
   "cell_type": "code",
   "execution_count": null,
   "id": "6fd45241",
   "metadata": {},
   "outputs": [],
   "source": []
  },
  {
   "cell_type": "code",
   "execution_count": null,
   "id": "aee5f121",
   "metadata": {},
   "outputs": [],
   "source": [
    "test_data.head()"
   ]
  },
  {
   "cell_type": "code",
   "execution_count": null,
   "id": "cb23b3b7",
   "metadata": {},
   "outputs": [],
   "source": [
    "test_data.shape"
   ]
  },
  {
   "cell_type": "code",
   "execution_count": null,
   "id": "f6f6c0e5",
   "metadata": {},
   "outputs": [],
   "source": [
    "train_data.dtypes"
   ]
  },
  {
   "cell_type": "code",
   "execution_count": null,
   "id": "2b7b53ee",
   "metadata": {},
   "outputs": [],
   "source": [
    "test_data.dtypes"
   ]
  },
  {
   "cell_type": "code",
   "execution_count": null,
   "id": "8c8dd41f",
   "metadata": {},
   "outputs": [],
   "source": [
    "train_data.isnull().sum()"
   ]
  },
  {
   "cell_type": "code",
   "execution_count": null,
   "id": "6309c2f9",
   "metadata": {},
   "outputs": [],
   "source": [
    "test_data.isnull().sum()"
   ]
  },
  {
   "cell_type": "code",
   "execution_count": null,
   "id": "7ba6b9f2",
   "metadata": {},
   "outputs": [],
   "source": [
    "train_data.describe()"
   ]
  },
  {
   "cell_type": "code",
   "execution_count": null,
   "id": "d0301990",
   "metadata": {},
   "outputs": [],
   "source": [
    "test_data.describe()"
   ]
  },
  {
   "cell_type": "code",
   "execution_count": null,
   "id": "9f2213a2",
   "metadata": {},
   "outputs": [],
   "source": [
    "train_data.hist(figsize=(12, 10))"
   ]
  },
  {
   "cell_type": "code",
   "execution_count": null,
   "id": "32a0d10a",
   "metadata": {},
   "outputs": [],
   "source": [
    "# Filter out only the numerical columns\n",
    "numerical_columns = train_data.select_dtypes(include=['int', 'float'])\n",
    "\n",
    "plt.figure(figsize=(10, 6))  # Adjust the figure size as needed\n",
    "\n",
    "# Create a boxplot using Seaborn\n",
    "sns.boxplot(data=train_data)\n",
    "\n",
    "plt.title(\"Boxplot of Multiple Columns\")\n",
    "plt.xlabel(\"Columns\")\n",
    "plt.ylabel(\"Values\")\n",
    "\n",
    "plt.tight_layout()\n",
    "plt.show()\n"
   ]
  },
  {
   "cell_type": "code",
   "execution_count": null,
   "id": "8c869171",
   "metadata": {},
   "outputs": [],
   "source": []
  },
  {
   "cell_type": "code",
   "execution_count": null,
   "id": "1df458b0",
   "metadata": {},
   "outputs": [],
   "source": []
  },
  {
   "cell_type": "code",
   "execution_count": null,
   "id": "e6266f6d",
   "metadata": {},
   "outputs": [],
   "source": [
    "#Handling missing values\n",
    "\n",
    "\n",
    "print(train_data.isnull().sum())"
   ]
  },
  {
   "cell_type": "code",
   "execution_count": null,
   "id": "21485ade",
   "metadata": {},
   "outputs": [],
   "source": [
    "train_data.columns"
   ]
  },
  {
   "cell_type": "code",
   "execution_count": null,
   "id": "6288e1e7",
   "metadata": {},
   "outputs": [],
   "source": [
    "def drop_columns(  train_data,  test_data, 'ID', 'education_institute', 'is_hispanic','employment_commitment','unemployment_reason', 'employment_stat',\n",
    "       'is_labor_union', 'industry_code', 'industry_code_main', 'occupation_code','total_employed', 'household_stat', \n",
    "       'household_summary', 'under_18_family', 'veterans_admin_questionnaire', 'vet_benefit', 'tax_status', 'stocks_status',\n",
    "       'mig_year', 'country_of_birth_father', 'country_of_birth_mother', 'migration_code_change_in_msa',\n",
    "       'migration_prev_sunbelt', 'migration_code_move_within_reg', 'migration_code_change_in_reg', 'residence_1_year_ago',\n",
    "       'old_residence_reg', 'old_residence_state', 'importance_of_record'):\n",
    "    \n",
    "    train_data = train_data.drop(columns=columns_to_drop, inplace=False)\n",
    "    test_data = test_data.drop(columns=columns_to_drop, inplace=False)\n",
    "    return train_data, test_data"
   ]
  },
  {
   "cell_type": "code",
   "execution_count": null,
   "id": "eb538723",
   "metadata": {},
   "outputs": [],
   "source": []
  },
  {
   "cell_type": "code",
   "execution_count": null,
   "id": "4787c7a3",
   "metadata": {},
   "outputs": [],
   "source": []
  },
  {
   "cell_type": "code",
   "execution_count": null,
   "id": "09270251",
   "metadata": {},
   "outputs": [],
   "source": []
  },
  {
   "cell_type": "code",
   "execution_count": null,
   "id": "12fd6e0e",
   "metadata": {},
   "outputs": [],
   "source": []
  },
  {
   "cell_type": "markdown",
   "id": "68ae8aab",
   "metadata": {},
   "source": [
    "#### Categorical Values"
   ]
  },
  {
   "cell_type": "code",
   "execution_count": null,
   "id": "a68d67e9",
   "metadata": {},
   "outputs": [],
   "source": [
    "def plot_numerical_countplots(train_data):\n",
    "    numerical_columns = data.select_dtypes(include=['int64', 'float64']).columns\n",
    "\n",
    "    for column in numerical_columns:\n",
    "        plt.figure(figsize=(8, 6))\n",
    "        sns.countplot(data[column])\n",
    "        plt.title(f'Countplot of {column}', fontsize=16)\n",
    "        plt.xlabel(column, fontsize=14)\n",
    "        plt.ylabel('Count', fontsize=14)\n",
    "        plt.xticks(rotation=45)\n",
    "        plt.show()\n",
    "\n",
    "# Example usage\n",
    "# Assuming 'df' is your DataFrame\n",
    "plot_numerical_countplots(train_data)\n"
   ]
  },
  {
   "cell_type": "code",
   "execution_count": null,
   "id": "87535cb2",
   "metadata": {},
   "outputs": [],
   "source": [
    "#def plot_countplots_for_categorical(train_data):\n",
    "    #Get a list of column name with categorical data\n",
    "    #categorical_columns = train_data.select_dtypes(include=['object']).columns.tolist()\n",
    "    \n",
    "    #loops through categorical columns and create count plots\n",
    "    #for columns in categorical_columns:\n",
    "        \n",
    "        #Set the figure size\n",
    "       # plt.figure(figsize=(8,6))\n",
    "        #sns.countplot(x=columns,data=train_data)\n",
    "        \n",
    "        #plt.xlabel(column)\n",
    "        #Set x-axis label\n",
    "       # plt.ylabel('Count')\n",
    "        #Set y-axis label\n",
    "        \n",
    "       # plt.title(f'Count plot of {column}')\n",
    "        #Set plot title\n",
    "        \n",
    "       # plt.xticks(rotation=45)\n",
    "        #Rotate x-axis labels for readability\n",
    "        \n",
    "        #plt.show() "
   ]
  },
  {
   "cell_type": "code",
   "execution_count": null,
   "id": "c4cbe230",
   "metadata": {},
   "outputs": [],
   "source": [
    "#Example usage with your Dataframe 'df'\n",
    "\n",
    "plot_countplots_for_categorical(train_data)"
   ]
  },
  {
   "cell_type": "code",
   "execution_count": null,
   "id": "3bcadc77",
   "metadata": {},
   "outputs": [],
   "source": [
    "#Explore categorical variables with count plots\n",
    "\n",
    "sns.countplot(x='gender', data = train_data)"
   ]
  },
  {
   "cell_type": "code",
   "execution_count": null,
   "id": "93f6d273",
   "metadata": {},
   "outputs": [],
   "source": []
  },
  {
   "cell_type": "code",
   "execution_count": null,
   "id": "3fab250f",
   "metadata": {},
   "outputs": [],
   "source": []
  },
  {
   "cell_type": "code",
   "execution_count": null,
   "id": "ce78c7d9",
   "metadata": {},
   "outputs": [],
   "source": []
  },
  {
   "cell_type": "code",
   "execution_count": null,
   "id": "d03999e3",
   "metadata": {},
   "outputs": [],
   "source": []
  },
  {
   "cell_type": "code",
   "execution_count": null,
   "id": "7e6d4626",
   "metadata": {},
   "outputs": [],
   "source": []
  },
  {
   "cell_type": "code",
   "execution_count": null,
   "id": "3d8f4052",
   "metadata": {},
   "outputs": [],
   "source": []
  },
  {
   "cell_type": "code",
   "execution_count": null,
   "id": "04905e84",
   "metadata": {},
   "outputs": [],
   "source": [
    "#Univariate Analysis\n",
    "\n",
    "train_data['column_name'].hist()\n",
    "plt.xlabel('X-axis Label')\n",
    "plt.xlabel('X-axis Label')\n",
    "plt.title('Title')\n",
    "plt.show()"
   ]
  },
  {
   "cell_type": "code",
   "execution_count": null,
   "id": "3107136c",
   "metadata": {},
   "outputs": [],
   "source": [
    "#Bivariate Analysis\n",
    "\n",
    "sns.scatterplot(x='column1', y='column2', data = train_data)"
   ]
  },
  {
   "cell_type": "code",
   "execution_count": null,
   "id": "32945323",
   "metadata": {},
   "outputs": [],
   "source": [
    "#categorical variables\n",
    "\n",
    "sns.countplot(x='category_column', data=train_data)"
   ]
  },
  {
   "cell_type": "code",
   "execution_count": null,
   "id": "7c3ef0d3",
   "metadata": {},
   "outputs": [],
   "source": [
    "train_data['categorical_column'].value_counts()"
   ]
  },
  {
   "cell_type": "code",
   "execution_count": null,
   "id": "5a964ef3",
   "metadata": {},
   "outputs": [],
   "source": []
  },
  {
   "cell_type": "code",
   "execution_count": null,
   "id": "868599de",
   "metadata": {},
   "outputs": [],
   "source": [
    "train_data('education_institute').unique()"
   ]
  },
  {
   "cell_type": "code",
   "execution_count": null,
   "id": "f9964728",
   "metadata": {},
   "outputs": [],
   "source": [
    "#Print out unique values of every column in the dataset\n",
    "\n",
    "def print_unique_values(train_data):\n",
    "    for column in train_data.columns:\n",
    "        unique_values = \n",
    "train_data[column].unique()\n",
    "        print(f\"Unique values in {columns}: {unique_values}\" )"
   ]
  },
  {
   "cell_type": "code",
   "execution_count": null,
   "id": "3f656fd3",
   "metadata": {},
   "outputs": [],
   "source": []
  },
  {
   "cell_type": "code",
   "execution_count": null,
   "id": "2c30e900",
   "metadata": {},
   "outputs": [],
   "source": []
  },
  {
   "cell_type": "code",
   "execution_count": null,
   "id": "203b96b1",
   "metadata": {},
   "outputs": [],
   "source": []
  },
  {
   "cell_type": "code",
   "execution_count": null,
   "id": "88d9a71e",
   "metadata": {},
   "outputs": [],
   "source": []
  },
  {
   "cell_type": "code",
   "execution_count": null,
   "id": "9dd87651",
   "metadata": {},
   "outputs": [],
   "source": []
  },
  {
   "cell_type": "code",
   "execution_count": null,
   "id": "7757ff21",
   "metadata": {},
   "outputs": [],
   "source": [
    "#train_data['education_institute'].fillna(0, inplace = True)\n",
    "#print()"
   ]
  }
 ],
 "metadata": {
  "kernelspec": {
   "display_name": "Python 3 (ipykernel)",
   "language": "python",
   "name": "python3"
  },
  "language_info": {
   "codemirror_mode": {
    "name": "ipython",
    "version": 3
   },
   "file_extension": ".py",
   "mimetype": "text/x-python",
   "name": "python",
   "nbconvert_exporter": "python",
   "pygments_lexer": "ipython3",
   "version": "3.11.1"
  }
 },
 "nbformat": 4,
 "nbformat_minor": 5
}
