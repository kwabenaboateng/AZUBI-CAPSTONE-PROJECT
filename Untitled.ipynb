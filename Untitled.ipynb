{
 "cells": [
  {
   "cell_type": "markdown",
   "id": "50d3fb0d",
   "metadata": {},
   "source": [
    "### AZUBI CAPSTONE PROJECT"
   ]
  },
  {
   "cell_type": "markdown",
   "id": "067ab8e2",
   "metadata": {},
   "source": [
    "#### IMPORT LIBRARY PACKAGES"
   ]
  },
  {
   "cell_type": "code",
   "execution_count": 1,
   "id": "a45ce9fb",
   "metadata": {},
   "outputs": [],
   "source": [
    "#Data Handling\n",
    "import numpy as np\n",
    "import pandas as pd\n",
    "\n",
    "#Visualizations\n",
    "import seaborn as sns\n",
    "import plotly.express as px\n",
    "import matplotlib.pyplot as plt\n",
    "\n",
    "from termcolor import colored\n",
    "\n",
    "# Feature Processing (Scikit-learn processing, etc. )\n",
    "\n",
    "# Evaluation Metrics\n",
    "from sklearn.model_selection import train_test_split\n",
    "from catboost import CatBoostClassifier\n",
    "from sklearn.metrics import f1_score, recall_score, precision_score, fbeta_score, accuracy_score, roc_auc_score\n",
    "from sklearn.metrics import confusion_matrix\n",
    "from sklearn.feature_selection import RFE\n",
    "\n",
    "#Other packages\n",
    "import warnings\n",
    "warnings.filterwarnings('always') "
   ]
  },
  {
   "cell_type": "markdown",
   "id": "ce57975a",
   "metadata": {},
   "source": [
    "#### Load the Data."
   ]
  },
  {
   "cell_type": "markdown",
   "id": "21601fe8",
   "metadata": {},
   "source": [
    "For this project, there are two datasets, namely:\n",
    "* <b> Train data: </b> This is the data which we will be using to train the model. Since we are solving a classification problem, we will have a column in train dataset corresponding to the target labels. \n",
    "* <b> Test data: </b> This is the data on which the predictions will be made based on the model trained on train dataset. "
   ]
  },
  {
   "cell_type": "code",
   "execution_count": 2,
   "id": "e10208a0",
   "metadata": {},
   "outputs": [],
   "source": [
    "train_data = pd.read_csv(\"C:/Users/KWABENABOATENG/Desktop/AZUBI AFRICA/AZUBI CAPSTONE/AZUBI-CAPSTONE-PROJECT/DATASETS/Train.csv\")\n",
    "test_data = pd.read_csv(\"C:/Users/KWABENABOATENG/Desktop/AZUBI AFRICA/AZUBI CAPSTONE/AZUBI-CAPSTONE-PROJECT/DATASETS/Test.csv\")"
   ]
  },
  {
   "cell_type": "markdown",
   "id": "10addf04",
   "metadata": {},
   "source": [
    "#### BASIC DATA EXPLORATION"
   ]
  },
  {
   "cell_type": "code",
   "execution_count": 3,
   "id": "302d848c",
   "metadata": {},
   "outputs": [
    {
     "data": {
      "text/html": [
       "<div>\n",
       "<style scoped>\n",
       "    .dataframe tbody tr th:only-of-type {\n",
       "        vertical-align: middle;\n",
       "    }\n",
       "\n",
       "    .dataframe tbody tr th {\n",
       "        vertical-align: top;\n",
       "    }\n",
       "\n",
       "    .dataframe thead th {\n",
       "        text-align: right;\n",
       "    }\n",
       "</style>\n",
       "<table border=\"1\" class=\"dataframe\">\n",
       "  <thead>\n",
       "    <tr style=\"text-align: right;\">\n",
       "      <th></th>\n",
       "      <th>ID</th>\n",
       "      <th>age</th>\n",
       "      <th>gender</th>\n",
       "      <th>education</th>\n",
       "      <th>class</th>\n",
       "      <th>education_institute</th>\n",
       "      <th>marital_status</th>\n",
       "      <th>race</th>\n",
       "      <th>is_hispanic</th>\n",
       "      <th>employment_commitment</th>\n",
       "      <th>...</th>\n",
       "      <th>country_of_birth_mother</th>\n",
       "      <th>migration_code_change_in_msa</th>\n",
       "      <th>migration_prev_sunbelt</th>\n",
       "      <th>migration_code_move_within_reg</th>\n",
       "      <th>migration_code_change_in_reg</th>\n",
       "      <th>residence_1_year_ago</th>\n",
       "      <th>old_residence_reg</th>\n",
       "      <th>old_residence_state</th>\n",
       "      <th>importance_of_record</th>\n",
       "      <th>income_above_limit</th>\n",
       "    </tr>\n",
       "  </thead>\n",
       "  <tbody>\n",
       "    <tr>\n",
       "      <th>0</th>\n",
       "      <td>ID_TZ0000</td>\n",
       "      <td>79</td>\n",
       "      <td>Female</td>\n",
       "      <td>High school graduate</td>\n",
       "      <td>NaN</td>\n",
       "      <td>NaN</td>\n",
       "      <td>Widowed</td>\n",
       "      <td>White</td>\n",
       "      <td>All other</td>\n",
       "      <td>Not in labor force</td>\n",
       "      <td>...</td>\n",
       "      <td>US</td>\n",
       "      <td>?</td>\n",
       "      <td>?</td>\n",
       "      <td>?</td>\n",
       "      <td>?</td>\n",
       "      <td>NaN</td>\n",
       "      <td>NaN</td>\n",
       "      <td>NaN</td>\n",
       "      <td>1779.74</td>\n",
       "      <td>Below limit</td>\n",
       "    </tr>\n",
       "    <tr>\n",
       "      <th>1</th>\n",
       "      <td>ID_TZ0001</td>\n",
       "      <td>65</td>\n",
       "      <td>Female</td>\n",
       "      <td>High school graduate</td>\n",
       "      <td>NaN</td>\n",
       "      <td>NaN</td>\n",
       "      <td>Widowed</td>\n",
       "      <td>White</td>\n",
       "      <td>All other</td>\n",
       "      <td>Children or Armed Forces</td>\n",
       "      <td>...</td>\n",
       "      <td>US</td>\n",
       "      <td>unchanged</td>\n",
       "      <td>NaN</td>\n",
       "      <td>unchanged</td>\n",
       "      <td>unchanged</td>\n",
       "      <td>Same</td>\n",
       "      <td>NaN</td>\n",
       "      <td>NaN</td>\n",
       "      <td>2366.75</td>\n",
       "      <td>Below limit</td>\n",
       "    </tr>\n",
       "    <tr>\n",
       "      <th>2</th>\n",
       "      <td>ID_TZ0002</td>\n",
       "      <td>21</td>\n",
       "      <td>Male</td>\n",
       "      <td>12th grade no diploma</td>\n",
       "      <td>Federal government</td>\n",
       "      <td>NaN</td>\n",
       "      <td>Never married</td>\n",
       "      <td>Black</td>\n",
       "      <td>All other</td>\n",
       "      <td>Children or Armed Forces</td>\n",
       "      <td>...</td>\n",
       "      <td>US</td>\n",
       "      <td>unchanged</td>\n",
       "      <td>NaN</td>\n",
       "      <td>unchanged</td>\n",
       "      <td>unchanged</td>\n",
       "      <td>Same</td>\n",
       "      <td>NaN</td>\n",
       "      <td>NaN</td>\n",
       "      <td>1693.42</td>\n",
       "      <td>Below limit</td>\n",
       "    </tr>\n",
       "    <tr>\n",
       "      <th>3</th>\n",
       "      <td>ID_TZ0003</td>\n",
       "      <td>2</td>\n",
       "      <td>Female</td>\n",
       "      <td>Children</td>\n",
       "      <td>NaN</td>\n",
       "      <td>NaN</td>\n",
       "      <td>Never married</td>\n",
       "      <td>Asian or Pacific Islander</td>\n",
       "      <td>All other</td>\n",
       "      <td>Children or Armed Forces</td>\n",
       "      <td>...</td>\n",
       "      <td>India</td>\n",
       "      <td>unchanged</td>\n",
       "      <td>NaN</td>\n",
       "      <td>unchanged</td>\n",
       "      <td>unchanged</td>\n",
       "      <td>Same</td>\n",
       "      <td>NaN</td>\n",
       "      <td>NaN</td>\n",
       "      <td>1380.27</td>\n",
       "      <td>Below limit</td>\n",
       "    </tr>\n",
       "    <tr>\n",
       "      <th>4</th>\n",
       "      <td>ID_TZ0004</td>\n",
       "      <td>70</td>\n",
       "      <td>Male</td>\n",
       "      <td>High school graduate</td>\n",
       "      <td>NaN</td>\n",
       "      <td>NaN</td>\n",
       "      <td>Married-civilian spouse present</td>\n",
       "      <td>White</td>\n",
       "      <td>All other</td>\n",
       "      <td>Not in labor force</td>\n",
       "      <td>...</td>\n",
       "      <td>US</td>\n",
       "      <td>?</td>\n",
       "      <td>?</td>\n",
       "      <td>?</td>\n",
       "      <td>?</td>\n",
       "      <td>NaN</td>\n",
       "      <td>NaN</td>\n",
       "      <td>NaN</td>\n",
       "      <td>1580.79</td>\n",
       "      <td>Below limit</td>\n",
       "    </tr>\n",
       "  </tbody>\n",
       "</table>\n",
       "<p>5 rows × 43 columns</p>\n",
       "</div>"
      ],
      "text/plain": [
       "          ID  age   gender               education                class  \\\n",
       "0  ID_TZ0000   79   Female    High school graduate                  NaN   \n",
       "1  ID_TZ0001   65   Female    High school graduate                  NaN   \n",
       "2  ID_TZ0002   21     Male   12th grade no diploma   Federal government   \n",
       "3  ID_TZ0003    2   Female                Children                  NaN   \n",
       "4  ID_TZ0004   70     Male    High school graduate                  NaN   \n",
       "\n",
       "  education_institute                    marital_status  \\\n",
       "0                 NaN                           Widowed   \n",
       "1                 NaN                           Widowed   \n",
       "2                 NaN                     Never married   \n",
       "3                 NaN                     Never married   \n",
       "4                 NaN   Married-civilian spouse present   \n",
       "\n",
       "                         race is_hispanic      employment_commitment  ...  \\\n",
       "0                       White   All other         Not in labor force  ...   \n",
       "1                       White   All other   Children or Armed Forces  ...   \n",
       "2                       Black   All other   Children or Armed Forces  ...   \n",
       "3   Asian or Pacific Islander   All other   Children or Armed Forces  ...   \n",
       "4                       White   All other         Not in labor force  ...   \n",
       "\n",
       "  country_of_birth_mother  migration_code_change_in_msa  \\\n",
       "0                      US                             ?   \n",
       "1                      US                     unchanged   \n",
       "2                      US                     unchanged   \n",
       "3                   India                     unchanged   \n",
       "4                      US                             ?   \n",
       "\n",
       "   migration_prev_sunbelt migration_code_move_within_reg  \\\n",
       "0                       ?                              ?   \n",
       "1                     NaN                      unchanged   \n",
       "2                     NaN                      unchanged   \n",
       "3                     NaN                      unchanged   \n",
       "4                       ?                              ?   \n",
       "\n",
       "   migration_code_change_in_reg  residence_1_year_ago old_residence_reg  \\\n",
       "0                             ?                   NaN               NaN   \n",
       "1                     unchanged                  Same               NaN   \n",
       "2                     unchanged                  Same               NaN   \n",
       "3                     unchanged                  Same               NaN   \n",
       "4                             ?                   NaN               NaN   \n",
       "\n",
       "   old_residence_state importance_of_record  income_above_limit  \n",
       "0                  NaN              1779.74         Below limit  \n",
       "1                  NaN              2366.75         Below limit  \n",
       "2                  NaN              1693.42         Below limit  \n",
       "3                  NaN              1380.27         Below limit  \n",
       "4                  NaN              1580.79         Below limit  \n",
       "\n",
       "[5 rows x 43 columns]"
      ]
     },
     "execution_count": 3,
     "metadata": {},
     "output_type": "execute_result"
    }
   ],
   "source": [
    "train_data.head()"
   ]
  },
  {
   "cell_type": "code",
   "execution_count": 4,
   "id": "ab05f6ee",
   "metadata": {},
   "outputs": [],
   "source": [
    "#Create a copy of the original data\n",
    "data = train_data.copy() \n",
    "data1 = test_data.copy()"
   ]
  },
  {
   "cell_type": "code",
   "execution_count": null,
   "id": "67454c1e",
   "metadata": {},
   "outputs": [],
   "source": []
  },
  {
   "cell_type": "code",
   "execution_count": null,
   "id": "bd4eb531",
   "metadata": {},
   "outputs": [],
   "source": []
  },
  {
   "cell_type": "code",
   "execution_count": null,
   "id": "8d033480",
   "metadata": {},
   "outputs": [],
   "source": []
  },
  {
   "cell_type": "code",
   "execution_count": null,
   "id": "f605b772",
   "metadata": {},
   "outputs": [],
   "source": []
  },
  {
   "cell_type": "code",
   "execution_count": null,
   "id": "1e5493a3",
   "metadata": {},
   "outputs": [],
   "source": []
  },
  {
   "cell_type": "code",
   "execution_count": 34,
   "id": "a45a4b10",
   "metadata": {},
   "outputs": [
    {
     "name": "stdout",
     "output_type": "stream",
     "text": [
      "Modified Train Data:\n",
      "        age   gender                    education                class  \\\n",
      "0        79   Female         High school graduate                  NaN   \n",
      "1        65   Female         High school graduate                  NaN   \n",
      "2        21     Male        12th grade no diploma   Federal government   \n",
      "3         2   Female                     Children                  NaN   \n",
      "4        70     Male         High school graduate                  NaN   \n",
      "...     ...      ...                          ...                  ...   \n",
      "209494   16   Female            7th and 8th grade                  NaN   \n",
      "209495   78     Male   Bachelors degree(BA AB BS)                  NaN   \n",
      "209496    8   Female                     Children                  NaN   \n",
      "209497   26   Female   Some college but no degree              Private   \n",
      "209498   19     Male                   11th grade     Local government   \n",
      "\n",
      "                          marital_status                        race  \\\n",
      "0                                Widowed                       White   \n",
      "1                                Widowed                       White   \n",
      "2                          Never married                       Black   \n",
      "3                          Never married   Asian or Pacific Islander   \n",
      "4        Married-civilian spouse present                       White   \n",
      "...                                  ...                         ...   \n",
      "209494                     Never married                       White   \n",
      "209495   Married-civilian spouse present                       White   \n",
      "209496                     Never married                       White   \n",
      "209497   Married-civilian spouse present                       White   \n",
      "209498                     Never married                       Black   \n",
      "\n",
      "        wage_per_hour  working_week_per_year             occupation_code_main  \\\n",
      "0                   0                     52                              NaN   \n",
      "1                   0                      0                              NaN   \n",
      "2                 500                     15   Adm support including clerical   \n",
      "3                   0                      0                              NaN   \n",
      "4                   0                      0                              NaN   \n",
      "...               ...                    ...                              ...   \n",
      "209494              0                      0                              NaN   \n",
      "209495              0                      0                              NaN   \n",
      "209496              0                      0                              NaN   \n",
      "209497            700                     52     Handlers equip cleaners etc    \n",
      "209498              0                      8   Adm support including clerical   \n",
      "\n",
      "        gains  losses citizenship country_of_birth_own income_above_limit  \n",
      "0           0       0      Native                   US        Below limit  \n",
      "1           0       0      Native                   US        Below limit  \n",
      "2           0       0      Native                   US        Below limit  \n",
      "3           0       0      Native                   US        Below limit  \n",
      "4           0       0      Native                   US        Below limit  \n",
      "...       ...     ...         ...                  ...                ...  \n",
      "209494      0       0      Native                   US        Below limit  \n",
      "209495      0       0      Native                   US        Below limit  \n",
      "209496      0       0      Native                   US        Below limit  \n",
      "209497      0       0      Native                   US        Below limit  \n",
      "209498      0       0      Native                   US        Below limit  \n",
      "\n",
      "[209499 rows x 14 columns]\n",
      "----------------------------------------\n",
      "Modified Test Data:\n",
      "       age   gender                    education                class  \\\n",
      "0       54     Male         High school graduate              Private   \n",
      "1       53     Male             5th or 6th grade              Private   \n",
      "2       42     Male   Bachelors degree(BA AB BS)              Private   \n",
      "3       16   Female                    9th grade                  NaN   \n",
      "4       16     Male                    9th grade                  NaN   \n",
      "...    ...      ...                          ...                  ...   \n",
      "89781    5     Male                     Children                  NaN   \n",
      "89782   81   Female            7th and 8th grade                  NaN   \n",
      "89783   65   Female         High school graduate   Federal government   \n",
      "89784   38   Female         High school graduate              Private   \n",
      "89785   23   Female   Some college but no degree              Private   \n",
      "\n",
      "                         marital_status    race  wage_per_hour  \\\n",
      "0       Married-civilian spouse present   White            600   \n",
      "1       Married-civilian spouse present   White              0   \n",
      "2       Married-civilian spouse present   White              0   \n",
      "3                         Never married   White              0   \n",
      "4                         Never married   White              0   \n",
      "...                                 ...     ...            ...   \n",
      "89781                     Never married   White              0   \n",
      "89782   Married-civilian spouse present   White              0   \n",
      "89783   Married-civilian spouse present   White              0   \n",
      "89784        Married-A F spouse present   White              0   \n",
      "89785                     Never married   White              0   \n",
      "\n",
      "       working_week_per_year                    occupation_code_main  gains  \\\n",
      "0                         46      Transportation and material moving      0   \n",
      "1                         52   Machine operators assmblrs & inspctrs      0   \n",
      "2                         44                  Professional specialty  15024   \n",
      "3                          8                                     NaN      0   \n",
      "4                          0                                     NaN      0   \n",
      "...                      ...                                     ...    ...   \n",
      "89781                      0                                     NaN      0   \n",
      "89782                      0                                     NaN      0   \n",
      "89783                     52                           Other service      0   \n",
      "89784                     43                                   Sales      0   \n",
      "89785                     52                           Other service      0   \n",
      "\n",
      "       losses                           citizenship country_of_birth_own  \n",
      "0           0                                Native                   US  \n",
      "1           0   Foreign born- Not a citizen of U S           El-Salvador  \n",
      "2           0                                Native                   US  \n",
      "3           0                                Native                   US  \n",
      "4           0                                Native                   US  \n",
      "...       ...                                   ...                  ...  \n",
      "89781       0                                Native                   US  \n",
      "89782       0                                Native                   US  \n",
      "89783       0                                Native                   US  \n",
      "89784       0                                Native                   US  \n",
      "89785       0                                Native                   US  \n",
      "\n",
      "[89786 rows x 13 columns]\n"
     ]
    }
   ],
   "source": [
    "def drop_columns_from_datasets(train_data, test_data):\n",
    "    # Let's clean up these datasets by dropping some columns.\n",
    "    \n",
    "    columns_to_drop = ['ID', 'education_institute', 'is_hispanic','employment_commitment','unemployment_reason',\n",
    "                       'employment_stat','is_labor_union', 'industry_code', 'industry_code_main', 'occupation_code',\n",
    "                       'total_employed', 'household_stat', 'household_summary', 'under_18_family',\n",
    "                       'veterans_admin_questionnaire', 'vet_benefit', 'tax_status', 'stocks_status', 'mig_year',\n",
    "                       'country_of_birth_father', 'country_of_birth_mother', 'migration_code_change_in_msa',\n",
    "                       'migration_prev_sunbelt', 'migration_code_move_within_reg', 'migration_code_change_in_reg',\n",
    "                       'residence_1_year_ago', 'old_residence_reg', 'old_residence_state', 'importance_of_record']\n",
    "    \n",
    "    modified_dataset1 = train_data.drop(columns=columns_to_drop, inplace=False)\n",
    "    modified_dataset2 = test_data.drop(columns=columns_to_drop, inplace=False)\n",
    "    \n",
    "    return modified_dataset1, modified_dataset2\n",
    "\n",
    "# Example usage\n",
    "# Replace with your actual train_data and test_data variables\n",
    "# new_train_data, new_test_data = drop_columns_from_datasets(train_data, test_data)\n",
    "\n",
    "# Print the new DataFrames\n",
    "print(\"Modified Train Data:\")\n",
    "print(new_train_data)\n",
    "print(\"-\" * 40)\n",
    "print(\"Modified Test Data:\")\n",
    "print(new_test_data)"
   ]
  },
  {
   "cell_type": "code",
   "execution_count": 32,
   "id": "8a410a89",
   "metadata": {},
   "outputs": [
    {
     "data": {
      "text/plain": [
       "(        age   gender                    education                class  \\\n",
       " 0        79   Female         High school graduate                  NaN   \n",
       " 1        65   Female         High school graduate                  NaN   \n",
       " 2        21     Male        12th grade no diploma   Federal government   \n",
       " 3         2   Female                     Children                  NaN   \n",
       " 4        70     Male         High school graduate                  NaN   \n",
       " ...     ...      ...                          ...                  ...   \n",
       " 209494   16   Female            7th and 8th grade                  NaN   \n",
       " 209495   78     Male   Bachelors degree(BA AB BS)                  NaN   \n",
       " 209496    8   Female                     Children                  NaN   \n",
       " 209497   26   Female   Some college but no degree              Private   \n",
       " 209498   19     Male                   11th grade     Local government   \n",
       " \n",
       "                           marital_status                        race  \\\n",
       " 0                                Widowed                       White   \n",
       " 1                                Widowed                       White   \n",
       " 2                          Never married                       Black   \n",
       " 3                          Never married   Asian or Pacific Islander   \n",
       " 4        Married-civilian spouse present                       White   \n",
       " ...                                  ...                         ...   \n",
       " 209494                     Never married                       White   \n",
       " 209495   Married-civilian spouse present                       White   \n",
       " 209496                     Never married                       White   \n",
       " 209497   Married-civilian spouse present                       White   \n",
       " 209498                     Never married                       Black   \n",
       " \n",
       "         wage_per_hour  working_week_per_year             occupation_code_main  \\\n",
       " 0                   0                     52                              NaN   \n",
       " 1                   0                      0                              NaN   \n",
       " 2                 500                     15   Adm support including clerical   \n",
       " 3                   0                      0                              NaN   \n",
       " 4                   0                      0                              NaN   \n",
       " ...               ...                    ...                              ...   \n",
       " 209494              0                      0                              NaN   \n",
       " 209495              0                      0                              NaN   \n",
       " 209496              0                      0                              NaN   \n",
       " 209497            700                     52     Handlers equip cleaners etc    \n",
       " 209498              0                      8   Adm support including clerical   \n",
       " \n",
       "         gains  losses citizenship country_of_birth_own income_above_limit  \n",
       " 0           0       0      Native                   US        Below limit  \n",
       " 1           0       0      Native                   US        Below limit  \n",
       " 2           0       0      Native                   US        Below limit  \n",
       " 3           0       0      Native                   US        Below limit  \n",
       " 4           0       0      Native                   US        Below limit  \n",
       " ...       ...     ...         ...                  ...                ...  \n",
       " 209494      0       0      Native                   US        Below limit  \n",
       " 209495      0       0      Native                   US        Below limit  \n",
       " 209496      0       0      Native                   US        Below limit  \n",
       " 209497      0       0      Native                   US        Below limit  \n",
       " 209498      0       0      Native                   US        Below limit  \n",
       " \n",
       " [209499 rows x 14 columns],\n",
       "        age   gender                    education                class  \\\n",
       " 0       54     Male         High school graduate              Private   \n",
       " 1       53     Male             5th or 6th grade              Private   \n",
       " 2       42     Male   Bachelors degree(BA AB BS)              Private   \n",
       " 3       16   Female                    9th grade                  NaN   \n",
       " 4       16     Male                    9th grade                  NaN   \n",
       " ...    ...      ...                          ...                  ...   \n",
       " 89781    5     Male                     Children                  NaN   \n",
       " 89782   81   Female            7th and 8th grade                  NaN   \n",
       " 89783   65   Female         High school graduate   Federal government   \n",
       " 89784   38   Female         High school graduate              Private   \n",
       " 89785   23   Female   Some college but no degree              Private   \n",
       " \n",
       "                          marital_status    race  wage_per_hour  \\\n",
       " 0       Married-civilian spouse present   White            600   \n",
       " 1       Married-civilian spouse present   White              0   \n",
       " 2       Married-civilian spouse present   White              0   \n",
       " 3                         Never married   White              0   \n",
       " 4                         Never married   White              0   \n",
       " ...                                 ...     ...            ...   \n",
       " 89781                     Never married   White              0   \n",
       " 89782   Married-civilian spouse present   White              0   \n",
       " 89783   Married-civilian spouse present   White              0   \n",
       " 89784        Married-A F spouse present   White              0   \n",
       " 89785                     Never married   White              0   \n",
       " \n",
       "        working_week_per_year                    occupation_code_main  gains  \\\n",
       " 0                         46      Transportation and material moving      0   \n",
       " 1                         52   Machine operators assmblrs & inspctrs      0   \n",
       " 2                         44                  Professional specialty  15024   \n",
       " 3                          8                                     NaN      0   \n",
       " 4                          0                                     NaN      0   \n",
       " ...                      ...                                     ...    ...   \n",
       " 89781                      0                                     NaN      0   \n",
       " 89782                      0                                     NaN      0   \n",
       " 89783                     52                           Other service      0   \n",
       " 89784                     43                                   Sales      0   \n",
       " 89785                     52                           Other service      0   \n",
       " \n",
       "        losses                           citizenship country_of_birth_own  \n",
       " 0           0                                Native                   US  \n",
       " 1           0   Foreign born- Not a citizen of U S           El-Salvador  \n",
       " 2           0                                Native                   US  \n",
       " 3           0                                Native                   US  \n",
       " 4           0                                Native                   US  \n",
       " ...       ...                                   ...                  ...  \n",
       " 89781       0                                Native                   US  \n",
       " 89782       0                                Native                   US  \n",
       " 89783       0                                Native                   US  \n",
       " 89784       0                                Native                   US  \n",
       " 89785       0                                Native                   US  \n",
       " \n",
       " [89786 rows x 13 columns])"
      ]
     },
     "execution_count": 32,
     "metadata": {},
     "output_type": "execute_result"
    }
   ],
   "source": [
    "def drop_columns_from_datasets(train_data, test_data):\n",
    "    # Let's clean up these datasets by dropping some columns.\n",
    "    \n",
    "    columns_to_drop = ['ID', 'education_institute', 'is_hispanic','employment_commitment','unemployment_reason',\n",
    "                       'employment_stat','is_labor_union', 'industry_code', 'industry_code_main', 'occupation_code',\n",
    "                       'total_employed', 'household_stat', 'household_summary', 'under_18_family',\n",
    "                       'veterans_admin_questionnaire', 'vet_benefit', 'tax_status', 'stocks_status', 'mig_year',\n",
    "                       'country_of_birth_father', 'country_of_birth_mother', 'migration_code_change_in_msa',\n",
    "                       'migration_prev_sunbelt', 'migration_code_move_within_reg', 'migration_code_change_in_reg',\n",
    "                       'residence_1_year_ago', 'old_residence_reg', 'old_residence_state', 'importance_of_record']\n",
    "    \n",
    "    modified_dataset1 = train_data.drop(columns=columns_to_drop, inplace=True)\n",
    "    #modified_dataset2 = test_data.drop(columns=columns_to_drop, inplace=False)\n",
    "    \n",
    "    print(modified_dataset1)\n",
    "   \n",
    "    print(modified_dataset2)\n",
    "    \n",
    "    return modified_dataset1, modified_dataset2\n",
    "                       \n",
    "new_train_data, new_test_data #= drop_columns_from_datasets(train_data, test_data)\n"
   ]
  },
  {
   "cell_type": "code",
   "execution_count": null,
   "id": "aebbddcc",
   "metadata": {},
   "outputs": [],
   "source": [
    "train_data.head()"
   ]
  },
  {
   "cell_type": "code",
   "execution_count": null,
   "id": "8f5534ad",
   "metadata": {},
   "outputs": [],
   "source": [
    "print(f\"The shape of the train dataset is: {train_data.shape}\")\n",
    "print()\n",
    "print(f\"The shape of the test dataset is: {test_data.shape}\")"
   ]
  },
  {
   "cell_type": "code",
   "execution_count": null,
   "id": "db5505d8",
   "metadata": {},
   "outputs": [],
   "source": []
  },
  {
   "cell_type": "code",
   "execution_count": null,
   "id": "1836a2ef",
   "metadata": {},
   "outputs": [],
   "source": []
  },
  {
   "cell_type": "code",
   "execution_count": null,
   "id": "7a53aa8b",
   "metadata": {},
   "outputs": [],
   "source": []
  },
  {
   "cell_type": "code",
   "execution_count": null,
   "id": "6aba4a5f",
   "metadata": {},
   "outputs": [],
   "source": []
  },
  {
   "cell_type": "code",
   "execution_count": null,
   "id": "e7412bde",
   "metadata": {},
   "outputs": [],
   "source": []
  },
  {
   "cell_type": "code",
   "execution_count": null,
   "id": "4dddcfdc",
   "metadata": {},
   "outputs": [],
   "source": []
  },
  {
   "cell_type": "code",
   "execution_count": null,
   "id": "54ce20f5",
   "metadata": {},
   "outputs": [],
   "source": []
  },
  {
   "cell_type": "code",
   "execution_count": null,
   "id": "ba4adff2",
   "metadata": {},
   "outputs": [],
   "source": [
    "#### Check the data types of the datasets\n",
    "\n",
    "print(f\"The data types of the train dataset is: {train_data.dtypes}\")\n",
    "print()\n",
    "print()\n",
    "print(f\"The data types of the test dataset is: {test_data.dtypes}\")"
   ]
  },
  {
   "cell_type": "code",
   "execution_count": null,
   "id": "9621a47f",
   "metadata": {},
   "outputs": [],
   "source": [
    "#Check for missing values\n",
    "\n",
    "train_data.isnull().sum()"
   ]
  },
  {
   "cell_type": "code",
   "execution_count": null,
   "id": "3b589d2b",
   "metadata": {},
   "outputs": [],
   "source": []
  },
  {
   "cell_type": "code",
   "execution_count": null,
   "id": "98511abc",
   "metadata": {},
   "outputs": [],
   "source": [
    "def check_unique_values_and_value_counts(train_data, columns_to_check):\n",
    "    \"\"\"\n",
    "    Check unique values and value counts of specific columns in a dataset.\n",
    "\n",
    "    Parameters:\n",
    "    - dataset (pd.DataFrame): The dataset to analyze.\n",
    "    - columns_to_check (list): List of column names to check.\n",
    "\n",
    "    Returns:\n",
    "    - None\n",
    "    \"\"\"\n",
    "    for column in columns_to_check:\n",
    "        unique_values = train_data[column].unique()\n",
    "        value_counts = train_data[column].value_counts()\n",
    "        \n",
    "        print(f\"Column: {column}\")\n",
    "        print(f\"Unique values: {unique_values}\")\n",
    "        print(\"Value counts:\")\n",
    "        print(value_counts)\n",
    "        print(\"-\" * 40)"
   ]
  },
  {
   "cell_type": "code",
   "execution_count": null,
   "id": "a35cd739",
   "metadata": {},
   "outputs": [],
   "source": []
  },
  {
   "cell_type": "code",
   "execution_count": null,
   "id": "cc4d3503",
   "metadata": {},
   "outputs": [],
   "source": []
  },
  {
   "cell_type": "code",
   "execution_count": null,
   "id": "a9380e9e",
   "metadata": {},
   "outputs": [],
   "source": []
  },
  {
   "cell_type": "code",
   "execution_count": null,
   "id": "051137e7",
   "metadata": {},
   "outputs": [],
   "source": []
  },
  {
   "cell_type": "code",
   "execution_count": null,
   "id": "e088dd07",
   "metadata": {},
   "outputs": [],
   "source": []
  },
  {
   "cell_type": "code",
   "execution_count": null,
   "id": "e16b7544",
   "metadata": {},
   "outputs": [],
   "source": []
  },
  {
   "cell_type": "code",
   "execution_count": null,
   "id": "7e5eec9a",
   "metadata": {},
   "outputs": [],
   "source": []
  },
  {
   "cell_type": "code",
   "execution_count": null,
   "id": "0ed3c92b",
   "metadata": {},
   "outputs": [],
   "source": []
  },
  {
   "cell_type": "code",
   "execution_count": null,
   "id": "44351e5a",
   "metadata": {},
   "outputs": [],
   "source": []
  },
  {
   "cell_type": "code",
   "execution_count": null,
   "id": "85d88aaf",
   "metadata": {},
   "outputs": [],
   "source": [
    "train_data['gender'].unique()"
   ]
  },
  {
   "cell_type": "code",
   "execution_count": null,
   "id": "996a532b",
   "metadata": {},
   "outputs": [],
   "source": [
    "train_data['gender'].value_counts()"
   ]
  },
  {
   "cell_type": "code",
   "execution_count": null,
   "id": "4133fc0c",
   "metadata": {},
   "outputs": [],
   "source": [
    "train_data['education'].unique()"
   ]
  },
  {
   "cell_type": "code",
   "execution_count": null,
   "id": "1b5d8861",
   "metadata": {},
   "outputs": [],
   "source": [
    "train_data['education'].value_counts()"
   ]
  },
  {
   "cell_type": "code",
   "execution_count": null,
   "id": "178571c5",
   "metadata": {},
   "outputs": [],
   "source": []
  },
  {
   "cell_type": "code",
   "execution_count": null,
   "id": "1d789038",
   "metadata": {},
   "outputs": [],
   "source": []
  },
  {
   "cell_type": "code",
   "execution_count": null,
   "id": "c1722987",
   "metadata": {},
   "outputs": [],
   "source": []
  },
  {
   "cell_type": "code",
   "execution_count": null,
   "id": "46530571",
   "metadata": {},
   "outputs": [],
   "source": []
  },
  {
   "cell_type": "code",
   "execution_count": null,
   "id": "5e7845f8",
   "metadata": {},
   "outputs": [],
   "source": []
  },
  {
   "cell_type": "code",
   "execution_count": null,
   "id": "f46dab60",
   "metadata": {},
   "outputs": [],
   "source": [
    "#Drop unnecesarry columns from the dataset\n",
    "train_data.drop(columns= ['ID', 'education_institute', 'is_hispanic','employment_commitment','unemployment_reason', 'employment_stat',\n",
    "       'is_labor_union', 'industry_code', 'industry_code_main', 'occupation_code','total_employed', 'household_stat', \n",
    "       'household_summary', 'under_18_family', 'veterans_admin_questionnaire', 'vet_benefit', 'tax_status', 'stocks_status',\n",
    "       'mig_year', 'country_of_birth_father', 'country_of_birth_mother', 'migration_code_change_in_msa',\n",
    "       'migration_prev_sunbelt', 'migration_code_move_within_reg', 'migration_code_change_in_reg', 'residence_1_year_ago',\n",
    "       'old_residence_reg', 'old_residence_state', 'importance_of_record'], axis=1, inplace=True)"
   ]
  },
  {
   "cell_type": "code",
   "execution_count": null,
   "id": "3457fce6",
   "metadata": {},
   "outputs": [],
   "source": []
  },
  {
   "cell_type": "code",
   "execution_count": null,
   "id": "82b73b50",
   "metadata": {},
   "outputs": [],
   "source": []
  },
  {
   "cell_type": "code",
   "execution_count": null,
   "id": "61af6857",
   "metadata": {},
   "outputs": [],
   "source": []
  },
  {
   "cell_type": "code",
   "execution_count": null,
   "id": "ef9c0b2f",
   "metadata": {},
   "outputs": [],
   "source": []
  },
  {
   "cell_type": "code",
   "execution_count": null,
   "id": "a4636eff",
   "metadata": {},
   "outputs": [],
   "source": []
  },
  {
   "cell_type": "code",
   "execution_count": null,
   "id": "26a29269",
   "metadata": {},
   "outputs": [],
   "source": []
  },
  {
   "cell_type": "code",
   "execution_count": null,
   "id": "c8f09bb5",
   "metadata": {},
   "outputs": [],
   "source": []
  },
  {
   "cell_type": "code",
   "execution_count": null,
   "id": "af2f8cf3",
   "metadata": {},
   "outputs": [],
   "source": []
  },
  {
   "cell_type": "code",
   "execution_count": null,
   "id": "5dceafbd",
   "metadata": {},
   "outputs": [],
   "source": []
  },
  {
   "cell_type": "code",
   "execution_count": null,
   "id": "98a50870",
   "metadata": {},
   "outputs": [],
   "source": []
  },
  {
   "cell_type": "code",
   "execution_count": null,
   "id": "5e3c2fd5",
   "metadata": {},
   "outputs": [],
   "source": []
  },
  {
   "cell_type": "code",
   "execution_count": null,
   "id": "490fbf2b",
   "metadata": {},
   "outputs": [],
   "source": []
  },
  {
   "cell_type": "code",
   "execution_count": null,
   "id": "060582fc",
   "metadata": {},
   "outputs": [],
   "source": []
  },
  {
   "cell_type": "code",
   "execution_count": null,
   "id": "cd866383",
   "metadata": {},
   "outputs": [],
   "source": []
  },
  {
   "cell_type": "code",
   "execution_count": null,
   "id": "75442b6e",
   "metadata": {},
   "outputs": [],
   "source": [
    "print(\"The shape of test data is\"{test_data})\n",
    "print('The shape of test data is'{test_data})"
   ]
  },
  {
   "cell_type": "code",
   "execution_count": null,
   "id": "b90443cd",
   "metadata": {},
   "outputs": [],
   "source": []
  },
  {
   "cell_type": "code",
   "execution_count": null,
   "id": "1efc45c8",
   "metadata": {},
   "outputs": [],
   "source": []
  },
  {
   "cell_type": "code",
   "execution_count": null,
   "id": "49d2a9f9",
   "metadata": {},
   "outputs": [],
   "source": []
  },
  {
   "cell_type": "code",
   "execution_count": null,
   "id": "97b3844e",
   "metadata": {},
   "outputs": [],
   "source": []
  },
  {
   "cell_type": "code",
   "execution_count": null,
   "id": "aee5f121",
   "metadata": {},
   "outputs": [],
   "source": [
    "test_data.head()"
   ]
  },
  {
   "cell_type": "code",
   "execution_count": null,
   "id": "cb23b3b7",
   "metadata": {},
   "outputs": [],
   "source": [
    "test_data.shape"
   ]
  },
  {
   "cell_type": "code",
   "execution_count": null,
   "id": "f6f6c0e5",
   "metadata": {},
   "outputs": [],
   "source": [
    "train_data.dtypes"
   ]
  },
  {
   "cell_type": "code",
   "execution_count": null,
   "id": "8c69d1e0",
   "metadata": {},
   "outputs": [],
   "source": [
    "test_data.dtypes"
   ]
  },
  {
   "cell_type": "code",
   "execution_count": null,
   "id": "8c8dd41f",
   "metadata": {},
   "outputs": [],
   "source": [
    "train_data.isnull().sum()"
   ]
  },
  {
   "cell_type": "code",
   "execution_count": null,
   "id": "ffb0de47",
   "metadata": {},
   "outputs": [],
   "source": [
    "test_data.isnull().sum()"
   ]
  },
  {
   "cell_type": "code",
   "execution_count": null,
   "id": "7ba6b9f2",
   "metadata": {},
   "outputs": [],
   "source": [
    "train_data.describe()"
   ]
  },
  {
   "cell_type": "code",
   "execution_count": null,
   "id": "6a8bc485",
   "metadata": {},
   "outputs": [],
   "source": [
    "test_data.describe()"
   ]
  },
  {
   "cell_type": "code",
   "execution_count": null,
   "id": "9f2213a2",
   "metadata": {},
   "outputs": [],
   "source": [
    "train_data.hist(figsize=(12, 10))"
   ]
  },
  {
   "cell_type": "code",
   "execution_count": null,
   "id": "3e7a2a44",
   "metadata": {},
   "outputs": [],
   "source": [
    "# Filter out only the numerical columns\n",
    "numerical_columns = train_data.select_dtypes(include=['int', 'float'])\n",
    "\n",
    "plt.figure(figsize=(10, 6))  # Adjust the figure size as needed\n",
    "\n",
    "# Create a boxplot using Seaborn\n",
    "sns.boxplot(data=train_data)\n",
    "\n",
    "plt.title(\"Boxplot of Multiple Columns\")\n",
    "plt.xlabel(\"Columns\")\n",
    "plt.ylabel(\"Values\")\n",
    "\n",
    "plt.tight_layout()\n",
    "plt.show()\n"
   ]
  },
  {
   "cell_type": "code",
   "execution_count": null,
   "id": "b1e5e1fb",
   "metadata": {},
   "outputs": [],
   "source": []
  },
  {
   "cell_type": "code",
   "execution_count": null,
   "id": "dbbd4bd4",
   "metadata": {},
   "outputs": [],
   "source": []
  },
  {
   "cell_type": "code",
   "execution_count": null,
   "id": "57b29a17",
   "metadata": {},
   "outputs": [],
   "source": [
    "#Handling missing values\n",
    "\n",
    "\n",
    "print(train_data.isnull().sum())"
   ]
  },
  {
   "cell_type": "code",
   "execution_count": null,
   "id": "b209e08d",
   "metadata": {},
   "outputs": [],
   "source": [
    "train_data.columns"
   ]
  },
  {
   "cell_type": "code",
   "execution_count": null,
   "id": "378d35e2",
   "metadata": {},
   "outputs": [],
   "source": [
    "def drop_columns(  train_data,  test_data, 'ID', 'education_institute', 'is_hispanic','employment_commitment','unemployment_reason', 'employment_stat',\n",
    "       'is_labor_union', 'industry_code', 'industry_code_main', 'occupation_code','total_employed', 'household_stat', \n",
    "       'household_summary', 'under_18_family', 'veterans_admin_questionnaire', 'vet_benefit', 'tax_status', 'stocks_status',\n",
    "       'mig_year', 'country_of_birth_father', 'country_of_birth_mother', 'migration_code_change_in_msa',\n",
    "       'migration_prev_sunbelt', 'migration_code_move_within_reg', 'migration_code_change_in_reg', 'residence_1_year_ago',\n",
    "       'old_residence_reg', 'old_residence_state', 'importance_of_record'):\n",
    "    \n",
    "    train_data = train_data.drop(columns=columns_to_drop, inplace=False)\n",
    "    test_data = test_data.drop(columns=columns_to_drop, inplace=False)\n",
    "    return train_data, test_data"
   ]
  },
  {
   "cell_type": "code",
   "execution_count": null,
   "id": "3df296ac",
   "metadata": {},
   "outputs": [],
   "source": []
  },
  {
   "cell_type": "code",
   "execution_count": null,
   "id": "ed028fd0",
   "metadata": {},
   "outputs": [],
   "source": []
  },
  {
   "cell_type": "code",
   "execution_count": null,
   "id": "32f0749d",
   "metadata": {},
   "outputs": [],
   "source": []
  },
  {
   "cell_type": "code",
   "execution_count": null,
   "id": "06fa65ac",
   "metadata": {},
   "outputs": [],
   "source": []
  },
  {
   "cell_type": "markdown",
   "id": "68ae8aab",
   "metadata": {},
   "source": [
    "#### Categorical Values"
   ]
  },
  {
   "cell_type": "code",
   "execution_count": null,
   "id": "a68d67e9",
   "metadata": {},
   "outputs": [],
   "source": [
    "def plot_numerical_countplots(train_data):\n",
    "    numerical_columns = data.select_dtypes(include=['int64', 'float64']).columns\n",
    "\n",
    "    for column in numerical_columns:\n",
    "        plt.figure(figsize=(8, 6))\n",
    "        sns.countplot(data[column])\n",
    "        plt.title(f'Countplot of {column}', fontsize=16)\n",
    "        plt.xlabel(column, fontsize=14)\n",
    "        plt.ylabel('Count', fontsize=14)\n",
    "        plt.xticks(rotation=45)\n",
    "        plt.show()\n",
    "\n",
    "# Example usage\n",
    "# Assuming 'df' is your DataFrame\n",
    "plot_numerical_countplots(train_data)\n"
   ]
  },
  {
   "cell_type": "code",
   "execution_count": null,
   "id": "87535cb2",
   "metadata": {},
   "outputs": [],
   "source": [
    "#def plot_countplots_for_categorical(train_data):\n",
    "    #Get a list of column name with categorical data\n",
    "    #categorical_columns = train_data.select_dtypes(include=['object']).columns.tolist()\n",
    "    \n",
    "    #loops through categorical columns and create count plots\n",
    "    #for columns in categorical_columns:\n",
    "        \n",
    "        #Set the figure size\n",
    "       # plt.figure(figsize=(8,6))\n",
    "        #sns.countplot(x=columns,data=train_data)\n",
    "        \n",
    "        #plt.xlabel(column)\n",
    "        #Set x-axis label\n",
    "       # plt.ylabel('Count')\n",
    "        #Set y-axis label\n",
    "        \n",
    "       # plt.title(f'Count plot of {column}')\n",
    "        #Set plot title\n",
    "        \n",
    "       # plt.xticks(rotation=45)\n",
    "        #Rotate x-axis labels for readability\n",
    "        \n",
    "        #plt.show() "
   ]
  },
  {
   "cell_type": "code",
   "execution_count": null,
   "id": "c4cbe230",
   "metadata": {},
   "outputs": [],
   "source": [
    "#Example usage with your Dataframe 'df'\n",
    "\n",
    "plot_countplots_for_categorical(train_data)"
   ]
  },
  {
   "cell_type": "code",
   "execution_count": null,
   "id": "3bcadc77",
   "metadata": {},
   "outputs": [],
   "source": [
    "#Explore categorical variables with count plots\n",
    "\n",
    "sns.countplot(x='gender', data = train_data)"
   ]
  },
  {
   "cell_type": "code",
   "execution_count": null,
   "id": "93f6d273",
   "metadata": {},
   "outputs": [],
   "source": []
  },
  {
   "cell_type": "code",
   "execution_count": null,
   "id": "3fab250f",
   "metadata": {},
   "outputs": [],
   "source": []
  },
  {
   "cell_type": "code",
   "execution_count": null,
   "id": "ce78c7d9",
   "metadata": {},
   "outputs": [],
   "source": []
  },
  {
   "cell_type": "code",
   "execution_count": null,
   "id": "d03999e3",
   "metadata": {},
   "outputs": [],
   "source": []
  },
  {
   "cell_type": "code",
   "execution_count": null,
   "id": "7e6d4626",
   "metadata": {},
   "outputs": [],
   "source": []
  },
  {
   "cell_type": "code",
   "execution_count": null,
   "id": "3d8f4052",
   "metadata": {},
   "outputs": [],
   "source": []
  },
  {
   "cell_type": "code",
   "execution_count": null,
   "id": "04905e84",
   "metadata": {},
   "outputs": [],
   "source": [
    "#Univariate Analysis\n",
    "\n",
    "train_data['column_name'].hist()\n",
    "plt.xlabel('X-axis Label')\n",
    "plt.xlabel('X-axis Label')\n",
    "plt.title('Title')\n",
    "plt.show()"
   ]
  },
  {
   "cell_type": "code",
   "execution_count": null,
   "id": "3107136c",
   "metadata": {},
   "outputs": [],
   "source": [
    "#Bivariate Analysis\n",
    "\n",
    "sns.scatterplot(x='column1', y='column2', data = train_data)"
   ]
  },
  {
   "cell_type": "code",
   "execution_count": null,
   "id": "32945323",
   "metadata": {},
   "outputs": [],
   "source": [
    "#categorical variables\n",
    "\n",
    "sns.countplot(x='category_column', data=train_data)"
   ]
  },
  {
   "cell_type": "code",
   "execution_count": null,
   "id": "7c3ef0d3",
   "metadata": {},
   "outputs": [],
   "source": [
    "train_data['categorical_column'].value_counts()"
   ]
  },
  {
   "cell_type": "code",
   "execution_count": null,
   "id": "5a964ef3",
   "metadata": {},
   "outputs": [],
   "source": []
  },
  {
   "cell_type": "code",
   "execution_count": null,
   "id": "868599de",
   "metadata": {},
   "outputs": [],
   "source": [
    "train_data('education_institute').unique()"
   ]
  },
  {
   "cell_type": "code",
   "execution_count": null,
   "id": "f9964728",
   "metadata": {},
   "outputs": [],
   "source": [
    "#Print out unique values of every column in the dataset\n",
    "\n",
    "def print_unique_values(train_data):\n",
    "    for column in train_data.columns:\n",
    "        unique_values = \n",
    "train_data[column].unique()\n",
    "        print(f\"Unique values in {columns}: {unique_values}\" )"
   ]
  },
  {
   "cell_type": "code",
   "execution_count": null,
   "id": "3f656fd3",
   "metadata": {},
   "outputs": [],
   "source": []
  },
  {
   "cell_type": "code",
   "execution_count": null,
   "id": "2c30e900",
   "metadata": {},
   "outputs": [],
   "source": []
  },
  {
   "cell_type": "code",
   "execution_count": null,
   "id": "203b96b1",
   "metadata": {},
   "outputs": [],
   "source": []
  },
  {
   "cell_type": "code",
   "execution_count": null,
   "id": "88d9a71e",
   "metadata": {},
   "outputs": [],
   "source": []
  },
  {
   "cell_type": "code",
   "execution_count": null,
   "id": "9dd87651",
   "metadata": {},
   "outputs": [],
   "source": []
  },
  {
   "cell_type": "code",
   "execution_count": null,
   "id": "7757ff21",
   "metadata": {},
   "outputs": [],
   "source": [
    "#train_data['education_institute'].fillna(0, inplace = True)\n",
    "#print()"
   ]
  }
 ],
 "metadata": {
  "kernelspec": {
   "display_name": "Python 3 (ipykernel)",
   "language": "python",
   "name": "python3"
  },
  "language_info": {
   "codemirror_mode": {
    "name": "ipython",
    "version": 3
   },
   "file_extension": ".py",
   "mimetype": "text/x-python",
   "name": "python",
   "nbconvert_exporter": "python",
   "pygments_lexer": "ipython3",
   "version": "3.11.1"
  }
 },
 "nbformat": 4,
 "nbformat_minor": 5
}
