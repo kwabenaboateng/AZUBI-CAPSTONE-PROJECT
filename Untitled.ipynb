{
 "cells": [
  {
   "cell_type": "markdown",
   "id": "50d3fb0d",
   "metadata": {},
   "source": [
    "## AZUBI CAPSTONE PROJECT"
   ]
  },
  {
   "cell_type": "markdown",
   "id": "067ab8e2",
   "metadata": {},
   "source": [
    "#### IMPORT LIBRARY PACKAGES"
   ]
  },
  {
   "cell_type": "code",
   "execution_count": 1,
   "id": "a45ce9fb",
   "metadata": {},
   "outputs": [],
   "source": [
    "#Data Handling\n",
    "import numpy as np\n",
    "import pandas as pd\n",
    "\n",
    "#Visualizations\n",
    "import seaborn as sns\n",
    "import plotly.express as px\n",
    "import matplotlib.pyplot as plt\n",
    "\n",
    "from termcolor import colored\n",
    "\n",
    "# Feature Processing (Scikit-learn processing, etc. )\n",
    "from sklearn.preprocessing import LabelEncoder\n",
    "\n",
    "# Evaluation Metrics\n",
    "from sklearn.model_selection import train_test_split\n",
    "from catboost import CatBoostClassifier\n",
    "from sklearn.metrics import f1_score, recall_score, precision_score, fbeta_score, accuracy_score, roc_auc_score\n",
    "from sklearn.metrics import confusion_matrix\n",
    "from sklearn.feature_selection import RFE\n",
    "\n",
    "#Other packages\n",
    "import warnings\n",
    "warnings.filterwarnings('always') "
   ]
  },
  {
   "cell_type": "markdown",
   "id": "ce57975a",
   "metadata": {},
   "source": [
    "#### Load the Data."
   ]
  },
  {
   "cell_type": "markdown",
   "id": "21601fe8",
   "metadata": {},
   "source": [
    "For this project, there are two datasets, namely:\n",
    "* <b> Train data: </b> This is the data which we will be using to train the model. Since we are solving a classification problem, we will have a column in train dataset corresponding to the target labels. \n",
    "* <b> Test data: </b> This is the data on which the predictions will be made based on the model trained on train dataset. "
   ]
  },
  {
   "cell_type": "code",
   "execution_count": 2,
   "id": "e10208a0",
   "metadata": {},
   "outputs": [],
   "source": [
    "train_data = pd.read_csv(\"C:/Users/KWABENABOATENG/Desktop/AZUBI AFRICA/AZUBI CAPSTONE/AZUBI-CAPSTONE-PROJECT/DATASETS/Train.csv\")\n",
    "test_data = pd.read_csv(\"C:/Users/KWABENABOATENG/Desktop/AZUBI AFRICA/AZUBI CAPSTONE/AZUBI-CAPSTONE-PROJECT/DATASETS/Test.csv\")"
   ]
  },
  {
   "cell_type": "markdown",
   "id": "10addf04",
   "metadata": {},
   "source": [
    "## EXPLORATORY DATA EXPLORATION"
   ]
  },
  {
   "cell_type": "markdown",
   "id": "84afb062",
   "metadata": {},
   "source": [
    "### EXPLORE THE TRAIN DATASET"
   ]
  },
  {
   "cell_type": "code",
   "execution_count": 3,
   "id": "302d848c",
   "metadata": {},
   "outputs": [
    {
     "data": {
      "text/html": [
       "<div>\n",
       "<style scoped>\n",
       "    .dataframe tbody tr th:only-of-type {\n",
       "        vertical-align: middle;\n",
       "    }\n",
       "\n",
       "    .dataframe tbody tr th {\n",
       "        vertical-align: top;\n",
       "    }\n",
       "\n",
       "    .dataframe thead th {\n",
       "        text-align: right;\n",
       "    }\n",
       "</style>\n",
       "<table border=\"1\" class=\"dataframe\">\n",
       "  <thead>\n",
       "    <tr style=\"text-align: right;\">\n",
       "      <th></th>\n",
       "      <th>ID</th>\n",
       "      <th>age</th>\n",
       "      <th>gender</th>\n",
       "      <th>education</th>\n",
       "      <th>class</th>\n",
       "      <th>education_institute</th>\n",
       "      <th>marital_status</th>\n",
       "      <th>race</th>\n",
       "      <th>is_hispanic</th>\n",
       "      <th>employment_commitment</th>\n",
       "      <th>...</th>\n",
       "      <th>country_of_birth_mother</th>\n",
       "      <th>migration_code_change_in_msa</th>\n",
       "      <th>migration_prev_sunbelt</th>\n",
       "      <th>migration_code_move_within_reg</th>\n",
       "      <th>migration_code_change_in_reg</th>\n",
       "      <th>residence_1_year_ago</th>\n",
       "      <th>old_residence_reg</th>\n",
       "      <th>old_residence_state</th>\n",
       "      <th>importance_of_record</th>\n",
       "      <th>income_above_limit</th>\n",
       "    </tr>\n",
       "  </thead>\n",
       "  <tbody>\n",
       "    <tr>\n",
       "      <th>0</th>\n",
       "      <td>ID_TZ0000</td>\n",
       "      <td>79</td>\n",
       "      <td>Female</td>\n",
       "      <td>High school graduate</td>\n",
       "      <td>NaN</td>\n",
       "      <td>NaN</td>\n",
       "      <td>Widowed</td>\n",
       "      <td>White</td>\n",
       "      <td>All other</td>\n",
       "      <td>Not in labor force</td>\n",
       "      <td>...</td>\n",
       "      <td>US</td>\n",
       "      <td>?</td>\n",
       "      <td>?</td>\n",
       "      <td>?</td>\n",
       "      <td>?</td>\n",
       "      <td>NaN</td>\n",
       "      <td>NaN</td>\n",
       "      <td>NaN</td>\n",
       "      <td>1779.74</td>\n",
       "      <td>Below limit</td>\n",
       "    </tr>\n",
       "    <tr>\n",
       "      <th>1</th>\n",
       "      <td>ID_TZ0001</td>\n",
       "      <td>65</td>\n",
       "      <td>Female</td>\n",
       "      <td>High school graduate</td>\n",
       "      <td>NaN</td>\n",
       "      <td>NaN</td>\n",
       "      <td>Widowed</td>\n",
       "      <td>White</td>\n",
       "      <td>All other</td>\n",
       "      <td>Children or Armed Forces</td>\n",
       "      <td>...</td>\n",
       "      <td>US</td>\n",
       "      <td>unchanged</td>\n",
       "      <td>NaN</td>\n",
       "      <td>unchanged</td>\n",
       "      <td>unchanged</td>\n",
       "      <td>Same</td>\n",
       "      <td>NaN</td>\n",
       "      <td>NaN</td>\n",
       "      <td>2366.75</td>\n",
       "      <td>Below limit</td>\n",
       "    </tr>\n",
       "    <tr>\n",
       "      <th>2</th>\n",
       "      <td>ID_TZ0002</td>\n",
       "      <td>21</td>\n",
       "      <td>Male</td>\n",
       "      <td>12th grade no diploma</td>\n",
       "      <td>Federal government</td>\n",
       "      <td>NaN</td>\n",
       "      <td>Never married</td>\n",
       "      <td>Black</td>\n",
       "      <td>All other</td>\n",
       "      <td>Children or Armed Forces</td>\n",
       "      <td>...</td>\n",
       "      <td>US</td>\n",
       "      <td>unchanged</td>\n",
       "      <td>NaN</td>\n",
       "      <td>unchanged</td>\n",
       "      <td>unchanged</td>\n",
       "      <td>Same</td>\n",
       "      <td>NaN</td>\n",
       "      <td>NaN</td>\n",
       "      <td>1693.42</td>\n",
       "      <td>Below limit</td>\n",
       "    </tr>\n",
       "    <tr>\n",
       "      <th>3</th>\n",
       "      <td>ID_TZ0003</td>\n",
       "      <td>2</td>\n",
       "      <td>Female</td>\n",
       "      <td>Children</td>\n",
       "      <td>NaN</td>\n",
       "      <td>NaN</td>\n",
       "      <td>Never married</td>\n",
       "      <td>Asian or Pacific Islander</td>\n",
       "      <td>All other</td>\n",
       "      <td>Children or Armed Forces</td>\n",
       "      <td>...</td>\n",
       "      <td>India</td>\n",
       "      <td>unchanged</td>\n",
       "      <td>NaN</td>\n",
       "      <td>unchanged</td>\n",
       "      <td>unchanged</td>\n",
       "      <td>Same</td>\n",
       "      <td>NaN</td>\n",
       "      <td>NaN</td>\n",
       "      <td>1380.27</td>\n",
       "      <td>Below limit</td>\n",
       "    </tr>\n",
       "    <tr>\n",
       "      <th>4</th>\n",
       "      <td>ID_TZ0004</td>\n",
       "      <td>70</td>\n",
       "      <td>Male</td>\n",
       "      <td>High school graduate</td>\n",
       "      <td>NaN</td>\n",
       "      <td>NaN</td>\n",
       "      <td>Married-civilian spouse present</td>\n",
       "      <td>White</td>\n",
       "      <td>All other</td>\n",
       "      <td>Not in labor force</td>\n",
       "      <td>...</td>\n",
       "      <td>US</td>\n",
       "      <td>?</td>\n",
       "      <td>?</td>\n",
       "      <td>?</td>\n",
       "      <td>?</td>\n",
       "      <td>NaN</td>\n",
       "      <td>NaN</td>\n",
       "      <td>NaN</td>\n",
       "      <td>1580.79</td>\n",
       "      <td>Below limit</td>\n",
       "    </tr>\n",
       "  </tbody>\n",
       "</table>\n",
       "<p>5 rows × 43 columns</p>\n",
       "</div>"
      ],
      "text/plain": [
       "          ID  age   gender               education                class  \\\n",
       "0  ID_TZ0000   79   Female    High school graduate                  NaN   \n",
       "1  ID_TZ0001   65   Female    High school graduate                  NaN   \n",
       "2  ID_TZ0002   21     Male   12th grade no diploma   Federal government   \n",
       "3  ID_TZ0003    2   Female                Children                  NaN   \n",
       "4  ID_TZ0004   70     Male    High school graduate                  NaN   \n",
       "\n",
       "  education_institute                    marital_status  \\\n",
       "0                 NaN                           Widowed   \n",
       "1                 NaN                           Widowed   \n",
       "2                 NaN                     Never married   \n",
       "3                 NaN                     Never married   \n",
       "4                 NaN   Married-civilian spouse present   \n",
       "\n",
       "                         race is_hispanic      employment_commitment  ...  \\\n",
       "0                       White   All other         Not in labor force  ...   \n",
       "1                       White   All other   Children or Armed Forces  ...   \n",
       "2                       Black   All other   Children or Armed Forces  ...   \n",
       "3   Asian or Pacific Islander   All other   Children or Armed Forces  ...   \n",
       "4                       White   All other         Not in labor force  ...   \n",
       "\n",
       "  country_of_birth_mother  migration_code_change_in_msa  \\\n",
       "0                      US                             ?   \n",
       "1                      US                     unchanged   \n",
       "2                      US                     unchanged   \n",
       "3                   India                     unchanged   \n",
       "4                      US                             ?   \n",
       "\n",
       "   migration_prev_sunbelt migration_code_move_within_reg  \\\n",
       "0                       ?                              ?   \n",
       "1                     NaN                      unchanged   \n",
       "2                     NaN                      unchanged   \n",
       "3                     NaN                      unchanged   \n",
       "4                       ?                              ?   \n",
       "\n",
       "   migration_code_change_in_reg  residence_1_year_ago old_residence_reg  \\\n",
       "0                             ?                   NaN               NaN   \n",
       "1                     unchanged                  Same               NaN   \n",
       "2                     unchanged                  Same               NaN   \n",
       "3                     unchanged                  Same               NaN   \n",
       "4                             ?                   NaN               NaN   \n",
       "\n",
       "   old_residence_state importance_of_record  income_above_limit  \n",
       "0                  NaN              1779.74         Below limit  \n",
       "1                  NaN              2366.75         Below limit  \n",
       "2                  NaN              1693.42         Below limit  \n",
       "3                  NaN              1380.27         Below limit  \n",
       "4                  NaN              1580.79         Below limit  \n",
       "\n",
       "[5 rows x 43 columns]"
      ]
     },
     "execution_count": 3,
     "metadata": {},
     "output_type": "execute_result"
    }
   ],
   "source": [
    "#Overview of the train dataset.\n",
    "\n",
    "train_data.head()"
   ]
  },
  {
   "cell_type": "code",
   "execution_count": 14,
   "id": "176c02ca",
   "metadata": {},
   "outputs": [
    {
     "name": "stdout",
     "output_type": "stream",
     "text": [
      "The shape of the train dataset is: (209499, 14)\n"
     ]
    }
   ],
   "source": [
    "#Check the shape of the train dataset.\n",
    "\n",
    "print(f\"The shape of the train dataset is: {train_data.shape}\")"
   ]
  },
  {
   "cell_type": "code",
   "execution_count": 15,
   "id": "7fa82600",
   "metadata": {},
   "outputs": [
    {
     "name": "stdout",
     "output_type": "stream",
     "text": [
      "<class 'pandas.core.frame.DataFrame'>\n",
      "RangeIndex: 209499 entries, 0 to 209498\n",
      "Data columns (total 14 columns):\n",
      " #   Column                 Non-Null Count   Dtype \n",
      "---  ------                 --------------   ----- \n",
      " 0   age                    209499 non-null  int64 \n",
      " 1   gender                 209499 non-null  object\n",
      " 2   education              209499 non-null  object\n",
      " 3   class                  104254 non-null  object\n",
      " 4   marital_status         209499 non-null  object\n",
      " 5   race                   209499 non-null  object\n",
      " 6   hourly_wage            209499 non-null  int64 \n",
      " 7   working_week_per_year  209499 non-null  int64 \n",
      " 8   occupation             103805 non-null  object\n",
      " 9   gains                  209499 non-null  int64 \n",
      " 10  losses                 209499 non-null  int64 \n",
      " 11  citizenship            209499 non-null  object\n",
      " 12  country_of_birth       209499 non-null  object\n",
      " 13  income_above_limit     209499 non-null  object\n",
      "dtypes: int64(5), object(9)\n",
      "memory usage: 22.4+ MB\n"
     ]
    }
   ],
   "source": [
    "#Check the shape of the train dataset.\n",
    "\n",
    "train_data.info()"
   ]
  },
  {
   "cell_type": "code",
   "execution_count": 17,
   "id": "df6d0dd1",
   "metadata": {},
   "outputs": [
    {
     "data": {
      "text/plain": [
       "age                           0\n",
       "gender                        0\n",
       "education                     0\n",
       "class                    105245\n",
       "marital_status                0\n",
       "race                          0\n",
       "hourly_wage                   0\n",
       "working_week_per_year         0\n",
       "occupation               105694\n",
       "gains                         0\n",
       "losses                        0\n",
       "citizenship                   0\n",
       "country_of_birth              0\n",
       "income_above_limit            0\n",
       "dtype: int64"
      ]
     },
     "execution_count": 17,
     "metadata": {},
     "output_type": "execute_result"
    }
   ],
   "source": [
    "train_data.isnull().sum()"
   ]
  },
  {
   "cell_type": "markdown",
   "id": "1be958eb",
   "metadata": {},
   "source": [
    "#### INSIGHTS\n",
    "\n",
    "From the records above, it clearly shows that after some columns were dropped to aid in making the work easier. <br>\n",
    "Some columns had some missing values and they are :<br>\n",
    "* Class columns with a total number of <b> 105245 </b> missing values.\n",
    "* Occupation code main columns with a total number of <b> 105694 </b> missing values."
   ]
  },
  {
   "cell_type": "code",
   "execution_count": 16,
   "id": "404940dc",
   "metadata": {},
   "outputs": [
    {
     "data": {
      "text/html": [
       "<div>\n",
       "<style scoped>\n",
       "    .dataframe tbody tr th:only-of-type {\n",
       "        vertical-align: middle;\n",
       "    }\n",
       "\n",
       "    .dataframe tbody tr th {\n",
       "        vertical-align: top;\n",
       "    }\n",
       "\n",
       "    .dataframe thead th {\n",
       "        text-align: right;\n",
       "    }\n",
       "</style>\n",
       "<table border=\"1\" class=\"dataframe\">\n",
       "  <thead>\n",
       "    <tr style=\"text-align: right;\">\n",
       "      <th></th>\n",
       "      <th>age</th>\n",
       "      <th>hourly_wage</th>\n",
       "      <th>working_week_per_year</th>\n",
       "      <th>gains</th>\n",
       "      <th>losses</th>\n",
       "    </tr>\n",
       "  </thead>\n",
       "  <tbody>\n",
       "    <tr>\n",
       "      <th>count</th>\n",
       "      <td>209499.000000</td>\n",
       "      <td>209499.000000</td>\n",
       "      <td>209499.000000</td>\n",
       "      <td>209499.000000</td>\n",
       "      <td>209499.000000</td>\n",
       "    </tr>\n",
       "    <tr>\n",
       "      <th>mean</th>\n",
       "      <td>34.518728</td>\n",
       "      <td>55.433487</td>\n",
       "      <td>23.158850</td>\n",
       "      <td>435.926887</td>\n",
       "      <td>36.881737</td>\n",
       "    </tr>\n",
       "    <tr>\n",
       "      <th>std</th>\n",
       "      <td>22.306738</td>\n",
       "      <td>276.757327</td>\n",
       "      <td>24.397963</td>\n",
       "      <td>4696.359500</td>\n",
       "      <td>270.383302</td>\n",
       "    </tr>\n",
       "    <tr>\n",
       "      <th>min</th>\n",
       "      <td>0.000000</td>\n",
       "      <td>0.000000</td>\n",
       "      <td>0.000000</td>\n",
       "      <td>0.000000</td>\n",
       "      <td>0.000000</td>\n",
       "    </tr>\n",
       "    <tr>\n",
       "      <th>25%</th>\n",
       "      <td>15.000000</td>\n",
       "      <td>0.000000</td>\n",
       "      <td>0.000000</td>\n",
       "      <td>0.000000</td>\n",
       "      <td>0.000000</td>\n",
       "    </tr>\n",
       "    <tr>\n",
       "      <th>50%</th>\n",
       "      <td>33.000000</td>\n",
       "      <td>0.000000</td>\n",
       "      <td>8.000000</td>\n",
       "      <td>0.000000</td>\n",
       "      <td>0.000000</td>\n",
       "    </tr>\n",
       "    <tr>\n",
       "      <th>75%</th>\n",
       "      <td>50.000000</td>\n",
       "      <td>0.000000</td>\n",
       "      <td>52.000000</td>\n",
       "      <td>0.000000</td>\n",
       "      <td>0.000000</td>\n",
       "    </tr>\n",
       "    <tr>\n",
       "      <th>max</th>\n",
       "      <td>90.000000</td>\n",
       "      <td>9999.000000</td>\n",
       "      <td>52.000000</td>\n",
       "      <td>99999.000000</td>\n",
       "      <td>4608.000000</td>\n",
       "    </tr>\n",
       "  </tbody>\n",
       "</table>\n",
       "</div>"
      ],
      "text/plain": [
       "                 age    hourly_wage  working_week_per_year          gains  \\\n",
       "count  209499.000000  209499.000000          209499.000000  209499.000000   \n",
       "mean       34.518728      55.433487              23.158850     435.926887   \n",
       "std        22.306738     276.757327              24.397963    4696.359500   \n",
       "min         0.000000       0.000000               0.000000       0.000000   \n",
       "25%        15.000000       0.000000               0.000000       0.000000   \n",
       "50%        33.000000       0.000000               8.000000       0.000000   \n",
       "75%        50.000000       0.000000              52.000000       0.000000   \n",
       "max        90.000000    9999.000000              52.000000   99999.000000   \n",
       "\n",
       "              losses  \n",
       "count  209499.000000  \n",
       "mean       36.881737  \n",
       "std       270.383302  \n",
       "min         0.000000  \n",
       "25%         0.000000  \n",
       "50%         0.000000  \n",
       "75%         0.000000  \n",
       "max      4608.000000  "
      ]
     },
     "execution_count": 16,
     "metadata": {},
     "output_type": "execute_result"
    }
   ],
   "source": [
    "train_data.describe()"
   ]
  },
  {
   "cell_type": "code",
   "execution_count": null,
   "id": "0019376e",
   "metadata": {},
   "outputs": [],
   "source": []
  },
  {
   "cell_type": "markdown",
   "id": "ce46de18",
   "metadata": {},
   "source": [
    "### EXPLORE THE TEST DATASET."
   ]
  },
  {
   "cell_type": "code",
   "execution_count": 18,
   "id": "10950807",
   "metadata": {},
   "outputs": [
    {
     "data": {
      "text/html": [
       "<div>\n",
       "<style scoped>\n",
       "    .dataframe tbody tr th:only-of-type {\n",
       "        vertical-align: middle;\n",
       "    }\n",
       "\n",
       "    .dataframe tbody tr th {\n",
       "        vertical-align: top;\n",
       "    }\n",
       "\n",
       "    .dataframe thead th {\n",
       "        text-align: right;\n",
       "    }\n",
       "</style>\n",
       "<table border=\"1\" class=\"dataframe\">\n",
       "  <thead>\n",
       "    <tr style=\"text-align: right;\">\n",
       "      <th></th>\n",
       "      <th>age</th>\n",
       "      <th>gender</th>\n",
       "      <th>education</th>\n",
       "      <th>class</th>\n",
       "      <th>marital_status</th>\n",
       "      <th>race</th>\n",
       "      <th>hourly_wage</th>\n",
       "      <th>working_week_per_year</th>\n",
       "      <th>occupation</th>\n",
       "      <th>gains</th>\n",
       "      <th>losses</th>\n",
       "      <th>citizenship</th>\n",
       "      <th>country_of_birth</th>\n",
       "    </tr>\n",
       "  </thead>\n",
       "  <tbody>\n",
       "    <tr>\n",
       "      <th>0</th>\n",
       "      <td>54</td>\n",
       "      <td>Male</td>\n",
       "      <td>High school graduate</td>\n",
       "      <td>Private</td>\n",
       "      <td>Married-civilian spouse present</td>\n",
       "      <td>White</td>\n",
       "      <td>600</td>\n",
       "      <td>46</td>\n",
       "      <td>Transportation and material moving</td>\n",
       "      <td>0</td>\n",
       "      <td>0</td>\n",
       "      <td>Native</td>\n",
       "      <td>US</td>\n",
       "    </tr>\n",
       "    <tr>\n",
       "      <th>1</th>\n",
       "      <td>53</td>\n",
       "      <td>Male</td>\n",
       "      <td>5th or 6th grade</td>\n",
       "      <td>Private</td>\n",
       "      <td>Married-civilian spouse present</td>\n",
       "      <td>White</td>\n",
       "      <td>0</td>\n",
       "      <td>52</td>\n",
       "      <td>Machine operators assmblrs &amp; inspctrs</td>\n",
       "      <td>0</td>\n",
       "      <td>0</td>\n",
       "      <td>Foreign born- Not a citizen of U S</td>\n",
       "      <td>El-Salvador</td>\n",
       "    </tr>\n",
       "    <tr>\n",
       "      <th>2</th>\n",
       "      <td>42</td>\n",
       "      <td>Male</td>\n",
       "      <td>Bachelors degree(BA AB BS)</td>\n",
       "      <td>Private</td>\n",
       "      <td>Married-civilian spouse present</td>\n",
       "      <td>White</td>\n",
       "      <td>0</td>\n",
       "      <td>44</td>\n",
       "      <td>Professional specialty</td>\n",
       "      <td>15024</td>\n",
       "      <td>0</td>\n",
       "      <td>Native</td>\n",
       "      <td>US</td>\n",
       "    </tr>\n",
       "    <tr>\n",
       "      <th>3</th>\n",
       "      <td>16</td>\n",
       "      <td>Female</td>\n",
       "      <td>9th grade</td>\n",
       "      <td>NaN</td>\n",
       "      <td>Never married</td>\n",
       "      <td>White</td>\n",
       "      <td>0</td>\n",
       "      <td>8</td>\n",
       "      <td>NaN</td>\n",
       "      <td>0</td>\n",
       "      <td>0</td>\n",
       "      <td>Native</td>\n",
       "      <td>US</td>\n",
       "    </tr>\n",
       "    <tr>\n",
       "      <th>4</th>\n",
       "      <td>16</td>\n",
       "      <td>Male</td>\n",
       "      <td>9th grade</td>\n",
       "      <td>NaN</td>\n",
       "      <td>Never married</td>\n",
       "      <td>White</td>\n",
       "      <td>0</td>\n",
       "      <td>0</td>\n",
       "      <td>NaN</td>\n",
       "      <td>0</td>\n",
       "      <td>0</td>\n",
       "      <td>Native</td>\n",
       "      <td>US</td>\n",
       "    </tr>\n",
       "  </tbody>\n",
       "</table>\n",
       "</div>"
      ],
      "text/plain": [
       "   age   gender                    education     class  \\\n",
       "0   54     Male         High school graduate   Private   \n",
       "1   53     Male             5th or 6th grade   Private   \n",
       "2   42     Male   Bachelors degree(BA AB BS)   Private   \n",
       "3   16   Female                    9th grade       NaN   \n",
       "4   16     Male                    9th grade       NaN   \n",
       "\n",
       "                     marital_status    race  hourly_wage  \\\n",
       "0   Married-civilian spouse present   White          600   \n",
       "1   Married-civilian spouse present   White            0   \n",
       "2   Married-civilian spouse present   White            0   \n",
       "3                     Never married   White            0   \n",
       "4                     Never married   White            0   \n",
       "\n",
       "   working_week_per_year                              occupation  gains  \\\n",
       "0                     46      Transportation and material moving      0   \n",
       "1                     52   Machine operators assmblrs & inspctrs      0   \n",
       "2                     44                  Professional specialty  15024   \n",
       "3                      8                                     NaN      0   \n",
       "4                      0                                     NaN      0   \n",
       "\n",
       "   losses                           citizenship country_of_birth  \n",
       "0       0                                Native               US  \n",
       "1       0   Foreign born- Not a citizen of U S       El-Salvador  \n",
       "2       0                                Native               US  \n",
       "3       0                                Native               US  \n",
       "4       0                                Native               US  "
      ]
     },
     "execution_count": 18,
     "metadata": {},
     "output_type": "execute_result"
    }
   ],
   "source": [
    "#Overview of the test dataset.\n",
    "\n",
    "test_data.head()"
   ]
  },
  {
   "cell_type": "code",
   "execution_count": 19,
   "id": "7f69dca6",
   "metadata": {},
   "outputs": [
    {
     "name": "stdout",
     "output_type": "stream",
     "text": [
      "The shape of the train dataset is: (89786, 13)\n"
     ]
    }
   ],
   "source": [
    "#Check the shape of the test dataset.\n",
    "\n",
    "print(f\"The shape of the train dataset is: {test_data.shape}\")"
   ]
  },
  {
   "cell_type": "code",
   "execution_count": 20,
   "id": "eb2922d8",
   "metadata": {},
   "outputs": [
    {
     "name": "stdout",
     "output_type": "stream",
     "text": [
      "<class 'pandas.core.frame.DataFrame'>\n",
      "RangeIndex: 89786 entries, 0 to 89785\n",
      "Data columns (total 13 columns):\n",
      " #   Column                 Non-Null Count  Dtype \n",
      "---  ------                 --------------  ----- \n",
      " 0   age                    89786 non-null  int64 \n",
      " 1   gender                 89786 non-null  object\n",
      " 2   education              89786 non-null  object\n",
      " 3   class                  44707 non-null  object\n",
      " 4   marital_status         89786 non-null  object\n",
      " 5   race                   89786 non-null  object\n",
      " 6   hourly_wage            89786 non-null  int64 \n",
      " 7   working_week_per_year  89786 non-null  int64 \n",
      " 8   occupation             44513 non-null  object\n",
      " 9   gains                  89786 non-null  int64 \n",
      " 10  losses                 89786 non-null  int64 \n",
      " 11  citizenship            89786 non-null  object\n",
      " 12  country_of_birth       89786 non-null  object\n",
      "dtypes: int64(5), object(8)\n",
      "memory usage: 8.9+ MB\n"
     ]
    }
   ],
   "source": [
    "#Check the shape of the test dataset.\n",
    "\n",
    "test_data.info()"
   ]
  },
  {
   "cell_type": "code",
   "execution_count": 21,
   "id": "63871e98",
   "metadata": {},
   "outputs": [
    {
     "data": {
      "text/plain": [
       "age                          0\n",
       "gender                       0\n",
       "education                    0\n",
       "class                    45079\n",
       "marital_status               0\n",
       "race                         0\n",
       "hourly_wage                  0\n",
       "working_week_per_year        0\n",
       "occupation               45273\n",
       "gains                        0\n",
       "losses                       0\n",
       "citizenship                  0\n",
       "country_of_birth             0\n",
       "dtype: int64"
      ]
     },
     "execution_count": 21,
     "metadata": {},
     "output_type": "execute_result"
    }
   ],
   "source": [
    "test_data.isnull().sum()"
   ]
  },
  {
   "cell_type": "markdown",
   "id": "2056dd59",
   "metadata": {},
   "source": [
    "#### INSIGHTS FOR THE TEST DATASET\n",
    "\n",
    "From the records above, it clearly shows that after some columns were dropped to aid in making the work easier. <br>\n",
    "Some columns had some missing values and they are :<br>\n",
    "* Class columns with a total number of <b> 45079 </b> missing values.\n",
    "* Occupation code main columns with a total number of <b> 45273 </b> missing values."
   ]
  },
  {
   "cell_type": "code",
   "execution_count": 22,
   "id": "6ebdfe63",
   "metadata": {},
   "outputs": [
    {
     "data": {
      "text/html": [
       "<div>\n",
       "<style scoped>\n",
       "    .dataframe tbody tr th:only-of-type {\n",
       "        vertical-align: middle;\n",
       "    }\n",
       "\n",
       "    .dataframe tbody tr th {\n",
       "        vertical-align: top;\n",
       "    }\n",
       "\n",
       "    .dataframe thead th {\n",
       "        text-align: right;\n",
       "    }\n",
       "</style>\n",
       "<table border=\"1\" class=\"dataframe\">\n",
       "  <thead>\n",
       "    <tr style=\"text-align: right;\">\n",
       "      <th></th>\n",
       "      <th>age</th>\n",
       "      <th>hourly_wage</th>\n",
       "      <th>working_week_per_year</th>\n",
       "      <th>gains</th>\n",
       "      <th>losses</th>\n",
       "    </tr>\n",
       "  </thead>\n",
       "  <tbody>\n",
       "    <tr>\n",
       "      <th>count</th>\n",
       "      <td>89786.000000</td>\n",
       "      <td>89786.000000</td>\n",
       "      <td>89786.000000</td>\n",
       "      <td>89786.000000</td>\n",
       "      <td>89786.000000</td>\n",
       "    </tr>\n",
       "    <tr>\n",
       "      <th>mean</th>\n",
       "      <td>34.586294</td>\n",
       "      <td>54.338627</td>\n",
       "      <td>23.223932</td>\n",
       "      <td>421.977925</td>\n",
       "      <td>36.772648</td>\n",
       "    </tr>\n",
       "    <tr>\n",
       "      <th>std</th>\n",
       "      <td>22.345868</td>\n",
       "      <td>265.197545</td>\n",
       "      <td>24.418207</td>\n",
       "      <td>4610.515599</td>\n",
       "      <td>268.401257</td>\n",
       "    </tr>\n",
       "    <tr>\n",
       "      <th>min</th>\n",
       "      <td>0.000000</td>\n",
       "      <td>0.000000</td>\n",
       "      <td>0.000000</td>\n",
       "      <td>0.000000</td>\n",
       "      <td>0.000000</td>\n",
       "    </tr>\n",
       "    <tr>\n",
       "      <th>25%</th>\n",
       "      <td>15.000000</td>\n",
       "      <td>0.000000</td>\n",
       "      <td>0.000000</td>\n",
       "      <td>0.000000</td>\n",
       "      <td>0.000000</td>\n",
       "    </tr>\n",
       "    <tr>\n",
       "      <th>50%</th>\n",
       "      <td>33.000000</td>\n",
       "      <td>0.000000</td>\n",
       "      <td>8.000000</td>\n",
       "      <td>0.000000</td>\n",
       "      <td>0.000000</td>\n",
       "    </tr>\n",
       "    <tr>\n",
       "      <th>75%</th>\n",
       "      <td>50.000000</td>\n",
       "      <td>0.000000</td>\n",
       "      <td>52.000000</td>\n",
       "      <td>0.000000</td>\n",
       "      <td>0.000000</td>\n",
       "    </tr>\n",
       "    <tr>\n",
       "      <th>max</th>\n",
       "      <td>90.000000</td>\n",
       "      <td>9400.000000</td>\n",
       "      <td>52.000000</td>\n",
       "      <td>99999.000000</td>\n",
       "      <td>4608.000000</td>\n",
       "    </tr>\n",
       "  </tbody>\n",
       "</table>\n",
       "</div>"
      ],
      "text/plain": [
       "                age   hourly_wage  working_week_per_year         gains  \\\n",
       "count  89786.000000  89786.000000           89786.000000  89786.000000   \n",
       "mean      34.586294     54.338627              23.223932    421.977925   \n",
       "std       22.345868    265.197545              24.418207   4610.515599   \n",
       "min        0.000000      0.000000               0.000000      0.000000   \n",
       "25%       15.000000      0.000000               0.000000      0.000000   \n",
       "50%       33.000000      0.000000               8.000000      0.000000   \n",
       "75%       50.000000      0.000000              52.000000      0.000000   \n",
       "max       90.000000   9400.000000              52.000000  99999.000000   \n",
       "\n",
       "             losses  \n",
       "count  89786.000000  \n",
       "mean      36.772648  \n",
       "std      268.401257  \n",
       "min        0.000000  \n",
       "25%        0.000000  \n",
       "50%        0.000000  \n",
       "75%        0.000000  \n",
       "max     4608.000000  "
      ]
     },
     "execution_count": 22,
     "metadata": {},
     "output_type": "execute_result"
    }
   ],
   "source": [
    "test_data.describe()"
   ]
  },
  {
   "cell_type": "code",
   "execution_count": null,
   "id": "d5b48571",
   "metadata": {},
   "outputs": [],
   "source": []
  },
  {
   "cell_type": "markdown",
   "id": "ac6b3497",
   "metadata": {},
   "source": [
    "## FEATURE ENGINEERING"
   ]
  },
  {
   "cell_type": "code",
   "execution_count": 23,
   "id": "77c19322",
   "metadata": {},
   "outputs": [],
   "source": [
    "#Create a copy of the original train dataset\n",
    "\n",
    "data = train_data.copy() "
   ]
  },
  {
   "cell_type": "code",
   "execution_count": 24,
   "id": "c278b155",
   "metadata": {},
   "outputs": [],
   "source": [
    "#Create a copy of the original test dataset\n",
    "\n",
    "data = test_data.copy() "
   ]
  },
  {
   "cell_type": "code",
   "execution_count": null,
   "id": "40357d90",
   "metadata": {},
   "outputs": [],
   "source": []
  },
  {
   "cell_type": "code",
   "execution_count": null,
   "id": "a72cbe97",
   "metadata": {},
   "outputs": [],
   "source": []
  },
  {
   "cell_type": "code",
   "execution_count": null,
   "id": "3b7851dd",
   "metadata": {},
   "outputs": [],
   "source": []
  },
  {
   "cell_type": "code",
   "execution_count": null,
   "id": "c94898bf",
   "metadata": {},
   "outputs": [],
   "source": []
  },
  {
   "cell_type": "code",
   "execution_count": null,
   "id": "9cdf09ac",
   "metadata": {},
   "outputs": [],
   "source": []
  },
  {
   "cell_type": "code",
   "execution_count": 5,
   "id": "840a7bd8",
   "metadata": {},
   "outputs": [
    {
     "data": {
      "text/plain": [
       "Index(['ID', 'age', 'gender', 'education', 'class', 'education_institute',\n",
       "       'marital_status', 'race', 'is_hispanic', 'employment_commitment',\n",
       "       'unemployment_reason', 'employment_stat', 'wage_per_hour',\n",
       "       'is_labor_union', 'working_week_per_year', 'industry_code',\n",
       "       'industry_code_main', 'occupation_code', 'occupation_code_main',\n",
       "       'total_employed', 'household_stat', 'household_summary',\n",
       "       'under_18_family', 'veterans_admin_questionnaire', 'vet_benefit',\n",
       "       'tax_status', 'gains', 'losses', 'stocks_status', 'citizenship',\n",
       "       'mig_year', 'country_of_birth_own', 'country_of_birth_father',\n",
       "       'country_of_birth_mother', 'migration_code_change_in_msa',\n",
       "       'migration_prev_sunbelt', 'migration_code_move_within_reg',\n",
       "       'migration_code_change_in_reg', 'residence_1_year_ago',\n",
       "       'old_residence_reg', 'old_residence_state', 'importance_of_record',\n",
       "       'income_above_limit'],\n",
       "      dtype='object')"
      ]
     },
     "execution_count": 5,
     "metadata": {},
     "output_type": "execute_result"
    }
   ],
   "source": [
    "#Overview of all the columns in the train dataset.\n",
    "\n",
    "train_data.columns"
   ]
  },
  {
   "cell_type": "code",
   "execution_count": 6,
   "id": "432de941",
   "metadata": {},
   "outputs": [
    {
     "data": {
      "text/plain": [
       "Index(['ID', 'age', 'gender', 'education', 'class', 'education_institute',\n",
       "       'marital_status', 'race', 'is_hispanic', 'employment_commitment',\n",
       "       'unemployment_reason', 'employment_stat', 'wage_per_hour',\n",
       "       'is_labor_union', 'working_week_per_year', 'industry_code',\n",
       "       'industry_code_main', 'occupation_code', 'occupation_code_main',\n",
       "       'total_employed', 'household_stat', 'household_summary',\n",
       "       'under_18_family', 'veterans_admin_questionnaire', 'vet_benefit',\n",
       "       'tax_status', 'gains', 'losses', 'stocks_status', 'citizenship',\n",
       "       'mig_year', 'country_of_birth_own', 'country_of_birth_father',\n",
       "       'country_of_birth_mother', 'migration_code_change_in_msa',\n",
       "       'migration_prev_sunbelt', 'migration_code_move_within_reg',\n",
       "       'migration_code_change_in_reg', 'residence_1_year_ago',\n",
       "       'old_residence_reg', 'old_residence_state', 'importance_of_record'],\n",
       "      dtype='object')"
      ]
     },
     "execution_count": 6,
     "metadata": {},
     "output_type": "execute_result"
    }
   ],
   "source": [
    "#Overview of all the columns in the test dataset.\n",
    "\n",
    "test_data.columns"
   ]
  },
  {
   "cell_type": "code",
   "execution_count": 7,
   "id": "358673c6",
   "metadata": {},
   "outputs": [],
   "source": []
  },
  {
   "cell_type": "code",
   "execution_count": null,
   "id": "bf8607cf",
   "metadata": {},
   "outputs": [],
   "source": [
    "#Create a copy of the original test dataset\n",
    "\n",
    "data = test_data.copy() "
   ]
  },
  {
   "cell_type": "markdown",
   "id": "b02f8711",
   "metadata": {},
   "source": [
    "### DROP SOME COLUMNS"
   ]
  },
  {
   "cell_type": "markdown",
   "id": "c871f972",
   "metadata": {},
   "source": [
    "#### For the purposes of this project, we will drop some columns that will not be relevant for the machine learning"
   ]
  },
  {
   "cell_type": "code",
   "execution_count": 8,
   "id": "918e05e8",
   "metadata": {},
   "outputs": [],
   "source": [
    "#drop the following columns in the train dataset.\n",
    "\n",
    "train_data.drop(columns=['ID', 'education_institute', 'is_hispanic', 'employment_commitment', 'unemployment_reason', \n",
    "                         'employment_stat','is_labor_union', 'industry_code', 'industry_code_main', 'occupation_code',\n",
    "                         'total_employed', 'household_stat', 'household_summary', 'under_18_family',\n",
    "                         'veterans_admin_questionnaire', 'vet_benefit', 'tax_status', 'stocks_status', 'mig_year',\n",
    "                         'country_of_birth_father', 'country_of_birth_mother', 'migration_code_change_in_msa',\n",
    "                         'migration_prev_sunbelt', 'migration_code_move_within_reg', 'migration_code_change_in_reg',\n",
    "                         'residence_1_year_ago', 'old_residence_reg', 'old_residence_state', 'importance_of_record'], \n",
    "                         inplace=True)"
   ]
  },
  {
   "cell_type": "code",
   "execution_count": 9,
   "id": "8290541d",
   "metadata": {},
   "outputs": [],
   "source": [
    "#drop the following columns in the test dataset.\n",
    "\n",
    "test_data.drop(columns=['ID', 'education_institute', 'is_hispanic', 'employment_commitment', 'unemployment_reason', \n",
    "                         'employment_stat','is_labor_union', 'industry_code', 'industry_code_main', 'occupation_code',\n",
    "                         'total_employed', 'household_stat', 'household_summary', 'under_18_family',\n",
    "                         'veterans_admin_questionnaire', 'vet_benefit', 'tax_status', 'stocks_status', 'mig_year',\n",
    "                         'country_of_birth_father', 'country_of_birth_mother', 'migration_code_change_in_msa',\n",
    "                         'migration_prev_sunbelt', 'migration_code_move_within_reg', 'migration_code_change_in_reg',\n",
    "                         'residence_1_year_ago', 'old_residence_reg', 'old_residence_state', 'importance_of_record'], \n",
    "                         inplace=True)"
   ]
  },
  {
   "cell_type": "markdown",
   "id": "f8e94e6c",
   "metadata": {},
   "source": [
    "#### RENAME SOME COLUMNS"
   ]
  },
  {
   "cell_type": "code",
   "execution_count": 10,
   "id": "e17a9476",
   "metadata": {},
   "outputs": [],
   "source": [
    "# Define the new names for some columns to be renamed in the train dataset.\n",
    "\n",
    "new_columns = {'wage_per_hour': 'hourly_wage', 'occupation_code_main': 'occupation', \n",
    "               'country_of_birth_own': 'country_of_birth'}\n",
    "\n",
    "train_data.rename(columns=new_columns, inplace=True)"
   ]
  },
  {
   "cell_type": "code",
   "execution_count": 11,
   "id": "83677a2c",
   "metadata": {},
   "outputs": [],
   "source": [
    "# Define the new names for some columns to be renamed in the test dataset.\n",
    "\n",
    "new_columns = {'wage_per_hour': 'hourly_wage', 'occupation_code_main': 'occupation', \n",
    "               'country_of_birth_own': 'country_of_birth'}\n",
    "\n",
    "test_data.rename(columns=new_columns, inplace=True)"
   ]
  },
  {
   "cell_type": "code",
   "execution_count": 12,
   "id": "aed2aa9d",
   "metadata": {},
   "outputs": [
    {
     "name": "stdout",
     "output_type": "stream",
     "text": [
      "Index(['age', 'gender', 'education', 'class', 'marital_status', 'race',\n",
      "       'hourly_wage', 'working_week_per_year', 'occupation', 'gains', 'losses',\n",
      "       'citizenship', 'country_of_birth', 'income_above_limit'],\n",
      "      dtype='object')\n"
     ]
    }
   ],
   "source": [
    "#View the train dataset after some columns have been dropped and renamed.\n",
    "\n",
    "print(train_data.columns)"
   ]
  },
  {
   "cell_type": "code",
   "execution_count": 13,
   "id": "1aa7e033",
   "metadata": {},
   "outputs": [
    {
     "name": "stdout",
     "output_type": "stream",
     "text": [
      "Index(['age', 'gender', 'education', 'class', 'marital_status', 'race',\n",
      "       'hourly_wage', 'working_week_per_year', 'occupation', 'gains', 'losses',\n",
      "       'citizenship', 'country_of_birth'],\n",
      "      dtype='object')\n"
     ]
    }
   ],
   "source": [
    "#View the test dataset after some columns have been dropped and renamed.\n",
    "\n",
    "print(test_data.columns)"
   ]
  },
  {
   "cell_type": "code",
   "execution_count": null,
   "id": "42dd9fc5",
   "metadata": {},
   "outputs": [],
   "source": [
    "#Check the dataframe after some columns have been dropped and renamed.\n",
    "\n",
    "train_data.head()"
   ]
  },
  {
   "cell_type": "code",
   "execution_count": null,
   "id": "aa845975",
   "metadata": {},
   "outputs": [],
   "source": []
  },
  {
   "cell_type": "code",
   "execution_count": null,
   "id": "82969c35",
   "metadata": {},
   "outputs": [],
   "source": []
  },
  {
   "cell_type": "code",
   "execution_count": null,
   "id": "b5f64109",
   "metadata": {},
   "outputs": [],
   "source": [
    "#Convert the income_above_limit column from a categorical data to a numeric data since that is the target .\n",
    "\n",
    "le = LabelEncoder()\n",
    "label = le.fit_transform(train_data['income_above_limit'])\n",
    "train_data.drop(\"income_above_limit\", axis=1, inplace=True)\n",
    "train_data[\"income_above_limit\"] = label"
   ]
  },
  {
   "cell_type": "code",
   "execution_count": null,
   "id": "1e44c78b",
   "metadata": {},
   "outputs": [],
   "source": [
    "train_data.head()"
   ]
  },
  {
   "cell_type": "code",
   "execution_count": null,
   "id": "e7110b50",
   "metadata": {},
   "outputs": [],
   "source": [
    "train_data.hist(figsize=(12,9), layout=(3,3))"
   ]
  },
  {
   "cell_type": "code",
   "execution_count": null,
   "id": "828e8a02",
   "metadata": {},
   "outputs": [],
   "source": [
    "\n",
    "train_data.plot(kind = 'box', figsize=(10,5), layout=(3,2), );"
   ]
  },
  {
   "cell_type": "code",
   "execution_count": null,
   "id": "58f56fb0",
   "metadata": {},
   "outputs": [],
   "source": [
    "sns.heatmap(train_data.corr(), annot=True);"
   ]
  },
  {
   "cell_type": "code",
   "execution_count": null,
   "id": "28b2fac0",
   "metadata": {},
   "outputs": [],
   "source": []
  },
  {
   "cell_type": "code",
   "execution_count": null,
   "id": "6491dc1e",
   "metadata": {},
   "outputs": [],
   "source": []
  },
  {
   "cell_type": "code",
   "execution_count": null,
   "id": "807864cd",
   "metadata": {},
   "outputs": [],
   "source": []
  },
  {
   "cell_type": "code",
   "execution_count": null,
   "id": "a11adf17",
   "metadata": {},
   "outputs": [],
   "source": []
  },
  {
   "cell_type": "code",
   "execution_count": null,
   "id": "3b6e67e9",
   "metadata": {},
   "outputs": [],
   "source": []
  },
  {
   "cell_type": "code",
   "execution_count": null,
   "id": "f54657db",
   "metadata": {},
   "outputs": [],
   "source": []
  },
  {
   "cell_type": "code",
   "execution_count": null,
   "id": "534c39ee",
   "metadata": {},
   "outputs": [],
   "source": []
  },
  {
   "cell_type": "markdown",
   "id": "22ca61af",
   "metadata": {},
   "source": [
    "#### CHECK FOR MISSING VALUES"
   ]
  },
  {
   "cell_type": "code",
   "execution_count": null,
   "id": "4003129a",
   "metadata": {},
   "outputs": [],
   "source": [
    "#Check the remaining columns if there are any missing values.\n",
    "\n",
    "train_data.isnull().sum()"
   ]
  },
  {
   "cell_type": "markdown",
   "id": "2b5d204a",
   "metadata": {},
   "source": []
  },
  {
   "cell_type": "code",
   "execution_count": null,
   "id": "be2111e8",
   "metadata": {},
   "outputs": [],
   "source": [
    "train_data['gender'].unique()"
   ]
  },
  {
   "cell_type": "code",
   "execution_count": null,
   "id": "2934fa42",
   "metadata": {},
   "outputs": [],
   "source": [
    "train_data['gender'].value_counts()"
   ]
  },
  {
   "cell_type": "code",
   "execution_count": null,
   "id": "48cef58c",
   "metadata": {},
   "outputs": [],
   "source": [
    "train_data['education'].unique()"
   ]
  },
  {
   "cell_type": "code",
   "execution_count": null,
   "id": "bd0c2dce",
   "metadata": {},
   "outputs": [],
   "source": [
    "train_data['education'].value_counts()"
   ]
  },
  {
   "cell_type": "code",
   "execution_count": null,
   "id": "bb079e4b",
   "metadata": {},
   "outputs": [],
   "source": [
    "#Renaming value in the Education column\n",
    "\n",
    "train_data['education'] = train_data['education'].apply(lambda x : str(x).replace('High school graduate','High school'))\n",
    "train_data['education'] = train_data['education'].apply(lambda x : str(x).replace('Doctorate degree(PhD EdD)','Doctorate'))\n",
    "train_data['education'] = train_data['education'].apply(lambda x : str(x).replace('Bachelors degree(BA AB BS)','Undergraduate'))"
   ]
  },
  {
   "cell_type": "code",
   "execution_count": null,
   "id": "22d4f00a",
   "metadata": {},
   "outputs": [],
   "source": [
    "train_data['education'].unique()"
   ]
  },
  {
   "cell_type": "code",
   "execution_count": null,
   "id": "989d3aa6",
   "metadata": {},
   "outputs": [],
   "source": [
    "train_data['class'].unique()"
   ]
  },
  {
   "cell_type": "code",
   "execution_count": null,
   "id": "6ad31b06",
   "metadata": {},
   "outputs": [],
   "source": [
    "train_data['class'].value_counts()"
   ]
  },
  {
   "cell_type": "code",
   "execution_count": null,
   "id": "409e634a",
   "metadata": {},
   "outputs": [],
   "source": [
    "train_data['marital_status'].unique()"
   ]
  },
  {
   "cell_type": "code",
   "execution_count": null,
   "id": "6ec56a1b",
   "metadata": {},
   "outputs": [],
   "source": [
    "train_data['marital_status'].value_counts()"
   ]
  },
  {
   "cell_type": "code",
   "execution_count": null,
   "id": "424f4451",
   "metadata": {},
   "outputs": [],
   "source": [
    "train_data['race'].unique()"
   ]
  },
  {
   "cell_type": "code",
   "execution_count": null,
   "id": "96fa0700",
   "metadata": {},
   "outputs": [],
   "source": [
    "train_data['race'].value_counts()"
   ]
  },
  {
   "cell_type": "code",
   "execution_count": null,
   "id": "6a2a3c7d",
   "metadata": {},
   "outputs": [],
   "source": [
    "train_data['occupation'].unique()"
   ]
  },
  {
   "cell_type": "code",
   "execution_count": null,
   "id": "0aed1118",
   "metadata": {},
   "outputs": [],
   "source": [
    "train_data['occupation'].value_counts()"
   ]
  },
  {
   "cell_type": "code",
   "execution_count": null,
   "id": "7c0db544",
   "metadata": {},
   "outputs": [],
   "source": [
    "#Renaming value in the occupation column\n",
    "\n",
    "train_data['occupation'] = train_data['occupation'].apply(lambda x : str(x).replace(' Adm support including clerical','Administration'))\n",
    "train_data['occupation'] = train_data['occupation'].apply(lambda x : str(x).replace(' Executive admin and managerial','Executive and Managerial'))\n",
    "train_data['occupation'] = train_data['occupation'].apply(lambda x : str(x).replace(' Transportation and material moving','Transport'))\n",
    "train_data['occupation'] = train_data['occupation'].apply(lambda x : str(x).replace(' Technicians and related support','Technical'))\n",
    "train_data['occupation'] = train_data['occupation'].apply(lambda x : str(x).replace(' Farming forestry and fishing','Agriculture'))"
   ]
  },
  {
   "cell_type": "code",
   "execution_count": null,
   "id": "706dd6d4",
   "metadata": {},
   "outputs": [],
   "source": [
    "train_data['occupation'].unique()"
   ]
  },
  {
   "cell_type": "code",
   "execution_count": null,
   "id": "f5b9a429",
   "metadata": {},
   "outputs": [],
   "source": []
  },
  {
   "cell_type": "code",
   "execution_count": null,
   "id": "0f635d86",
   "metadata": {},
   "outputs": [],
   "source": []
  },
  {
   "cell_type": "code",
   "execution_count": null,
   "id": "82dbd0b8",
   "metadata": {},
   "outputs": [],
   "source": []
  },
  {
   "cell_type": "code",
   "execution_count": null,
   "id": "b7da089c",
   "metadata": {},
   "outputs": [],
   "source": []
  },
  {
   "cell_type": "code",
   "execution_count": null,
   "id": "00399937",
   "metadata": {},
   "outputs": [],
   "source": [
    "def check_unique_values_and_value_counts(train_data, columns_to_check):\n",
    "    \"\"\"\n",
    "    Check unique values and value counts of specific columns in a dataset.\n",
    "\n",
    "    Parameters:\n",
    "    - dataset (pd.DataFrame): The dataset to analyze.\n",
    "    - columns_to_check (list): List of column names to check.\n",
    "\n",
    "    Returns:\n",
    "    - None\n",
    "    \"\"\"\n",
    "    for column in columns_to_check:\n",
    "        unique_values = train_data[column].unique()\n",
    "        value_counts = train_data[column].value_counts()\n",
    "        \n",
    "        print(f\"Column: {column}\")\n",
    "        print(f\"Unique values: {unique_values}\")\n",
    "        print(\"Value counts:\")\n",
    "        print(value_counts)\n",
    "        print(\"-\" * 40)"
   ]
  },
  {
   "cell_type": "code",
   "execution_count": null,
   "id": "cfab76ef",
   "metadata": {},
   "outputs": [],
   "source": []
  },
  {
   "cell_type": "code",
   "execution_count": null,
   "id": "2c08c1c6",
   "metadata": {},
   "outputs": [],
   "source": []
  },
  {
   "cell_type": "code",
   "execution_count": null,
   "id": "04e3fc4d",
   "metadata": {},
   "outputs": [],
   "source": []
  },
  {
   "cell_type": "code",
   "execution_count": null,
   "id": "888b36a0",
   "metadata": {},
   "outputs": [],
   "source": []
  },
  {
   "cell_type": "code",
   "execution_count": null,
   "id": "c58c703e",
   "metadata": {},
   "outputs": [],
   "source": []
  },
  {
   "cell_type": "code",
   "execution_count": null,
   "id": "de9861b2",
   "metadata": {},
   "outputs": [],
   "source": []
  },
  {
   "cell_type": "code",
   "execution_count": null,
   "id": "9f2213a2",
   "metadata": {},
   "outputs": [],
   "source": []
  },
  {
   "cell_type": "code",
   "execution_count": null,
   "id": "85aa92b1",
   "metadata": {},
   "outputs": [],
   "source": [
    "# Filter out only the numerical columns\n",
    "numerical_columns = train_data.select_dtypes(include=['int', 'float'])\n",
    "\n",
    "plt.figure(figsize=(10, 6))  # Adjust the figure size as needed\n",
    "\n",
    "# Create a boxplot using Seaborn\n",
    "sns.boxplot(data=train_data)\n",
    "\n",
    "plt.title(\"Boxplot of Multiple Columns\")\n",
    "plt.xlabel(\"Columns\")\n",
    "plt.ylabel(\"Values\")\n",
    "\n",
    "plt.tight_layout()\n",
    "plt.show()\n"
   ]
  },
  {
   "cell_type": "code",
   "execution_count": null,
   "id": "149014dc",
   "metadata": {},
   "outputs": [],
   "source": []
  },
  {
   "cell_type": "code",
   "execution_count": null,
   "id": "8b0d4741",
   "metadata": {},
   "outputs": [],
   "source": []
  },
  {
   "cell_type": "code",
   "execution_count": null,
   "id": "a704c531",
   "metadata": {},
   "outputs": [],
   "source": []
  },
  {
   "cell_type": "code",
   "execution_count": null,
   "id": "4f236a41",
   "metadata": {},
   "outputs": [],
   "source": []
  },
  {
   "cell_type": "code",
   "execution_count": null,
   "id": "a557db78",
   "metadata": {},
   "outputs": [],
   "source": []
  },
  {
   "cell_type": "code",
   "execution_count": null,
   "id": "94da281b",
   "metadata": {},
   "outputs": [],
   "source": []
  },
  {
   "cell_type": "code",
   "execution_count": null,
   "id": "64671622",
   "metadata": {},
   "outputs": [],
   "source": []
  },
  {
   "cell_type": "code",
   "execution_count": null,
   "id": "5f6fdc7d",
   "metadata": {},
   "outputs": [],
   "source": []
  },
  {
   "cell_type": "code",
   "execution_count": null,
   "id": "4fb34219",
   "metadata": {},
   "outputs": [],
   "source": []
  },
  {
   "cell_type": "markdown",
   "id": "68ae8aab",
   "metadata": {},
   "source": [
    "#### Categorical Values"
   ]
  },
  {
   "cell_type": "code",
   "execution_count": null,
   "id": "a68d67e9",
   "metadata": {},
   "outputs": [],
   "source": [
    "def plot_numerical_countplots(train_data):\n",
    "    numerical_columns = data.select_dtypes(include=['int64', 'float64']).columns\n",
    "\n",
    "    for column in numerical_columns:\n",
    "        plt.figure(figsize=(8, 6))\n",
    "        sns.countplot(data[column])\n",
    "        plt.title(f'Countplot of {column}', fontsize=16)\n",
    "        plt.xlabel(column, fontsize=14)\n",
    "        plt.ylabel('Count', fontsize=14)\n",
    "        plt.xticks(rotation=45)\n",
    "        plt.show()\n",
    "\n",
    "# Example usage\n",
    "# Assuming 'df' is your DataFrame\n",
    "plot_numerical_countplots(train_data)\n"
   ]
  },
  {
   "cell_type": "code",
   "execution_count": null,
   "id": "87535cb2",
   "metadata": {},
   "outputs": [],
   "source": [
    "#def plot_countplots_for_categorical(train_data):\n",
    "    #Get a list of column name with categorical data\n",
    "    #categorical_columns = train_data.select_dtypes(include=['object']).columns.tolist()\n",
    "    \n",
    "    #loops through categorical columns and create count plots\n",
    "    #for columns in categorical_columns:\n",
    "        \n",
    "        #Set the figure size\n",
    "       # plt.figure(figsize=(8,6))\n",
    "        #sns.countplot(x=columns,data=train_data)\n",
    "        \n",
    "        #plt.xlabel(column)\n",
    "        #Set x-axis label\n",
    "       # plt.ylabel('Count')\n",
    "        #Set y-axis label\n",
    "        \n",
    "       # plt.title(f'Count plot of {column}')\n",
    "        #Set plot title\n",
    "        \n",
    "       # plt.xticks(rotation=45)\n",
    "        #Rotate x-axis labels for readability\n",
    "        \n",
    "        #plt.show() "
   ]
  },
  {
   "cell_type": "code",
   "execution_count": null,
   "id": "c4cbe230",
   "metadata": {},
   "outputs": [],
   "source": [
    "#Example usage with your Dataframe 'df'\n",
    "\n",
    "plot_countplots_for_categorical(train_data)"
   ]
  },
  {
   "cell_type": "code",
   "execution_count": null,
   "id": "3bcadc77",
   "metadata": {},
   "outputs": [],
   "source": [
    "#Explore categorical variables with count plots\n",
    "\n",
    "sns.countplot(x='gender', data = train_data)"
   ]
  },
  {
   "cell_type": "code",
   "execution_count": null,
   "id": "93f6d273",
   "metadata": {},
   "outputs": [],
   "source": []
  },
  {
   "cell_type": "code",
   "execution_count": null,
   "id": "3fab250f",
   "metadata": {},
   "outputs": [],
   "source": []
  },
  {
   "cell_type": "code",
   "execution_count": null,
   "id": "ce78c7d9",
   "metadata": {},
   "outputs": [],
   "source": []
  },
  {
   "cell_type": "code",
   "execution_count": null,
   "id": "d03999e3",
   "metadata": {},
   "outputs": [],
   "source": []
  },
  {
   "cell_type": "code",
   "execution_count": null,
   "id": "7e6d4626",
   "metadata": {},
   "outputs": [],
   "source": []
  },
  {
   "cell_type": "code",
   "execution_count": null,
   "id": "3d8f4052",
   "metadata": {},
   "outputs": [],
   "source": []
  },
  {
   "cell_type": "code",
   "execution_count": null,
   "id": "04905e84",
   "metadata": {},
   "outputs": [],
   "source": [
    "#Univariate Analysis\n",
    "\n",
    "train_data['column_name'].hist()\n",
    "plt.xlabel('X-axis Label')\n",
    "plt.xlabel('X-axis Label')\n",
    "plt.title('Title')\n",
    "plt.show()"
   ]
  },
  {
   "cell_type": "code",
   "execution_count": null,
   "id": "3107136c",
   "metadata": {},
   "outputs": [],
   "source": [
    "#Bivariate Analysis\n",
    "\n",
    "sns.scatterplot(x='column1', y='column2', data = train_data)"
   ]
  },
  {
   "cell_type": "code",
   "execution_count": null,
   "id": "32945323",
   "metadata": {},
   "outputs": [],
   "source": [
    "#categorical variables\n",
    "\n",
    "sns.countplot(x='category_column', data=train_data)"
   ]
  },
  {
   "cell_type": "code",
   "execution_count": null,
   "id": "7c3ef0d3",
   "metadata": {},
   "outputs": [],
   "source": [
    "train_data['categorical_column'].value_counts()"
   ]
  },
  {
   "cell_type": "code",
   "execution_count": null,
   "id": "5a964ef3",
   "metadata": {},
   "outputs": [],
   "source": []
  },
  {
   "cell_type": "code",
   "execution_count": null,
   "id": "9dd87651",
   "metadata": {},
   "outputs": [],
   "source": []
  },
  {
   "cell_type": "code",
   "execution_count": null,
   "id": "7757ff21",
   "metadata": {},
   "outputs": [],
   "source": [
    "#train_data['education_institute'].fillna(0, inplace = True)\n",
    "#print()"
   ]
  }
 ],
 "metadata": {
  "kernelspec": {
   "display_name": "Python 3 (ipykernel)",
   "language": "python",
   "name": "python3"
  },
  "language_info": {
   "codemirror_mode": {
    "name": "ipython",
    "version": 3
   },
   "file_extension": ".py",
   "mimetype": "text/x-python",
   "name": "python",
   "nbconvert_exporter": "python",
   "pygments_lexer": "ipython3",
   "version": "3.11.1"
  }
 },
 "nbformat": 4,
 "nbformat_minor": 5
}
