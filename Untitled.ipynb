{
 "cells": [
  {
   "cell_type": "markdown",
   "id": "50d3fb0d",
   "metadata": {},
   "source": [
    "## AZUBI CAPSTONE PROJECT"
   ]
  },
  {
   "cell_type": "markdown",
   "id": "067ab8e2",
   "metadata": {},
   "source": [
    "#### IMPORT LIBRARY PACKAGES"
   ]
  },
  {
   "cell_type": "code",
   "execution_count": 1,
   "id": "a45ce9fb",
   "metadata": {},
   "outputs": [],
   "source": [
    "#Data Handling\n",
    "import numpy as np\n",
    "import pandas as pd\n",
    "\n",
    "#Visualizations\n",
    "import seaborn as sns\n",
    "import plotly.express as px\n",
    "import matplotlib.pyplot as plt\n",
    "\n",
    "from termcolor import colored\n",
    "\n",
    "# Feature Processing (Scikit-learn processing, etc. )\n",
    "from sklearn.preprocessing import LabelEncoder\n",
    "\n",
    "# Evaluation Metrics\n",
    "from sklearn.model_selection import train_test_split\n",
    "from catboost import CatBoostClassifier\n",
    "from sklearn.metrics import f1_score, recall_score, precision_score, fbeta_score, accuracy_score, roc_auc_score\n",
    "from sklearn.metrics import confusion_matrix\n",
    "from sklearn.feature_selection import RFE\n",
    "\n",
    "#Other packages\n",
    "import warnings\n",
    "warnings.filterwarnings('always') "
   ]
  },
  {
   "cell_type": "markdown",
   "id": "ce57975a",
   "metadata": {},
   "source": [
    "#### Load the Data."
   ]
  },
  {
   "cell_type": "markdown",
   "id": "21601fe8",
   "metadata": {},
   "source": [
    "For this project, there are two datasets, namely:\n",
    "* <b> Train data: </b> This is the data which we will be using to train the model. Since we are solving a classification problem, we will have a column in train dataset corresponding to the target labels. \n",
    "* <b> Test data: </b> This is the data on which the predictions will be made based on the model trained on train dataset. "
   ]
  },
  {
   "cell_type": "code",
   "execution_count": 2,
   "id": "e10208a0",
   "metadata": {},
   "outputs": [],
   "source": [
    "train_data = pd.read_csv(\"C:/Users/KWABENABOATENG/Desktop/AZUBI AFRICA/AZUBI CAPSTONE/AZUBI-CAPSTONE-PROJECT/DATASETS/Train.csv\")\n",
    "test_data = pd.read_csv(\"C:/Users/KWABENABOATENG/Desktop/AZUBI AFRICA/AZUBI CAPSTONE/AZUBI-CAPSTONE-PROJECT/DATASETS/Test.csv\")"
   ]
  },
  {
   "cell_type": "markdown",
   "id": "10addf04",
   "metadata": {},
   "source": [
    "## EXPLORATORY DATA EXPLORATION"
   ]
  },
  {
   "cell_type": "markdown",
   "id": "a4332959",
   "metadata": {},
   "source": [
    "### EXPLORE THE TRAIN DATASET"
   ]
  },
  {
   "cell_type": "code",
   "execution_count": 3,
   "id": "302d848c",
   "metadata": {},
   "outputs": [
    {
     "data": {
      "text/html": [
       "<div>\n",
       "<style scoped>\n",
       "    .dataframe tbody tr th:only-of-type {\n",
       "        vertical-align: middle;\n",
       "    }\n",
       "\n",
       "    .dataframe tbody tr th {\n",
       "        vertical-align: top;\n",
       "    }\n",
       "\n",
       "    .dataframe thead th {\n",
       "        text-align: right;\n",
       "    }\n",
       "</style>\n",
       "<table border=\"1\" class=\"dataframe\">\n",
       "  <thead>\n",
       "    <tr style=\"text-align: right;\">\n",
       "      <th></th>\n",
       "      <th>ID</th>\n",
       "      <th>age</th>\n",
       "      <th>gender</th>\n",
       "      <th>education</th>\n",
       "      <th>class</th>\n",
       "      <th>education_institute</th>\n",
       "      <th>marital_status</th>\n",
       "      <th>race</th>\n",
       "      <th>is_hispanic</th>\n",
       "      <th>employment_commitment</th>\n",
       "      <th>...</th>\n",
       "      <th>country_of_birth_mother</th>\n",
       "      <th>migration_code_change_in_msa</th>\n",
       "      <th>migration_prev_sunbelt</th>\n",
       "      <th>migration_code_move_within_reg</th>\n",
       "      <th>migration_code_change_in_reg</th>\n",
       "      <th>residence_1_year_ago</th>\n",
       "      <th>old_residence_reg</th>\n",
       "      <th>old_residence_state</th>\n",
       "      <th>importance_of_record</th>\n",
       "      <th>income_above_limit</th>\n",
       "    </tr>\n",
       "  </thead>\n",
       "  <tbody>\n",
       "    <tr>\n",
       "      <th>0</th>\n",
       "      <td>ID_TZ0000</td>\n",
       "      <td>79</td>\n",
       "      <td>Female</td>\n",
       "      <td>High school graduate</td>\n",
       "      <td>NaN</td>\n",
       "      <td>NaN</td>\n",
       "      <td>Widowed</td>\n",
       "      <td>White</td>\n",
       "      <td>All other</td>\n",
       "      <td>Not in labor force</td>\n",
       "      <td>...</td>\n",
       "      <td>US</td>\n",
       "      <td>?</td>\n",
       "      <td>?</td>\n",
       "      <td>?</td>\n",
       "      <td>?</td>\n",
       "      <td>NaN</td>\n",
       "      <td>NaN</td>\n",
       "      <td>NaN</td>\n",
       "      <td>1779.74</td>\n",
       "      <td>Below limit</td>\n",
       "    </tr>\n",
       "    <tr>\n",
       "      <th>1</th>\n",
       "      <td>ID_TZ0001</td>\n",
       "      <td>65</td>\n",
       "      <td>Female</td>\n",
       "      <td>High school graduate</td>\n",
       "      <td>NaN</td>\n",
       "      <td>NaN</td>\n",
       "      <td>Widowed</td>\n",
       "      <td>White</td>\n",
       "      <td>All other</td>\n",
       "      <td>Children or Armed Forces</td>\n",
       "      <td>...</td>\n",
       "      <td>US</td>\n",
       "      <td>unchanged</td>\n",
       "      <td>NaN</td>\n",
       "      <td>unchanged</td>\n",
       "      <td>unchanged</td>\n",
       "      <td>Same</td>\n",
       "      <td>NaN</td>\n",
       "      <td>NaN</td>\n",
       "      <td>2366.75</td>\n",
       "      <td>Below limit</td>\n",
       "    </tr>\n",
       "    <tr>\n",
       "      <th>2</th>\n",
       "      <td>ID_TZ0002</td>\n",
       "      <td>21</td>\n",
       "      <td>Male</td>\n",
       "      <td>12th grade no diploma</td>\n",
       "      <td>Federal government</td>\n",
       "      <td>NaN</td>\n",
       "      <td>Never married</td>\n",
       "      <td>Black</td>\n",
       "      <td>All other</td>\n",
       "      <td>Children or Armed Forces</td>\n",
       "      <td>...</td>\n",
       "      <td>US</td>\n",
       "      <td>unchanged</td>\n",
       "      <td>NaN</td>\n",
       "      <td>unchanged</td>\n",
       "      <td>unchanged</td>\n",
       "      <td>Same</td>\n",
       "      <td>NaN</td>\n",
       "      <td>NaN</td>\n",
       "      <td>1693.42</td>\n",
       "      <td>Below limit</td>\n",
       "    </tr>\n",
       "    <tr>\n",
       "      <th>3</th>\n",
       "      <td>ID_TZ0003</td>\n",
       "      <td>2</td>\n",
       "      <td>Female</td>\n",
       "      <td>Children</td>\n",
       "      <td>NaN</td>\n",
       "      <td>NaN</td>\n",
       "      <td>Never married</td>\n",
       "      <td>Asian or Pacific Islander</td>\n",
       "      <td>All other</td>\n",
       "      <td>Children or Armed Forces</td>\n",
       "      <td>...</td>\n",
       "      <td>India</td>\n",
       "      <td>unchanged</td>\n",
       "      <td>NaN</td>\n",
       "      <td>unchanged</td>\n",
       "      <td>unchanged</td>\n",
       "      <td>Same</td>\n",
       "      <td>NaN</td>\n",
       "      <td>NaN</td>\n",
       "      <td>1380.27</td>\n",
       "      <td>Below limit</td>\n",
       "    </tr>\n",
       "    <tr>\n",
       "      <th>4</th>\n",
       "      <td>ID_TZ0004</td>\n",
       "      <td>70</td>\n",
       "      <td>Male</td>\n",
       "      <td>High school graduate</td>\n",
       "      <td>NaN</td>\n",
       "      <td>NaN</td>\n",
       "      <td>Married-civilian spouse present</td>\n",
       "      <td>White</td>\n",
       "      <td>All other</td>\n",
       "      <td>Not in labor force</td>\n",
       "      <td>...</td>\n",
       "      <td>US</td>\n",
       "      <td>?</td>\n",
       "      <td>?</td>\n",
       "      <td>?</td>\n",
       "      <td>?</td>\n",
       "      <td>NaN</td>\n",
       "      <td>NaN</td>\n",
       "      <td>NaN</td>\n",
       "      <td>1580.79</td>\n",
       "      <td>Below limit</td>\n",
       "    </tr>\n",
       "  </tbody>\n",
       "</table>\n",
       "<p>5 rows × 43 columns</p>\n",
       "</div>"
      ],
      "text/plain": [
       "          ID  age   gender               education                class  \\\n",
       "0  ID_TZ0000   79   Female    High school graduate                  NaN   \n",
       "1  ID_TZ0001   65   Female    High school graduate                  NaN   \n",
       "2  ID_TZ0002   21     Male   12th grade no diploma   Federal government   \n",
       "3  ID_TZ0003    2   Female                Children                  NaN   \n",
       "4  ID_TZ0004   70     Male    High school graduate                  NaN   \n",
       "\n",
       "  education_institute                    marital_status  \\\n",
       "0                 NaN                           Widowed   \n",
       "1                 NaN                           Widowed   \n",
       "2                 NaN                     Never married   \n",
       "3                 NaN                     Never married   \n",
       "4                 NaN   Married-civilian spouse present   \n",
       "\n",
       "                         race is_hispanic      employment_commitment  ...  \\\n",
       "0                       White   All other         Not in labor force  ...   \n",
       "1                       White   All other   Children or Armed Forces  ...   \n",
       "2                       Black   All other   Children or Armed Forces  ...   \n",
       "3   Asian or Pacific Islander   All other   Children or Armed Forces  ...   \n",
       "4                       White   All other         Not in labor force  ...   \n",
       "\n",
       "  country_of_birth_mother  migration_code_change_in_msa  \\\n",
       "0                      US                             ?   \n",
       "1                      US                     unchanged   \n",
       "2                      US                     unchanged   \n",
       "3                   India                     unchanged   \n",
       "4                      US                             ?   \n",
       "\n",
       "   migration_prev_sunbelt migration_code_move_within_reg  \\\n",
       "0                       ?                              ?   \n",
       "1                     NaN                      unchanged   \n",
       "2                     NaN                      unchanged   \n",
       "3                     NaN                      unchanged   \n",
       "4                       ?                              ?   \n",
       "\n",
       "   migration_code_change_in_reg  residence_1_year_ago old_residence_reg  \\\n",
       "0                             ?                   NaN               NaN   \n",
       "1                     unchanged                  Same               NaN   \n",
       "2                     unchanged                  Same               NaN   \n",
       "3                     unchanged                  Same               NaN   \n",
       "4                             ?                   NaN               NaN   \n",
       "\n",
       "   old_residence_state importance_of_record  income_above_limit  \n",
       "0                  NaN              1779.74         Below limit  \n",
       "1                  NaN              2366.75         Below limit  \n",
       "2                  NaN              1693.42         Below limit  \n",
       "3                  NaN              1380.27         Below limit  \n",
       "4                  NaN              1580.79         Below limit  \n",
       "\n",
       "[5 rows x 43 columns]"
      ]
     },
     "execution_count": 3,
     "metadata": {},
     "output_type": "execute_result"
    }
   ],
   "source": [
    "#Overview of the train dataset.\n",
    "\n",
    "train_data.head()"
   ]
  },
  {
   "cell_type": "code",
   "execution_count": 4,
   "id": "ea987488",
   "metadata": {},
   "outputs": [
    {
     "name": "stdout",
     "output_type": "stream",
     "text": [
      "The shape of the train dataset is: (209499, 43)\n"
     ]
    }
   ],
   "source": [
    "#Check the shape of the train dataset.\n",
    "\n",
    "print(f\"The shape of the train dataset is: {train_data.shape}\")"
   ]
  },
  {
   "cell_type": "code",
   "execution_count": 5,
   "id": "21090319",
   "metadata": {},
   "outputs": [
    {
     "name": "stdout",
     "output_type": "stream",
     "text": [
      "<class 'pandas.core.frame.DataFrame'>\n",
      "RangeIndex: 209499 entries, 0 to 209498\n",
      "Data columns (total 43 columns):\n",
      " #   Column                          Non-Null Count   Dtype  \n",
      "---  ------                          --------------   -----  \n",
      " 0   ID                              209499 non-null  object \n",
      " 1   age                             209499 non-null  int64  \n",
      " 2   gender                          209499 non-null  object \n",
      " 3   education                       209499 non-null  object \n",
      " 4   class                           104254 non-null  object \n",
      " 5   education_institute             13302 non-null   object \n",
      " 6   marital_status                  209499 non-null  object \n",
      " 7   race                            209499 non-null  object \n",
      " 8   is_hispanic                     209499 non-null  object \n",
      " 9   employment_commitment           209499 non-null  object \n",
      " 10  unemployment_reason             6520 non-null    object \n",
      " 11  employment_stat                 209499 non-null  int64  \n",
      " 12  wage_per_hour                   209499 non-null  int64  \n",
      " 13  is_labor_union                  20079 non-null   object \n",
      " 14  working_week_per_year           209499 non-null  int64  \n",
      " 15  industry_code                   209499 non-null  int64  \n",
      " 16  industry_code_main              209499 non-null  object \n",
      " 17  occupation_code                 209499 non-null  int64  \n",
      " 18  occupation_code_main            103805 non-null  object \n",
      " 19  total_employed                  209499 non-null  int64  \n",
      " 20  household_stat                  209499 non-null  object \n",
      " 21  household_summary               209499 non-null  object \n",
      " 22  under_18_family                 57845 non-null   object \n",
      " 23  veterans_admin_questionnaire    2084 non-null    object \n",
      " 24  vet_benefit                     209499 non-null  int64  \n",
      " 25  tax_status                      209499 non-null  object \n",
      " 26  gains                           209499 non-null  int64  \n",
      " 27  losses                          209499 non-null  int64  \n",
      " 28  stocks_status                   209499 non-null  int64  \n",
      " 29  citizenship                     209499 non-null  object \n",
      " 30  mig_year                        209499 non-null  int64  \n",
      " 31  country_of_birth_own            209499 non-null  object \n",
      " 32  country_of_birth_father         209499 non-null  object \n",
      " 33  country_of_birth_mother         209499 non-null  object \n",
      " 34  migration_code_change_in_msa    207911 non-null  object \n",
      " 35  migration_prev_sunbelt          121047 non-null  object \n",
      " 36  migration_code_move_within_reg  207911 non-null  object \n",
      " 37  migration_code_change_in_reg    207911 non-null  object \n",
      " 38  residence_1_year_ago            103215 non-null  object \n",
      " 39  old_residence_reg               16351 non-null   object \n",
      " 40  old_residence_state             16351 non-null   object \n",
      " 41  importance_of_record            209499 non-null  float64\n",
      " 42  income_above_limit              209499 non-null  object \n",
      "dtypes: float64(1), int64(12), object(30)\n",
      "memory usage: 68.7+ MB\n"
     ]
    }
   ],
   "source": [
    "#Check the shape of the train dataset.\n",
    "\n",
    "train_data.info()"
   ]
  },
  {
   "cell_type": "code",
   "execution_count": 6,
   "id": "eb15f844",
   "metadata": {},
   "outputs": [
    {
     "data": {
      "text/plain": [
       "ID                                     0\n",
       "age                                    0\n",
       "gender                                 0\n",
       "education                              0\n",
       "class                             105245\n",
       "education_institute               196197\n",
       "marital_status                         0\n",
       "race                                   0\n",
       "is_hispanic                            0\n",
       "employment_commitment                  0\n",
       "unemployment_reason               202979\n",
       "employment_stat                        0\n",
       "wage_per_hour                          0\n",
       "is_labor_union                    189420\n",
       "working_week_per_year                  0\n",
       "industry_code                          0\n",
       "industry_code_main                     0\n",
       "occupation_code                        0\n",
       "occupation_code_main              105694\n",
       "total_employed                         0\n",
       "household_stat                         0\n",
       "household_summary                      0\n",
       "under_18_family                   151654\n",
       "veterans_admin_questionnaire      207415\n",
       "vet_benefit                            0\n",
       "tax_status                             0\n",
       "gains                                  0\n",
       "losses                                 0\n",
       "stocks_status                          0\n",
       "citizenship                            0\n",
       "mig_year                               0\n",
       "country_of_birth_own                   0\n",
       "country_of_birth_father                0\n",
       "country_of_birth_mother                0\n",
       "migration_code_change_in_msa        1588\n",
       "migration_prev_sunbelt             88452\n",
       "migration_code_move_within_reg      1588\n",
       "migration_code_change_in_reg        1588\n",
       "residence_1_year_ago              106284\n",
       "old_residence_reg                 193148\n",
       "old_residence_state               193148\n",
       "importance_of_record                   0\n",
       "income_above_limit                     0\n",
       "dtype: int64"
      ]
     },
     "execution_count": 6,
     "metadata": {},
     "output_type": "execute_result"
    }
   ],
   "source": [
    "train_data.isnull().sum()"
   ]
  },
  {
   "cell_type": "markdown",
   "id": "b5b1daf9",
   "metadata": {},
   "source": [
    "#### INSIGHTS\n",
    "\n",
    "From the records above, it clearly shows that after some columns were dropped to aid in making the work easier. <br>\n",
    "Some columns had some missing values and they are :<br>\n",
    "* Class columns with a total number of <b> 105245 </b> missing values.\n",
    "* Education_institute columns with a total number of <b> 196197 </b> missing values.\n",
    "* Unemployment_reason columns with a total number of <b> 202979 </b> missing values.\n",
    "* Is_labor_union  columns with a total number of <b> 189420 </b> missing values.\n",
    "* Occupation code main columns with a total number of <b> 105694 </b> missing values.\n",
    "* Under_18_family  columns with a total number of <b> 151654 </b> missing values.\n",
    "* veterans_admin_questionnaire columns with a total number of <b> 207415 </b> missing values.\n",
    "* migration_code_change_in_msa columns with a total number of <b> 1588 </b> missing values.\n",
    "* migration_prev_sunbelt columns with a total number of <b> 88452 </b> missing values.\n",
    "* migration_code_move_within_reg columns with a total number of <b> 1588 </b> missing values.\n",
    "* migration_code_change_in_reg columns with a total number of <b> 1588 </b> missing values.\n",
    "* residence_1_year_ago columns with a total number of <b> 106284 </b> missing values.\n",
    "* old_residence_reg columns with a total number of <b> 193148 </b> missing values.\n",
    "* old_residence_state columns with a total number of <b> 193148 </b> missing values."
   ]
  },
  {
   "cell_type": "code",
   "execution_count": 7,
   "id": "5e6266e0",
   "metadata": {},
   "outputs": [
    {
     "data": {
      "text/html": [
       "<div>\n",
       "<style scoped>\n",
       "    .dataframe tbody tr th:only-of-type {\n",
       "        vertical-align: middle;\n",
       "    }\n",
       "\n",
       "    .dataframe tbody tr th {\n",
       "        vertical-align: top;\n",
       "    }\n",
       "\n",
       "    .dataframe thead th {\n",
       "        text-align: right;\n",
       "    }\n",
       "</style>\n",
       "<table border=\"1\" class=\"dataframe\">\n",
       "  <thead>\n",
       "    <tr style=\"text-align: right;\">\n",
       "      <th></th>\n",
       "      <th>age</th>\n",
       "      <th>employment_stat</th>\n",
       "      <th>wage_per_hour</th>\n",
       "      <th>working_week_per_year</th>\n",
       "      <th>industry_code</th>\n",
       "      <th>occupation_code</th>\n",
       "      <th>total_employed</th>\n",
       "      <th>vet_benefit</th>\n",
       "      <th>gains</th>\n",
       "      <th>losses</th>\n",
       "      <th>stocks_status</th>\n",
       "      <th>mig_year</th>\n",
       "      <th>importance_of_record</th>\n",
       "    </tr>\n",
       "  </thead>\n",
       "  <tbody>\n",
       "    <tr>\n",
       "      <th>count</th>\n",
       "      <td>209499.000000</td>\n",
       "      <td>209499.000000</td>\n",
       "      <td>209499.000000</td>\n",
       "      <td>209499.000000</td>\n",
       "      <td>209499.000000</td>\n",
       "      <td>209499.000000</td>\n",
       "      <td>209499.000000</td>\n",
       "      <td>209499.000000</td>\n",
       "      <td>209499.000000</td>\n",
       "      <td>209499.000000</td>\n",
       "      <td>209499.000000</td>\n",
       "      <td>209499.000000</td>\n",
       "      <td>209499.000000</td>\n",
       "    </tr>\n",
       "    <tr>\n",
       "      <th>mean</th>\n",
       "      <td>34.518728</td>\n",
       "      <td>0.176760</td>\n",
       "      <td>55.433487</td>\n",
       "      <td>23.158850</td>\n",
       "      <td>15.332398</td>\n",
       "      <td>11.321734</td>\n",
       "      <td>1.956067</td>\n",
       "      <td>1.515854</td>\n",
       "      <td>435.926887</td>\n",
       "      <td>36.881737</td>\n",
       "      <td>194.533420</td>\n",
       "      <td>94.499745</td>\n",
       "      <td>1740.888324</td>\n",
       "    </tr>\n",
       "    <tr>\n",
       "      <th>std</th>\n",
       "      <td>22.306738</td>\n",
       "      <td>0.555562</td>\n",
       "      <td>276.757327</td>\n",
       "      <td>24.397963</td>\n",
       "      <td>18.049655</td>\n",
       "      <td>14.460839</td>\n",
       "      <td>2.365154</td>\n",
       "      <td>0.850853</td>\n",
       "      <td>4696.359500</td>\n",
       "      <td>270.383302</td>\n",
       "      <td>1956.375501</td>\n",
       "      <td>0.500001</td>\n",
       "      <td>995.559557</td>\n",
       "    </tr>\n",
       "    <tr>\n",
       "      <th>min</th>\n",
       "      <td>0.000000</td>\n",
       "      <td>0.000000</td>\n",
       "      <td>0.000000</td>\n",
       "      <td>0.000000</td>\n",
       "      <td>0.000000</td>\n",
       "      <td>0.000000</td>\n",
       "      <td>0.000000</td>\n",
       "      <td>0.000000</td>\n",
       "      <td>0.000000</td>\n",
       "      <td>0.000000</td>\n",
       "      <td>0.000000</td>\n",
       "      <td>94.000000</td>\n",
       "      <td>37.870000</td>\n",
       "    </tr>\n",
       "    <tr>\n",
       "      <th>25%</th>\n",
       "      <td>15.000000</td>\n",
       "      <td>0.000000</td>\n",
       "      <td>0.000000</td>\n",
       "      <td>0.000000</td>\n",
       "      <td>0.000000</td>\n",
       "      <td>0.000000</td>\n",
       "      <td>0.000000</td>\n",
       "      <td>2.000000</td>\n",
       "      <td>0.000000</td>\n",
       "      <td>0.000000</td>\n",
       "      <td>0.000000</td>\n",
       "      <td>94.000000</td>\n",
       "      <td>1061.290000</td>\n",
       "    </tr>\n",
       "    <tr>\n",
       "      <th>50%</th>\n",
       "      <td>33.000000</td>\n",
       "      <td>0.000000</td>\n",
       "      <td>0.000000</td>\n",
       "      <td>8.000000</td>\n",
       "      <td>0.000000</td>\n",
       "      <td>0.000000</td>\n",
       "      <td>1.000000</td>\n",
       "      <td>2.000000</td>\n",
       "      <td>0.000000</td>\n",
       "      <td>0.000000</td>\n",
       "      <td>0.000000</td>\n",
       "      <td>94.000000</td>\n",
       "      <td>1617.040000</td>\n",
       "    </tr>\n",
       "    <tr>\n",
       "      <th>75%</th>\n",
       "      <td>50.000000</td>\n",
       "      <td>0.000000</td>\n",
       "      <td>0.000000</td>\n",
       "      <td>52.000000</td>\n",
       "      <td>33.000000</td>\n",
       "      <td>26.000000</td>\n",
       "      <td>4.000000</td>\n",
       "      <td>2.000000</td>\n",
       "      <td>0.000000</td>\n",
       "      <td>0.000000</td>\n",
       "      <td>0.000000</td>\n",
       "      <td>95.000000</td>\n",
       "      <td>2185.480000</td>\n",
       "    </tr>\n",
       "    <tr>\n",
       "      <th>max</th>\n",
       "      <td>90.000000</td>\n",
       "      <td>2.000000</td>\n",
       "      <td>9999.000000</td>\n",
       "      <td>52.000000</td>\n",
       "      <td>51.000000</td>\n",
       "      <td>46.000000</td>\n",
       "      <td>6.000000</td>\n",
       "      <td>2.000000</td>\n",
       "      <td>99999.000000</td>\n",
       "      <td>4608.000000</td>\n",
       "      <td>99999.000000</td>\n",
       "      <td>95.000000</td>\n",
       "      <td>18656.300000</td>\n",
       "    </tr>\n",
       "  </tbody>\n",
       "</table>\n",
       "</div>"
      ],
      "text/plain": [
       "                 age  employment_stat  wage_per_hour  working_week_per_year  \\\n",
       "count  209499.000000    209499.000000  209499.000000          209499.000000   \n",
       "mean       34.518728         0.176760      55.433487              23.158850   \n",
       "std        22.306738         0.555562     276.757327              24.397963   \n",
       "min         0.000000         0.000000       0.000000               0.000000   \n",
       "25%        15.000000         0.000000       0.000000               0.000000   \n",
       "50%        33.000000         0.000000       0.000000               8.000000   \n",
       "75%        50.000000         0.000000       0.000000              52.000000   \n",
       "max        90.000000         2.000000    9999.000000              52.000000   \n",
       "\n",
       "       industry_code  occupation_code  total_employed    vet_benefit  \\\n",
       "count  209499.000000    209499.000000   209499.000000  209499.000000   \n",
       "mean       15.332398        11.321734        1.956067       1.515854   \n",
       "std        18.049655        14.460839        2.365154       0.850853   \n",
       "min         0.000000         0.000000        0.000000       0.000000   \n",
       "25%         0.000000         0.000000        0.000000       2.000000   \n",
       "50%         0.000000         0.000000        1.000000       2.000000   \n",
       "75%        33.000000        26.000000        4.000000       2.000000   \n",
       "max        51.000000        46.000000        6.000000       2.000000   \n",
       "\n",
       "               gains         losses  stocks_status       mig_year  \\\n",
       "count  209499.000000  209499.000000  209499.000000  209499.000000   \n",
       "mean      435.926887      36.881737     194.533420      94.499745   \n",
       "std      4696.359500     270.383302    1956.375501       0.500001   \n",
       "min         0.000000       0.000000       0.000000      94.000000   \n",
       "25%         0.000000       0.000000       0.000000      94.000000   \n",
       "50%         0.000000       0.000000       0.000000      94.000000   \n",
       "75%         0.000000       0.000000       0.000000      95.000000   \n",
       "max     99999.000000    4608.000000   99999.000000      95.000000   \n",
       "\n",
       "       importance_of_record  \n",
       "count         209499.000000  \n",
       "mean            1740.888324  \n",
       "std              995.559557  \n",
       "min               37.870000  \n",
       "25%             1061.290000  \n",
       "50%             1617.040000  \n",
       "75%             2185.480000  \n",
       "max            18656.300000  "
      ]
     },
     "execution_count": 7,
     "metadata": {},
     "output_type": "execute_result"
    }
   ],
   "source": [
    "train_data.describe()"
   ]
  },
  {
   "cell_type": "code",
   "execution_count": null,
   "id": "23917520",
   "metadata": {},
   "outputs": [],
   "source": []
  },
  {
   "cell_type": "markdown",
   "id": "54a80ebe",
   "metadata": {},
   "source": [
    "### EXPLORE THE TEST DATASET."
   ]
  },
  {
   "cell_type": "code",
   "execution_count": 8,
   "id": "67fe38a8",
   "metadata": {},
   "outputs": [
    {
     "data": {
      "text/html": [
       "<div>\n",
       "<style scoped>\n",
       "    .dataframe tbody tr th:only-of-type {\n",
       "        vertical-align: middle;\n",
       "    }\n",
       "\n",
       "    .dataframe tbody tr th {\n",
       "        vertical-align: top;\n",
       "    }\n",
       "\n",
       "    .dataframe thead th {\n",
       "        text-align: right;\n",
       "    }\n",
       "</style>\n",
       "<table border=\"1\" class=\"dataframe\">\n",
       "  <thead>\n",
       "    <tr style=\"text-align: right;\">\n",
       "      <th></th>\n",
       "      <th>ID</th>\n",
       "      <th>age</th>\n",
       "      <th>gender</th>\n",
       "      <th>education</th>\n",
       "      <th>class</th>\n",
       "      <th>education_institute</th>\n",
       "      <th>marital_status</th>\n",
       "      <th>race</th>\n",
       "      <th>is_hispanic</th>\n",
       "      <th>employment_commitment</th>\n",
       "      <th>...</th>\n",
       "      <th>country_of_birth_father</th>\n",
       "      <th>country_of_birth_mother</th>\n",
       "      <th>migration_code_change_in_msa</th>\n",
       "      <th>migration_prev_sunbelt</th>\n",
       "      <th>migration_code_move_within_reg</th>\n",
       "      <th>migration_code_change_in_reg</th>\n",
       "      <th>residence_1_year_ago</th>\n",
       "      <th>old_residence_reg</th>\n",
       "      <th>old_residence_state</th>\n",
       "      <th>importance_of_record</th>\n",
       "    </tr>\n",
       "  </thead>\n",
       "  <tbody>\n",
       "    <tr>\n",
       "      <th>0</th>\n",
       "      <td>ID_TZ209499</td>\n",
       "      <td>54</td>\n",
       "      <td>Male</td>\n",
       "      <td>High school graduate</td>\n",
       "      <td>Private</td>\n",
       "      <td>NaN</td>\n",
       "      <td>Married-civilian spouse present</td>\n",
       "      <td>White</td>\n",
       "      <td>All other</td>\n",
       "      <td>Children or Armed Forces</td>\n",
       "      <td>...</td>\n",
       "      <td>US</td>\n",
       "      <td>US</td>\n",
       "      <td>unchanged</td>\n",
       "      <td>NaN</td>\n",
       "      <td>unchanged</td>\n",
       "      <td>unchanged</td>\n",
       "      <td>Same</td>\n",
       "      <td>NaN</td>\n",
       "      <td>NaN</td>\n",
       "      <td>3388.96</td>\n",
       "    </tr>\n",
       "    <tr>\n",
       "      <th>1</th>\n",
       "      <td>ID_TZ209500</td>\n",
       "      <td>53</td>\n",
       "      <td>Male</td>\n",
       "      <td>5th or 6th grade</td>\n",
       "      <td>Private</td>\n",
       "      <td>NaN</td>\n",
       "      <td>Married-civilian spouse present</td>\n",
       "      <td>White</td>\n",
       "      <td>Central or South American</td>\n",
       "      <td>Full-time schedules</td>\n",
       "      <td>...</td>\n",
       "      <td>El-Salvador</td>\n",
       "      <td>El-Salvador</td>\n",
       "      <td>?</td>\n",
       "      <td>?</td>\n",
       "      <td>?</td>\n",
       "      <td>?</td>\n",
       "      <td>NaN</td>\n",
       "      <td>NaN</td>\n",
       "      <td>NaN</td>\n",
       "      <td>1177.55</td>\n",
       "    </tr>\n",
       "    <tr>\n",
       "      <th>2</th>\n",
       "      <td>ID_TZ209501</td>\n",
       "      <td>42</td>\n",
       "      <td>Male</td>\n",
       "      <td>Bachelors degree(BA AB BS)</td>\n",
       "      <td>Private</td>\n",
       "      <td>NaN</td>\n",
       "      <td>Married-civilian spouse present</td>\n",
       "      <td>White</td>\n",
       "      <td>All other</td>\n",
       "      <td>Full-time schedules</td>\n",
       "      <td>...</td>\n",
       "      <td>US</td>\n",
       "      <td>US</td>\n",
       "      <td>?</td>\n",
       "      <td>?</td>\n",
       "      <td>?</td>\n",
       "      <td>?</td>\n",
       "      <td>NaN</td>\n",
       "      <td>NaN</td>\n",
       "      <td>NaN</td>\n",
       "      <td>4898.55</td>\n",
       "    </tr>\n",
       "    <tr>\n",
       "      <th>3</th>\n",
       "      <td>ID_TZ209502</td>\n",
       "      <td>16</td>\n",
       "      <td>Female</td>\n",
       "      <td>9th grade</td>\n",
       "      <td>NaN</td>\n",
       "      <td>High school</td>\n",
       "      <td>Never married</td>\n",
       "      <td>White</td>\n",
       "      <td>All other</td>\n",
       "      <td>Children or Armed Forces</td>\n",
       "      <td>...</td>\n",
       "      <td>US</td>\n",
       "      <td>US</td>\n",
       "      <td>unchanged</td>\n",
       "      <td>NaN</td>\n",
       "      <td>unchanged</td>\n",
       "      <td>unchanged</td>\n",
       "      <td>Same</td>\n",
       "      <td>NaN</td>\n",
       "      <td>NaN</td>\n",
       "      <td>1391.44</td>\n",
       "    </tr>\n",
       "    <tr>\n",
       "      <th>4</th>\n",
       "      <td>ID_TZ209503</td>\n",
       "      <td>16</td>\n",
       "      <td>Male</td>\n",
       "      <td>9th grade</td>\n",
       "      <td>NaN</td>\n",
       "      <td>High school</td>\n",
       "      <td>Never married</td>\n",
       "      <td>White</td>\n",
       "      <td>All other</td>\n",
       "      <td>Not in labor force</td>\n",
       "      <td>...</td>\n",
       "      <td>US</td>\n",
       "      <td>US</td>\n",
       "      <td>?</td>\n",
       "      <td>?</td>\n",
       "      <td>?</td>\n",
       "      <td>?</td>\n",
       "      <td>NaN</td>\n",
       "      <td>NaN</td>\n",
       "      <td>NaN</td>\n",
       "      <td>1933.18</td>\n",
       "    </tr>\n",
       "  </tbody>\n",
       "</table>\n",
       "<p>5 rows × 42 columns</p>\n",
       "</div>"
      ],
      "text/plain": [
       "            ID  age   gender                    education     class  \\\n",
       "0  ID_TZ209499   54     Male         High school graduate   Private   \n",
       "1  ID_TZ209500   53     Male             5th or 6th grade   Private   \n",
       "2  ID_TZ209501   42     Male   Bachelors degree(BA AB BS)   Private   \n",
       "3  ID_TZ209502   16   Female                    9th grade       NaN   \n",
       "4  ID_TZ209503   16     Male                    9th grade       NaN   \n",
       "\n",
       "  education_institute                    marital_status    race  \\\n",
       "0                 NaN   Married-civilian spouse present   White   \n",
       "1                 NaN   Married-civilian spouse present   White   \n",
       "2                 NaN   Married-civilian spouse present   White   \n",
       "3         High school                     Never married   White   \n",
       "4         High school                     Never married   White   \n",
       "\n",
       "                  is_hispanic      employment_commitment  ...  \\\n",
       "0                   All other   Children or Armed Forces  ...   \n",
       "1   Central or South American        Full-time schedules  ...   \n",
       "2                   All other        Full-time schedules  ...   \n",
       "3                   All other   Children or Armed Forces  ...   \n",
       "4                   All other         Not in labor force  ...   \n",
       "\n",
       "  country_of_birth_father  country_of_birth_mother  \\\n",
       "0                      US                       US   \n",
       "1             El-Salvador              El-Salvador   \n",
       "2                      US                       US   \n",
       "3                      US                       US   \n",
       "4                      US                       US   \n",
       "\n",
       "   migration_code_change_in_msa migration_prev_sunbelt  \\\n",
       "0                     unchanged                    NaN   \n",
       "1                             ?                      ?   \n",
       "2                             ?                      ?   \n",
       "3                     unchanged                    NaN   \n",
       "4                             ?                      ?   \n",
       "\n",
       "   migration_code_move_within_reg  migration_code_change_in_reg  \\\n",
       "0                       unchanged                     unchanged   \n",
       "1                               ?                             ?   \n",
       "2                               ?                             ?   \n",
       "3                       unchanged                     unchanged   \n",
       "4                               ?                             ?   \n",
       "\n",
       "  residence_1_year_ago  old_residence_reg old_residence_state  \\\n",
       "0                 Same                NaN                 NaN   \n",
       "1                  NaN                NaN                 NaN   \n",
       "2                  NaN                NaN                 NaN   \n",
       "3                 Same                NaN                 NaN   \n",
       "4                  NaN                NaN                 NaN   \n",
       "\n",
       "   importance_of_record  \n",
       "0               3388.96  \n",
       "1               1177.55  \n",
       "2               4898.55  \n",
       "3               1391.44  \n",
       "4               1933.18  \n",
       "\n",
       "[5 rows x 42 columns]"
      ]
     },
     "execution_count": 8,
     "metadata": {},
     "output_type": "execute_result"
    }
   ],
   "source": [
    "#Overview of the test dataset.\n",
    "\n",
    "test_data.head()"
   ]
  },
  {
   "cell_type": "code",
   "execution_count": 9,
   "id": "1eb9662c",
   "metadata": {},
   "outputs": [
    {
     "name": "stdout",
     "output_type": "stream",
     "text": [
      "The shape of the train dataset is: (89786, 42)\n"
     ]
    }
   ],
   "source": [
    "#Check the shape of the test dataset.\n",
    "\n",
    "print(f\"The shape of the train dataset is: {test_data.shape}\")"
   ]
  },
  {
   "cell_type": "code",
   "execution_count": 10,
   "id": "1d8ebc1d",
   "metadata": {},
   "outputs": [
    {
     "name": "stdout",
     "output_type": "stream",
     "text": [
      "<class 'pandas.core.frame.DataFrame'>\n",
      "RangeIndex: 89786 entries, 0 to 89785\n",
      "Data columns (total 42 columns):\n",
      " #   Column                          Non-Null Count  Dtype  \n",
      "---  ------                          --------------  -----  \n",
      " 0   ID                              89786 non-null  object \n",
      " 1   age                             89786 non-null  int64  \n",
      " 2   gender                          89786 non-null  object \n",
      " 3   education                       89786 non-null  object \n",
      " 4   class                           44707 non-null  object \n",
      " 5   education_institute             5616 non-null   object \n",
      " 6   marital_status                  89786 non-null  object \n",
      " 7   race                            89786 non-null  object \n",
      " 8   is_hispanic                     89786 non-null  object \n",
      " 9   employment_commitment           89786 non-null  object \n",
      " 10  unemployment_reason             2680 non-null   object \n",
      " 11  employment_stat                 89786 non-null  int64  \n",
      " 12  wage_per_hour                   89786 non-null  int64  \n",
      " 13  is_labor_union                  8464 non-null   object \n",
      " 14  working_week_per_year           89786 non-null  int64  \n",
      " 15  industry_code                   89786 non-null  int64  \n",
      " 16  industry_code_main              89786 non-null  object \n",
      " 17  occupation_code                 89786 non-null  int64  \n",
      " 18  occupation_code_main            44513 non-null  object \n",
      " 19  total_employed                  89786 non-null  int64  \n",
      " 20  household_stat                  89786 non-null  object \n",
      " 21  household_summary               89786 non-null  object \n",
      " 22  under_18_family                 24814 non-null  object \n",
      " 23  veterans_admin_questionnaire    927 non-null    object \n",
      " 24  vet_benefit                     89786 non-null  int64  \n",
      " 25  tax_status                      89786 non-null  object \n",
      " 26  gains                           89786 non-null  int64  \n",
      " 27  losses                          89786 non-null  int64  \n",
      " 28  stocks_status                   89786 non-null  int64  \n",
      " 29  citizenship                     89786 non-null  object \n",
      " 30  mig_year                        89786 non-null  int64  \n",
      " 31  country_of_birth_own            89786 non-null  object \n",
      " 32  country_of_birth_father         89786 non-null  object \n",
      " 33  country_of_birth_mother         89786 non-null  object \n",
      " 34  migration_code_change_in_msa    89135 non-null  object \n",
      " 35  migration_prev_sunbelt          52062 non-null  object \n",
      " 36  migration_code_move_within_reg  89135 non-null  object \n",
      " 37  migration_code_change_in_reg    89135 non-null  object \n",
      " 38  residence_1_year_ago            44189 non-null  object \n",
      " 39  old_residence_reg               7116 non-null   object \n",
      " 40  old_residence_state             7116 non-null   object \n",
      " 41  importance_of_record            89786 non-null  float64\n",
      "dtypes: float64(1), int64(12), object(29)\n",
      "memory usage: 28.8+ MB\n"
     ]
    }
   ],
   "source": [
    "#Check the shape of the test dataset.\n",
    "\n",
    "test_data.info()"
   ]
  },
  {
   "cell_type": "code",
   "execution_count": 11,
   "id": "6ae992b8",
   "metadata": {},
   "outputs": [
    {
     "data": {
      "text/plain": [
       "ID                                    0\n",
       "age                                   0\n",
       "gender                                0\n",
       "education                             0\n",
       "class                             45079\n",
       "education_institute               84170\n",
       "marital_status                        0\n",
       "race                                  0\n",
       "is_hispanic                           0\n",
       "employment_commitment                 0\n",
       "unemployment_reason               87106\n",
       "employment_stat                       0\n",
       "wage_per_hour                         0\n",
       "is_labor_union                    81322\n",
       "working_week_per_year                 0\n",
       "industry_code                         0\n",
       "industry_code_main                    0\n",
       "occupation_code                       0\n",
       "occupation_code_main              45273\n",
       "total_employed                        0\n",
       "household_stat                        0\n",
       "household_summary                     0\n",
       "under_18_family                   64972\n",
       "veterans_admin_questionnaire      88859\n",
       "vet_benefit                           0\n",
       "tax_status                            0\n",
       "gains                                 0\n",
       "losses                                0\n",
       "stocks_status                         0\n",
       "citizenship                           0\n",
       "mig_year                              0\n",
       "country_of_birth_own                  0\n",
       "country_of_birth_father               0\n",
       "country_of_birth_mother               0\n",
       "migration_code_change_in_msa        651\n",
       "migration_prev_sunbelt            37724\n",
       "migration_code_move_within_reg      651\n",
       "migration_code_change_in_reg        651\n",
       "residence_1_year_ago              45597\n",
       "old_residence_reg                 82670\n",
       "old_residence_state               82670\n",
       "importance_of_record                  0\n",
       "dtype: int64"
      ]
     },
     "execution_count": 11,
     "metadata": {},
     "output_type": "execute_result"
    }
   ],
   "source": [
    "test_data.isnull().sum()"
   ]
  },
  {
   "cell_type": "markdown",
   "id": "49ac7a36",
   "metadata": {},
   "source": [
    "#### INSIGHTS FOR THE TEST DATASET\n",
    "\n",
    "From the records above, it clearly shows that after some columns were dropped to aid in making the work easier. <br>\n",
    "Some columns had some missing values and they are :<br>\n",
    "* Class columns with a total number of <b> 45079 </b> missing values.\n",
    "* Occupation code main columns with a total number of <b> 45273 </b> missing values."
   ]
  },
  {
   "cell_type": "code",
   "execution_count": 12,
   "id": "d8574dcb",
   "metadata": {},
   "outputs": [
    {
     "data": {
      "text/html": [
       "<div>\n",
       "<style scoped>\n",
       "    .dataframe tbody tr th:only-of-type {\n",
       "        vertical-align: middle;\n",
       "    }\n",
       "\n",
       "    .dataframe tbody tr th {\n",
       "        vertical-align: top;\n",
       "    }\n",
       "\n",
       "    .dataframe thead th {\n",
       "        text-align: right;\n",
       "    }\n",
       "</style>\n",
       "<table border=\"1\" class=\"dataframe\">\n",
       "  <thead>\n",
       "    <tr style=\"text-align: right;\">\n",
       "      <th></th>\n",
       "      <th>age</th>\n",
       "      <th>employment_stat</th>\n",
       "      <th>wage_per_hour</th>\n",
       "      <th>working_week_per_year</th>\n",
       "      <th>industry_code</th>\n",
       "      <th>occupation_code</th>\n",
       "      <th>total_employed</th>\n",
       "      <th>vet_benefit</th>\n",
       "      <th>gains</th>\n",
       "      <th>losses</th>\n",
       "      <th>stocks_status</th>\n",
       "      <th>mig_year</th>\n",
       "      <th>importance_of_record</th>\n",
       "    </tr>\n",
       "  </thead>\n",
       "  <tbody>\n",
       "    <tr>\n",
       "      <th>count</th>\n",
       "      <td>89786.000000</td>\n",
       "      <td>89786.000000</td>\n",
       "      <td>89786.000000</td>\n",
       "      <td>89786.000000</td>\n",
       "      <td>89786.000000</td>\n",
       "      <td>89786.000000</td>\n",
       "      <td>89786.000000</td>\n",
       "      <td>89786.000000</td>\n",
       "      <td>89786.000000</td>\n",
       "      <td>89786.000000</td>\n",
       "      <td>89786.000000</td>\n",
       "      <td>89786.000000</td>\n",
       "      <td>89786.000000</td>\n",
       "    </tr>\n",
       "    <tr>\n",
       "      <th>mean</th>\n",
       "      <td>34.586294</td>\n",
       "      <td>0.175762</td>\n",
       "      <td>54.338627</td>\n",
       "      <td>23.223932</td>\n",
       "      <td>15.377130</td>\n",
       "      <td>11.298432</td>\n",
       "      <td>1.956419</td>\n",
       "      <td>1.517998</td>\n",
       "      <td>421.977925</td>\n",
       "      <td>36.772648</td>\n",
       "      <td>198.926191</td>\n",
       "      <td>94.500590</td>\n",
       "      <td>1738.264342</td>\n",
       "    </tr>\n",
       "    <tr>\n",
       "      <th>std</th>\n",
       "      <td>22.345868</td>\n",
       "      <td>0.554491</td>\n",
       "      <td>265.197545</td>\n",
       "      <td>24.418207</td>\n",
       "      <td>18.062988</td>\n",
       "      <td>14.444703</td>\n",
       "      <td>2.364178</td>\n",
       "      <td>0.849330</td>\n",
       "      <td>4610.515599</td>\n",
       "      <td>268.401257</td>\n",
       "      <td>1893.916856</td>\n",
       "      <td>0.500002</td>\n",
       "      <td>990.837295</td>\n",
       "    </tr>\n",
       "    <tr>\n",
       "      <th>min</th>\n",
       "      <td>0.000000</td>\n",
       "      <td>0.000000</td>\n",
       "      <td>0.000000</td>\n",
       "      <td>0.000000</td>\n",
       "      <td>0.000000</td>\n",
       "      <td>0.000000</td>\n",
       "      <td>0.000000</td>\n",
       "      <td>0.000000</td>\n",
       "      <td>0.000000</td>\n",
       "      <td>0.000000</td>\n",
       "      <td>0.000000</td>\n",
       "      <td>94.000000</td>\n",
       "      <td>42.820000</td>\n",
       "    </tr>\n",
       "    <tr>\n",
       "      <th>25%</th>\n",
       "      <td>15.000000</td>\n",
       "      <td>0.000000</td>\n",
       "      <td>0.000000</td>\n",
       "      <td>0.000000</td>\n",
       "      <td>0.000000</td>\n",
       "      <td>0.000000</td>\n",
       "      <td>0.000000</td>\n",
       "      <td>2.000000</td>\n",
       "      <td>0.000000</td>\n",
       "      <td>0.000000</td>\n",
       "      <td>0.000000</td>\n",
       "      <td>94.000000</td>\n",
       "      <td>1059.115000</td>\n",
       "    </tr>\n",
       "    <tr>\n",
       "      <th>50%</th>\n",
       "      <td>33.000000</td>\n",
       "      <td>0.000000</td>\n",
       "      <td>0.000000</td>\n",
       "      <td>8.000000</td>\n",
       "      <td>0.000000</td>\n",
       "      <td>0.000000</td>\n",
       "      <td>1.000000</td>\n",
       "      <td>2.000000</td>\n",
       "      <td>0.000000</td>\n",
       "      <td>0.000000</td>\n",
       "      <td>0.000000</td>\n",
       "      <td>95.000000</td>\n",
       "      <td>1617.345000</td>\n",
       "    </tr>\n",
       "    <tr>\n",
       "      <th>75%</th>\n",
       "      <td>50.000000</td>\n",
       "      <td>0.000000</td>\n",
       "      <td>0.000000</td>\n",
       "      <td>52.000000</td>\n",
       "      <td>33.000000</td>\n",
       "      <td>26.000000</td>\n",
       "      <td>4.000000</td>\n",
       "      <td>2.000000</td>\n",
       "      <td>0.000000</td>\n",
       "      <td>0.000000</td>\n",
       "      <td>0.000000</td>\n",
       "      <td>95.000000</td>\n",
       "      <td>2193.735000</td>\n",
       "    </tr>\n",
       "    <tr>\n",
       "      <th>max</th>\n",
       "      <td>90.000000</td>\n",
       "      <td>2.000000</td>\n",
       "      <td>9400.000000</td>\n",
       "      <td>52.000000</td>\n",
       "      <td>51.000000</td>\n",
       "      <td>46.000000</td>\n",
       "      <td>6.000000</td>\n",
       "      <td>2.000000</td>\n",
       "      <td>99999.000000</td>\n",
       "      <td>4608.000000</td>\n",
       "      <td>99999.000000</td>\n",
       "      <td>95.000000</td>\n",
       "      <td>12960.200000</td>\n",
       "    </tr>\n",
       "  </tbody>\n",
       "</table>\n",
       "</div>"
      ],
      "text/plain": [
       "                age  employment_stat  wage_per_hour  working_week_per_year  \\\n",
       "count  89786.000000     89786.000000   89786.000000           89786.000000   \n",
       "mean      34.586294         0.175762      54.338627              23.223932   \n",
       "std       22.345868         0.554491     265.197545              24.418207   \n",
       "min        0.000000         0.000000       0.000000               0.000000   \n",
       "25%       15.000000         0.000000       0.000000               0.000000   \n",
       "50%       33.000000         0.000000       0.000000               8.000000   \n",
       "75%       50.000000         0.000000       0.000000              52.000000   \n",
       "max       90.000000         2.000000    9400.000000              52.000000   \n",
       "\n",
       "       industry_code  occupation_code  total_employed   vet_benefit  \\\n",
       "count   89786.000000     89786.000000    89786.000000  89786.000000   \n",
       "mean       15.377130        11.298432        1.956419      1.517998   \n",
       "std        18.062988        14.444703        2.364178      0.849330   \n",
       "min         0.000000         0.000000        0.000000      0.000000   \n",
       "25%         0.000000         0.000000        0.000000      2.000000   \n",
       "50%         0.000000         0.000000        1.000000      2.000000   \n",
       "75%        33.000000        26.000000        4.000000      2.000000   \n",
       "max        51.000000        46.000000        6.000000      2.000000   \n",
       "\n",
       "              gains        losses  stocks_status      mig_year  \\\n",
       "count  89786.000000  89786.000000   89786.000000  89786.000000   \n",
       "mean     421.977925     36.772648     198.926191     94.500590   \n",
       "std     4610.515599    268.401257    1893.916856      0.500002   \n",
       "min        0.000000      0.000000       0.000000     94.000000   \n",
       "25%        0.000000      0.000000       0.000000     94.000000   \n",
       "50%        0.000000      0.000000       0.000000     95.000000   \n",
       "75%        0.000000      0.000000       0.000000     95.000000   \n",
       "max    99999.000000   4608.000000   99999.000000     95.000000   \n",
       "\n",
       "       importance_of_record  \n",
       "count          89786.000000  \n",
       "mean            1738.264342  \n",
       "std              990.837295  \n",
       "min               42.820000  \n",
       "25%             1059.115000  \n",
       "50%             1617.345000  \n",
       "75%             2193.735000  \n",
       "max            12960.200000  "
      ]
     },
     "execution_count": 12,
     "metadata": {},
     "output_type": "execute_result"
    }
   ],
   "source": [
    "test_data.describe()"
   ]
  },
  {
   "cell_type": "code",
   "execution_count": null,
   "id": "1ae535d6",
   "metadata": {},
   "outputs": [],
   "source": []
  },
  {
   "cell_type": "markdown",
   "id": "1964f6c3",
   "metadata": {},
   "source": [
    "## FEATURE ENGINEERING"
   ]
  },
  {
   "cell_type": "code",
   "execution_count": 13,
   "id": "480e359a",
   "metadata": {},
   "outputs": [],
   "source": [
    "#Create a copy of the original train dataset\n",
    "\n",
    "data = train_data.copy() "
   ]
  },
  {
   "cell_type": "code",
   "execution_count": 14,
   "id": "1c8a567f",
   "metadata": {},
   "outputs": [],
   "source": [
    "#Create a copy of the original test dataset\n",
    "\n",
    "data = test_data.copy() "
   ]
  },
  {
   "cell_type": "code",
   "execution_count": 15,
   "id": "840a7bd8",
   "metadata": {},
   "outputs": [
    {
     "data": {
      "text/plain": [
       "Index(['ID', 'age', 'gender', 'education', 'class', 'education_institute',\n",
       "       'marital_status', 'race', 'is_hispanic', 'employment_commitment',\n",
       "       'unemployment_reason', 'employment_stat', 'wage_per_hour',\n",
       "       'is_labor_union', 'working_week_per_year', 'industry_code',\n",
       "       'industry_code_main', 'occupation_code', 'occupation_code_main',\n",
       "       'total_employed', 'household_stat', 'household_summary',\n",
       "       'under_18_family', 'veterans_admin_questionnaire', 'vet_benefit',\n",
       "       'tax_status', 'gains', 'losses', 'stocks_status', 'citizenship',\n",
       "       'mig_year', 'country_of_birth_own', 'country_of_birth_father',\n",
       "       'country_of_birth_mother', 'migration_code_change_in_msa',\n",
       "       'migration_prev_sunbelt', 'migration_code_move_within_reg',\n",
       "       'migration_code_change_in_reg', 'residence_1_year_ago',\n",
       "       'old_residence_reg', 'old_residence_state', 'importance_of_record',\n",
       "       'income_above_limit'],\n",
       "      dtype='object')"
      ]
     },
     "execution_count": 15,
     "metadata": {},
     "output_type": "execute_result"
    }
   ],
   "source": [
    "#Overview of all the columns in the train dataset.\n",
    "\n",
    "train_data.columns"
   ]
  },
  {
   "cell_type": "code",
   "execution_count": 16,
   "id": "768c9e5d",
   "metadata": {},
   "outputs": [
    {
     "data": {
      "text/plain": [
       "Index(['ID', 'age', 'gender', 'education', 'class', 'education_institute',\n",
       "       'marital_status', 'race', 'is_hispanic', 'employment_commitment',\n",
       "       'unemployment_reason', 'employment_stat', 'wage_per_hour',\n",
       "       'is_labor_union', 'working_week_per_year', 'industry_code',\n",
       "       'industry_code_main', 'occupation_code', 'occupation_code_main',\n",
       "       'total_employed', 'household_stat', 'household_summary',\n",
       "       'under_18_family', 'veterans_admin_questionnaire', 'vet_benefit',\n",
       "       'tax_status', 'gains', 'losses', 'stocks_status', 'citizenship',\n",
       "       'mig_year', 'country_of_birth_own', 'country_of_birth_father',\n",
       "       'country_of_birth_mother', 'migration_code_change_in_msa',\n",
       "       'migration_prev_sunbelt', 'migration_code_move_within_reg',\n",
       "       'migration_code_change_in_reg', 'residence_1_year_ago',\n",
       "       'old_residence_reg', 'old_residence_state', 'importance_of_record'],\n",
       "      dtype='object')"
      ]
     },
     "execution_count": 16,
     "metadata": {},
     "output_type": "execute_result"
    }
   ],
   "source": [
    "#Overview of all the columns in the test dataset.\n",
    "\n",
    "test_data.columns"
   ]
  },
  {
   "cell_type": "markdown",
   "id": "b02f8711",
   "metadata": {},
   "source": [
    "### DROP SOME COLUMNS\n",
    "#### For the purposes of this project, we will drop some columns that will not be relevant for the machine learning"
   ]
  },
  {
   "cell_type": "code",
   "execution_count": 17,
   "id": "918e05e8",
   "metadata": {},
   "outputs": [],
   "source": [
    "#drop the following columns in the train dataset.\n",
    "\n",
    "train_data.drop(columns=['ID', 'education_institute', 'is_hispanic', 'employment_commitment', 'unemployment_reason', \n",
    "                         'employment_stat','is_labor_union', 'industry_code', 'industry_code_main', 'occupation_code',\n",
    "                         'total_employed', 'household_stat', 'household_summary', 'under_18_family',\n",
    "                         'veterans_admin_questionnaire', 'vet_benefit', 'tax_status', 'stocks_status', 'mig_year',\n",
    "                         'country_of_birth_father', 'country_of_birth_mother', 'migration_code_change_in_msa',\n",
    "                         'migration_prev_sunbelt', 'migration_code_move_within_reg', 'migration_code_change_in_reg',\n",
    "                         'residence_1_year_ago', 'old_residence_reg', 'old_residence_state', 'importance_of_record'], \n",
    "                         inplace=True)"
   ]
  },
  {
   "cell_type": "code",
   "execution_count": 18,
   "id": "ebefb725",
   "metadata": {},
   "outputs": [],
   "source": [
    "#drop the following columns in the test dataset.\n",
    "\n",
    "test_data.drop(columns=['ID', 'education_institute', 'is_hispanic', 'employment_commitment', 'unemployment_reason', \n",
    "                         'employment_stat','is_labor_union', 'industry_code', 'industry_code_main', 'occupation_code',\n",
    "                         'total_employed', 'household_stat', 'household_summary', 'under_18_family',\n",
    "                         'veterans_admin_questionnaire', 'vet_benefit', 'tax_status', 'stocks_status', 'mig_year',\n",
    "                         'country_of_birth_father', 'country_of_birth_mother', 'migration_code_change_in_msa',\n",
    "                         'migration_prev_sunbelt', 'migration_code_move_within_reg', 'migration_code_change_in_reg',\n",
    "                         'residence_1_year_ago', 'old_residence_reg', 'old_residence_state', 'importance_of_record'], \n",
    "                         inplace=True)"
   ]
  },
  {
   "cell_type": "markdown",
   "id": "f8e94e6c",
   "metadata": {},
   "source": [
    "#### RENAME SOME COLUMNS"
   ]
  },
  {
   "cell_type": "code",
   "execution_count": 19,
   "id": "e17a9476",
   "metadata": {},
   "outputs": [],
   "source": [
    "# Define the new names for some columns to be renamed in the train dataset.\n",
    "\n",
    "new_columns = {'wage_per_hour': 'hourly_wage', 'occupation_code_main': 'occupation', \n",
    "               'country_of_birth_own': 'country_of_birth'}\n",
    "\n",
    "train_data.rename(columns=new_columns, inplace=True)"
   ]
  },
  {
   "cell_type": "code",
   "execution_count": 20,
   "id": "734f58cc",
   "metadata": {},
   "outputs": [],
   "source": [
    "# Define the new names for some columns to be renamed in the test dataset.\n",
    "\n",
    "new_columns = {'wage_per_hour': 'hourly_wage', 'occupation_code_main': 'occupation', \n",
    "               'country_of_birth_own': 'country_of_birth'}\n",
    "\n",
    "test_data.rename(columns=new_columns, inplace=True)"
   ]
  },
  {
   "cell_type": "code",
   "execution_count": 21,
   "id": "aed2aa9d",
   "metadata": {},
   "outputs": [
    {
     "name": "stdout",
     "output_type": "stream",
     "text": [
      "Index(['age', 'gender', 'education', 'class', 'marital_status', 'race',\n",
      "       'hourly_wage', 'working_week_per_year', 'occupation', 'gains', 'losses',\n",
      "       'citizenship', 'country_of_birth', 'income_above_limit'],\n",
      "      dtype='object')\n"
     ]
    }
   ],
   "source": [
    "#View the train dataset after some columns have been dropped and renamed.\n",
    "\n",
    "print(train_data.columns)"
   ]
  },
  {
   "cell_type": "code",
   "execution_count": 22,
   "id": "621e2878",
   "metadata": {},
   "outputs": [
    {
     "name": "stdout",
     "output_type": "stream",
     "text": [
      "Index(['age', 'gender', 'education', 'class', 'marital_status', 'race',\n",
      "       'hourly_wage', 'working_week_per_year', 'occupation', 'gains', 'losses',\n",
      "       'citizenship', 'country_of_birth'],\n",
      "      dtype='object')\n"
     ]
    }
   ],
   "source": [
    "#View the test dataset after some columns have been dropped and renamed.\n",
    "\n",
    "print(test_data.columns)"
   ]
  },
  {
   "cell_type": "code",
   "execution_count": 23,
   "id": "42dd9fc5",
   "metadata": {},
   "outputs": [
    {
     "data": {
      "text/html": [
       "<div>\n",
       "<style scoped>\n",
       "    .dataframe tbody tr th:only-of-type {\n",
       "        vertical-align: middle;\n",
       "    }\n",
       "\n",
       "    .dataframe tbody tr th {\n",
       "        vertical-align: top;\n",
       "    }\n",
       "\n",
       "    .dataframe thead th {\n",
       "        text-align: right;\n",
       "    }\n",
       "</style>\n",
       "<table border=\"1\" class=\"dataframe\">\n",
       "  <thead>\n",
       "    <tr style=\"text-align: right;\">\n",
       "      <th></th>\n",
       "      <th>age</th>\n",
       "      <th>gender</th>\n",
       "      <th>education</th>\n",
       "      <th>class</th>\n",
       "      <th>marital_status</th>\n",
       "      <th>race</th>\n",
       "      <th>hourly_wage</th>\n",
       "      <th>working_week_per_year</th>\n",
       "      <th>occupation</th>\n",
       "      <th>gains</th>\n",
       "      <th>losses</th>\n",
       "      <th>citizenship</th>\n",
       "      <th>country_of_birth</th>\n",
       "      <th>income_above_limit</th>\n",
       "    </tr>\n",
       "  </thead>\n",
       "  <tbody>\n",
       "    <tr>\n",
       "      <th>0</th>\n",
       "      <td>79</td>\n",
       "      <td>Female</td>\n",
       "      <td>High school graduate</td>\n",
       "      <td>NaN</td>\n",
       "      <td>Widowed</td>\n",
       "      <td>White</td>\n",
       "      <td>0</td>\n",
       "      <td>52</td>\n",
       "      <td>NaN</td>\n",
       "      <td>0</td>\n",
       "      <td>0</td>\n",
       "      <td>Native</td>\n",
       "      <td>US</td>\n",
       "      <td>Below limit</td>\n",
       "    </tr>\n",
       "    <tr>\n",
       "      <th>1</th>\n",
       "      <td>65</td>\n",
       "      <td>Female</td>\n",
       "      <td>High school graduate</td>\n",
       "      <td>NaN</td>\n",
       "      <td>Widowed</td>\n",
       "      <td>White</td>\n",
       "      <td>0</td>\n",
       "      <td>0</td>\n",
       "      <td>NaN</td>\n",
       "      <td>0</td>\n",
       "      <td>0</td>\n",
       "      <td>Native</td>\n",
       "      <td>US</td>\n",
       "      <td>Below limit</td>\n",
       "    </tr>\n",
       "    <tr>\n",
       "      <th>2</th>\n",
       "      <td>21</td>\n",
       "      <td>Male</td>\n",
       "      <td>12th grade no diploma</td>\n",
       "      <td>Federal government</td>\n",
       "      <td>Never married</td>\n",
       "      <td>Black</td>\n",
       "      <td>500</td>\n",
       "      <td>15</td>\n",
       "      <td>Adm support including clerical</td>\n",
       "      <td>0</td>\n",
       "      <td>0</td>\n",
       "      <td>Native</td>\n",
       "      <td>US</td>\n",
       "      <td>Below limit</td>\n",
       "    </tr>\n",
       "    <tr>\n",
       "      <th>3</th>\n",
       "      <td>2</td>\n",
       "      <td>Female</td>\n",
       "      <td>Children</td>\n",
       "      <td>NaN</td>\n",
       "      <td>Never married</td>\n",
       "      <td>Asian or Pacific Islander</td>\n",
       "      <td>0</td>\n",
       "      <td>0</td>\n",
       "      <td>NaN</td>\n",
       "      <td>0</td>\n",
       "      <td>0</td>\n",
       "      <td>Native</td>\n",
       "      <td>US</td>\n",
       "      <td>Below limit</td>\n",
       "    </tr>\n",
       "    <tr>\n",
       "      <th>4</th>\n",
       "      <td>70</td>\n",
       "      <td>Male</td>\n",
       "      <td>High school graduate</td>\n",
       "      <td>NaN</td>\n",
       "      <td>Married-civilian spouse present</td>\n",
       "      <td>White</td>\n",
       "      <td>0</td>\n",
       "      <td>0</td>\n",
       "      <td>NaN</td>\n",
       "      <td>0</td>\n",
       "      <td>0</td>\n",
       "      <td>Native</td>\n",
       "      <td>US</td>\n",
       "      <td>Below limit</td>\n",
       "    </tr>\n",
       "  </tbody>\n",
       "</table>\n",
       "</div>"
      ],
      "text/plain": [
       "   age   gender               education                class  \\\n",
       "0   79   Female    High school graduate                  NaN   \n",
       "1   65   Female    High school graduate                  NaN   \n",
       "2   21     Male   12th grade no diploma   Federal government   \n",
       "3    2   Female                Children                  NaN   \n",
       "4   70     Male    High school graduate                  NaN   \n",
       "\n",
       "                     marital_status                        race  hourly_wage  \\\n",
       "0                           Widowed                       White            0   \n",
       "1                           Widowed                       White            0   \n",
       "2                     Never married                       Black          500   \n",
       "3                     Never married   Asian or Pacific Islander            0   \n",
       "4   Married-civilian spouse present                       White            0   \n",
       "\n",
       "   working_week_per_year                       occupation  gains  losses  \\\n",
       "0                     52                              NaN      0       0   \n",
       "1                      0                              NaN      0       0   \n",
       "2                     15   Adm support including clerical      0       0   \n",
       "3                      0                              NaN      0       0   \n",
       "4                      0                              NaN      0       0   \n",
       "\n",
       "  citizenship country_of_birth income_above_limit  \n",
       "0      Native               US        Below limit  \n",
       "1      Native               US        Below limit  \n",
       "2      Native               US        Below limit  \n",
       "3      Native               US        Below limit  \n",
       "4      Native               US        Below limit  "
      ]
     },
     "execution_count": 23,
     "metadata": {},
     "output_type": "execute_result"
    }
   ],
   "source": [
    "#Check the train dataframe after some columns have been dropped and renamed.\n",
    "\n",
    "train_data.head()"
   ]
  },
  {
   "cell_type": "code",
   "execution_count": 24,
   "id": "0316d1f2",
   "metadata": {},
   "outputs": [
    {
     "data": {
      "text/html": [
       "<div>\n",
       "<style scoped>\n",
       "    .dataframe tbody tr th:only-of-type {\n",
       "        vertical-align: middle;\n",
       "    }\n",
       "\n",
       "    .dataframe tbody tr th {\n",
       "        vertical-align: top;\n",
       "    }\n",
       "\n",
       "    .dataframe thead th {\n",
       "        text-align: right;\n",
       "    }\n",
       "</style>\n",
       "<table border=\"1\" class=\"dataframe\">\n",
       "  <thead>\n",
       "    <tr style=\"text-align: right;\">\n",
       "      <th></th>\n",
       "      <th>age</th>\n",
       "      <th>gender</th>\n",
       "      <th>education</th>\n",
       "      <th>class</th>\n",
       "      <th>marital_status</th>\n",
       "      <th>race</th>\n",
       "      <th>hourly_wage</th>\n",
       "      <th>working_week_per_year</th>\n",
       "      <th>occupation</th>\n",
       "      <th>gains</th>\n",
       "      <th>losses</th>\n",
       "      <th>citizenship</th>\n",
       "      <th>country_of_birth</th>\n",
       "    </tr>\n",
       "  </thead>\n",
       "  <tbody>\n",
       "    <tr>\n",
       "      <th>0</th>\n",
       "      <td>54</td>\n",
       "      <td>Male</td>\n",
       "      <td>High school graduate</td>\n",
       "      <td>Private</td>\n",
       "      <td>Married-civilian spouse present</td>\n",
       "      <td>White</td>\n",
       "      <td>600</td>\n",
       "      <td>46</td>\n",
       "      <td>Transportation and material moving</td>\n",
       "      <td>0</td>\n",
       "      <td>0</td>\n",
       "      <td>Native</td>\n",
       "      <td>US</td>\n",
       "    </tr>\n",
       "    <tr>\n",
       "      <th>1</th>\n",
       "      <td>53</td>\n",
       "      <td>Male</td>\n",
       "      <td>5th or 6th grade</td>\n",
       "      <td>Private</td>\n",
       "      <td>Married-civilian spouse present</td>\n",
       "      <td>White</td>\n",
       "      <td>0</td>\n",
       "      <td>52</td>\n",
       "      <td>Machine operators assmblrs &amp; inspctrs</td>\n",
       "      <td>0</td>\n",
       "      <td>0</td>\n",
       "      <td>Foreign born- Not a citizen of U S</td>\n",
       "      <td>El-Salvador</td>\n",
       "    </tr>\n",
       "    <tr>\n",
       "      <th>2</th>\n",
       "      <td>42</td>\n",
       "      <td>Male</td>\n",
       "      <td>Bachelors degree(BA AB BS)</td>\n",
       "      <td>Private</td>\n",
       "      <td>Married-civilian spouse present</td>\n",
       "      <td>White</td>\n",
       "      <td>0</td>\n",
       "      <td>44</td>\n",
       "      <td>Professional specialty</td>\n",
       "      <td>15024</td>\n",
       "      <td>0</td>\n",
       "      <td>Native</td>\n",
       "      <td>US</td>\n",
       "    </tr>\n",
       "    <tr>\n",
       "      <th>3</th>\n",
       "      <td>16</td>\n",
       "      <td>Female</td>\n",
       "      <td>9th grade</td>\n",
       "      <td>NaN</td>\n",
       "      <td>Never married</td>\n",
       "      <td>White</td>\n",
       "      <td>0</td>\n",
       "      <td>8</td>\n",
       "      <td>NaN</td>\n",
       "      <td>0</td>\n",
       "      <td>0</td>\n",
       "      <td>Native</td>\n",
       "      <td>US</td>\n",
       "    </tr>\n",
       "    <tr>\n",
       "      <th>4</th>\n",
       "      <td>16</td>\n",
       "      <td>Male</td>\n",
       "      <td>9th grade</td>\n",
       "      <td>NaN</td>\n",
       "      <td>Never married</td>\n",
       "      <td>White</td>\n",
       "      <td>0</td>\n",
       "      <td>0</td>\n",
       "      <td>NaN</td>\n",
       "      <td>0</td>\n",
       "      <td>0</td>\n",
       "      <td>Native</td>\n",
       "      <td>US</td>\n",
       "    </tr>\n",
       "  </tbody>\n",
       "</table>\n",
       "</div>"
      ],
      "text/plain": [
       "   age   gender                    education     class  \\\n",
       "0   54     Male         High school graduate   Private   \n",
       "1   53     Male             5th or 6th grade   Private   \n",
       "2   42     Male   Bachelors degree(BA AB BS)   Private   \n",
       "3   16   Female                    9th grade       NaN   \n",
       "4   16     Male                    9th grade       NaN   \n",
       "\n",
       "                     marital_status    race  hourly_wage  \\\n",
       "0   Married-civilian spouse present   White          600   \n",
       "1   Married-civilian spouse present   White            0   \n",
       "2   Married-civilian spouse present   White            0   \n",
       "3                     Never married   White            0   \n",
       "4                     Never married   White            0   \n",
       "\n",
       "   working_week_per_year                              occupation  gains  \\\n",
       "0                     46      Transportation and material moving      0   \n",
       "1                     52   Machine operators assmblrs & inspctrs      0   \n",
       "2                     44                  Professional specialty  15024   \n",
       "3                      8                                     NaN      0   \n",
       "4                      0                                     NaN      0   \n",
       "\n",
       "   losses                           citizenship country_of_birth  \n",
       "0       0                                Native               US  \n",
       "1       0   Foreign born- Not a citizen of U S       El-Salvador  \n",
       "2       0                                Native               US  \n",
       "3       0                                Native               US  \n",
       "4       0                                Native               US  "
      ]
     },
     "execution_count": 24,
     "metadata": {},
     "output_type": "execute_result"
    }
   ],
   "source": [
    "#Check the test dataframe after some columns have been dropped and renamed.\n",
    "\n",
    "test_data.head()"
   ]
  },
  {
   "cell_type": "code",
   "execution_count": 25,
   "id": "1a01b2f0",
   "metadata": {},
   "outputs": [],
   "source": [
    "#Encode the following columns in the test dataset - Gender and Income above limit\n",
    "\n",
    "le = LabelEncoder()\n",
    "train_data[['gender', 'income_above_limit']] = train_data[['gender', 'income_above_limit']].apply(LabelEncoder().fit_transform)"
   ]
  },
  {
   "cell_type": "code",
   "execution_count": 26,
   "id": "db6f3132",
   "metadata": {},
   "outputs": [],
   "source": [
    "#Encode the following columns in the train dataset - Gender and Income above limit\n",
    "\n",
    "le = LabelEncoder()\n",
    "label = le.fit_transform(test_data['gender'])\n",
    "test_data.drop(\"gender\", axis=1, inplace=True)\n",
    "test_data[\"gender\"] = label"
   ]
  },
  {
   "cell_type": "code",
   "execution_count": 27,
   "id": "82969c35",
   "metadata": {},
   "outputs": [
    {
     "data": {
      "text/html": [
       "<div>\n",
       "<style scoped>\n",
       "    .dataframe tbody tr th:only-of-type {\n",
       "        vertical-align: middle;\n",
       "    }\n",
       "\n",
       "    .dataframe tbody tr th {\n",
       "        vertical-align: top;\n",
       "    }\n",
       "\n",
       "    .dataframe thead th {\n",
       "        text-align: right;\n",
       "    }\n",
       "</style>\n",
       "<table border=\"1\" class=\"dataframe\">\n",
       "  <thead>\n",
       "    <tr style=\"text-align: right;\">\n",
       "      <th></th>\n",
       "      <th>age</th>\n",
       "      <th>gender</th>\n",
       "      <th>education</th>\n",
       "      <th>class</th>\n",
       "      <th>marital_status</th>\n",
       "      <th>race</th>\n",
       "      <th>hourly_wage</th>\n",
       "      <th>working_week_per_year</th>\n",
       "      <th>occupation</th>\n",
       "      <th>gains</th>\n",
       "      <th>losses</th>\n",
       "      <th>citizenship</th>\n",
       "      <th>country_of_birth</th>\n",
       "      <th>income_above_limit</th>\n",
       "    </tr>\n",
       "  </thead>\n",
       "  <tbody>\n",
       "    <tr>\n",
       "      <th>0</th>\n",
       "      <td>79</td>\n",
       "      <td>0</td>\n",
       "      <td>High school graduate</td>\n",
       "      <td>NaN</td>\n",
       "      <td>Widowed</td>\n",
       "      <td>White</td>\n",
       "      <td>0</td>\n",
       "      <td>52</td>\n",
       "      <td>NaN</td>\n",
       "      <td>0</td>\n",
       "      <td>0</td>\n",
       "      <td>Native</td>\n",
       "      <td>US</td>\n",
       "      <td>1</td>\n",
       "    </tr>\n",
       "    <tr>\n",
       "      <th>1</th>\n",
       "      <td>65</td>\n",
       "      <td>0</td>\n",
       "      <td>High school graduate</td>\n",
       "      <td>NaN</td>\n",
       "      <td>Widowed</td>\n",
       "      <td>White</td>\n",
       "      <td>0</td>\n",
       "      <td>0</td>\n",
       "      <td>NaN</td>\n",
       "      <td>0</td>\n",
       "      <td>0</td>\n",
       "      <td>Native</td>\n",
       "      <td>US</td>\n",
       "      <td>1</td>\n",
       "    </tr>\n",
       "    <tr>\n",
       "      <th>2</th>\n",
       "      <td>21</td>\n",
       "      <td>1</td>\n",
       "      <td>12th grade no diploma</td>\n",
       "      <td>Federal government</td>\n",
       "      <td>Never married</td>\n",
       "      <td>Black</td>\n",
       "      <td>500</td>\n",
       "      <td>15</td>\n",
       "      <td>Adm support including clerical</td>\n",
       "      <td>0</td>\n",
       "      <td>0</td>\n",
       "      <td>Native</td>\n",
       "      <td>US</td>\n",
       "      <td>1</td>\n",
       "    </tr>\n",
       "    <tr>\n",
       "      <th>3</th>\n",
       "      <td>2</td>\n",
       "      <td>0</td>\n",
       "      <td>Children</td>\n",
       "      <td>NaN</td>\n",
       "      <td>Never married</td>\n",
       "      <td>Asian or Pacific Islander</td>\n",
       "      <td>0</td>\n",
       "      <td>0</td>\n",
       "      <td>NaN</td>\n",
       "      <td>0</td>\n",
       "      <td>0</td>\n",
       "      <td>Native</td>\n",
       "      <td>US</td>\n",
       "      <td>1</td>\n",
       "    </tr>\n",
       "    <tr>\n",
       "      <th>4</th>\n",
       "      <td>70</td>\n",
       "      <td>1</td>\n",
       "      <td>High school graduate</td>\n",
       "      <td>NaN</td>\n",
       "      <td>Married-civilian spouse present</td>\n",
       "      <td>White</td>\n",
       "      <td>0</td>\n",
       "      <td>0</td>\n",
       "      <td>NaN</td>\n",
       "      <td>0</td>\n",
       "      <td>0</td>\n",
       "      <td>Native</td>\n",
       "      <td>US</td>\n",
       "      <td>1</td>\n",
       "    </tr>\n",
       "  </tbody>\n",
       "</table>\n",
       "</div>"
      ],
      "text/plain": [
       "   age  gender               education                class  \\\n",
       "0   79       0    High school graduate                  NaN   \n",
       "1   65       0    High school graduate                  NaN   \n",
       "2   21       1   12th grade no diploma   Federal government   \n",
       "3    2       0                Children                  NaN   \n",
       "4   70       1    High school graduate                  NaN   \n",
       "\n",
       "                     marital_status                        race  hourly_wage  \\\n",
       "0                           Widowed                       White            0   \n",
       "1                           Widowed                       White            0   \n",
       "2                     Never married                       Black          500   \n",
       "3                     Never married   Asian or Pacific Islander            0   \n",
       "4   Married-civilian spouse present                       White            0   \n",
       "\n",
       "   working_week_per_year                       occupation  gains  losses  \\\n",
       "0                     52                              NaN      0       0   \n",
       "1                      0                              NaN      0       0   \n",
       "2                     15   Adm support including clerical      0       0   \n",
       "3                      0                              NaN      0       0   \n",
       "4                      0                              NaN      0       0   \n",
       "\n",
       "  citizenship country_of_birth  income_above_limit  \n",
       "0      Native               US                   1  \n",
       "1      Native               US                   1  \n",
       "2      Native               US                   1  \n",
       "3      Native               US                   1  \n",
       "4      Native               US                   1  "
      ]
     },
     "execution_count": 27,
     "metadata": {},
     "output_type": "execute_result"
    }
   ],
   "source": [
    "train_data.head()"
   ]
  },
  {
   "cell_type": "code",
   "execution_count": 28,
   "id": "1e44c78b",
   "metadata": {},
   "outputs": [
    {
     "data": {
      "text/html": [
       "<div>\n",
       "<style scoped>\n",
       "    .dataframe tbody tr th:only-of-type {\n",
       "        vertical-align: middle;\n",
       "    }\n",
       "\n",
       "    .dataframe tbody tr th {\n",
       "        vertical-align: top;\n",
       "    }\n",
       "\n",
       "    .dataframe thead th {\n",
       "        text-align: right;\n",
       "    }\n",
       "</style>\n",
       "<table border=\"1\" class=\"dataframe\">\n",
       "  <thead>\n",
       "    <tr style=\"text-align: right;\">\n",
       "      <th></th>\n",
       "      <th>age</th>\n",
       "      <th>education</th>\n",
       "      <th>class</th>\n",
       "      <th>marital_status</th>\n",
       "      <th>race</th>\n",
       "      <th>hourly_wage</th>\n",
       "      <th>working_week_per_year</th>\n",
       "      <th>occupation</th>\n",
       "      <th>gains</th>\n",
       "      <th>losses</th>\n",
       "      <th>citizenship</th>\n",
       "      <th>country_of_birth</th>\n",
       "      <th>gender</th>\n",
       "    </tr>\n",
       "  </thead>\n",
       "  <tbody>\n",
       "    <tr>\n",
       "      <th>0</th>\n",
       "      <td>54</td>\n",
       "      <td>High school graduate</td>\n",
       "      <td>Private</td>\n",
       "      <td>Married-civilian spouse present</td>\n",
       "      <td>White</td>\n",
       "      <td>600</td>\n",
       "      <td>46</td>\n",
       "      <td>Transportation and material moving</td>\n",
       "      <td>0</td>\n",
       "      <td>0</td>\n",
       "      <td>Native</td>\n",
       "      <td>US</td>\n",
       "      <td>1</td>\n",
       "    </tr>\n",
       "    <tr>\n",
       "      <th>1</th>\n",
       "      <td>53</td>\n",
       "      <td>5th or 6th grade</td>\n",
       "      <td>Private</td>\n",
       "      <td>Married-civilian spouse present</td>\n",
       "      <td>White</td>\n",
       "      <td>0</td>\n",
       "      <td>52</td>\n",
       "      <td>Machine operators assmblrs &amp; inspctrs</td>\n",
       "      <td>0</td>\n",
       "      <td>0</td>\n",
       "      <td>Foreign born- Not a citizen of U S</td>\n",
       "      <td>El-Salvador</td>\n",
       "      <td>1</td>\n",
       "    </tr>\n",
       "    <tr>\n",
       "      <th>2</th>\n",
       "      <td>42</td>\n",
       "      <td>Bachelors degree(BA AB BS)</td>\n",
       "      <td>Private</td>\n",
       "      <td>Married-civilian spouse present</td>\n",
       "      <td>White</td>\n",
       "      <td>0</td>\n",
       "      <td>44</td>\n",
       "      <td>Professional specialty</td>\n",
       "      <td>15024</td>\n",
       "      <td>0</td>\n",
       "      <td>Native</td>\n",
       "      <td>US</td>\n",
       "      <td>1</td>\n",
       "    </tr>\n",
       "    <tr>\n",
       "      <th>3</th>\n",
       "      <td>16</td>\n",
       "      <td>9th grade</td>\n",
       "      <td>NaN</td>\n",
       "      <td>Never married</td>\n",
       "      <td>White</td>\n",
       "      <td>0</td>\n",
       "      <td>8</td>\n",
       "      <td>NaN</td>\n",
       "      <td>0</td>\n",
       "      <td>0</td>\n",
       "      <td>Native</td>\n",
       "      <td>US</td>\n",
       "      <td>0</td>\n",
       "    </tr>\n",
       "    <tr>\n",
       "      <th>4</th>\n",
       "      <td>16</td>\n",
       "      <td>9th grade</td>\n",
       "      <td>NaN</td>\n",
       "      <td>Never married</td>\n",
       "      <td>White</td>\n",
       "      <td>0</td>\n",
       "      <td>0</td>\n",
       "      <td>NaN</td>\n",
       "      <td>0</td>\n",
       "      <td>0</td>\n",
       "      <td>Native</td>\n",
       "      <td>US</td>\n",
       "      <td>1</td>\n",
       "    </tr>\n",
       "  </tbody>\n",
       "</table>\n",
       "</div>"
      ],
      "text/plain": [
       "   age                    education     class  \\\n",
       "0   54         High school graduate   Private   \n",
       "1   53             5th or 6th grade   Private   \n",
       "2   42   Bachelors degree(BA AB BS)   Private   \n",
       "3   16                    9th grade       NaN   \n",
       "4   16                    9th grade       NaN   \n",
       "\n",
       "                     marital_status    race  hourly_wage  \\\n",
       "0   Married-civilian spouse present   White          600   \n",
       "1   Married-civilian spouse present   White            0   \n",
       "2   Married-civilian spouse present   White            0   \n",
       "3                     Never married   White            0   \n",
       "4                     Never married   White            0   \n",
       "\n",
       "   working_week_per_year                              occupation  gains  \\\n",
       "0                     46      Transportation and material moving      0   \n",
       "1                     52   Machine operators assmblrs & inspctrs      0   \n",
       "2                     44                  Professional specialty  15024   \n",
       "3                      8                                     NaN      0   \n",
       "4                      0                                     NaN      0   \n",
       "\n",
       "   losses                           citizenship country_of_birth  gender  \n",
       "0       0                                Native               US       1  \n",
       "1       0   Foreign born- Not a citizen of U S       El-Salvador       1  \n",
       "2       0                                Native               US       1  \n",
       "3       0                                Native               US       0  \n",
       "4       0                                Native               US       1  "
      ]
     },
     "execution_count": 28,
     "metadata": {},
     "output_type": "execute_result"
    }
   ],
   "source": [
    "test_data.head()"
   ]
  },
  {
   "cell_type": "code",
   "execution_count": 29,
   "id": "e7110b50",
   "metadata": {},
   "outputs": [
    {
     "data": {
      "text/plain": [
       "array([[<AxesSubplot: title={'center': 'age'}>,\n",
       "        <AxesSubplot: title={'center': 'gender'}>,\n",
       "        <AxesSubplot: title={'center': 'hourly_wage'}>],\n",
       "       [<AxesSubplot: title={'center': 'working_week_per_year'}>,\n",
       "        <AxesSubplot: title={'center': 'gains'}>,\n",
       "        <AxesSubplot: title={'center': 'losses'}>],\n",
       "       [<AxesSubplot: title={'center': 'income_above_limit'}>,\n",
       "        <AxesSubplot: >, <AxesSubplot: >]], dtype=object)"
      ]
     },
     "execution_count": 29,
     "metadata": {},
     "output_type": "execute_result"
    },
    {
     "data": {
      "image/png": "[encoded data removed]",
      "text/plain": [
       "<Figure size 1200x900 with 9 Axes>"
      ]
     },
     "metadata": {},
     "output_type": "display_data"
    }
   ],
   "source": [
    "train_data.hist(figsize=(12,9), layout=(3,3))"
   ]
  },
  {
   "cell_type": "code",
   "execution_count": 30,
   "id": "828e8a02",
   "metadata": {},
   "outputs": [
    {
     "data": {
      "image/png": "[encoded data removed]",
      "text/plain": [
       "<Figure size 1000x500 with 1 Axes>"
      ]
     },
     "metadata": {},
     "output_type": "display_data"
    }
   ],
   "source": [
    "train_data.plot(kind = 'box', figsize=(10,5),layout=(3,2), );"
   ]
  },
  {
   "cell_type": "code",
   "execution_count": 31,
   "id": "58f56fb0",
   "metadata": {},
   "outputs": [
    {
     "data": {
      "image/png": "[encoded data removed]",
      "text/plain": [
       "<Figure size 800x800 with 2 Axes>"
      ]
     },
     "metadata": {},
     "output_type": "display_data"
    }
   ],
   "source": [
    "#sns.heatmap(train_df.corr(), annot=True);\n",
    "# Exclude non-numeric columns\n",
    "numeric_cols = train_data.select_dtypes(include=[np.number])\n",
    "\n",
    "# Calculate the correlation matrix\n",
    "correlation_matrix = numeric_cols.corr()\n",
    "\n",
    "# Create a heatmap\n",
    "plt.figure(figsize=(8, 8))\n",
    "sns.heatmap(correlation_matrix, annot=True, cmap='coolwarm')\n",
    "plt.title(\"Correlation Heatmap\")\n",
    "plt.show();"
   ]
  },
  {
   "cell_type": "code",
   "execution_count": null,
   "id": "28b2fac0",
   "metadata": {},
   "outputs": [],
   "source": []
  },
  {
   "cell_type": "markdown",
   "id": "22ca61af",
   "metadata": {},
   "source": [
    "#### CHECK FOR MISSING VALUES"
   ]
  },
  {
   "cell_type": "code",
   "execution_count": 32,
   "id": "4003129a",
   "metadata": {},
   "outputs": [
    {
     "data": {
      "text/plain": [
       "age                           0\n",
       "gender                        0\n",
       "education                     0\n",
       "class                    105245\n",
       "marital_status                0\n",
       "race                          0\n",
       "hourly_wage                   0\n",
       "working_week_per_year         0\n",
       "occupation               105694\n",
       "gains                         0\n",
       "losses                        0\n",
       "citizenship                   0\n",
       "country_of_birth              0\n",
       "income_above_limit            0\n",
       "dtype: int64"
      ]
     },
     "execution_count": 32,
     "metadata": {},
     "output_type": "execute_result"
    }
   ],
   "source": [
    "#Check the remaining columns if there are any missing values.\n",
    "\n",
    "train_data.isnull().sum()"
   ]
  },
  {
   "cell_type": "markdown",
   "id": "2b5d204a",
   "metadata": {},
   "source": []
  },
  {
   "cell_type": "code",
   "execution_count": 33,
   "id": "be2111e8",
   "metadata": {},
   "outputs": [
    {
     "data": {
      "text/plain": [
       "array([0, 1])"
      ]
     },
     "execution_count": 33,
     "metadata": {},
     "output_type": "execute_result"
    }
   ],
   "source": [
    "train_data['gender'].unique()"
   ]
  },
  {
   "cell_type": "code",
   "execution_count": 34,
   "id": "2934fa42",
   "metadata": {},
   "outputs": [
    {
     "data": {
      "text/plain": [
       "gender\n",
       "0    108784\n",
       "1    100715\n",
       "Name: count, dtype: int64"
      ]
     },
     "execution_count": 34,
     "metadata": {},
     "output_type": "execute_result"
    }
   ],
   "source": [
    "train_data['gender'].value_counts()"
   ]
  },
  {
   "cell_type": "code",
   "execution_count": 35,
   "id": "48cef58c",
   "metadata": {},
   "outputs": [
    {
     "data": {
      "text/plain": [
       "array([' High school graduate', ' 12th grade no diploma', ' Children',\n",
       "       ' Bachelors degree(BA AB BS)', ' 7th and 8th grade', ' 11th grade',\n",
       "       ' 9th grade', ' Masters degree(MA MS MEng MEd MSW MBA)',\n",
       "       ' 10th grade', ' Associates degree-academic program',\n",
       "       ' 1st 2nd 3rd or 4th grade', ' Some college but no degree',\n",
       "       ' Less than 1st grade', ' Associates degree-occup /vocational',\n",
       "       ' Prof school degree (MD DDS DVM LLB JD)', ' 5th or 6th grade',\n",
       "       ' Doctorate degree(PhD EdD)'], dtype=object)"
      ]
     },
     "execution_count": 35,
     "metadata": {},
     "output_type": "execute_result"
    }
   ],
   "source": [
    "train_data['education'].unique()"
   ]
  },
  {
   "cell_type": "code",
   "execution_count": 36,
   "id": "bd0c2dce",
   "metadata": {},
   "outputs": [
    {
     "data": {
      "text/plain": [
       "education\n",
       " High school graduate                      50627\n",
       " Children                                  49685\n",
       " Some college but no degree                29320\n",
       " Bachelors degree(BA AB BS)                20979\n",
       " 7th and 8th grade                          8438\n",
       " 10th grade                                 7905\n",
       " 11th grade                                 7260\n",
       " Masters degree(MA MS MEng MEd MSW MBA)     6861\n",
       " 9th grade                                  6540\n",
       " Associates degree-occup /vocational        5650\n",
       " Associates degree-academic program         4494\n",
       " 5th or 6th grade                           3542\n",
       " 12th grade no diploma                      2282\n",
       " 1st 2nd 3rd or 4th grade                   1917\n",
       " Prof school degree (MD DDS DVM LLB JD)     1852\n",
       " Doctorate degree(PhD EdD)                  1318\n",
       " Less than 1st grade                         829\n",
       "Name: count, dtype: int64"
      ]
     },
     "execution_count": 36,
     "metadata": {},
     "output_type": "execute_result"
    }
   ],
   "source": [
    "train_data['education'].value_counts()"
   ]
  },
  {
   "cell_type": "code",
   "execution_count": 37,
   "id": "bb079e4b",
   "metadata": {},
   "outputs": [],
   "source": [
    "#Renaming value in the Education column\n",
    "\n",
    "train_data['education'] = train_data['education'].apply(lambda x : str(x).replace('High school graduate','High school'))\n",
    "train_data['education'] = train_data['education'].apply(lambda x : str(x).replace('Doctorate degree(PhD EdD)','Doctorate'))\n",
    "train_data['education'] = train_data['education'].apply(lambda x : str(x).replace('Bachelors degree(BA AB BS)','Undergraduate'))"
   ]
  },
  {
   "cell_type": "code",
   "execution_count": 38,
   "id": "22d4f00a",
   "metadata": {},
   "outputs": [
    {
     "data": {
      "text/plain": [
       "array([' High school', ' 12th grade no diploma', ' Children',\n",
       "       ' Undergraduate', ' 7th and 8th grade', ' 11th grade',\n",
       "       ' 9th grade', ' Masters degree(MA MS MEng MEd MSW MBA)',\n",
       "       ' 10th grade', ' Associates degree-academic program',\n",
       "       ' 1st 2nd 3rd or 4th grade', ' Some college but no degree',\n",
       "       ' Less than 1st grade', ' Associates degree-occup /vocational',\n",
       "       ' Prof school degree (MD DDS DVM LLB JD)', ' 5th or 6th grade',\n",
       "       ' Doctorate'], dtype=object)"
      ]
     },
     "execution_count": 38,
     "metadata": {},
     "output_type": "execute_result"
    }
   ],
   "source": [
    "train_data['education'].unique()"
   ]
  },
  {
   "cell_type": "code",
   "execution_count": 39,
   "id": "989d3aa6",
   "metadata": {},
   "outputs": [
    {
     "data": {
      "text/plain": [
       "array([nan, ' Federal government', ' Private', ' Local government',\n",
       "       ' Self-employed-incorporated', ' Self-employed-not incorporated',\n",
       "       ' State government', ' Without pay', ' Never worked'], dtype=object)"
      ]
     },
     "execution_count": 39,
     "metadata": {},
     "output_type": "execute_result"
    }
   ],
   "source": [
    "train_data['class'].unique()"
   ]
  },
  {
   "cell_type": "code",
   "execution_count": 40,
   "id": "6ad31b06",
   "metadata": {},
   "outputs": [
    {
     "data": {
      "text/plain": [
       "class\n",
       " Private                           75617\n",
       " Self-employed-not incorporated     8957\n",
       " Local government                   8093\n",
       " State government                   4480\n",
       " Self-employed-incorporated         3444\n",
       " Federal government                 3047\n",
       " Never worked                        449\n",
       " Without pay                         167\n",
       "Name: count, dtype: int64"
      ]
     },
     "execution_count": 40,
     "metadata": {},
     "output_type": "execute_result"
    }
   ],
   "source": [
    "train_data['class'].value_counts()"
   ]
  },
  {
   "cell_type": "code",
   "execution_count": 41,
   "id": "409e634a",
   "metadata": {},
   "outputs": [
    {
     "data": {
      "text/plain": [
       "array([' Widowed', ' Never married', ' Married-civilian spouse present',\n",
       "       ' Divorced', ' Married-spouse absent', ' Separated',\n",
       "       ' Married-A F spouse present'], dtype=object)"
      ]
     },
     "execution_count": 41,
     "metadata": {},
     "output_type": "execute_result"
    }
   ],
   "source": [
    "train_data['marital_status'].unique()"
   ]
  },
  {
   "cell_type": "code",
   "execution_count": 42,
   "id": "6ec56a1b",
   "metadata": {},
   "outputs": [
    {
     "data": {
      "text/plain": [
       "marital_status\n",
       " Never married                      90723\n",
       " Married-civilian spouse present    88407\n",
       " Divorced                           13456\n",
       " Widowed                            11029\n",
       " Separated                           3596\n",
       " Married-spouse absent               1568\n",
       " Married-A F spouse present           720\n",
       "Name: count, dtype: int64"
      ]
     },
     "execution_count": 42,
     "metadata": {},
     "output_type": "execute_result"
    }
   ],
   "source": [
    "train_data['marital_status'].value_counts()"
   ]
  },
  {
   "cell_type": "code",
   "execution_count": 43,
   "id": "424f4451",
   "metadata": {},
   "outputs": [
    {
     "data": {
      "text/plain": [
       "array([' White', ' Black', ' Asian or Pacific Islander',\n",
       "       ' Amer Indian Aleut or Eskimo', ' Other'], dtype=object)"
      ]
     },
     "execution_count": 43,
     "metadata": {},
     "output_type": "execute_result"
    }
   ],
   "source": [
    "train_data['race'].unique()"
   ]
  },
  {
   "cell_type": "code",
   "execution_count": 44,
   "id": "96fa0700",
   "metadata": {},
   "outputs": [
    {
     "data": {
      "text/plain": [
       "race\n",
       " White                          175709\n",
       " Black                           21394\n",
       " Asian or Pacific Islander        6056\n",
       " Other                            3927\n",
       " Amer Indian Aleut or Eskimo      2413\n",
       "Name: count, dtype: int64"
      ]
     },
     "execution_count": 44,
     "metadata": {},
     "output_type": "execute_result"
    }
   ],
   "source": [
    "train_data['race'].value_counts()"
   ]
  },
  {
   "cell_type": "code",
   "execution_count": 45,
   "id": "6a2a3c7d",
   "metadata": {},
   "outputs": [
    {
     "data": {
      "text/plain": [
       "array([nan, ' Adm support including clerical', ' Other service',\n",
       "       ' Executive admin and managerial', ' Sales',\n",
       "       ' Machine operators assmblrs & inspctrs',\n",
       "       ' Precision production craft & repair', ' Professional specialty',\n",
       "       ' Handlers equip cleaners etc ',\n",
       "       ' Transportation and material moving',\n",
       "       ' Farming forestry and fishing', ' Private household services',\n",
       "       ' Technicians and related support', ' Protective services',\n",
       "       ' Armed Forces'], dtype=object)"
      ]
     },
     "execution_count": 45,
     "metadata": {},
     "output_type": "execute_result"
    }
   ],
   "source": [
    "train_data['occupation'].unique()"
   ]
  },
  {
   "cell_type": "code",
   "execution_count": 46,
   "id": "0aed1118",
   "metadata": {},
   "outputs": [
    {
     "data": {
      "text/plain": [
       "occupation\n",
       " Adm support including clerical           15351\n",
       " Professional specialty                   14544\n",
       " Executive admin and managerial           13107\n",
       " Other service                            12856\n",
       " Sales                                    12487\n",
       " Precision production craft & repair      11207\n",
       " Machine operators assmblrs & inspctrs     6650\n",
       " Handlers equip cleaners etc               4340\n",
       " Transportation and material moving        4244\n",
       " Farming forestry and fishing              3273\n",
       " Technicians and related support           3136\n",
       " Protective services                       1700\n",
       " Private household services                 878\n",
       " Armed Forces                                32\n",
       "Name: count, dtype: int64"
      ]
     },
     "execution_count": 46,
     "metadata": {},
     "output_type": "execute_result"
    }
   ],
   "source": [
    "train_data['occupation'].value_counts()"
   ]
  },
  {
   "cell_type": "code",
   "execution_count": 47,
   "id": "7c0db544",
   "metadata": {},
   "outputs": [],
   "source": [
    "#Renaming value in the occupation column\n",
    "\n",
    "train_data['occupation'] = train_data['occupation'].apply(lambda x : str(x).replace(' Adm support including clerical','Administration'))\n",
    "train_data['occupation'] = train_data['occupation'].apply(lambda x : str(x).replace(' Executive admin and managerial','Executive and Managerial'))\n",
    "train_data['occupation'] = train_data['occupation'].apply(lambda x : str(x).replace(' Transportation and material moving','Transport'))\n",
    "train_data['occupation'] = train_data['occupation'].apply(lambda x : str(x).replace(' Technicians and related support','Technical'))\n",
    "train_data['occupation'] = train_data['occupation'].apply(lambda x : str(x).replace(' Farming forestry and fishing','Agriculture'))"
   ]
  },
  {
   "cell_type": "code",
   "execution_count": 48,
   "id": "706dd6d4",
   "metadata": {},
   "outputs": [
    {
     "data": {
      "text/plain": [
       "array(['nan', 'Administration', ' Other service',\n",
       "       'Executive and Managerial', ' Sales',\n",
       "       ' Machine operators assmblrs & inspctrs',\n",
       "       ' Precision production craft & repair', ' Professional specialty',\n",
       "       ' Handlers equip cleaners etc ', 'Transport', 'Agriculture',\n",
       "       ' Private household services', 'Technical', ' Protective services',\n",
       "       ' Armed Forces'], dtype=object)"
      ]
     },
     "execution_count": 48,
     "metadata": {},
     "output_type": "execute_result"
    }
   ],
   "source": [
    "train_data['occupation'].unique()"
   ]
  },
  {
   "cell_type": "code",
   "execution_count": 49,
   "id": "f5b9a429",
   "metadata": {},
   "outputs": [
    {
     "data": {
      "text/plain": [
       "array(['US', ' ?', ' El-Salvador', ' Mexico', ' Philippines', ' Cambodia',\n",
       "       ' China', ' Hungary', ' Puerto-Rico', ' England',\n",
       "       ' Dominican-Republic', ' Japan', ' Canada', ' Ecuador', ' Italy',\n",
       "       ' Cuba', ' Peru', ' Taiwan', ' South Korea', ' Poland',\n",
       "       ' Nicaragua', ' Germany', ' Guatemala', ' India', ' Ireland',\n",
       "       ' Honduras', ' France', ' Trinadad&Tobago', ' Thailand', ' Iran',\n",
       "       ' Vietnam', ' Portugal', ' Laos', ' Panama', ' Scotland',\n",
       "       ' Columbia', ' Jamaica', ' Greece', ' Haiti', ' Yugoslavia',\n",
       "       ' Outlying-U S (Guam USVI etc)', ' Holand-Netherlands',\n",
       "       ' Hong Kong'], dtype=object)"
      ]
     },
     "execution_count": 49,
     "metadata": {},
     "output_type": "execute_result"
    }
   ],
   "source": [
    "train_data['country_of_birth'].unique()"
   ]
  },
  {
   "cell_type": "code",
   "execution_count": 50,
   "id": "0f635d86",
   "metadata": {},
   "outputs": [
    {
     "data": {
      "text/plain": [
       "country_of_birth\n",
       "US                               185666\n",
       " Mexico                            6082\n",
       " ?                                 3667\n",
       " Puerto-Rico                       1458\n",
       " Philippines                        902\n",
       " Cuba                               889\n",
       " Germany                            858\n",
       " El-Salvador                        744\n",
       " Dominican-Republic                 741\n",
       " Canada                             741\n",
       " China                              508\n",
       " South Korea                        488\n",
       " England                            473\n",
       " Italy                              459\n",
       " India                              457\n",
       " Columbia                           455\n",
       " Poland                             385\n",
       " Vietnam                            384\n",
       " Guatemala                          373\n",
       " Jamaica                            352\n",
       " Japan                              350\n",
       " Ecuador                            277\n",
       " Peru                               277\n",
       " Nicaragua                          241\n",
       " Haiti                              225\n",
       " Taiwan                             193\n",
       " Portugal                           178\n",
       " Greece                             160\n",
       " Honduras                           159\n",
       " Iran                               152\n",
       " Ireland                            144\n",
       " France                             129\n",
       " Thailand                           125\n",
       " Hong Kong                          116\n",
       " Laos                               114\n",
       " Outlying-U S (Guam USVI etc)       113\n",
       " Cambodia                           104\n",
       " Trinadad&Tobago                     81\n",
       " Scotland                            80\n",
       " Hungary                             80\n",
       " Yugoslavia                          71\n",
       " Panama                              25\n",
       " Holand-Netherlands                  23\n",
       "Name: count, dtype: int64"
      ]
     },
     "execution_count": 50,
     "metadata": {},
     "output_type": "execute_result"
    }
   ],
   "source": [
    "train_data['country_of_birth'].value_counts()"
   ]
  },
  {
   "cell_type": "code",
   "execution_count": 59,
   "id": "82dbd0b8",
   "metadata": {},
   "outputs": [],
   "source": [
    "train_data['country_of_birth'] = train_data['country_of_birth'].apply(lambda x : str(x).replace(' ?','US'))"
   ]
  },
  {
   "cell_type": "code",
   "execution_count": 60,
   "id": "09e21f10",
   "metadata": {},
   "outputs": [
    {
     "data": {
      "text/plain": [
       "country_of_birth\n",
       "US                               185666\n",
       " Mexico                            6082\n",
       " US                                3667\n",
       " Puerto-Rico                       1458\n",
       " Philippines                        902\n",
       " Cuba                               889\n",
       " Germany                            858\n",
       " El-Salvador                        744\n",
       " Dominican-Republic                 741\n",
       " Canada                             741\n",
       " China                              508\n",
       " South Korea                        488\n",
       " England                            473\n",
       " Italy                              459\n",
       " India                              457\n",
       " Columbia                           455\n",
       " Poland                             385\n",
       " Vietnam                            384\n",
       " Guatemala                          373\n",
       " Jamaica                            352\n",
       " Japan                              350\n",
       " Ecuador                            277\n",
       " Peru                               277\n",
       " Nicaragua                          241\n",
       " Haiti                              225\n",
       " Taiwan                             193\n",
       " Portugal                           178\n",
       " Greece                             160\n",
       " Honduras                           159\n",
       " Iran                               152\n",
       " Ireland                            144\n",
       " France                             129\n",
       " Thailand                           125\n",
       " Hong Kong                          116\n",
       " Laos                               114\n",
       " Outlying-U S (Guam USVI etc)       113\n",
       " Cambodia                           104\n",
       " Trinadad&Tobago                     81\n",
       " Scotland                            80\n",
       " Hungary                             80\n",
       " Yugoslavia                          71\n",
       " Panama                              25\n",
       " Holand-Netherlands                  23\n",
       "Name: count, dtype: int64"
      ]
     },
     "execution_count": 60,
     "metadata": {},
     "output_type": "execute_result"
    }
   ],
   "source": [
    "train_data['country_of_birth'].value_counts()"
   ]
  },
  {
   "cell_type": "code",
   "execution_count": null,
   "id": "d9fe550e",
   "metadata": {},
   "outputs": [],
   "source": []
  },
  {
   "cell_type": "code",
   "execution_count": null,
   "id": "ccd6fa33",
   "metadata": {},
   "outputs": [],
   "source": []
  },
  {
   "cell_type": "code",
   "execution_count": null,
   "id": "38c7da9e",
   "metadata": {},
   "outputs": [],
   "source": []
  },
  {
   "cell_type": "code",
   "execution_count": null,
   "id": "3e3c5b83",
   "metadata": {},
   "outputs": [],
   "source": []
  },
  {
   "cell_type": "code",
   "execution_count": null,
   "id": "570b8ca9",
   "metadata": {},
   "outputs": [],
   "source": []
  },
  {
   "cell_type": "code",
   "execution_count": null,
   "id": "df076e95",
   "metadata": {},
   "outputs": [],
   "source": []
  },
  {
   "cell_type": "code",
   "execution_count": null,
   "id": "299b6a20",
   "metadata": {},
   "outputs": [],
   "source": []
  },
  {
   "cell_type": "code",
   "execution_count": null,
   "id": "3f366cd2",
   "metadata": {},
   "outputs": [],
   "source": []
  },
  {
   "cell_type": "code",
   "execution_count": null,
   "id": "7467877a",
   "metadata": {},
   "outputs": [],
   "source": []
  },
  {
   "cell_type": "code",
   "execution_count": null,
   "id": "f4bfa15f",
   "metadata": {},
   "outputs": [],
   "source": []
  },
  {
   "cell_type": "code",
   "execution_count": null,
   "id": "76d5611b",
   "metadata": {},
   "outputs": [],
   "source": []
  },
  {
   "cell_type": "code",
   "execution_count": 52,
   "id": "00399937",
   "metadata": {},
   "outputs": [],
   "source": [
    "def check_unique_values_and_value_counts(train_data, columns_to_check):\n",
    "    \"\"\"\n",
    "    Check unique values and value counts of specific columns in a dataset.\n",
    "\n",
    "    Parameters:\n",
    "    - dataset (pd.DataFrame): The dataset to analyze.\n",
    "    - columns_to_check (list): List of column names to check.\n",
    "\n",
    "    Returns:\n",
    "    - None\n",
    "    \"\"\"\n",
    "    for column in columns_to_check:\n",
    "        unique_values = train_data[column].unique()\n",
    "        value_counts = train_data[column].value_counts()\n",
    "        \n",
    "        print(f\"Column: {column}\")\n",
    "        print(f\"Unique values: {unique_values}\")\n",
    "        print(\"Value counts:\")\n",
    "        print(value_counts)\n",
    "        print(\"-\" * 40)"
   ]
  },
  {
   "cell_type": "code",
   "execution_count": null,
   "id": "cfab76ef",
   "metadata": {},
   "outputs": [],
   "source": []
  },
  {
   "cell_type": "code",
   "execution_count": null,
   "id": "2c08c1c6",
   "metadata": {},
   "outputs": [],
   "source": []
  },
  {
   "cell_type": "code",
   "execution_count": null,
   "id": "04e3fc4d",
   "metadata": {},
   "outputs": [],
   "source": []
  },
  {
   "cell_type": "code",
   "execution_count": null,
   "id": "888b36a0",
   "metadata": {},
   "outputs": [],
   "source": []
  },
  {
   "cell_type": "code",
   "execution_count": null,
   "id": "c58c703e",
   "metadata": {},
   "outputs": [],
   "source": []
  },
  {
   "cell_type": "code",
   "execution_count": null,
   "id": "de9861b2",
   "metadata": {},
   "outputs": [],
   "source": []
  },
  {
   "cell_type": "code",
   "execution_count": null,
   "id": "9f2213a2",
   "metadata": {},
   "outputs": [],
   "source": []
  },
  {
   "cell_type": "code",
   "execution_count": null,
   "id": "85aa92b1",
   "metadata": {},
   "outputs": [],
   "source": []
  },
  {
   "cell_type": "code",
   "execution_count": null,
   "id": "149014dc",
   "metadata": {},
   "outputs": [],
   "source": []
  },
  {
   "cell_type": "code",
   "execution_count": null,
   "id": "8b0d4741",
   "metadata": {},
   "outputs": [],
   "source": []
  },
  {
   "cell_type": "code",
   "execution_count": null,
   "id": "a704c531",
   "metadata": {},
   "outputs": [],
   "source": []
  },
  {
   "cell_type": "code",
   "execution_count": null,
   "id": "4f236a41",
   "metadata": {},
   "outputs": [],
   "source": []
  },
  {
   "cell_type": "code",
   "execution_count": null,
   "id": "a557db78",
   "metadata": {},
   "outputs": [],
   "source": []
  },
  {
   "cell_type": "code",
   "execution_count": null,
   "id": "94da281b",
   "metadata": {},
   "outputs": [],
   "source": []
  },
  {
   "cell_type": "code",
   "execution_count": null,
   "id": "64671622",
   "metadata": {},
   "outputs": [],
   "source": []
  },
  {
   "cell_type": "code",
   "execution_count": null,
   "id": "5f6fdc7d",
   "metadata": {},
   "outputs": [],
   "source": []
  },
  {
   "cell_type": "code",
   "execution_count": null,
   "id": "4fb34219",
   "metadata": {},
   "outputs": [],
   "source": []
  },
  {
   "cell_type": "markdown",
   "id": "68ae8aab",
   "metadata": {},
   "source": [
    "#### Categorical Values"
   ]
  },
  {
   "cell_type": "code",
   "execution_count": 53,
   "id": "a68d67e9",
   "metadata": {},
   "outputs": [
    {
     "data": {
      "image/png": "[encoded data removed]",
      "text/plain": [
       "<Figure size 800x600 with 1 Axes>"
      ]
     },
     "metadata": {},
     "output_type": "display_data"
    },
    {
     "data": {
      "image/png": "[encoded data removed]",
      "text/plain": [
       "<Figure size 800x600 with 1 Axes>"
      ]
     },
     "metadata": {},
     "output_type": "display_data"
    },
    {
     "data": {
      "image/png": "[encoded data removed]",
      "text/plain": [
       "<Figure size 800x600 with 1 Axes>"
      ]
     },
     "metadata": {},
     "output_type": "display_data"
    },
    {
     "data": {
      "image/png": "[encoded data removed]",
      "text/plain": [
       "<Figure size 800x600 with 1 Axes>"
      ]
     },
     "metadata": {},
     "output_type": "display_data"
    },
    {
     "data": {
      "image/png": "[encoded data removed]",
      "text/plain": [
       "<Figure size 800x600 with 1 Axes>"
      ]
     },
     "metadata": {},
     "output_type": "display_data"
    },
    {
     "data": {
      "image/png": "[encoded data removed]",
      "text/plain": [
       "<Figure size 800x600 with 1 Axes>"
      ]
     },
     "metadata": {},
     "output_type": "display_data"
    },
    {
     "data": {
      "image/png": "[encoded data removed]",
      "text/plain": [
       "<Figure size 800x600 with 1 Axes>"
      ]
     },
     "metadata": {},
     "output_type": "display_data"
    },
    {
     "data": {
      "image/png": "[encoded data removed]",
      "text/plain": [
       "<Figure size 800x600 with 1 Axes>"
      ]
     },
     "metadata": {},
     "output_type": "display_data"
    },
    {
     "data": {
      "image/png": "[encoded data removed]",
      "text/plain": [
       "<Figure size 800x600 with 1 Axes>"
      ]
     },
     "metadata": {},
     "output_type": "display_data"
    },
    {
     "data": {
      "image/png": "[encoded data removed]",
      "text/plain": [
       "<Figure size 800x600 with 1 Axes>"
      ]
     },
     "metadata": {},
     "output_type": "display_data"
    },
    {
     "data": {
      "image/png": "[encoded data removed]",
      "text/plain": [
       "<Figure size 800x600 with 1 Axes>"
      ]
     },
     "metadata": {},
     "output_type": "display_data"
    },
    {
     "data": {
      "image/png": "[encoded data removed]",
      "text/plain": [
       "<Figure size 800x600 with 1 Axes>"
      ]
     },
     "metadata": {},
     "output_type": "display_data"
    },
    {
     "data": {
      "image/png": "[encoded data removed]",
      "text/plain": [
       "<Figure size 800x600 with 1 Axes>"
      ]
     },
     "metadata": {},
     "output_type": "display_data"
    }
   ],
   "source": [
    "def plot_numerical_countplots(train_data):\n",
    "    numerical_columns = data.select_dtypes(include=['int64', 'float64']).columns\n",
    "\n",
    "    for column in numerical_columns:\n",
    "        plt.figure(figsize=(8, 6))\n",
    "        sns.countplot(data[column])\n",
    "        plt.title(f'Countplot of {column}', fontsize=16)\n",
    "        plt.xlabel(column, fontsize=14)\n",
    "        plt.ylabel('Count', fontsize=14)\n",
    "        plt.xticks(rotation=45)\n",
    "        plt.show()\n",
    "\n",
    "# Example usage\n",
    "# Assuming 'df' is your DataFrame\n",
    "plot_numerical_countplots(train_data)\n"
   ]
  },
  {
   "cell_type": "code",
   "execution_count": 54,
   "id": "87535cb2",
   "metadata": {},
   "outputs": [],
   "source": [
    "#def plot_countplots_for_categorical(train_data):\n",
    "    #Get a list of column name with categorical data\n",
    "    #categorical_columns = train_data.select_dtypes(include=['object']).columns.tolist()\n",
    "    \n",
    "    #loops through categorical columns and create count plots\n",
    "    #for columns in categorical_columns:\n",
    "        \n",
    "        #Set the figure size\n",
    "       # plt.figure(figsize=(8,6))\n",
    "        #sns.countplot(x=columns,data=train_data)\n",
    "        \n",
    "        #plt.xlabel(column)\n",
    "        #Set x-axis label\n",
    "       # plt.ylabel('Count')\n",
    "        #Set y-axis label\n",
    "        \n",
    "       # plt.title(f'Count plot of {column}')\n",
    "        #Set plot title\n",
    "        \n",
    "       # plt.xticks(rotation=45)\n",
    "        #Rotate x-axis labels for readability\n",
    "        \n",
    "        #plt.show() "
   ]
  },
  {
   "cell_type": "code",
   "execution_count": 55,
   "id": "c4cbe230",
   "metadata": {},
   "outputs": [
    {
     "ename": "NameError",
     "evalue": "name 'plot_countplots_for_categorical' is not defined",
     "output_type": "error",
     "traceback": [
      "\u001b[1;31m---------------------------------------------------------------------------\u001b[0m",
      "\u001b[1;31mNameError\u001b[0m                                 Traceback (most recent call last)",
      "Cell \u001b[1;32mIn[55], line 3\u001b[0m\n\u001b[0;32m      1\u001b[0m \u001b[38;5;66;03m#Example usage with your Dataframe 'df'\u001b[39;00m\n\u001b[1;32m----> 3\u001b[0m \u001b[43mplot_countplots_for_categorical\u001b[49m(train_data)\n",
      "\u001b[1;31mNameError\u001b[0m: name 'plot_countplots_for_categorical' is not defined"
     ]
    }
   ],
   "source": [
    "#Example usage with your Dataframe 'df'\n",
    "\n",
    "plot_countplots_for_categorical(train_data)"
   ]
  },
  {
   "cell_type": "code",
   "execution_count": null,
   "id": "3bcadc77",
   "metadata": {},
   "outputs": [],
   "source": [
    "#Explore categorical variables with count plots\n",
    "\n",
    "sns.countplot(x='gender', data = train_data)"
   ]
  },
  {
   "cell_type": "code",
   "execution_count": null,
   "id": "93f6d273",
   "metadata": {},
   "outputs": [],
   "source": []
  },
  {
   "cell_type": "code",
   "execution_count": null,
   "id": "3fab250f",
   "metadata": {},
   "outputs": [],
   "source": []
  },
  {
   "cell_type": "code",
   "execution_count": null,
   "id": "ce78c7d9",
   "metadata": {},
   "outputs": [],
   "source": []
  },
  {
   "cell_type": "code",
   "execution_count": null,
   "id": "d03999e3",
   "metadata": {},
   "outputs": [],
   "source": []
  },
  {
   "cell_type": "code",
   "execution_count": null,
   "id": "7e6d4626",
   "metadata": {},
   "outputs": [],
   "source": []
  },
  {
   "cell_type": "code",
   "execution_count": null,
   "id": "3d8f4052",
   "metadata": {},
   "outputs": [],
   "source": []
  },
  {
   "cell_type": "code",
   "execution_count": null,
   "id": "04905e84",
   "metadata": {},
   "outputs": [],
   "source": [
    "#Univariate Analysis\n",
    "\n",
    "train_data['column_name'].hist()\n",
    "plt.xlabel('X-axis Label')\n",
    "plt.xlabel('X-axis Label')\n",
    "plt.title('Title')\n",
    "plt.show()"
   ]
  },
  {
   "cell_type": "code",
   "execution_count": null,
   "id": "3107136c",
   "metadata": {},
   "outputs": [],
   "source": [
    "#Bivariate Analysis\n",
    "\n",
    "sns.scatterplot(x='column1', y='column2', data = train_data)"
   ]
  },
  {
   "cell_type": "code",
   "execution_count": null,
   "id": "32945323",
   "metadata": {},
   "outputs": [],
   "source": [
    "#categorical variables\n",
    "\n",
    "sns.countplot(x='category_column', data=train_data)"
   ]
  },
  {
   "cell_type": "code",
   "execution_count": null,
   "id": "7c3ef0d3",
   "metadata": {},
   "outputs": [],
   "source": [
    "train_data['categorical_column'].value_counts()"
   ]
  },
  {
   "cell_type": "code",
   "execution_count": null,
   "id": "5a964ef3",
   "metadata": {},
   "outputs": [],
   "source": []
  },
  {
   "cell_type": "code",
   "execution_count": null,
   "id": "9dd87651",
   "metadata": {},
   "outputs": [],
   "source": []
  },
  {
   "cell_type": "code",
   "execution_count": null,
   "id": "7757ff21",
   "metadata": {},
   "outputs": [],
   "source": [
    "#train_data['education_institute'].fillna(0, inplace = True)\n",
    "#print()"
   ]
  }
 ],
 "metadata": {
  "kernelspec": {
   "display_name": "Python 3 (ipykernel)",
   "language": "python",
   "name": "python3"
  },
  "language_info": {
   "codemirror_mode": {
    "name": "ipython",
    "version": 3
   },
   "file_extension": ".py",
   "mimetype": "text/x-python",
   "name": "python",
   "nbconvert_exporter": "python",
   "pygments_lexer": "ipython3",
   "version": "3.11.1"
  }
 },
 "nbformat": 4,
 "nbformat_minor": 5
}
