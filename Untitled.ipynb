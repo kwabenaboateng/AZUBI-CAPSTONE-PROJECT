{
 "cells": [
  {
   "cell_type": "markdown",
   "id": "50d3fb0d",
   "metadata": {},
   "source": [
    "### AZUBI CAPSTONE PROJECT"
   ]
  },
  {
   "cell_type": "markdown",
   "id": "067ab8e2",
   "metadata": {},
   "source": [
    "#### IMPORT LIBRARY PACKAGES"
   ]
  },
  {
   "cell_type": "code",
   "execution_count": null,
   "id": "a45ce9fb",
   "metadata": {},
   "outputs": [],
   "source": [
    "#Data Handling\n",
    "import numpy as np\n",
    "import pandas as pd\n",
    "\n",
    "#Visualizations\n",
    "import seaborn as sns\n",
    "import plotly.express as px\n",
    "import matplotlib.pyplot as plt\n",
    "\n",
    "from termcolor import colored\n",
    "\n",
    "# Feature Processing (Scikit-learn processing, etc. )\n",
    "\n",
    "# Evaluation Metrics\n",
    "from sklearn.model_selection import train_test_split\n",
    "from catboost import CatBoostClassifier\n",
    "from sklearn.metrics import f1_score, recall_score, precision_score, fbeta_score, accuracy_score, roc_auc_score\n",
    "from sklearn.metrics import confusion_matrix\n",
    "from sklearn.feature_selection import RFE\n",
    "\n",
    "#Other packages\n",
    "import warnings\n",
    "warnings.filterwarnings('always') "
   ]
  },
  {
   "cell_type": "markdown",
   "id": "ce57975a",
   "metadata": {},
   "source": [
    "#### Load the Data."
   ]
  },
  {
   "cell_type": "markdown",
   "id": "21601fe8",
   "metadata": {},
   "source": [
    "For this project, there are two datasets, namely:\n",
    "* <b> Train data: </b> This is the data which we will be using to train the model. Since we are solving a classification problem, we will have a column in train dataset corresponding to the target labels. \n",
    "* <b> Test data: </b> This is the data on which the predictions will be made based on the model trained on train dataset. "
   ]
  },
  {
   "cell_type": "code",
   "execution_count": null,
   "id": "e10208a0",
   "metadata": {},
   "outputs": [],
   "source": [
    "train_data = pd.read_csv(\"C:/Users/KWABENABOATENG/Desktop/AZUBI AFRICA/AZUBI CAPSTONE/AZUBI-CAPSTONE-PROJECT/DATASETS/Train.csv\")\n",
    "test_data = pd.read_csv(\"C:/Users/KWABENABOATENG/Desktop/AZUBI AFRICA/AZUBI CAPSTONE/AZUBI-CAPSTONE-PROJECT/DATASETS/Test.csv\")"
   ]
  },
  {
   "cell_type": "markdown",
   "id": "10addf04",
   "metadata": {},
   "source": [
    "#### Basic Data Exploration"
   ]
  },
  {
   "cell_type": "code",
   "execution_count": null,
   "id": "302d848c",
   "metadata": {},
   "outputs": [],
   "source": [
    "train_data.head()"
   ]
  },
  {
   "cell_type": "code",
   "execution_count": null,
   "id": "b7eada0b",
   "metadata": {},
   "outputs": [],
   "source": [
    "train_data.shape"
   ]
  },
  {
   "cell_type": "code",
   "execution_count": null,
   "id": "aee5f121",
   "metadata": {},
   "outputs": [],
   "source": [
    "test_data.head()"
   ]
  },
  {
   "cell_type": "code",
   "execution_count": null,
   "id": "cb23b3b7",
   "metadata": {},
   "outputs": [],
   "source": [
    "test_data.shape"
   ]
  },
  {
   "cell_type": "code",
   "execution_count": null,
   "id": "f6f6c0e5",
   "metadata": {},
   "outputs": [],
   "source": [
    "train_data.dtypes"
   ]
  },
  {
   "cell_type": "code",
   "execution_count": null,
   "id": "8c8dd41f",
   "metadata": {},
   "outputs": [],
   "source": [
    "train_data.isnull().sum()"
   ]
  },
  {
   "cell_type": "code",
   "execution_count": null,
   "id": "7ba6b9f2",
   "metadata": {},
   "outputs": [],
   "source": [
    "train_data.describe()"
   ]
  },
  {
   "cell_type": "code",
   "execution_count": null,
   "id": "9f2213a2",
   "metadata": {},
   "outputs": [],
   "source": [
    "train_data.hist(figsize=(12, 10))"
   ]
  },
  {
   "cell_type": "code",
   "execution_count": null,
   "id": "46a95503",
   "metadata": {},
   "outputs": [],
   "source": [
    "train_data.boxplot(figsize=(10, 12))"
   ]
  },
  {
   "cell_type": "markdown",
   "id": "68ae8aab",
   "metadata": {},
   "source": [
    "#### Categorical Values"
   ]
  },
  {
   "cell_type": "code",
   "execution_count": null,
   "id": "a68d67e9",
   "metadata": {},
   "outputs": [],
   "source": [
    "def plot_numerical_countplots(train_data):\n",
    "    numerical_columns = data.select_dtypes(include=['int64', 'float64']).columns\n",
    "\n",
    "    for column in numerical_columns:\n",
    "        plt.figure(figsize=(8, 6))\n",
    "        sns.countplot(data[column])\n",
    "        plt.title(f'Countplot of {column}', fontsize=16)\n",
    "        plt.xlabel(column, fontsize=14)\n",
    "        plt.ylabel('Count', fontsize=14)\n",
    "        plt.xticks(rotation=45)\n",
    "        plt.show()\n",
    "\n",
    "# Example usage\n",
    "# Assuming 'df' is your DataFrame\n",
    "plot_numerical_countplots(train_data)\n"
   ]
  },
  {
   "cell_type": "code",
   "execution_count": null,
   "id": "87535cb2",
   "metadata": {},
   "outputs": [],
   "source": [
    "#def plot_countplots_for_categorical(train_data):\n",
    "    #Get a list of column name with categorical data\n",
    "    #categorical_columns = train_data.select_dtypes(include=['object']).columns.tolist()\n",
    "    \n",
    "    #loops through categorical columns and create count plots\n",
    "    #for columns in categorical_columns:\n",
    "        \n",
    "        #Set the figure size\n",
    "       # plt.figure(figsize=(8,6))\n",
    "        #sns.countplot(x=columns,data=train_data)\n",
    "        \n",
    "        #plt.xlabel(column)\n",
    "        #Set x-axis label\n",
    "       # plt.ylabel('Count')\n",
    "        #Set y-axis label\n",
    "        \n",
    "       # plt.title(f'Count plot of {column}')\n",
    "        #Set plot title\n",
    "        \n",
    "       # plt.xticks(rotation=45)\n",
    "        #Rotate x-axis labels for readability\n",
    "        \n",
    "        #plt.show() "
   ]
  },
  {
   "cell_type": "code",
   "execution_count": null,
   "id": "c4cbe230",
   "metadata": {},
   "outputs": [],
   "source": [
    "#Example usage with your Dataframe 'df'\n",
    "\n",
    "plot_countplots_for_categorical(train_data)"
   ]
  },
  {
   "cell_type": "code",
   "execution_count": null,
   "id": "3bcadc77",
   "metadata": {},
   "outputs": [],
   "source": [
    "#Explore categorical variables with count plots\n",
    "\n",
    "sns.countplot(x='gender', data = train_data)"
   ]
  },
  {
   "cell_type": "code",
   "execution_count": null,
   "id": "93f6d273",
   "metadata": {},
   "outputs": [],
   "source": []
  },
  {
   "cell_type": "code",
   "execution_count": null,
   "id": "3fab250f",
   "metadata": {},
   "outputs": [],
   "source": []
  },
  {
   "cell_type": "code",
   "execution_count": null,
   "id": "ce78c7d9",
   "metadata": {},
   "outputs": [],
   "source": []
  },
  {
   "cell_type": "code",
   "execution_count": null,
   "id": "d03999e3",
   "metadata": {},
   "outputs": [],
   "source": []
  },
  {
   "cell_type": "code",
   "execution_count": null,
   "id": "7e6d4626",
   "metadata": {},
   "outputs": [],
   "source": []
  },
  {
   "cell_type": "code",
   "execution_count": null,
   "id": "3d8f4052",
   "metadata": {},
   "outputs": [],
   "source": []
  },
  {
   "cell_type": "code",
   "execution_count": null,
   "id": "04905e84",
   "metadata": {},
   "outputs": [],
   "source": [
    "#Univariate Analysis\n",
    "\n",
    "train_data['column_name'].hist()\n",
    "plt.xlabel('X-axis Label')\n",
    "plt.xlabel('X-axis Label')\n",
    "plt.title('Title')\n",
    "plt.show()"
   ]
  },
  {
   "cell_type": "code",
   "execution_count": null,
   "id": "3107136c",
   "metadata": {},
   "outputs": [],
   "source": [
    "#Bivariate Analysis\n",
    "\n",
    "sns.scatterplot(x='column1', y='column2', data = train_data)"
   ]
  },
  {
   "cell_type": "code",
   "execution_count": null,
   "id": "32945323",
   "metadata": {},
   "outputs": [],
   "source": [
    "#categorical variables\n",
    "\n",
    "sns.countplot(x='category_column', data=train_data)"
   ]
  },
  {
   "cell_type": "code",
   "execution_count": null,
   "id": "7c3ef0d3",
   "metadata": {},
   "outputs": [],
   "source": [
    "train_data['categorical_column'].value_counts()"
   ]
  },
  {
   "cell_type": "code",
   "execution_count": null,
   "id": "5a964ef3",
   "metadata": {},
   "outputs": [],
   "source": []
  },
  {
   "cell_type": "code",
   "execution_count": null,
   "id": "868599de",
   "metadata": {},
   "outputs": [],
   "source": [
    "train_data('education_institute').unique()"
   ]
  },
  {
   "cell_type": "code",
   "execution_count": null,
   "id": "f9964728",
   "metadata": {},
   "outputs": [],
   "source": [
    "#Print out unique values of every column in the dataset\n",
    "\n",
    "def print_unique_values(train_data):\n",
    "    for column in train_data.columns:\n",
    "        unique_values = \n",
    "train_data[column].unique()\n",
    "        print(f\"Unique values in {columns}: {unique_values}\" )"
   ]
  },
  {
   "cell_type": "code",
   "execution_count": null,
   "id": "3f656fd3",
   "metadata": {},
   "outputs": [],
   "source": []
  },
  {
   "cell_type": "code",
   "execution_count": null,
   "id": "2c30e900",
   "metadata": {},
   "outputs": [],
   "source": []
  },
  {
   "cell_type": "code",
   "execution_count": null,
   "id": "203b96b1",
   "metadata": {},
   "outputs": [],
   "source": []
  },
  {
   "cell_type": "code",
   "execution_count": null,
   "id": "88d9a71e",
   "metadata": {},
   "outputs": [],
   "source": []
  },
  {
   "cell_type": "code",
   "execution_count": null,
   "id": "9dd87651",
   "metadata": {},
   "outputs": [],
   "source": []
  },
  {
   "cell_type": "code",
   "execution_count": null,
   "id": "7757ff21",
   "metadata": {},
   "outputs": [],
   "source": [
    "#train_data['education_institute'].fillna(0, inplace = True)\n",
    "#print()"
   ]
  }
 ],
 "metadata": {
  "kernelspec": {
   "display_name": "Python 3 (ipykernel)",
   "language": "python",
   "name": "python3"
  },
  "language_info": {
   "codemirror_mode": {
    "name": "ipython",
    "version": 3
   },
   "file_extension": ".py",
   "mimetype": "text/x-python",
   "name": "python",
   "nbconvert_exporter": "python",
   "pygments_lexer": "ipython3",
   "version": "3.11.1"
  }
 },
 "nbformat": 4,
 "nbformat_minor": 5
}
