{
  "nbformat": 4,
  "nbformat_minor": 0,
  "metadata": {
    "colab": {
      "provenance": [],
      "collapsed_sections": []
    },
    "kernelspec": {
      "name": "python3",
      "display_name": "Python 3"
    },
    "language_info": {
      "name": "python"
    }
  },
  "cells": [
    {
      "cell_type": "markdown",
      "source": [
        "# IMPORTANT \n",
        "\n",
        "## Install latest version of packages to be used in the code\n",
        "\n",
        "The latest version of libraries need to be installed as per competition rules and kindly adhere to that and install the updated version of libraries in the code. \n",
        "\n",
        "## Please set random seed so that reproducible answers are attained\n",
        "\n",
        "Wherever randomness is expected, do select the random seed so that the results are reproducible. Reproducibility of results is a **very important** component of model development without which reliable models are not attained. "
      ],
      "metadata": {
        "id": "SoZGjB_9Uiij"
      }
    },
    {
      "cell_type": "code",
      "execution_count": 1,
      "metadata": {
        "colab": {
          "base_uri": "https://localhost:8080/"
        },
        "id": "3Wjp74XdUQta",
        "outputId": "1b79eaab-cceb-4666-e85b-452a4a7010f9"
      },
      "outputs": [
        {
          "output_type": "stream",
          "name": "stdout",
          "text": [
            "Looking in indexes: https://pypi.org/simple, https://us-python.pkg.dev/colab-wheels/public/simple/\n",
            "Requirement already satisfied: scikit-learn in /usr/local/lib/python3.7/dist-packages (1.0.2)\n",
            "Requirement already satisfied: numpy in /usr/local/lib/python3.7/dist-packages (1.21.6)\n",
            "Requirement already satisfied: pandas in /usr/local/lib/python3.7/dist-packages (1.3.5)\n",
            "Requirement already satisfied: catboost in /usr/local/lib/python3.7/dist-packages (1.1)\n",
            "Requirement already satisfied: joblib>=0.11 in /usr/local/lib/python3.7/dist-packages (from scikit-learn) (1.2.0)\n",
            "Requirement already satisfied: scipy>=1.1.0 in /usr/local/lib/python3.7/dist-packages (from scikit-learn) (1.7.3)\n",
            "Requirement already satisfied: threadpoolctl>=2.0.0 in /usr/local/lib/python3.7/dist-packages (from scikit-learn) (3.1.0)\n",
            "Requirement already satisfied: python-dateutil>=2.7.3 in /usr/local/lib/python3.7/dist-packages (from pandas) (2.8.2)\n",
            "Requirement already satisfied: pytz>=2017.3 in /usr/local/lib/python3.7/dist-packages (from pandas) (2022.4)\n",
            "Requirement already satisfied: six>=1.5 in /usr/local/lib/python3.7/dist-packages (from python-dateutil>=2.7.3->pandas) (1.15.0)\n",
            "Requirement already satisfied: graphviz in /usr/local/lib/python3.7/dist-packages (from catboost) (0.10.1)\n",
            "Requirement already satisfied: plotly in /usr/local/lib/python3.7/dist-packages (from catboost) (5.5.0)\n",
            "Requirement already satisfied: matplotlib in /usr/local/lib/python3.7/dist-packages (from catboost) (3.2.2)\n",
            "Requirement already satisfied: cycler>=0.10 in /usr/local/lib/python3.7/dist-packages (from matplotlib->catboost) (0.11.0)\n",
            "Requirement already satisfied: kiwisolver>=1.0.1 in /usr/local/lib/python3.7/dist-packages (from matplotlib->catboost) (1.4.4)\n",
            "Requirement already satisfied: pyparsing!=2.0.4,!=2.1.2,!=2.1.6,>=2.0.1 in /usr/local/lib/python3.7/dist-packages (from matplotlib->catboost) (3.0.9)\n",
            "Requirement already satisfied: typing-extensions in /usr/local/lib/python3.7/dist-packages (from kiwisolver>=1.0.1->matplotlib->catboost) (4.1.1)\n",
            "Requirement already satisfied: tenacity>=6.2.0 in /usr/local/lib/python3.7/dist-packages (from plotly->catboost) (8.1.0)\n"
          ]
        }
      ],
      "source": [
        "!pip install --upgrade scikit-learn numpy pandas catboost "
      ]
    },
    {
      "cell_type": "code",
      "source": [
        "import pandas as pd\n",
        "import numpy as np\n",
        "import matplotlib.pyplot as plt\n",
        "from termcolor import colored\n",
        "import plotly.express as px\n",
        "from sklearn.model_selection import train_test_split\n",
        "from catboost import CatBoostClassifier\n",
        "from sklearn.metrics import f1_score,accuracy_score,classification_report\n",
        "import warnings\n",
        "warnings.filterwarnings('always') "
      ],
      "metadata": {
        "id": "fYI4nuYZUw3C"
      },
      "execution_count": 2,
      "outputs": []
    },
    {
      "cell_type": "markdown",
      "source": [
        "## Loading test and train datasets \n",
        "\n",
        "We will load the train and test datasets and do some basic level of EDA to understand the pattern of features in the data \n",
        "\n",
        "* <b> Train data: </b> This is the data which we will be using to train the model. Since we are solving a classification problem, we will have a column in train dataset corresponding to the target labels. \n",
        "* <b> Test data: </b> This is the data on which the predictions will be made based on the model trained on train dataset. \n",
        "\n"
      ],
      "metadata": {
        "id": "Sbf9wqJGU20y"
      }
    },
    {
      "cell_type": "code",
      "source": [
        "################# Reading train and test datasets\n",
        "train_data         = pd.read_csv('Train.csv')\n",
        "test_data          = pd.read_csv('Test.csv')\n",
        "\n",
        "\n",
        "\n",
        "target_column_name = ['income_above_limit']\n",
        "\n",
        "########## The target column to be used for training \n",
        "target_column      = train_data[target_column_name]\n",
        "\n",
        "########## Since ID is a unique identifier, it must be dropped \n",
        "Cols2drop          = ['ID']\n",
        "\n",
        "\n",
        "######### Feature set corresponding to train and test data\n",
        "train_df           = train_data.drop(Cols2drop+target_column_name,axis=1)\n",
        "test_df            = test_data.drop(Cols2drop,axis=1)\n",
        "\n",
        "print(colored(f'The shape of train data is    {train_df.shape}     ','green',attrs=['bold']))\n",
        "\n",
        "print(colored(f'The shape of target column is {target_column.shape}','green',attrs=['bold']))\n",
        "\n",
        "print(colored(f'The shape of test data is     {test_df.shape}      ','blue',attrs=['bold']))\n",
        "\n",
        "print('------------------------------------------------------------------------------')\n",
        "print(colored('The train data looks like below :- \\n','green'))\n",
        "display(train_df.head(5))\n",
        "\n",
        "print('------------------------------------------------------------------------------')\n",
        "print(colored('The test data looks like below :- \\n','blue'))\n",
        "display(test_df.head(5))\n"
      ],
      "metadata": {
        "colab": {
          "base_uri": "https://localhost:8080/",
          "height": 952
        },
        "id": "Es4uUithU2QZ",
        "outputId": "79047a21-ef24-46b7-dba3-c6bbf3a4954d"
      },
      "execution_count": 3,
      "outputs": [
        {
          "output_type": "stream",
          "name": "stdout",
          "text": [
            "\u001b[1m\u001b[32mThe shape of train data is    (209499, 41)     \u001b[0m\n",
            "\u001b[1m\u001b[32mThe shape of target column is (209499, 1)\u001b[0m\n",
            "\u001b[1m\u001b[34mThe shape of test data is     (89786, 41)      \u001b[0m\n",
            "------------------------------------------------------------------------------\n",
            "\u001b[32mThe train data looks like below :- \n",
            "\u001b[0m\n"
          ]
        },
        {
          "output_type": "display_data",
          "data": {
            "text/plain": [
              "   age   gender               education                class  \\\n",
              "0   79   Female    High school graduate                  NaN   \n",
              "1   65   Female    High school graduate                  NaN   \n",
              "2   21     Male   12th grade no diploma   Federal government   \n",
              "3    2   Female                Children                  NaN   \n",
              "4   70     Male    High school graduate                  NaN   \n",
              "\n",
              "  education_institute                    marital_status  \\\n",
              "0                 NaN                           Widowed   \n",
              "1                 NaN                           Widowed   \n",
              "2                 NaN                     Never married   \n",
              "3                 NaN                     Never married   \n",
              "4                 NaN   Married-civilian spouse present   \n",
              "\n",
              "                         race is_hispanic      employment_commitment  \\\n",
              "0                       White   All other         Not in labor force   \n",
              "1                       White   All other   Children or Armed Forces   \n",
              "2                       Black   All other   Children or Armed Forces   \n",
              "3   Asian or Pacific Islander   All other   Children or Armed Forces   \n",
              "4                       White   All other         Not in labor force   \n",
              "\n",
              "  unemployment_reason  ...  country_of_birth_father  country_of_birth_mother  \\\n",
              "0                 NaN  ...                       US                       US   \n",
              "1                 NaN  ...                       US                       US   \n",
              "2                 NaN  ...                       US                       US   \n",
              "3                 NaN  ...                    India                    India   \n",
              "4                 NaN  ...                       US                       US   \n",
              "\n",
              "  migration_code_change_in_msa  migration_prev_sunbelt  \\\n",
              "0                            ?                       ?   \n",
              "1                    unchanged                     NaN   \n",
              "2                    unchanged                     NaN   \n",
              "3                    unchanged                     NaN   \n",
              "4                            ?                       ?   \n",
              "\n",
              "   migration_code_move_within_reg migration_code_change_in_reg  \\\n",
              "0                               ?                            ?   \n",
              "1                       unchanged                    unchanged   \n",
              "2                       unchanged                    unchanged   \n",
              "3                       unchanged                    unchanged   \n",
              "4                               ?                            ?   \n",
              "\n",
              "   residence_1_year_ago old_residence_reg  old_residence_state  \\\n",
              "0                   NaN               NaN                  NaN   \n",
              "1                  Same               NaN                  NaN   \n",
              "2                  Same               NaN                  NaN   \n",
              "3                  Same               NaN                  NaN   \n",
              "4                   NaN               NaN                  NaN   \n",
              "\n",
              "  importance_of_record  \n",
              "0              1779.74  \n",
              "1              2366.75  \n",
              "2              1693.42  \n",
              "3              1380.27  \n",
              "4              1580.79  \n",
              "\n",
              "[5 rows x 41 columns]"
            ],
            "text/html": [
              "\n",
              "  <div id=\"df-ba7f9962-c4c9-4c8d-8b73-8c95136c6f1b\">\n",
              "    <div class=\"colab-df-container\">\n",
              "      <div>\n",
              "<style scoped>\n",
              "    .dataframe tbody tr th:only-of-type {\n",
              "        vertical-align: middle;\n",
              "    }\n",
              "\n",
              "    .dataframe tbody tr th {\n",
              "        vertical-align: top;\n",
              "    }\n",
              "\n",
              "    .dataframe thead th {\n",
              "        text-align: right;\n",
              "    }\n",
              "</style>\n",
              "<table border=\"1\" class=\"dataframe\">\n",
              "  <thead>\n",
              "    <tr style=\"text-align: right;\">\n",
              "      <th></th>\n",
              "      <th>age</th>\n",
              "      <th>gender</th>\n",
              "      <th>education</th>\n",
              "      <th>class</th>\n",
              "      <th>education_institute</th>\n",
              "      <th>marital_status</th>\n",
              "      <th>race</th>\n",
              "      <th>is_hispanic</th>\n",
              "      <th>employment_commitment</th>\n",
              "      <th>unemployment_reason</th>\n",
              "      <th>...</th>\n",
              "      <th>country_of_birth_father</th>\n",
              "      <th>country_of_birth_mother</th>\n",
              "      <th>migration_code_change_in_msa</th>\n",
              "      <th>migration_prev_sunbelt</th>\n",
              "      <th>migration_code_move_within_reg</th>\n",
              "      <th>migration_code_change_in_reg</th>\n",
              "      <th>residence_1_year_ago</th>\n",
              "      <th>old_residence_reg</th>\n",
              "      <th>old_residence_state</th>\n",
              "      <th>importance_of_record</th>\n",
              "    </tr>\n",
              "  </thead>\n",
              "  <tbody>\n",
              "    <tr>\n",
              "      <th>0</th>\n",
              "      <td>79</td>\n",
              "      <td>Female</td>\n",
              "      <td>High school graduate</td>\n",
              "      <td>NaN</td>\n",
              "      <td>NaN</td>\n",
              "      <td>Widowed</td>\n",
              "      <td>White</td>\n",
              "      <td>All other</td>\n",
              "      <td>Not in labor force</td>\n",
              "      <td>NaN</td>\n",
              "      <td>...</td>\n",
              "      <td>US</td>\n",
              "      <td>US</td>\n",
              "      <td>?</td>\n",
              "      <td>?</td>\n",
              "      <td>?</td>\n",
              "      <td>?</td>\n",
              "      <td>NaN</td>\n",
              "      <td>NaN</td>\n",
              "      <td>NaN</td>\n",
              "      <td>1779.74</td>\n",
              "    </tr>\n",
              "    <tr>\n",
              "      <th>1</th>\n",
              "      <td>65</td>\n",
              "      <td>Female</td>\n",
              "      <td>High school graduate</td>\n",
              "      <td>NaN</td>\n",
              "      <td>NaN</td>\n",
              "      <td>Widowed</td>\n",
              "      <td>White</td>\n",
              "      <td>All other</td>\n",
              "      <td>Children or Armed Forces</td>\n",
              "      <td>NaN</td>\n",
              "      <td>...</td>\n",
              "      <td>US</td>\n",
              "      <td>US</td>\n",
              "      <td>unchanged</td>\n",
              "      <td>NaN</td>\n",
              "      <td>unchanged</td>\n",
              "      <td>unchanged</td>\n",
              "      <td>Same</td>\n",
              "      <td>NaN</td>\n",
              "      <td>NaN</td>\n",
              "      <td>2366.75</td>\n",
              "    </tr>\n",
              "    <tr>\n",
              "      <th>2</th>\n",
              "      <td>21</td>\n",
              "      <td>Male</td>\n",
              "      <td>12th grade no diploma</td>\n",
              "      <td>Federal government</td>\n",
              "      <td>NaN</td>\n",
              "      <td>Never married</td>\n",
              "      <td>Black</td>\n",
              "      <td>All other</td>\n",
              "      <td>Children or Armed Forces</td>\n",
              "      <td>NaN</td>\n",
              "      <td>...</td>\n",
              "      <td>US</td>\n",
              "      <td>US</td>\n",
              "      <td>unchanged</td>\n",
              "      <td>NaN</td>\n",
              "      <td>unchanged</td>\n",
              "      <td>unchanged</td>\n",
              "      <td>Same</td>\n",
              "      <td>NaN</td>\n",
              "      <td>NaN</td>\n",
              "      <td>1693.42</td>\n",
              "    </tr>\n",
              "    <tr>\n",
              "      <th>3</th>\n",
              "      <td>2</td>\n",
              "      <td>Female</td>\n",
              "      <td>Children</td>\n",
              "      <td>NaN</td>\n",
              "      <td>NaN</td>\n",
              "      <td>Never married</td>\n",
              "      <td>Asian or Pacific Islander</td>\n",
              "      <td>All other</td>\n",
              "      <td>Children or Armed Forces</td>\n",
              "      <td>NaN</td>\n",
              "      <td>...</td>\n",
              "      <td>India</td>\n",
              "      <td>India</td>\n",
              "      <td>unchanged</td>\n",
              "      <td>NaN</td>\n",
              "      <td>unchanged</td>\n",
              "      <td>unchanged</td>\n",
              "      <td>Same</td>\n",
              "      <td>NaN</td>\n",
              "      <td>NaN</td>\n",
              "      <td>1380.27</td>\n",
              "    </tr>\n",
              "    <tr>\n",
              "      <th>4</th>\n",
              "      <td>70</td>\n",
              "      <td>Male</td>\n",
              "      <td>High school graduate</td>\n",
              "      <td>NaN</td>\n",
              "      <td>NaN</td>\n",
              "      <td>Married-civilian spouse present</td>\n",
              "      <td>White</td>\n",
              "      <td>All other</td>\n",
              "      <td>Not in labor force</td>\n",
              "      <td>NaN</td>\n",
              "      <td>...</td>\n",
              "      <td>US</td>\n",
              "      <td>US</td>\n",
              "      <td>?</td>\n",
              "      <td>?</td>\n",
              "      <td>?</td>\n",
              "      <td>?</td>\n",
              "      <td>NaN</td>\n",
              "      <td>NaN</td>\n",
              "      <td>NaN</td>\n",
              "      <td>1580.79</td>\n",
              "    </tr>\n",
              "  </tbody>\n",
              "</table>\n",
              "<p>5 rows × 41 columns</p>\n",
              "</div>\n",
              "      <button class=\"colab-df-convert\" onclick=\"convertToInteractive('df-ba7f9962-c4c9-4c8d-8b73-8c95136c6f1b')\"\n",
              "              title=\"Convert this dataframe to an interactive table.\"\n",
              "              style=\"display:none;\">\n",
              "        \n",
              "  <svg xmlns=\"http://www.w3.org/2000/svg\" height=\"24px\"viewBox=\"0 0 24 24\"\n",
              "       width=\"24px\">\n",
              "    <path d=\"M0 0h24v24H0V0z\" fill=\"none\"/>\n",
              "    <path d=\"M18.56 5.44l.94 2.06.94-2.06 2.06-.94-2.06-.94-.94-2.06-.94 2.06-2.06.94zm-11 1L8.5 8.5l.94-2.06 2.06-.94-2.06-.94L8.5 2.5l-.94 2.06-2.06.94zm10 10l.94 2.06.94-2.06 2.06-.94-2.06-.94-.94-2.06-.94 2.06-2.06.94z\"/><path d=\"M17.41 7.96l-1.37-1.37c-.4-.4-.92-.59-1.43-.59-.52 0-1.04.2-1.43.59L10.3 9.45l-7.72 7.72c-.78.78-.78 2.05 0 2.83L4 21.41c.39.39.9.59 1.41.59.51 0 1.02-.2 1.41-.59l7.78-7.78 2.81-2.81c.8-.78.8-2.07 0-2.86zM5.41 20L4 18.59l7.72-7.72 1.47 1.35L5.41 20z\"/>\n",
              "  </svg>\n",
              "      </button>\n",
              "      \n",
              "  <style>\n",
              "    .colab-df-container {\n",
              "      display:flex;\n",
              "      flex-wrap:wrap;\n",
              "      gap: 12px;\n",
              "    }\n",
              "\n",
              "    .colab-df-convert {\n",
              "      background-color: #E8F0FE;\n",
              "      border: none;\n",
              "      border-radius: 50%;\n",
              "      cursor: pointer;\n",
              "      display: none;\n",
              "      fill: #1967D2;\n",
              "      height: 32px;\n",
              "      padding: 0 0 0 0;\n",
              "      width: 32px;\n",
              "    }\n",
              "\n",
              "    .colab-df-convert:hover {\n",
              "      background-color: #E2EBFA;\n",
              "      box-shadow: 0px 1px 2px rgba(60, 64, 67, 0.3), 0px 1px 3px 1px rgba(60, 64, 67, 0.15);\n",
              "      fill: #174EA6;\n",
              "    }\n",
              "\n",
              "    [theme=dark] .colab-df-convert {\n",
              "      background-color: #3B4455;\n",
              "      fill: #D2E3FC;\n",
              "    }\n",
              "\n",
              "    [theme=dark] .colab-df-convert:hover {\n",
              "      background-color: #434B5C;\n",
              "      box-shadow: 0px 1px 3px 1px rgba(0, 0, 0, 0.15);\n",
              "      filter: drop-shadow(0px 1px 2px rgba(0, 0, 0, 0.3));\n",
              "      fill: #FFFFFF;\n",
              "    }\n",
              "  </style>\n",
              "\n",
              "      <script>\n",
              "        const buttonEl =\n",
              "          document.querySelector('#df-ba7f9962-c4c9-4c8d-8b73-8c95136c6f1b button.colab-df-convert');\n",
              "        buttonEl.style.display =\n",
              "          google.colab.kernel.accessAllowed ? 'block' : 'none';\n",
              "\n",
              "        async function convertToInteractive(key) {\n",
              "          const element = document.querySelector('#df-ba7f9962-c4c9-4c8d-8b73-8c95136c6f1b');\n",
              "          const dataTable =\n",
              "            await google.colab.kernel.invokeFunction('convertToInteractive',\n",
              "                                                     [key], {});\n",
              "          if (!dataTable) return;\n",
              "\n",
              "          const docLinkHtml = 'Like what you see? Visit the ' +\n",
              "            '<a target=\"_blank\" href=https://colab.research.google.com/notebooks/data_table.ipynb>data table notebook</a>'\n",
              "            + ' to learn more about interactive tables.';\n",
              "          element.innerHTML = '';\n",
              "          dataTable['output_type'] = 'display_data';\n",
              "          await google.colab.output.renderOutput(dataTable, element);\n",
              "          const docLink = document.createElement('div');\n",
              "          docLink.innerHTML = docLinkHtml;\n",
              "          element.appendChild(docLink);\n",
              "        }\n",
              "      </script>\n",
              "    </div>\n",
              "  </div>\n",
              "  "
            ]
          },
          "metadata": {}
        },
        {
          "output_type": "stream",
          "name": "stdout",
          "text": [
            "------------------------------------------------------------------------------\n",
            "\u001b[34mThe test data looks like below :- \n",
            "\u001b[0m\n"
          ]
        },
        {
          "output_type": "display_data",
          "data": {
            "text/plain": [
              "   age   gender                    education     class education_institute  \\\n",
              "0   54     Male         High school graduate   Private                 NaN   \n",
              "1   53     Male             5th or 6th grade   Private                 NaN   \n",
              "2   42     Male   Bachelors degree(BA AB BS)   Private                 NaN   \n",
              "3   16   Female                    9th grade       NaN         High school   \n",
              "4   16     Male                    9th grade       NaN         High school   \n",
              "\n",
              "                     marital_status    race                 is_hispanic  \\\n",
              "0   Married-civilian spouse present   White                   All other   \n",
              "1   Married-civilian spouse present   White   Central or South American   \n",
              "2   Married-civilian spouse present   White                   All other   \n",
              "3                     Never married   White                   All other   \n",
              "4                     Never married   White                   All other   \n",
              "\n",
              "       employment_commitment unemployment_reason  ...  \\\n",
              "0   Children or Armed Forces                 NaN  ...   \n",
              "1        Full-time schedules                 NaN  ...   \n",
              "2        Full-time schedules                 NaN  ...   \n",
              "3   Children or Armed Forces                 NaN  ...   \n",
              "4         Not in labor force                 NaN  ...   \n",
              "\n",
              "   country_of_birth_father  country_of_birth_mother  \\\n",
              "0                       US                       US   \n",
              "1              El-Salvador              El-Salvador   \n",
              "2                       US                       US   \n",
              "3                       US                       US   \n",
              "4                       US                       US   \n",
              "\n",
              "  migration_code_change_in_msa  migration_prev_sunbelt  \\\n",
              "0                    unchanged                     NaN   \n",
              "1                            ?                       ?   \n",
              "2                            ?                       ?   \n",
              "3                    unchanged                     NaN   \n",
              "4                            ?                       ?   \n",
              "\n",
              "   migration_code_move_within_reg migration_code_change_in_reg  \\\n",
              "0                       unchanged                    unchanged   \n",
              "1                               ?                            ?   \n",
              "2                               ?                            ?   \n",
              "3                       unchanged                    unchanged   \n",
              "4                               ?                            ?   \n",
              "\n",
              "   residence_1_year_ago old_residence_reg  old_residence_state  \\\n",
              "0                  Same               NaN                  NaN   \n",
              "1                   NaN               NaN                  NaN   \n",
              "2                   NaN               NaN                  NaN   \n",
              "3                  Same               NaN                  NaN   \n",
              "4                   NaN               NaN                  NaN   \n",
              "\n",
              "  importance_of_record  \n",
              "0              3388.96  \n",
              "1              1177.55  \n",
              "2              4898.55  \n",
              "3              1391.44  \n",
              "4              1933.18  \n",
              "\n",
              "[5 rows x 41 columns]"
            ],
            "text/html": [
              "\n",
              "  <div id=\"df-db1228a4-6e7a-4324-b5ed-9de7657b8c36\">\n",
              "    <div class=\"colab-df-container\">\n",
              "      <div>\n",
              "<style scoped>\n",
              "    .dataframe tbody tr th:only-of-type {\n",
              "        vertical-align: middle;\n",
              "    }\n",
              "\n",
              "    .dataframe tbody tr th {\n",
              "        vertical-align: top;\n",
              "    }\n",
              "\n",
              "    .dataframe thead th {\n",
              "        text-align: right;\n",
              "    }\n",
              "</style>\n",
              "<table border=\"1\" class=\"dataframe\">\n",
              "  <thead>\n",
              "    <tr style=\"text-align: right;\">\n",
              "      <th></th>\n",
              "      <th>age</th>\n",
              "      <th>gender</th>\n",
              "      <th>education</th>\n",
              "      <th>class</th>\n",
              "      <th>education_institute</th>\n",
              "      <th>marital_status</th>\n",
              "      <th>race</th>\n",
              "      <th>is_hispanic</th>\n",
              "      <th>employment_commitment</th>\n",
              "      <th>unemployment_reason</th>\n",
              "      <th>...</th>\n",
              "      <th>country_of_birth_father</th>\n",
              "      <th>country_of_birth_mother</th>\n",
              "      <th>migration_code_change_in_msa</th>\n",
              "      <th>migration_prev_sunbelt</th>\n",
              "      <th>migration_code_move_within_reg</th>\n",
              "      <th>migration_code_change_in_reg</th>\n",
              "      <th>residence_1_year_ago</th>\n",
              "      <th>old_residence_reg</th>\n",
              "      <th>old_residence_state</th>\n",
              "      <th>importance_of_record</th>\n",
              "    </tr>\n",
              "  </thead>\n",
              "  <tbody>\n",
              "    <tr>\n",
              "      <th>0</th>\n",
              "      <td>54</td>\n",
              "      <td>Male</td>\n",
              "      <td>High school graduate</td>\n",
              "      <td>Private</td>\n",
              "      <td>NaN</td>\n",
              "      <td>Married-civilian spouse present</td>\n",
              "      <td>White</td>\n",
              "      <td>All other</td>\n",
              "      <td>Children or Armed Forces</td>\n",
              "      <td>NaN</td>\n",
              "      <td>...</td>\n",
              "      <td>US</td>\n",
              "      <td>US</td>\n",
              "      <td>unchanged</td>\n",
              "      <td>NaN</td>\n",
              "      <td>unchanged</td>\n",
              "      <td>unchanged</td>\n",
              "      <td>Same</td>\n",
              "      <td>NaN</td>\n",
              "      <td>NaN</td>\n",
              "      <td>3388.96</td>\n",
              "    </tr>\n",
              "    <tr>\n",
              "      <th>1</th>\n",
              "      <td>53</td>\n",
              "      <td>Male</td>\n",
              "      <td>5th or 6th grade</td>\n",
              "      <td>Private</td>\n",
              "      <td>NaN</td>\n",
              "      <td>Married-civilian spouse present</td>\n",
              "      <td>White</td>\n",
              "      <td>Central or South American</td>\n",
              "      <td>Full-time schedules</td>\n",
              "      <td>NaN</td>\n",
              "      <td>...</td>\n",
              "      <td>El-Salvador</td>\n",
              "      <td>El-Salvador</td>\n",
              "      <td>?</td>\n",
              "      <td>?</td>\n",
              "      <td>?</td>\n",
              "      <td>?</td>\n",
              "      <td>NaN</td>\n",
              "      <td>NaN</td>\n",
              "      <td>NaN</td>\n",
              "      <td>1177.55</td>\n",
              "    </tr>\n",
              "    <tr>\n",
              "      <th>2</th>\n",
              "      <td>42</td>\n",
              "      <td>Male</td>\n",
              "      <td>Bachelors degree(BA AB BS)</td>\n",
              "      <td>Private</td>\n",
              "      <td>NaN</td>\n",
              "      <td>Married-civilian spouse present</td>\n",
              "      <td>White</td>\n",
              "      <td>All other</td>\n",
              "      <td>Full-time schedules</td>\n",
              "      <td>NaN</td>\n",
              "      <td>...</td>\n",
              "      <td>US</td>\n",
              "      <td>US</td>\n",
              "      <td>?</td>\n",
              "      <td>?</td>\n",
              "      <td>?</td>\n",
              "      <td>?</td>\n",
              "      <td>NaN</td>\n",
              "      <td>NaN</td>\n",
              "      <td>NaN</td>\n",
              "      <td>4898.55</td>\n",
              "    </tr>\n",
              "    <tr>\n",
              "      <th>3</th>\n",
              "      <td>16</td>\n",
              "      <td>Female</td>\n",
              "      <td>9th grade</td>\n",
              "      <td>NaN</td>\n",
              "      <td>High school</td>\n",
              "      <td>Never married</td>\n",
              "      <td>White</td>\n",
              "      <td>All other</td>\n",
              "      <td>Children or Armed Forces</td>\n",
              "      <td>NaN</td>\n",
              "      <td>...</td>\n",
              "      <td>US</td>\n",
              "      <td>US</td>\n",
              "      <td>unchanged</td>\n",
              "      <td>NaN</td>\n",
              "      <td>unchanged</td>\n",
              "      <td>unchanged</td>\n",
              "      <td>Same</td>\n",
              "      <td>NaN</td>\n",
              "      <td>NaN</td>\n",
              "      <td>1391.44</td>\n",
              "    </tr>\n",
              "    <tr>\n",
              "      <th>4</th>\n",
              "      <td>16</td>\n",
              "      <td>Male</td>\n",
              "      <td>9th grade</td>\n",
              "      <td>NaN</td>\n",
              "      <td>High school</td>\n",
              "      <td>Never married</td>\n",
              "      <td>White</td>\n",
              "      <td>All other</td>\n",
              "      <td>Not in labor force</td>\n",
              "      <td>NaN</td>\n",
              "      <td>...</td>\n",
              "      <td>US</td>\n",
              "      <td>US</td>\n",
              "      <td>?</td>\n",
              "      <td>?</td>\n",
              "      <td>?</td>\n",
              "      <td>?</td>\n",
              "      <td>NaN</td>\n",
              "      <td>NaN</td>\n",
              "      <td>NaN</td>\n",
              "      <td>1933.18</td>\n",
              "    </tr>\n",
              "  </tbody>\n",
              "</table>\n",
              "<p>5 rows × 41 columns</p>\n",
              "</div>\n",
              "      <button class=\"colab-df-convert\" onclick=\"convertToInteractive('df-db1228a4-6e7a-4324-b5ed-9de7657b8c36')\"\n",
              "              title=\"Convert this dataframe to an interactive table.\"\n",
              "              style=\"display:none;\">\n",
              "        \n",
              "  <svg xmlns=\"http://www.w3.org/2000/svg\" height=\"24px\"viewBox=\"0 0 24 24\"\n",
              "       width=\"24px\">\n",
              "    <path d=\"M0 0h24v24H0V0z\" fill=\"none\"/>\n",
              "    <path d=\"M18.56 5.44l.94 2.06.94-2.06 2.06-.94-2.06-.94-.94-2.06-.94 2.06-2.06.94zm-11 1L8.5 8.5l.94-2.06 2.06-.94-2.06-.94L8.5 2.5l-.94 2.06-2.06.94zm10 10l.94 2.06.94-2.06 2.06-.94-2.06-.94-.94-2.06-.94 2.06-2.06.94z\"/><path d=\"M17.41 7.96l-1.37-1.37c-.4-.4-.92-.59-1.43-.59-.52 0-1.04.2-1.43.59L10.3 9.45l-7.72 7.72c-.78.78-.78 2.05 0 2.83L4 21.41c.39.39.9.59 1.41.59.51 0 1.02-.2 1.41-.59l7.78-7.78 2.81-2.81c.8-.78.8-2.07 0-2.86zM5.41 20L4 18.59l7.72-7.72 1.47 1.35L5.41 20z\"/>\n",
              "  </svg>\n",
              "      </button>\n",
              "      \n",
              "  <style>\n",
              "    .colab-df-container {\n",
              "      display:flex;\n",
              "      flex-wrap:wrap;\n",
              "      gap: 12px;\n",
              "    }\n",
              "\n",
              "    .colab-df-convert {\n",
              "      background-color: #E8F0FE;\n",
              "      border: none;\n",
              "      border-radius: 50%;\n",
              "      cursor: pointer;\n",
              "      display: none;\n",
              "      fill: #1967D2;\n",
              "      height: 32px;\n",
              "      padding: 0 0 0 0;\n",
              "      width: 32px;\n",
              "    }\n",
              "\n",
              "    .colab-df-convert:hover {\n",
              "      background-color: #E2EBFA;\n",
              "      box-shadow: 0px 1px 2px rgba(60, 64, 67, 0.3), 0px 1px 3px 1px rgba(60, 64, 67, 0.15);\n",
              "      fill: #174EA6;\n",
              "    }\n",
              "\n",
              "    [theme=dark] .colab-df-convert {\n",
              "      background-color: #3B4455;\n",
              "      fill: #D2E3FC;\n",
              "    }\n",
              "\n",
              "    [theme=dark] .colab-df-convert:hover {\n",
              "      background-color: #434B5C;\n",
              "      box-shadow: 0px 1px 3px 1px rgba(0, 0, 0, 0.15);\n",
              "      filter: drop-shadow(0px 1px 2px rgba(0, 0, 0, 0.3));\n",
              "      fill: #FFFFFF;\n",
              "    }\n",
              "  </style>\n",
              "\n",
              "      <script>\n",
              "        const buttonEl =\n",
              "          document.querySelector('#df-db1228a4-6e7a-4324-b5ed-9de7657b8c36 button.colab-df-convert');\n",
              "        buttonEl.style.display =\n",
              "          google.colab.kernel.accessAllowed ? 'block' : 'none';\n",
              "\n",
              "        async function convertToInteractive(key) {\n",
              "          const element = document.querySelector('#df-db1228a4-6e7a-4324-b5ed-9de7657b8c36');\n",
              "          const dataTable =\n",
              "            await google.colab.kernel.invokeFunction('convertToInteractive',\n",
              "                                                     [key], {});\n",
              "          if (!dataTable) return;\n",
              "\n",
              "          const docLinkHtml = 'Like what you see? Visit the ' +\n",
              "            '<a target=\"_blank\" href=https://colab.research.google.com/notebooks/data_table.ipynb>data table notebook</a>'\n",
              "            + ' to learn more about interactive tables.';\n",
              "          element.innerHTML = '';\n",
              "          dataTable['output_type'] = 'display_data';\n",
              "          await google.colab.output.renderOutput(dataTable, element);\n",
              "          const docLink = document.createElement('div');\n",
              "          docLink.innerHTML = docLinkHtml;\n",
              "          element.appendChild(docLink);\n",
              "        }\n",
              "      </script>\n",
              "    </div>\n",
              "  </div>\n",
              "  "
            ]
          },
          "metadata": {}
        }
      ]
    },
    {
      "cell_type": "code",
      "source": [
        "########### Encoding the target column \n",
        "\n",
        "target_column['income_above_limit'] = target_column['income_above_limit'].map({'Above limit':1,'Below limit':0})\n",
        "target_column['income_above_limit'].value_counts()"
      ],
      "metadata": {
        "colab": {
          "base_uri": "https://localhost:8080/"
        },
        "id": "j3eHwsyh73-0",
        "outputId": "4144b00e-f95d-48ec-f50e-f52cd1282a3e"
      },
      "execution_count": 4,
      "outputs": [
        {
          "output_type": "stream",
          "name": "stderr",
          "text": [
            "/usr/local/lib/python3.7/dist-packages/ipykernel_launcher.py:3: SettingWithCopyWarning: \n",
            "A value is trying to be set on a copy of a slice from a DataFrame.\n",
            "Try using .loc[row_indexer,col_indexer] = value instead\n",
            "\n",
            "See the caveats in the documentation: https://pandas.pydata.org/pandas-docs/stable/user_guide/indexing.html#returning-a-view-versus-a-copy\n",
            "  This is separate from the ipykernel package so we can avoid doing imports until\n"
          ]
        },
        {
          "output_type": "execute_result",
          "data": {
            "text/plain": [
              "0    196501\n",
              "1     12998\n",
              "Name: income_above_limit, dtype: int64"
            ]
          },
          "metadata": {},
          "execution_count": 4
        }
      ]
    },
    {
      "cell_type": "markdown",
      "source": [
        "<b>Class imbalance </b> <br>\n",
        "\n",
        "\n",
        "We will be seeing the class imbalance using value_counts() method of pandas dataframe and use histogram to plot the imbalances\n",
        "<hr>"
      ],
      "metadata": {
        "id": "ssWWATyLYQEr"
      }
    },
    {
      "cell_type": "code",
      "source": [
        "print('The class Imbalance in the data is given below')\n",
        "display(train_data['income_above_limit'].value_counts())\n",
        "print('---------------------------------------------------------------\\n')\n",
        "print('The class imbalance in terms of percentage is given below ')\n",
        "display(train_data['income_above_limit'].value_counts(normalize=True))\n",
        "print('----------------------------------------------------------------\\n')\n",
        "pct_df = pd.DataFrame(train_data['income_above_limit'].value_counts(normalize=True)).reset_index().rename({'index':'Target_values','income_above_limit':'Percentage'},axis=1)\n",
        "fig = px.bar(pct_df,x='Target_values',y='Percentage', height=400,width = 400,title='class imbalance')\n",
        "fig.show()"
      ],
      "metadata": {
        "colab": {
          "base_uri": "https://localhost:8080/",
          "height": 625
        },
        "id": "ORYzhnJUXd2p",
        "outputId": "4539bb67-ad4b-4cb6-abb6-58af2c53df60"
      },
      "execution_count": 5,
      "outputs": [
        {
          "output_type": "stream",
          "name": "stdout",
          "text": [
            "The class Imbalance in the data is given below\n"
          ]
        },
        {
          "output_type": "display_data",
          "data": {
            "text/plain": [
              "Below limit    196501\n",
              "Above limit     12998\n",
              "Name: income_above_limit, dtype: int64"
            ]
          },
          "metadata": {}
        },
        {
          "output_type": "stream",
          "name": "stdout",
          "text": [
            "---------------------------------------------------------------\n",
            "\n",
            "The class imbalance in terms of percentage is given below \n"
          ]
        },
        {
          "output_type": "display_data",
          "data": {
            "text/plain": [
              "Below limit    0.937957\n",
              "Above limit    0.062043\n",
              "Name: income_above_limit, dtype: float64"
            ]
          },
          "metadata": {}
        },
        {
          "output_type": "stream",
          "name": "stdout",
          "text": [
            "----------------------------------------------------------------\n",
            "\n"
          ]
        },
        {
          "output_type": "display_data",
          "data": {
            "text/html": [
              "<html>\n",
              "<head><meta charset=\"utf-8\" /></head>\n",
              "<body>\n",
              "    <div>            <script src=\"https://cdnjs.cloudflare.com/ajax/libs/mathjax/2.7.5/MathJax.js?config=TeX-AMS-MML_SVG\"></script><script type=\"text/javascript\">if (window.MathJax) {MathJax.Hub.Config({SVG: {font: \"STIX-Web\"}});}</script>                <script type=\"text/javascript\">window.PlotlyConfig = {MathJaxConfig: 'local'};</script>\n",
              "        <script src=\"https://cdn.plot.ly/plotly-2.8.3.min.js\"></script>                <div id=\"9eec5334-ba91-4276-bd5a-a30823311dc0\" class=\"plotly-graph-div\" style=\"height:400px; width:400px;\"></div>            <script type=\"text/javascript\">                                    window.PLOTLYENV=window.PLOTLYENV || {};                                    if (document.getElementById(\"9eec5334-ba91-4276-bd5a-a30823311dc0\")) {                    Plotly.newPlot(                        \"9eec5334-ba91-4276-bd5a-a30823311dc0\",                        [{\"alignmentgroup\":\"True\",\"hovertemplate\":\"Target_values=%{x}<br>Percentage=%{y}<extra></extra>\",\"legendgroup\":\"\",\"marker\":{\"color\":\"#636efa\",\"pattern\":{\"shape\":\"\"}},\"name\":\"\",\"offsetgroup\":\"\",\"orientation\":\"v\",\"showlegend\":false,\"textposition\":\"auto\",\"x\":[\"Below limit\",\"Above limit\"],\"xaxis\":\"x\",\"y\":[0.9379567444236011,0.062043255576398934],\"yaxis\":\"y\",\"type\":\"bar\"}],                        {\"template\":{\"data\":{\"bar\":[{\"error_x\":{\"color\":\"#2a3f5f\"},\"error_y\":{\"color\":\"#2a3f5f\"},\"marker\":{\"line\":{\"color\":\"#E5ECF6\",\"width\":0.5},\"pattern\":{\"fillmode\":\"overlay\",\"size\":10,\"solidity\":0.2}},\"type\":\"bar\"}],\"barpolar\":[{\"marker\":{\"line\":{\"color\":\"#E5ECF6\",\"width\":0.5},\"pattern\":{\"fillmode\":\"overlay\",\"size\":10,\"solidity\":0.2}},\"type\":\"barpolar\"}],\"carpet\":[{\"aaxis\":{\"endlinecolor\":\"#2a3f5f\",\"gridcolor\":\"white\",\"linecolor\":\"white\",\"minorgridcolor\":\"white\",\"startlinecolor\":\"#2a3f5f\"},\"baxis\":{\"endlinecolor\":\"#2a3f5f\",\"gridcolor\":\"white\",\"linecolor\":\"white\",\"minorgridcolor\":\"white\",\"startlinecolor\":\"#2a3f5f\"},\"type\":\"carpet\"}],\"choropleth\":[{\"colorbar\":{\"outlinewidth\":0,\"ticks\":\"\"},\"type\":\"choropleth\"}],\"contour\":[{\"colorbar\":{\"outlinewidth\":0,\"ticks\":\"\"},\"colorscale\":[[0.0,\"#0d0887\"],[0.1111111111111111,\"#46039f\"],[0.2222222222222222,\"#7201a8\"],[0.3333333333333333,\"#9c179e\"],[0.4444444444444444,\"#bd3786\"],[0.5555555555555556,\"#d8576b\"],[0.6666666666666666,\"#ed7953\"],[0.7777777777777778,\"#fb9f3a\"],[0.8888888888888888,\"#fdca26\"],[1.0,\"#f0f921\"]],\"type\":\"contour\"}],\"contourcarpet\":[{\"colorbar\":{\"outlinewidth\":0,\"ticks\":\"\"},\"type\":\"contourcarpet\"}],\"heatmap\":[{\"colorbar\":{\"outlinewidth\":0,\"ticks\":\"\"},\"colorscale\":[[0.0,\"#0d0887\"],[0.1111111111111111,\"#46039f\"],[0.2222222222222222,\"#7201a8\"],[0.3333333333333333,\"#9c179e\"],[0.4444444444444444,\"#bd3786\"],[0.5555555555555556,\"#d8576b\"],[0.6666666666666666,\"#ed7953\"],[0.7777777777777778,\"#fb9f3a\"],[0.8888888888888888,\"#fdca26\"],[1.0,\"#f0f921\"]],\"type\":\"heatmap\"}],\"heatmapgl\":[{\"colorbar\":{\"outlinewidth\":0,\"ticks\":\"\"},\"colorscale\":[[0.0,\"#0d0887\"],[0.1111111111111111,\"#46039f\"],[0.2222222222222222,\"#7201a8\"],[0.3333333333333333,\"#9c179e\"],[0.4444444444444444,\"#bd3786\"],[0.5555555555555556,\"#d8576b\"],[0.6666666666666666,\"#ed7953\"],[0.7777777777777778,\"#fb9f3a\"],[0.8888888888888888,\"#fdca26\"],[1.0,\"#f0f921\"]],\"type\":\"heatmapgl\"}],\"histogram\":[{\"marker\":{\"pattern\":{\"fillmode\":\"overlay\",\"size\":10,\"solidity\":0.2}},\"type\":\"histogram\"}],\"histogram2d\":[{\"colorbar\":{\"outlinewidth\":0,\"ticks\":\"\"},\"colorscale\":[[0.0,\"#0d0887\"],[0.1111111111111111,\"#46039f\"],[0.2222222222222222,\"#7201a8\"],[0.3333333333333333,\"#9c179e\"],[0.4444444444444444,\"#bd3786\"],[0.5555555555555556,\"#d8576b\"],[0.6666666666666666,\"#ed7953\"],[0.7777777777777778,\"#fb9f3a\"],[0.8888888888888888,\"#fdca26\"],[1.0,\"#f0f921\"]],\"type\":\"histogram2d\"}],\"histogram2dcontour\":[{\"colorbar\":{\"outlinewidth\":0,\"ticks\":\"\"},\"colorscale\":[[0.0,\"#0d0887\"],[0.1111111111111111,\"#46039f\"],[0.2222222222222222,\"#7201a8\"],[0.3333333333333333,\"#9c179e\"],[0.4444444444444444,\"#bd3786\"],[0.5555555555555556,\"#d8576b\"],[0.6666666666666666,\"#ed7953\"],[0.7777777777777778,\"#fb9f3a\"],[0.8888888888888888,\"#fdca26\"],[1.0,\"#f0f921\"]],\"type\":\"histogram2dcontour\"}],\"mesh3d\":[{\"colorbar\":{\"outlinewidth\":0,\"ticks\":\"\"},\"type\":\"mesh3d\"}],\"parcoords\":[{\"line\":{\"colorbar\":{\"outlinewidth\":0,\"ticks\":\"\"}},\"type\":\"parcoords\"}],\"pie\":[{\"automargin\":true,\"type\":\"pie\"}],\"scatter\":[{\"marker\":{\"colorbar\":{\"outlinewidth\":0,\"ticks\":\"\"}},\"type\":\"scatter\"}],\"scatter3d\":[{\"line\":{\"colorbar\":{\"outlinewidth\":0,\"ticks\":\"\"}},\"marker\":{\"colorbar\":{\"outlinewidth\":0,\"ticks\":\"\"}},\"type\":\"scatter3d\"}],\"scattercarpet\":[{\"marker\":{\"colorbar\":{\"outlinewidth\":0,\"ticks\":\"\"}},\"type\":\"scattercarpet\"}],\"scattergeo\":[{\"marker\":{\"colorbar\":{\"outlinewidth\":0,\"ticks\":\"\"}},\"type\":\"scattergeo\"}],\"scattergl\":[{\"marker\":{\"colorbar\":{\"outlinewidth\":0,\"ticks\":\"\"}},\"type\":\"scattergl\"}],\"scattermapbox\":[{\"marker\":{\"colorbar\":{\"outlinewidth\":0,\"ticks\":\"\"}},\"type\":\"scattermapbox\"}],\"scatterpolar\":[{\"marker\":{\"colorbar\":{\"outlinewidth\":0,\"ticks\":\"\"}},\"type\":\"scatterpolar\"}],\"scatterpolargl\":[{\"marker\":{\"colorbar\":{\"outlinewidth\":0,\"ticks\":\"\"}},\"type\":\"scatterpolargl\"}],\"scatterternary\":[{\"marker\":{\"colorbar\":{\"outlinewidth\":0,\"ticks\":\"\"}},\"type\":\"scatterternary\"}],\"surface\":[{\"colorbar\":{\"outlinewidth\":0,\"ticks\":\"\"},\"colorscale\":[[0.0,\"#0d0887\"],[0.1111111111111111,\"#46039f\"],[0.2222222222222222,\"#7201a8\"],[0.3333333333333333,\"#9c179e\"],[0.4444444444444444,\"#bd3786\"],[0.5555555555555556,\"#d8576b\"],[0.6666666666666666,\"#ed7953\"],[0.7777777777777778,\"#fb9f3a\"],[0.8888888888888888,\"#fdca26\"],[1.0,\"#f0f921\"]],\"type\":\"surface\"}],\"table\":[{\"cells\":{\"fill\":{\"color\":\"#EBF0F8\"},\"line\":{\"color\":\"white\"}},\"header\":{\"fill\":{\"color\":\"#C8D4E3\"},\"line\":{\"color\":\"white\"}},\"type\":\"table\"}]},\"layout\":{\"annotationdefaults\":{\"arrowcolor\":\"#2a3f5f\",\"arrowhead\":0,\"arrowwidth\":1},\"autotypenumbers\":\"strict\",\"coloraxis\":{\"colorbar\":{\"outlinewidth\":0,\"ticks\":\"\"}},\"colorscale\":{\"diverging\":[[0,\"#8e0152\"],[0.1,\"#c51b7d\"],[0.2,\"#de77ae\"],[0.3,\"#f1b6da\"],[0.4,\"#fde0ef\"],[0.5,\"#f7f7f7\"],[0.6,\"#e6f5d0\"],[0.7,\"#b8e186\"],[0.8,\"#7fbc41\"],[0.9,\"#4d9221\"],[1,\"#276419\"]],\"sequential\":[[0.0,\"#0d0887\"],[0.1111111111111111,\"#46039f\"],[0.2222222222222222,\"#7201a8\"],[0.3333333333333333,\"#9c179e\"],[0.4444444444444444,\"#bd3786\"],[0.5555555555555556,\"#d8576b\"],[0.6666666666666666,\"#ed7953\"],[0.7777777777777778,\"#fb9f3a\"],[0.8888888888888888,\"#fdca26\"],[1.0,\"#f0f921\"]],\"sequentialminus\":[[0.0,\"#0d0887\"],[0.1111111111111111,\"#46039f\"],[0.2222222222222222,\"#7201a8\"],[0.3333333333333333,\"#9c179e\"],[0.4444444444444444,\"#bd3786\"],[0.5555555555555556,\"#d8576b\"],[0.6666666666666666,\"#ed7953\"],[0.7777777777777778,\"#fb9f3a\"],[0.8888888888888888,\"#fdca26\"],[1.0,\"#f0f921\"]]},\"colorway\":[\"#636efa\",\"#EF553B\",\"#00cc96\",\"#ab63fa\",\"#FFA15A\",\"#19d3f3\",\"#FF6692\",\"#B6E880\",\"#FF97FF\",\"#FECB52\"],\"font\":{\"color\":\"#2a3f5f\"},\"geo\":{\"bgcolor\":\"white\",\"lakecolor\":\"white\",\"landcolor\":\"#E5ECF6\",\"showlakes\":true,\"showland\":true,\"subunitcolor\":\"white\"},\"hoverlabel\":{\"align\":\"left\"},\"hovermode\":\"closest\",\"mapbox\":{\"style\":\"light\"},\"paper_bgcolor\":\"white\",\"plot_bgcolor\":\"#E5ECF6\",\"polar\":{\"angularaxis\":{\"gridcolor\":\"white\",\"linecolor\":\"white\",\"ticks\":\"\"},\"bgcolor\":\"#E5ECF6\",\"radialaxis\":{\"gridcolor\":\"white\",\"linecolor\":\"white\",\"ticks\":\"\"}},\"scene\":{\"xaxis\":{\"backgroundcolor\":\"#E5ECF6\",\"gridcolor\":\"white\",\"gridwidth\":2,\"linecolor\":\"white\",\"showbackground\":true,\"ticks\":\"\",\"zerolinecolor\":\"white\"},\"yaxis\":{\"backgroundcolor\":\"#E5ECF6\",\"gridcolor\":\"white\",\"gridwidth\":2,\"linecolor\":\"white\",\"showbackground\":true,\"ticks\":\"\",\"zerolinecolor\":\"white\"},\"zaxis\":{\"backgroundcolor\":\"#E5ECF6\",\"gridcolor\":\"white\",\"gridwidth\":2,\"linecolor\":\"white\",\"showbackground\":true,\"ticks\":\"\",\"zerolinecolor\":\"white\"}},\"shapedefaults\":{\"line\":{\"color\":\"#2a3f5f\"}},\"ternary\":{\"aaxis\":{\"gridcolor\":\"white\",\"linecolor\":\"white\",\"ticks\":\"\"},\"baxis\":{\"gridcolor\":\"white\",\"linecolor\":\"white\",\"ticks\":\"\"},\"bgcolor\":\"#E5ECF6\",\"caxis\":{\"gridcolor\":\"white\",\"linecolor\":\"white\",\"ticks\":\"\"}},\"title\":{\"x\":0.05},\"xaxis\":{\"automargin\":true,\"gridcolor\":\"white\",\"linecolor\":\"white\",\"ticks\":\"\",\"title\":{\"standoff\":15},\"zerolinecolor\":\"white\",\"zerolinewidth\":2},\"yaxis\":{\"automargin\":true,\"gridcolor\":\"white\",\"linecolor\":\"white\",\"ticks\":\"\",\"title\":{\"standoff\":15},\"zerolinecolor\":\"white\",\"zerolinewidth\":2}}},\"xaxis\":{\"anchor\":\"y\",\"domain\":[0.0,1.0],\"title\":{\"text\":\"Target_values\"}},\"yaxis\":{\"anchor\":\"x\",\"domain\":[0.0,1.0],\"title\":{\"text\":\"Percentage\"}},\"legend\":{\"tracegroupgap\":0},\"title\":{\"text\":\"class imbalance\"},\"barmode\":\"relative\",\"height\":400,\"width\":400},                        {\"responsive\": true}                    ).then(function(){\n",
              "                            \n",
              "var gd = document.getElementById('9eec5334-ba91-4276-bd5a-a30823311dc0');\n",
              "var x = new MutationObserver(function (mutations, observer) {{\n",
              "        var display = window.getComputedStyle(gd).display;\n",
              "        if (!display || display === 'none') {{\n",
              "            console.log([gd, 'removed!']);\n",
              "            Plotly.purge(gd);\n",
              "            observer.disconnect();\n",
              "        }}\n",
              "}});\n",
              "\n",
              "// Listen for the removal of the full notebook cells\n",
              "var notebookContainer = gd.closest('#notebook-container');\n",
              "if (notebookContainer) {{\n",
              "    x.observe(notebookContainer, {childList: true});\n",
              "}}\n",
              "\n",
              "// Listen for the clearing of the current output cell\n",
              "var outputEl = gd.closest('.output');\n",
              "if (outputEl) {{\n",
              "    x.observe(outputEl, {childList: true});\n",
              "}}\n",
              "\n",
              "                        })                };                            </script>        </div>\n",
              "</body>\n",
              "</html>"
            ]
          },
          "metadata": {}
        }
      ]
    },
    {
      "cell_type": "markdown",
      "source": [
        "Clearly we have a highly imbalanced dataset available with us and hence we need to perform steps to mitigate the imbalance accordingly. The following methods could be used:- \n",
        "1. Downsample the majority class (Here majority class is 'Below limit') \n",
        "2. Upsample the minority class (Here, minority class is 'Above limit') \n",
        "3. Use class weights while performing model development <br>\n",
        "Reference : https://scikit-learn.org/stable/modules/generated/sklearn.utils.class_weight.compute_class_weight.html\n",
        "\n"
      ],
      "metadata": {
        "id": "NdXCqdVpZO5h"
      }
    },
    {
      "cell_type": "markdown",
      "source": [
        "<b> NaN value analysis </b> \n"
      ],
      "metadata": {
        "id": "ExK0qe-_bjWg"
      }
    },
    {
      "cell_type": "code",
      "source": [
        "def nan_value_plot(df):\n",
        "    nan_dict  = {}\n",
        "    for cols in df.columns:\n",
        "        nan_dict[cols] = df[cols].isna().sum()/df.shape[0]\n",
        "    nan_pct_df = pd.DataFrame.from_dict(nan_dict,orient='index').reset_index().rename({'index':'Columns',0:'NaN_pct'},axis=1)\n",
        "    fig = px.bar(nan_pct_df,x='Columns',y='NaN_pct', height=400,width = 400,title='NaN value percentage in each column')\n",
        "    fig.update_layout(\n",
        "                        xaxis = dict(\n",
        "                        tickfont = dict(size=5)))\n",
        "    fig.show()    "
      ],
      "metadata": {
        "id": "K1HVJeYKXd5R"
      },
      "execution_count": 6,
      "outputs": []
    },
    {
      "cell_type": "code",
      "source": [
        "print(colored('We see the distribution of NaN values in train data as below','green',attrs=['bold']))\n",
        "nan_value_plot(train_df)\n",
        "\n",
        "print('-------------------------------------------------------------------------------------------------')\n",
        "print('\\n')\n",
        "print(colored('We see the distribution of NaN values in test data as below','blue',attrs=['bold']))\n",
        "nan_value_plot(test_df)"
      ],
      "metadata": {
        "colab": {
          "base_uri": "https://localhost:8080/",
          "height": 904
        },
        "id": "xqpPz5N_Xd8C",
        "outputId": "a68b45a5-0294-451a-97ed-a1e841d7628c"
      },
      "execution_count": 7,
      "outputs": [
        {
          "output_type": "stream",
          "name": "stdout",
          "text": [
            "\u001b[1m\u001b[32mWe see the distribution of NaN values in train data as below\u001b[0m\n"
          ]
        },
        {
          "output_type": "display_data",
          "data": {
            "text/html": [
              "<html>\n",
              "<head><meta charset=\"utf-8\" /></head>\n",
              "<body>\n",
              "    <div>            <script src=\"https://cdnjs.cloudflare.com/ajax/libs/mathjax/2.7.5/MathJax.js?config=TeX-AMS-MML_SVG\"></script><script type=\"text/javascript\">if (window.MathJax) {MathJax.Hub.Config({SVG: {font: \"STIX-Web\"}});}</script>                <script type=\"text/javascript\">window.PlotlyConfig = {MathJaxConfig: 'local'};</script>\n",
              "        <script src=\"https://cdn.plot.ly/plotly-2.8.3.min.js\"></script>                <div id=\"e1ca2057-b213-4ee5-9eaf-8d6f932e3b87\" class=\"plotly-graph-div\" style=\"height:400px; width:400px;\"></div>            <script type=\"text/javascript\">                                    window.PLOTLYENV=window.PLOTLYENV || {};                                    if (document.getElementById(\"e1ca2057-b213-4ee5-9eaf-8d6f932e3b87\")) {                    Plotly.newPlot(                        \"e1ca2057-b213-4ee5-9eaf-8d6f932e3b87\",                        [{\"alignmentgroup\":\"True\",\"hovertemplate\":\"Columns=%{x}<br>NaN_pct=%{y}<extra></extra>\",\"legendgroup\":\"\",\"marker\":{\"color\":\"#636efa\",\"pattern\":{\"shape\":\"\"}},\"name\":\"\",\"offsetgroup\":\"\",\"orientation\":\"v\",\"showlegend\":false,\"textposition\":\"auto\",\"x\":[\"age\",\"gender\",\"education\",\"class\",\"education_institute\",\"marital_status\",\"race\",\"is_hispanic\",\"employment_commitment\",\"unemployment_reason\",\"employment_stat\",\"wage_per_hour\",\"is_labor_union\",\"working_week_per_year\",\"industry_code\",\"industry_code_main\",\"occupation_code\",\"occupation_code_main\",\"total_employed\",\"household_stat\",\"household_summary\",\"under_18_family\",\"veterans_admin_questionnaire\",\"vet_benefit\",\"tax_status\",\"gains\",\"losses\",\"stocks_status\",\"citizenship\",\"mig_year\",\"country_of_birth_own\",\"country_of_birth_father\",\"country_of_birth_mother\",\"migration_code_change_in_msa\",\"migration_prev_sunbelt\",\"migration_code_move_within_reg\",\"migration_code_change_in_reg\",\"residence_1_year_ago\",\"old_residence_reg\",\"old_residence_state\",\"importance_of_record\"],\"xaxis\":\"x\",\"y\":[0.0,0.0,0.0,0.5023651664208421,0.9365056635115203,0.0,0.0,0.0,0.0,0.9688781330698476,0.0,0.0,0.9041570604155629,0.0,0.0,0.0,0.0,0.5045083747416456,0.0,0.0,0.0,0.7238888968443763,0.9900524584842887,0.0,0.0,0.0,0.0,0.0,0.0,0.0,0.0,0.0,0.0,0.007579988448632213,0.4222072659058038,0.007579988448632213,0.007579988448632213,0.5073246173012759,0.9219518947584475,0.9219518947584475,0.0],\"yaxis\":\"y\",\"type\":\"bar\"}],                        {\"template\":{\"data\":{\"bar\":[{\"error_x\":{\"color\":\"#2a3f5f\"},\"error_y\":{\"color\":\"#2a3f5f\"},\"marker\":{\"line\":{\"color\":\"#E5ECF6\",\"width\":0.5},\"pattern\":{\"fillmode\":\"overlay\",\"size\":10,\"solidity\":0.2}},\"type\":\"bar\"}],\"barpolar\":[{\"marker\":{\"line\":{\"color\":\"#E5ECF6\",\"width\":0.5},\"pattern\":{\"fillmode\":\"overlay\",\"size\":10,\"solidity\":0.2}},\"type\":\"barpolar\"}],\"carpet\":[{\"aaxis\":{\"endlinecolor\":\"#2a3f5f\",\"gridcolor\":\"white\",\"linecolor\":\"white\",\"minorgridcolor\":\"white\",\"startlinecolor\":\"#2a3f5f\"},\"baxis\":{\"endlinecolor\":\"#2a3f5f\",\"gridcolor\":\"white\",\"linecolor\":\"white\",\"minorgridcolor\":\"white\",\"startlinecolor\":\"#2a3f5f\"},\"type\":\"carpet\"}],\"choropleth\":[{\"colorbar\":{\"outlinewidth\":0,\"ticks\":\"\"},\"type\":\"choropleth\"}],\"contour\":[{\"colorbar\":{\"outlinewidth\":0,\"ticks\":\"\"},\"colorscale\":[[0.0,\"#0d0887\"],[0.1111111111111111,\"#46039f\"],[0.2222222222222222,\"#7201a8\"],[0.3333333333333333,\"#9c179e\"],[0.4444444444444444,\"#bd3786\"],[0.5555555555555556,\"#d8576b\"],[0.6666666666666666,\"#ed7953\"],[0.7777777777777778,\"#fb9f3a\"],[0.8888888888888888,\"#fdca26\"],[1.0,\"#f0f921\"]],\"type\":\"contour\"}],\"contourcarpet\":[{\"colorbar\":{\"outlinewidth\":0,\"ticks\":\"\"},\"type\":\"contourcarpet\"}],\"heatmap\":[{\"colorbar\":{\"outlinewidth\":0,\"ticks\":\"\"},\"colorscale\":[[0.0,\"#0d0887\"],[0.1111111111111111,\"#46039f\"],[0.2222222222222222,\"#7201a8\"],[0.3333333333333333,\"#9c179e\"],[0.4444444444444444,\"#bd3786\"],[0.5555555555555556,\"#d8576b\"],[0.6666666666666666,\"#ed7953\"],[0.7777777777777778,\"#fb9f3a\"],[0.8888888888888888,\"#fdca26\"],[1.0,\"#f0f921\"]],\"type\":\"heatmap\"}],\"heatmapgl\":[{\"colorbar\":{\"outlinewidth\":0,\"ticks\":\"\"},\"colorscale\":[[0.0,\"#0d0887\"],[0.1111111111111111,\"#46039f\"],[0.2222222222222222,\"#7201a8\"],[0.3333333333333333,\"#9c179e\"],[0.4444444444444444,\"#bd3786\"],[0.5555555555555556,\"#d8576b\"],[0.6666666666666666,\"#ed7953\"],[0.7777777777777778,\"#fb9f3a\"],[0.8888888888888888,\"#fdca26\"],[1.0,\"#f0f921\"]],\"type\":\"heatmapgl\"}],\"histogram\":[{\"marker\":{\"pattern\":{\"fillmode\":\"overlay\",\"size\":10,\"solidity\":0.2}},\"type\":\"histogram\"}],\"histogram2d\":[{\"colorbar\":{\"outlinewidth\":0,\"ticks\":\"\"},\"colorscale\":[[0.0,\"#0d0887\"],[0.1111111111111111,\"#46039f\"],[0.2222222222222222,\"#7201a8\"],[0.3333333333333333,\"#9c179e\"],[0.4444444444444444,\"#bd3786\"],[0.5555555555555556,\"#d8576b\"],[0.6666666666666666,\"#ed7953\"],[0.7777777777777778,\"#fb9f3a\"],[0.8888888888888888,\"#fdca26\"],[1.0,\"#f0f921\"]],\"type\":\"histogram2d\"}],\"histogram2dcontour\":[{\"colorbar\":{\"outlinewidth\":0,\"ticks\":\"\"},\"colorscale\":[[0.0,\"#0d0887\"],[0.1111111111111111,\"#46039f\"],[0.2222222222222222,\"#7201a8\"],[0.3333333333333333,\"#9c179e\"],[0.4444444444444444,\"#bd3786\"],[0.5555555555555556,\"#d8576b\"],[0.6666666666666666,\"#ed7953\"],[0.7777777777777778,\"#fb9f3a\"],[0.8888888888888888,\"#fdca26\"],[1.0,\"#f0f921\"]],\"type\":\"histogram2dcontour\"}],\"mesh3d\":[{\"colorbar\":{\"outlinewidth\":0,\"ticks\":\"\"},\"type\":\"mesh3d\"}],\"parcoords\":[{\"line\":{\"colorbar\":{\"outlinewidth\":0,\"ticks\":\"\"}},\"type\":\"parcoords\"}],\"pie\":[{\"automargin\":true,\"type\":\"pie\"}],\"scatter\":[{\"marker\":{\"colorbar\":{\"outlinewidth\":0,\"ticks\":\"\"}},\"type\":\"scatter\"}],\"scatter3d\":[{\"line\":{\"colorbar\":{\"outlinewidth\":0,\"ticks\":\"\"}},\"marker\":{\"colorbar\":{\"outlinewidth\":0,\"ticks\":\"\"}},\"type\":\"scatter3d\"}],\"scattercarpet\":[{\"marker\":{\"colorbar\":{\"outlinewidth\":0,\"ticks\":\"\"}},\"type\":\"scattercarpet\"}],\"scattergeo\":[{\"marker\":{\"colorbar\":{\"outlinewidth\":0,\"ticks\":\"\"}},\"type\":\"scattergeo\"}],\"scattergl\":[{\"marker\":{\"colorbar\":{\"outlinewidth\":0,\"ticks\":\"\"}},\"type\":\"scattergl\"}],\"scattermapbox\":[{\"marker\":{\"colorbar\":{\"outlinewidth\":0,\"ticks\":\"\"}},\"type\":\"scattermapbox\"}],\"scatterpolar\":[{\"marker\":{\"colorbar\":{\"outlinewidth\":0,\"ticks\":\"\"}},\"type\":\"scatterpolar\"}],\"scatterpolargl\":[{\"marker\":{\"colorbar\":{\"outlinewidth\":0,\"ticks\":\"\"}},\"type\":\"scatterpolargl\"}],\"scatterternary\":[{\"marker\":{\"colorbar\":{\"outlinewidth\":0,\"ticks\":\"\"}},\"type\":\"scatterternary\"}],\"surface\":[{\"colorbar\":{\"outlinewidth\":0,\"ticks\":\"\"},\"colorscale\":[[0.0,\"#0d0887\"],[0.1111111111111111,\"#46039f\"],[0.2222222222222222,\"#7201a8\"],[0.3333333333333333,\"#9c179e\"],[0.4444444444444444,\"#bd3786\"],[0.5555555555555556,\"#d8576b\"],[0.6666666666666666,\"#ed7953\"],[0.7777777777777778,\"#fb9f3a\"],[0.8888888888888888,\"#fdca26\"],[1.0,\"#f0f921\"]],\"type\":\"surface\"}],\"table\":[{\"cells\":{\"fill\":{\"color\":\"#EBF0F8\"},\"line\":{\"color\":\"white\"}},\"header\":{\"fill\":{\"color\":\"#C8D4E3\"},\"line\":{\"color\":\"white\"}},\"type\":\"table\"}]},\"layout\":{\"annotationdefaults\":{\"arrowcolor\":\"#2a3f5f\",\"arrowhead\":0,\"arrowwidth\":1},\"autotypenumbers\":\"strict\",\"coloraxis\":{\"colorbar\":{\"outlinewidth\":0,\"ticks\":\"\"}},\"colorscale\":{\"diverging\":[[0,\"#8e0152\"],[0.1,\"#c51b7d\"],[0.2,\"#de77ae\"],[0.3,\"#f1b6da\"],[0.4,\"#fde0ef\"],[0.5,\"#f7f7f7\"],[0.6,\"#e6f5d0\"],[0.7,\"#b8e186\"],[0.8,\"#7fbc41\"],[0.9,\"#4d9221\"],[1,\"#276419\"]],\"sequential\":[[0.0,\"#0d0887\"],[0.1111111111111111,\"#46039f\"],[0.2222222222222222,\"#7201a8\"],[0.3333333333333333,\"#9c179e\"],[0.4444444444444444,\"#bd3786\"],[0.5555555555555556,\"#d8576b\"],[0.6666666666666666,\"#ed7953\"],[0.7777777777777778,\"#fb9f3a\"],[0.8888888888888888,\"#fdca26\"],[1.0,\"#f0f921\"]],\"sequentialminus\":[[0.0,\"#0d0887\"],[0.1111111111111111,\"#46039f\"],[0.2222222222222222,\"#7201a8\"],[0.3333333333333333,\"#9c179e\"],[0.4444444444444444,\"#bd3786\"],[0.5555555555555556,\"#d8576b\"],[0.6666666666666666,\"#ed7953\"],[0.7777777777777778,\"#fb9f3a\"],[0.8888888888888888,\"#fdca26\"],[1.0,\"#f0f921\"]]},\"colorway\":[\"#636efa\",\"#EF553B\",\"#00cc96\",\"#ab63fa\",\"#FFA15A\",\"#19d3f3\",\"#FF6692\",\"#B6E880\",\"#FF97FF\",\"#FECB52\"],\"font\":{\"color\":\"#2a3f5f\"},\"geo\":{\"bgcolor\":\"white\",\"lakecolor\":\"white\",\"landcolor\":\"#E5ECF6\",\"showlakes\":true,\"showland\":true,\"subunitcolor\":\"white\"},\"hoverlabel\":{\"align\":\"left\"},\"hovermode\":\"closest\",\"mapbox\":{\"style\":\"light\"},\"paper_bgcolor\":\"white\",\"plot_bgcolor\":\"#E5ECF6\",\"polar\":{\"angularaxis\":{\"gridcolor\":\"white\",\"linecolor\":\"white\",\"ticks\":\"\"},\"bgcolor\":\"#E5ECF6\",\"radialaxis\":{\"gridcolor\":\"white\",\"linecolor\":\"white\",\"ticks\":\"\"}},\"scene\":{\"xaxis\":{\"backgroundcolor\":\"#E5ECF6\",\"gridcolor\":\"white\",\"gridwidth\":2,\"linecolor\":\"white\",\"showbackground\":true,\"ticks\":\"\",\"zerolinecolor\":\"white\"},\"yaxis\":{\"backgroundcolor\":\"#E5ECF6\",\"gridcolor\":\"white\",\"gridwidth\":2,\"linecolor\":\"white\",\"showbackground\":true,\"ticks\":\"\",\"zerolinecolor\":\"white\"},\"zaxis\":{\"backgroundcolor\":\"#E5ECF6\",\"gridcolor\":\"white\",\"gridwidth\":2,\"linecolor\":\"white\",\"showbackground\":true,\"ticks\":\"\",\"zerolinecolor\":\"white\"}},\"shapedefaults\":{\"line\":{\"color\":\"#2a3f5f\"}},\"ternary\":{\"aaxis\":{\"gridcolor\":\"white\",\"linecolor\":\"white\",\"ticks\":\"\"},\"baxis\":{\"gridcolor\":\"white\",\"linecolor\":\"white\",\"ticks\":\"\"},\"bgcolor\":\"#E5ECF6\",\"caxis\":{\"gridcolor\":\"white\",\"linecolor\":\"white\",\"ticks\":\"\"}},\"title\":{\"x\":0.05},\"xaxis\":{\"automargin\":true,\"gridcolor\":\"white\",\"linecolor\":\"white\",\"ticks\":\"\",\"title\":{\"standoff\":15},\"zerolinecolor\":\"white\",\"zerolinewidth\":2},\"yaxis\":{\"automargin\":true,\"gridcolor\":\"white\",\"linecolor\":\"white\",\"ticks\":\"\",\"title\":{\"standoff\":15},\"zerolinecolor\":\"white\",\"zerolinewidth\":2}}},\"xaxis\":{\"anchor\":\"y\",\"domain\":[0.0,1.0],\"title\":{\"text\":\"Columns\"},\"tickfont\":{\"size\":5}},\"yaxis\":{\"anchor\":\"x\",\"domain\":[0.0,1.0],\"title\":{\"text\":\"NaN_pct\"}},\"legend\":{\"tracegroupgap\":0},\"title\":{\"text\":\"NaN value percentage in each column\"},\"barmode\":\"relative\",\"height\":400,\"width\":400},                        {\"responsive\": true}                    ).then(function(){\n",
              "                            \n",
              "var gd = document.getElementById('e1ca2057-b213-4ee5-9eaf-8d6f932e3b87');\n",
              "var x = new MutationObserver(function (mutations, observer) {{\n",
              "        var display = window.getComputedStyle(gd).display;\n",
              "        if (!display || display === 'none') {{\n",
              "            console.log([gd, 'removed!']);\n",
              "            Plotly.purge(gd);\n",
              "            observer.disconnect();\n",
              "        }}\n",
              "}});\n",
              "\n",
              "// Listen for the removal of the full notebook cells\n",
              "var notebookContainer = gd.closest('#notebook-container');\n",
              "if (notebookContainer) {{\n",
              "    x.observe(notebookContainer, {childList: true});\n",
              "}}\n",
              "\n",
              "// Listen for the clearing of the current output cell\n",
              "var outputEl = gd.closest('.output');\n",
              "if (outputEl) {{\n",
              "    x.observe(outputEl, {childList: true});\n",
              "}}\n",
              "\n",
              "                        })                };                            </script>        </div>\n",
              "</body>\n",
              "</html>"
            ]
          },
          "metadata": {}
        },
        {
          "output_type": "stream",
          "name": "stdout",
          "text": [
            "-------------------------------------------------------------------------------------------------\n",
            "\n",
            "\n",
            "\u001b[1m\u001b[34mWe see the distribution of NaN values in test data as below\u001b[0m\n"
          ]
        },
        {
          "output_type": "display_data",
          "data": {
            "text/html": [
              "<html>\n",
              "<head><meta charset=\"utf-8\" /></head>\n",
              "<body>\n",
              "    <div>            <script src=\"https://cdnjs.cloudflare.com/ajax/libs/mathjax/2.7.5/MathJax.js?config=TeX-AMS-MML_SVG\"></script><script type=\"text/javascript\">if (window.MathJax) {MathJax.Hub.Config({SVG: {font: \"STIX-Web\"}});}</script>                <script type=\"text/javascript\">window.PlotlyConfig = {MathJaxConfig: 'local'};</script>\n",
              "        <script src=\"https://cdn.plot.ly/plotly-2.8.3.min.js\"></script>                <div id=\"db1ab242-9684-490d-9349-b81a8adef3f5\" class=\"plotly-graph-div\" style=\"height:400px; width:400px;\"></div>            <script type=\"text/javascript\">                                    window.PLOTLYENV=window.PLOTLYENV || {};                                    if (document.getElementById(\"db1ab242-9684-490d-9349-b81a8adef3f5\")) {                    Plotly.newPlot(                        \"db1ab242-9684-490d-9349-b81a8adef3f5\",                        [{\"alignmentgroup\":\"True\",\"hovertemplate\":\"Columns=%{x}<br>NaN_pct=%{y}<extra></extra>\",\"legendgroup\":\"\",\"marker\":{\"color\":\"#636efa\",\"pattern\":{\"shape\":\"\"}},\"name\":\"\",\"offsetgroup\":\"\",\"orientation\":\"v\",\"showlegend\":false,\"textposition\":\"auto\",\"x\":[\"age\",\"gender\",\"education\",\"class\",\"education_institute\",\"marital_status\",\"race\",\"is_hispanic\",\"employment_commitment\",\"unemployment_reason\",\"employment_stat\",\"wage_per_hour\",\"is_labor_union\",\"working_week_per_year\",\"industry_code\",\"industry_code_main\",\"occupation_code\",\"occupation_code_main\",\"total_employed\",\"household_stat\",\"household_summary\",\"under_18_family\",\"veterans_admin_questionnaire\",\"vet_benefit\",\"tax_status\",\"gains\",\"losses\",\"stocks_status\",\"citizenship\",\"mig_year\",\"country_of_birth_own\",\"country_of_birth_father\",\"country_of_birth_mother\",\"migration_code_change_in_msa\",\"migration_prev_sunbelt\",\"migration_code_move_within_reg\",\"migration_code_change_in_reg\",\"residence_1_year_ago\",\"old_residence_reg\",\"old_residence_state\",\"importance_of_record\"],\"xaxis\":\"x\",\"y\":[0.0,0.0,0.0,0.5020715924531665,0.9374512730269753,0.0,0.0,0.0,0.0,0.9701512485242688,0.0,0.0,0.9057314057870938,0.0,0.0,0.0,0.0,0.5042322856570066,0.0,0.0,0.0,0.7236317465974651,0.9896754505156706,0.0,0.0,0.0,0.0,0.0,0.0,0.0,0.0,0.0,0.0,0.007250573586082463,0.4201545898024191,0.007250573586082463,0.007250573586082463,0.5078408660592966,0.9207448822756332,0.9207448822756332,0.0],\"yaxis\":\"y\",\"type\":\"bar\"}],                        {\"template\":{\"data\":{\"bar\":[{\"error_x\":{\"color\":\"#2a3f5f\"},\"error_y\":{\"color\":\"#2a3f5f\"},\"marker\":{\"line\":{\"color\":\"#E5ECF6\",\"width\":0.5},\"pattern\":{\"fillmode\":\"overlay\",\"size\":10,\"solidity\":0.2}},\"type\":\"bar\"}],\"barpolar\":[{\"marker\":{\"line\":{\"color\":\"#E5ECF6\",\"width\":0.5},\"pattern\":{\"fillmode\":\"overlay\",\"size\":10,\"solidity\":0.2}},\"type\":\"barpolar\"}],\"carpet\":[{\"aaxis\":{\"endlinecolor\":\"#2a3f5f\",\"gridcolor\":\"white\",\"linecolor\":\"white\",\"minorgridcolor\":\"white\",\"startlinecolor\":\"#2a3f5f\"},\"baxis\":{\"endlinecolor\":\"#2a3f5f\",\"gridcolor\":\"white\",\"linecolor\":\"white\",\"minorgridcolor\":\"white\",\"startlinecolor\":\"#2a3f5f\"},\"type\":\"carpet\"}],\"choropleth\":[{\"colorbar\":{\"outlinewidth\":0,\"ticks\":\"\"},\"type\":\"choropleth\"}],\"contour\":[{\"colorbar\":{\"outlinewidth\":0,\"ticks\":\"\"},\"colorscale\":[[0.0,\"#0d0887\"],[0.1111111111111111,\"#46039f\"],[0.2222222222222222,\"#7201a8\"],[0.3333333333333333,\"#9c179e\"],[0.4444444444444444,\"#bd3786\"],[0.5555555555555556,\"#d8576b\"],[0.6666666666666666,\"#ed7953\"],[0.7777777777777778,\"#fb9f3a\"],[0.8888888888888888,\"#fdca26\"],[1.0,\"#f0f921\"]],\"type\":\"contour\"}],\"contourcarpet\":[{\"colorbar\":{\"outlinewidth\":0,\"ticks\":\"\"},\"type\":\"contourcarpet\"}],\"heatmap\":[{\"colorbar\":{\"outlinewidth\":0,\"ticks\":\"\"},\"colorscale\":[[0.0,\"#0d0887\"],[0.1111111111111111,\"#46039f\"],[0.2222222222222222,\"#7201a8\"],[0.3333333333333333,\"#9c179e\"],[0.4444444444444444,\"#bd3786\"],[0.5555555555555556,\"#d8576b\"],[0.6666666666666666,\"#ed7953\"],[0.7777777777777778,\"#fb9f3a\"],[0.8888888888888888,\"#fdca26\"],[1.0,\"#f0f921\"]],\"type\":\"heatmap\"}],\"heatmapgl\":[{\"colorbar\":{\"outlinewidth\":0,\"ticks\":\"\"},\"colorscale\":[[0.0,\"#0d0887\"],[0.1111111111111111,\"#46039f\"],[0.2222222222222222,\"#7201a8\"],[0.3333333333333333,\"#9c179e\"],[0.4444444444444444,\"#bd3786\"],[0.5555555555555556,\"#d8576b\"],[0.6666666666666666,\"#ed7953\"],[0.7777777777777778,\"#fb9f3a\"],[0.8888888888888888,\"#fdca26\"],[1.0,\"#f0f921\"]],\"type\":\"heatmapgl\"}],\"histogram\":[{\"marker\":{\"pattern\":{\"fillmode\":\"overlay\",\"size\":10,\"solidity\":0.2}},\"type\":\"histogram\"}],\"histogram2d\":[{\"colorbar\":{\"outlinewidth\":0,\"ticks\":\"\"},\"colorscale\":[[0.0,\"#0d0887\"],[0.1111111111111111,\"#46039f\"],[0.2222222222222222,\"#7201a8\"],[0.3333333333333333,\"#9c179e\"],[0.4444444444444444,\"#bd3786\"],[0.5555555555555556,\"#d8576b\"],[0.6666666666666666,\"#ed7953\"],[0.7777777777777778,\"#fb9f3a\"],[0.8888888888888888,\"#fdca26\"],[1.0,\"#f0f921\"]],\"type\":\"histogram2d\"}],\"histogram2dcontour\":[{\"colorbar\":{\"outlinewidth\":0,\"ticks\":\"\"},\"colorscale\":[[0.0,\"#0d0887\"],[0.1111111111111111,\"#46039f\"],[0.2222222222222222,\"#7201a8\"],[0.3333333333333333,\"#9c179e\"],[0.4444444444444444,\"#bd3786\"],[0.5555555555555556,\"#d8576b\"],[0.6666666666666666,\"#ed7953\"],[0.7777777777777778,\"#fb9f3a\"],[0.8888888888888888,\"#fdca26\"],[1.0,\"#f0f921\"]],\"type\":\"histogram2dcontour\"}],\"mesh3d\":[{\"colorbar\":{\"outlinewidth\":0,\"ticks\":\"\"},\"type\":\"mesh3d\"}],\"parcoords\":[{\"line\":{\"colorbar\":{\"outlinewidth\":0,\"ticks\":\"\"}},\"type\":\"parcoords\"}],\"pie\":[{\"automargin\":true,\"type\":\"pie\"}],\"scatter\":[{\"marker\":{\"colorbar\":{\"outlinewidth\":0,\"ticks\":\"\"}},\"type\":\"scatter\"}],\"scatter3d\":[{\"line\":{\"colorbar\":{\"outlinewidth\":0,\"ticks\":\"\"}},\"marker\":{\"colorbar\":{\"outlinewidth\":0,\"ticks\":\"\"}},\"type\":\"scatter3d\"}],\"scattercarpet\":[{\"marker\":{\"colorbar\":{\"outlinewidth\":0,\"ticks\":\"\"}},\"type\":\"scattercarpet\"}],\"scattergeo\":[{\"marker\":{\"colorbar\":{\"outlinewidth\":0,\"ticks\":\"\"}},\"type\":\"scattergeo\"}],\"scattergl\":[{\"marker\":{\"colorbar\":{\"outlinewidth\":0,\"ticks\":\"\"}},\"type\":\"scattergl\"}],\"scattermapbox\":[{\"marker\":{\"colorbar\":{\"outlinewidth\":0,\"ticks\":\"\"}},\"type\":\"scattermapbox\"}],\"scatterpolar\":[{\"marker\":{\"colorbar\":{\"outlinewidth\":0,\"ticks\":\"\"}},\"type\":\"scatterpolar\"}],\"scatterpolargl\":[{\"marker\":{\"colorbar\":{\"outlinewidth\":0,\"ticks\":\"\"}},\"type\":\"scatterpolargl\"}],\"scatterternary\":[{\"marker\":{\"colorbar\":{\"outlinewidth\":0,\"ticks\":\"\"}},\"type\":\"scatterternary\"}],\"surface\":[{\"colorbar\":{\"outlinewidth\":0,\"ticks\":\"\"},\"colorscale\":[[0.0,\"#0d0887\"],[0.1111111111111111,\"#46039f\"],[0.2222222222222222,\"#7201a8\"],[0.3333333333333333,\"#9c179e\"],[0.4444444444444444,\"#bd3786\"],[0.5555555555555556,\"#d8576b\"],[0.6666666666666666,\"#ed7953\"],[0.7777777777777778,\"#fb9f3a\"],[0.8888888888888888,\"#fdca26\"],[1.0,\"#f0f921\"]],\"type\":\"surface\"}],\"table\":[{\"cells\":{\"fill\":{\"color\":\"#EBF0F8\"},\"line\":{\"color\":\"white\"}},\"header\":{\"fill\":{\"color\":\"#C8D4E3\"},\"line\":{\"color\":\"white\"}},\"type\":\"table\"}]},\"layout\":{\"annotationdefaults\":{\"arrowcolor\":\"#2a3f5f\",\"arrowhead\":0,\"arrowwidth\":1},\"autotypenumbers\":\"strict\",\"coloraxis\":{\"colorbar\":{\"outlinewidth\":0,\"ticks\":\"\"}},\"colorscale\":{\"diverging\":[[0,\"#8e0152\"],[0.1,\"#c51b7d\"],[0.2,\"#de77ae\"],[0.3,\"#f1b6da\"],[0.4,\"#fde0ef\"],[0.5,\"#f7f7f7\"],[0.6,\"#e6f5d0\"],[0.7,\"#b8e186\"],[0.8,\"#7fbc41\"],[0.9,\"#4d9221\"],[1,\"#276419\"]],\"sequential\":[[0.0,\"#0d0887\"],[0.1111111111111111,\"#46039f\"],[0.2222222222222222,\"#7201a8\"],[0.3333333333333333,\"#9c179e\"],[0.4444444444444444,\"#bd3786\"],[0.5555555555555556,\"#d8576b\"],[0.6666666666666666,\"#ed7953\"],[0.7777777777777778,\"#fb9f3a\"],[0.8888888888888888,\"#fdca26\"],[1.0,\"#f0f921\"]],\"sequentialminus\":[[0.0,\"#0d0887\"],[0.1111111111111111,\"#46039f\"],[0.2222222222222222,\"#7201a8\"],[0.3333333333333333,\"#9c179e\"],[0.4444444444444444,\"#bd3786\"],[0.5555555555555556,\"#d8576b\"],[0.6666666666666666,\"#ed7953\"],[0.7777777777777778,\"#fb9f3a\"],[0.8888888888888888,\"#fdca26\"],[1.0,\"#f0f921\"]]},\"colorway\":[\"#636efa\",\"#EF553B\",\"#00cc96\",\"#ab63fa\",\"#FFA15A\",\"#19d3f3\",\"#FF6692\",\"#B6E880\",\"#FF97FF\",\"#FECB52\"],\"font\":{\"color\":\"#2a3f5f\"},\"geo\":{\"bgcolor\":\"white\",\"lakecolor\":\"white\",\"landcolor\":\"#E5ECF6\",\"showlakes\":true,\"showland\":true,\"subunitcolor\":\"white\"},\"hoverlabel\":{\"align\":\"left\"},\"hovermode\":\"closest\",\"mapbox\":{\"style\":\"light\"},\"paper_bgcolor\":\"white\",\"plot_bgcolor\":\"#E5ECF6\",\"polar\":{\"angularaxis\":{\"gridcolor\":\"white\",\"linecolor\":\"white\",\"ticks\":\"\"},\"bgcolor\":\"#E5ECF6\",\"radialaxis\":{\"gridcolor\":\"white\",\"linecolor\":\"white\",\"ticks\":\"\"}},\"scene\":{\"xaxis\":{\"backgroundcolor\":\"#E5ECF6\",\"gridcolor\":\"white\",\"gridwidth\":2,\"linecolor\":\"white\",\"showbackground\":true,\"ticks\":\"\",\"zerolinecolor\":\"white\"},\"yaxis\":{\"backgroundcolor\":\"#E5ECF6\",\"gridcolor\":\"white\",\"gridwidth\":2,\"linecolor\":\"white\",\"showbackground\":true,\"ticks\":\"\",\"zerolinecolor\":\"white\"},\"zaxis\":{\"backgroundcolor\":\"#E5ECF6\",\"gridcolor\":\"white\",\"gridwidth\":2,\"linecolor\":\"white\",\"showbackground\":true,\"ticks\":\"\",\"zerolinecolor\":\"white\"}},\"shapedefaults\":{\"line\":{\"color\":\"#2a3f5f\"}},\"ternary\":{\"aaxis\":{\"gridcolor\":\"white\",\"linecolor\":\"white\",\"ticks\":\"\"},\"baxis\":{\"gridcolor\":\"white\",\"linecolor\":\"white\",\"ticks\":\"\"},\"bgcolor\":\"#E5ECF6\",\"caxis\":{\"gridcolor\":\"white\",\"linecolor\":\"white\",\"ticks\":\"\"}},\"title\":{\"x\":0.05},\"xaxis\":{\"automargin\":true,\"gridcolor\":\"white\",\"linecolor\":\"white\",\"ticks\":\"\",\"title\":{\"standoff\":15},\"zerolinecolor\":\"white\",\"zerolinewidth\":2},\"yaxis\":{\"automargin\":true,\"gridcolor\":\"white\",\"linecolor\":\"white\",\"ticks\":\"\",\"title\":{\"standoff\":15},\"zerolinecolor\":\"white\",\"zerolinewidth\":2}}},\"xaxis\":{\"anchor\":\"y\",\"domain\":[0.0,1.0],\"title\":{\"text\":\"Columns\"},\"tickfont\":{\"size\":5}},\"yaxis\":{\"anchor\":\"x\",\"domain\":[0.0,1.0],\"title\":{\"text\":\"NaN_pct\"}},\"legend\":{\"tracegroupgap\":0},\"title\":{\"text\":\"NaN value percentage in each column\"},\"barmode\":\"relative\",\"height\":400,\"width\":400},                        {\"responsive\": true}                    ).then(function(){\n",
              "                            \n",
              "var gd = document.getElementById('db1ab242-9684-490d-9349-b81a8adef3f5');\n",
              "var x = new MutationObserver(function (mutations, observer) {{\n",
              "        var display = window.getComputedStyle(gd).display;\n",
              "        if (!display || display === 'none') {{\n",
              "            console.log([gd, 'removed!']);\n",
              "            Plotly.purge(gd);\n",
              "            observer.disconnect();\n",
              "        }}\n",
              "}});\n",
              "\n",
              "// Listen for the removal of the full notebook cells\n",
              "var notebookContainer = gd.closest('#notebook-container');\n",
              "if (notebookContainer) {{\n",
              "    x.observe(notebookContainer, {childList: true});\n",
              "}}\n",
              "\n",
              "// Listen for the clearing of the current output cell\n",
              "var outputEl = gd.closest('.output');\n",
              "if (outputEl) {{\n",
              "    x.observe(outputEl, {childList: true});\n",
              "}}\n",
              "\n",
              "                        })                };                            </script>        </div>\n",
              "</body>\n",
              "</html>"
            ]
          },
          "metadata": {}
        }
      ]
    },
    {
      "cell_type": "markdown",
      "source": [
        "<b> Comments:- </b>\n",
        "* There are columns with extremely high proportion of NaN values, we may drop them. \n",
        "* There are columns with NaN values that can be handled easily using imputations with mean, median (in case of numerical) or mode(in case of categorical) \n",
        "* Use Models like LightGBM, CatBoost or XGBoost that handles the NaN values implicitly while model training. \n",
        "* Observe that the proportion of NaN value distribution is same in train and test and select NaN value handling techniques accordingly. \n",
        "* Be creative 🧠 (but also be logical 😉) !!\n",
        "\n"
      ],
      "metadata": {
        "id": "PfUoDAEedW8b"
      }
    },
    {
      "cell_type": "markdown",
      "source": [
        "I will personally drop all the columns where the proportion of NaN values is above 80% and proceed with columns/features that are left. "
      ],
      "metadata": {
        "id": "CjzVdsKQexpj"
      }
    },
    {
      "cell_type": "code",
      "source": [
        "nan_cols_drop  = []\n",
        "for cols in test_df.columns:\n",
        "    if test_df[cols].isna().sum()/test_df.shape[0] >0.8:\n",
        "        nan_cols_drop.append(cols)"
      ],
      "metadata": {
        "id": "zdzU47_vXd_B"
      },
      "execution_count": 8,
      "outputs": []
    },
    {
      "cell_type": "code",
      "source": [
        "print(colored(f'We will drop the following columns from both train and test data: ','yellow',attrs=['bold']))\n",
        "print(nan_cols_drop)"
      ],
      "metadata": {
        "colab": {
          "base_uri": "https://localhost:8080/"
        },
        "id": "Ekvv9En1XeCC",
        "outputId": "b52ed7c8-fc69-4527-a8d0-6c0817da9959"
      },
      "execution_count": 9,
      "outputs": [
        {
          "output_type": "stream",
          "name": "stdout",
          "text": [
            "\u001b[1m\u001b[33mWe will drop the following columns from both train and test data: \u001b[0m\n",
            "['education_institute', 'unemployment_reason', 'is_labor_union', 'veterans_admin_questionnaire', 'old_residence_reg', 'old_residence_state']\n"
          ]
        }
      ]
    },
    {
      "cell_type": "code",
      "source": [
        "print('The shape of train and test data before dropping columns with high proportion of NaN values is - ')\n",
        "print(colored(f'The shape of train data is    {train_df.shape}     ','green',attrs=['bold']))\n",
        "\n",
        "print(colored(f'The shape of target column is {target_column.shape}','green',attrs=['bold']))\n",
        "\n",
        "print(colored(f'The shape of test data is     {test_df.shape}      ','blue',attrs=['bold']))\n",
        "\n",
        "train_df = train_df.drop(nan_cols_drop,axis=1)\n",
        "test_df  = test_df.drop(nan_cols_drop,axis=1)\n",
        "\n",
        "print('---------------------------------------------------------------------------------------------------')\n",
        "print('The shape of train and test data after dropping columns with high proportion of NaN values is - ')\n",
        "print(colored(f'The shape of train data is    {train_df.shape}     ','green',attrs=['bold']))\n",
        "\n",
        "print(colored(f'The shape of target column is {target_column.shape}','green',attrs=['bold']))\n",
        "\n",
        "print(colored(f'The shape of test data is     {test_df.shape}      ','blue',attrs=['bold']))"
      ],
      "metadata": {
        "colab": {
          "base_uri": "https://localhost:8080/"
        },
        "id": "ftntkr3MXeFh",
        "outputId": "27c3890f-a0ef-4811-a585-fa6c41a74885"
      },
      "execution_count": 10,
      "outputs": [
        {
          "output_type": "stream",
          "name": "stdout",
          "text": [
            "The shape of train and test data before dropping columns with high proportion of NaN values is - \n",
            "\u001b[1m\u001b[32mThe shape of train data is    (209499, 41)     \u001b[0m\n",
            "\u001b[1m\u001b[32mThe shape of target column is (209499, 1)\u001b[0m\n",
            "\u001b[1m\u001b[34mThe shape of test data is     (89786, 41)      \u001b[0m\n",
            "---------------------------------------------------------------------------------------------------\n",
            "The shape of train and test data after dropping columns with high proportion of NaN values is - \n",
            "\u001b[1m\u001b[32mThe shape of train data is    (209499, 35)     \u001b[0m\n",
            "\u001b[1m\u001b[32mThe shape of target column is (209499, 1)\u001b[0m\n",
            "\u001b[1m\u001b[34mThe shape of test data is     (89786, 35)      \u001b[0m\n"
          ]
        }
      ]
    },
    {
      "cell_type": "markdown",
      "source": [
        "### Simple Baseline Validation strategy \n",
        "\n",
        "We will now do an 80-20 split of train data provided. As discussed previously, the participants are free to use the validation strategy of their own choice. \n",
        "\n",
        "Points to consider while selecting a validation strategy:\n",
        "* Make sure the model is not overfitting on train data. \n",
        "* CV score and leaderboard scores are in sync. \n",
        "* Stable validation strategy when using K Folds etc. "
      ],
      "metadata": {
        "id": "WLZXfb8VgOKH"
      }
    },
    {
      "cell_type": "code",
      "source": [
        "train, X_test, train_y, y_test = train_test_split(train_df, target_column, test_size=0.2, random_state=42,stratify=target_column)"
      ],
      "metadata": {
        "id": "knl0lYHRXeQZ"
      },
      "execution_count": 11,
      "outputs": []
    },
    {
      "cell_type": "markdown",
      "source": [
        "### Model development 🤖 💻 🤖\n",
        "\n",
        "We will be straight away using a CatBoost model for training because it handles categorical features well, can implicitly handle NaN values, and can give a quick baseline (with minimal preprocessing) which can be used as a benchmark to be improved upon. \n",
        "\n",
        "<br>\n",
        "\n",
        "In the below steps, we will convert all the categorical columns to string datatype and capture the indices where string datatype is present which will then be used as an input for the CatBoost Classification model. "
      ],
      "metadata": {
        "id": "RaWJ4WnPhlvT"
      }
    },
    {
      "cell_type": "code",
      "source": [
        "cat_cols_index = np.where(train_df.dtypes=='object')[0]\n",
        "for i in range(len(train_df.columns)):\n",
        "    if i in cat_cols_index:\n",
        "        train[train_df.columns[i]]   = train[train_df.columns[i]].astype(str)\n",
        "        X_test[train_df.columns[i]]  = X_test[train_df.columns[i]].astype(str)\n",
        "        test_df[train_df.columns[i]] = test_df[train_df.columns[i]].astype(str)"
      ],
      "metadata": {
        "id": "8-Q9dG7zjAvj"
      },
      "execution_count": 12,
      "outputs": []
    },
    {
      "cell_type": "code",
      "source": [
        "model           = CatBoostClassifier(random_state=42,n_estimators =50 )\n",
        "_               = model.fit(train,train_y,cat_features= cat_cols_index)\n"
      ],
      "metadata": {
        "colab": {
          "base_uri": "https://localhost:8080/"
        },
        "id": "mbDEel07XeWx",
        "outputId": "5ab58a61-0952-4a04-cd77-40cd7e353410"
      },
      "execution_count": 13,
      "outputs": [
        {
          "output_type": "stream",
          "name": "stdout",
          "text": [
            "Learning rate set to 0.5\n",
            "0:\tlearn: 0.2249132\ttotal: 759ms\tremaining: 37.2s\n",
            "1:\tlearn: 0.1503419\ttotal: 1.26s\tremaining: 30.3s\n",
            "2:\tlearn: 0.1340319\ttotal: 1.75s\tremaining: 27.3s\n",
            "3:\tlearn: 0.1286229\ttotal: 2.21s\tremaining: 25.4s\n",
            "4:\tlearn: 0.1246902\ttotal: 2.48s\tremaining: 22.3s\n",
            "5:\tlearn: 0.1229398\ttotal: 2.89s\tremaining: 21.2s\n",
            "6:\tlearn: 0.1217443\ttotal: 3.26s\tremaining: 20.1s\n",
            "7:\tlearn: 0.1207407\ttotal: 3.76s\tremaining: 19.7s\n",
            "8:\tlearn: 0.1198554\ttotal: 4.07s\tremaining: 18.5s\n",
            "9:\tlearn: 0.1186997\ttotal: 4.36s\tremaining: 17.4s\n",
            "10:\tlearn: 0.1178143\ttotal: 4.79s\tremaining: 17s\n",
            "11:\tlearn: 0.1171361\ttotal: 5.34s\tremaining: 16.9s\n",
            "12:\tlearn: 0.1158921\ttotal: 5.62s\tremaining: 16s\n",
            "13:\tlearn: 0.1155654\ttotal: 6.07s\tremaining: 15.6s\n",
            "14:\tlearn: 0.1151041\ttotal: 6.34s\tremaining: 14.8s\n",
            "15:\tlearn: 0.1146088\ttotal: 6.7s\tremaining: 14.2s\n",
            "16:\tlearn: 0.1143813\ttotal: 7.21s\tremaining: 14s\n",
            "17:\tlearn: 0.1137526\ttotal: 7.79s\tremaining: 13.8s\n",
            "18:\tlearn: 0.1134374\ttotal: 8.32s\tremaining: 13.6s\n",
            "19:\tlearn: 0.1130946\ttotal: 8.96s\tremaining: 13.4s\n",
            "20:\tlearn: 0.1128174\ttotal: 9.52s\tremaining: 13.2s\n",
            "21:\tlearn: 0.1125519\ttotal: 9.8s\tremaining: 12.5s\n",
            "22:\tlearn: 0.1122872\ttotal: 10.3s\tremaining: 12s\n",
            "23:\tlearn: 0.1121928\ttotal: 10.6s\tremaining: 11.4s\n",
            "24:\tlearn: 0.1118409\ttotal: 11s\tremaining: 11s\n",
            "25:\tlearn: 0.1117376\ttotal: 11.3s\tremaining: 10.5s\n",
            "26:\tlearn: 0.1114656\ttotal: 11.7s\tremaining: 9.96s\n",
            "27:\tlearn: 0.1112172\ttotal: 12.1s\tremaining: 9.54s\n",
            "28:\tlearn: 0.1106165\ttotal: 12.4s\tremaining: 8.98s\n",
            "29:\tlearn: 0.1103129\ttotal: 12.8s\tremaining: 8.52s\n",
            "30:\tlearn: 0.1099086\ttotal: 13s\tremaining: 7.98s\n",
            "31:\tlearn: 0.1096302\ttotal: 13.5s\tremaining: 7.57s\n",
            "32:\tlearn: 0.1094264\ttotal: 13.8s\tremaining: 7.12s\n",
            "33:\tlearn: 0.1092394\ttotal: 14.1s\tremaining: 6.65s\n",
            "34:\tlearn: 0.1090804\ttotal: 14.5s\tremaining: 6.2s\n",
            "35:\tlearn: 0.1089822\ttotal: 14.8s\tremaining: 5.77s\n",
            "36:\tlearn: 0.1086917\ttotal: 15.2s\tremaining: 5.33s\n",
            "37:\tlearn: 0.1085546\ttotal: 15.6s\tremaining: 4.94s\n",
            "38:\tlearn: 0.1083944\ttotal: 16s\tremaining: 4.5s\n",
            "39:\tlearn: 0.1082536\ttotal: 16.3s\tremaining: 4.09s\n",
            "40:\tlearn: 0.1080960\ttotal: 16.7s\tremaining: 3.67s\n",
            "41:\tlearn: 0.1079193\ttotal: 17s\tremaining: 3.24s\n",
            "42:\tlearn: 0.1077292\ttotal: 17.4s\tremaining: 2.83s\n",
            "43:\tlearn: 0.1074532\ttotal: 17.8s\tremaining: 2.42s\n",
            "44:\tlearn: 0.1072321\ttotal: 18.1s\tremaining: 2.01s\n",
            "45:\tlearn: 0.1069930\ttotal: 18.5s\tremaining: 1.61s\n",
            "46:\tlearn: 0.1068146\ttotal: 18.9s\tremaining: 1.2s\n",
            "47:\tlearn: 0.1067939\ttotal: 19.3s\tremaining: 805ms\n",
            "48:\tlearn: 0.1066606\ttotal: 19.7s\tremaining: 403ms\n",
            "49:\tlearn: 0.1064286\ttotal: 20.2s\tremaining: 0us\n"
          ]
        }
      ]
    },
    {
      "cell_type": "markdown",
      "source": [
        "Parameter tuning tips for CatBoost:\n",
        "\n",
        "👓 Do focus on parameters like n_estimators, max_depth, reg_lambda, reg_alpha, scale_pos_weight, learning_rate and explore other parameters from the link : https://catboost.ai/en/docs/references/training-parameters/\n"
      ],
      "metadata": {
        "id": "eojVwf4_zxY0"
      }
    },
    {
      "cell_type": "code",
      "source": [
        "acc_valid = accuracy_score(model.predict(X_test),y_test)\n",
        "\n",
        "print(colored(f'The accuracy attained on the validation set is {acc_valid}','green',attrs=['bold']))\n",
        "\n"
      ],
      "metadata": {
        "colab": {
          "base_uri": "https://localhost:8080/"
        },
        "id": "-6uH4m5uk7kD",
        "outputId": "37665c64-3c53-474e-8a0b-d0f532037d7c"
      },
      "execution_count": 16,
      "outputs": [
        {
          "output_type": "stream",
          "name": "stdout",
          "text": [
            "\u001b[1m\u001b[32mThe accuracy attained on the validation set is 0.9576372315035799\u001b[0m\n"
          ]
        }
      ]
    },
    {
      "cell_type": "markdown",
      "source": [
        "We got a good enough accuracy but is our model really performing that good ?? 🤔\n",
        "\n",
        "👓 Consider the class imbalance of the data given with respect to the metric assigned. We can get 94% accuracy just by classifying everything as 'Below limit' but that will mean that we must get an accuracy above 94% to ensure the models are learning properly. 👓 \n",
        "\n",
        "🔭 Let's investigate the classification report for both train and validation data and see how good the baseline is. "
      ],
      "metadata": {
        "id": "HH9qJm_wnnnS"
      }
    },
    {
      "cell_type": "code",
      "source": [
        "print('\\n')\n",
        "print('The classification report only on the validation data is below-')\n",
        "print(colored(classification_report(y_test, model.predict(X_test)),'blue',attrs=['bold']))\n",
        "\n",
        "print('The classification report only on the train data is below-')\n",
        "print(colored(classification_report(train_y, model.predict(train)),'green',attrs=['bold']))"
      ],
      "metadata": {
        "colab": {
          "base_uri": "https://localhost:8080/"
        },
        "id": "9jlXsgvgnZZp",
        "outputId": "923d6976-d4fe-42ae-d7b3-1e954c05d5aa"
      },
      "execution_count": 17,
      "outputs": [
        {
          "output_type": "stream",
          "name": "stdout",
          "text": [
            "\n",
            "\n",
            "The classification report only on the validation data is below-\n",
            "\u001b[1m\u001b[34m              precision    recall  f1-score   support\n",
            "\n",
            "           0       0.97      0.99      0.98     39300\n",
            "           1       0.76      0.47      0.58      2600\n",
            "\n",
            "    accuracy                           0.96     41900\n",
            "   macro avg       0.86      0.73      0.78     41900\n",
            "weighted avg       0.95      0.96      0.95     41900\n",
            "\u001b[0m\n",
            "The classification report only on the train data is below-\n",
            "\u001b[1m\u001b[32m              precision    recall  f1-score   support\n",
            "\n",
            "           0       0.97      0.99      0.98    157201\n",
            "           1       0.80      0.49      0.61     10398\n",
            "\n",
            "    accuracy                           0.96    167599\n",
            "   macro avg       0.88      0.74      0.79    167599\n",
            "weighted avg       0.96      0.96      0.96    167599\n",
            "\u001b[0m\n"
          ]
        }
      ]
    },
    {
      "cell_type": "markdown",
      "source": [
        "The performance of our minority class in terms of precision and recall is too low. Hence our F1 score is also very low. \n",
        "\n"
      ],
      "metadata": {
        "id": "CgzpbMFTn7ir"
      }
    },
    {
      "cell_type": "markdown",
      "source": [
        "### A little hack \n",
        "\n",
        "Let's do a small hack though 🤓 🤓 🤓\n",
        "\n",
        "We can use probability based thresholds and see how performance improves. We will select a lower threshold for class label 1.\n",
        "The default threshold is 0.5 which means that if the probability of 1 is above 0.5, then the predicted class is 1 else it is 0.\n",
        "\n",
        "<br>\n",
        "\n",
        "We will lower the threshold to 0.4 and say that if the probability of class being 1 is above 0.4, then we can classify it as 1 and if it is less than 0.4, then it will be 0. "
      ],
      "metadata": {
        "id": "4WT5MfS46mDs"
      }
    },
    {
      "cell_type": "code",
      "source": [
        "thresh     = 0.4\n",
        "train_pred = np.where(model.predict_proba(train)[:,1]>thresh,1,0)\n",
        "test_pred  = np.where(model.predict_proba(X_test)[:,1]>thresh,1,0)\n",
        "\n",
        "print('\\n')\n",
        "print('The classification report only on the validation data is below-')\n",
        "print(colored(classification_report(y_test,test_pred),'blue',attrs=['bold']))\n",
        "\n",
        "print('The classification report only on the train data is below-')\n",
        "print(colored(classification_report(train_y, train_pred),'green',attrs=['bold']))"
      ],
      "metadata": {
        "colab": {
          "base_uri": "https://localhost:8080/"
        },
        "id": "SnoBiaJL7D40",
        "outputId": "d009f5c7-f59d-4652-e9fe-1f289d671146"
      },
      "execution_count": 18,
      "outputs": [
        {
          "output_type": "stream",
          "name": "stdout",
          "text": [
            "\n",
            "\n",
            "The classification report only on the validation data is below-\n",
            "\u001b[1m\u001b[34m              precision    recall  f1-score   support\n",
            "\n",
            "           0       0.97      0.98      0.98     39300\n",
            "           1       0.69      0.55      0.61      2600\n",
            "\n",
            "    accuracy                           0.96     41900\n",
            "   macro avg       0.83      0.77      0.80     41900\n",
            "weighted avg       0.95      0.96      0.95     41900\n",
            "\u001b[0m\n",
            "The classification report only on the train data is below-\n",
            "\u001b[1m\u001b[32m              precision    recall  f1-score   support\n",
            "\n",
            "           0       0.97      0.99      0.98    157201\n",
            "           1       0.73      0.57      0.64     10398\n",
            "\n",
            "    accuracy                           0.96    167599\n",
            "   macro avg       0.85      0.78      0.81    167599\n",
            "weighted avg       0.96      0.96      0.96    167599\n",
            "\u001b[0m\n"
          ]
        }
      ]
    },
    {
      "cell_type": "markdown",
      "source": [
        "We do see some improvement in the performance because the f1 score on our validation data moved from 0.58 to 0.61. \n",
        "For more information about how the threshold is selected, please follow [ROC Curve](https://scikit-learn.org/stable/modules/generated/sklearn.metrics.roc_curve.html) of sklearn and in general how ROC curve works 📚 📚"
      ],
      "metadata": {
        "id": "KPPHhkd5-BJj"
      }
    },
    {
      "cell_type": "markdown",
      "source": [
        "### Submission Time 🎉\n",
        "\n",
        "We will now predict on the test data given and see what score we get on leaderboard. \n",
        "\n",
        "We will now download the file \"Sample_submission_1.csv\" and submit it. "
      ],
      "metadata": {
        "id": "d6yifLIyoEQb"
      }
    },
    {
      "cell_type": "code",
      "source": [
        "subdf                       = pd.read_csv('/content/SampleSubmission.csv')\n",
        "subdf['income_above_limit'] = model.predict(test_df)\n",
        "subdf.to_csv('Sample_submission_1.csv',index=False)\n",
        "subdf['income_above_limit'].value_counts(normalize=True)"
      ],
      "metadata": {
        "id": "cFlITBHen2HZ",
        "colab": {
          "base_uri": "https://localhost:8080/"
        },
        "outputId": "0c86cee4-122c-45c0-9746-20683bb4d474"
      },
      "execution_count": 19,
      "outputs": [
        {
          "output_type": "execute_result",
          "data": {
            "text/plain": [
              "0    0.962533\n",
              "1    0.037467\n",
              "Name: income_above_limit, dtype: float64"
            ]
          },
          "metadata": {},
          "execution_count": 19
        }
      ]
    },
    {
      "cell_type": "markdown",
      "source": [
        "How to get better scores:\n",
        "1. Feature engineering is the key. Refer to the variable dictionary and create meaningful features which can boost the score\n",
        "2. Try out different models and categorical data preprocessing (read about categorical encoding) because a lot of features are categorical. \n",
        "3. Feature selection with feature importance \n",
        "4. Keep a check on classification report to observe overfitting and underfitting and select appropriate hyper-parameters to tune.\n",
        "5. Suitable probability threshold selection as shown above. \n",
        "6. Be creative while selecting validation split \n",
        "For example:- Use Stratified K folds, grouped K folds, repeated stratified k folds, train test split with stratification etc \n",
        "7. Ensemble multiple models to get a stable prediction. \n",
        "8. Be creative and may the best model win 🏆 🏆 🏆"
      ],
      "metadata": {
        "id": "yKBJLRQoqZza"
      }
    },
    {
      "cell_type": "code",
      "source": [],
      "metadata": {
        "id": "XF8r3ySkA5iP"
      },
      "execution_count": 19,
      "outputs": []
    }
  ]
}